{
 "cells": [
  {
   "cell_type": "markdown",
   "metadata": {
    "id": "fHsnfUE9jbzP"
   },
   "source": [
    "# <center><u> **`Gradient Descent`**</u> </center>"
   ]
  },
  {
   "cell_type": "markdown",
   "metadata": {
    "id": "ps-SgPeojbzU"
   },
   "source": [
    "Optimization is a big part of machine learning. Almost every machine learning algorithm has an optimization algorithm at it’s core.Gradient descent is an optimization algorithm used `to find the values of parameters (coefficients) of a function (f) that minimizes a cost function (cost).`\n",
    "\n",
    "Gradient descent is best used when the parameters cannot be calculated analytically (e.g. using linear algebra) and must be searched for by an optimization algorithm.\n"
   ]
  },
  {
   "cell_type": "code",
   "execution_count": 1,
   "metadata": {
    "id": "poaWZLrajbzV",
    "outputId": "9e0001a3-6de8-4ff0-9faf-59512e26e9a4"
   },
   "outputs": [
    {
     "data": {
      "text/html": [
       "<div>\n",
       "<style scoped>\n",
       "    .dataframe tbody tr th:only-of-type {\n",
       "        vertical-align: middle;\n",
       "    }\n",
       "\n",
       "    .dataframe tbody tr th {\n",
       "        vertical-align: top;\n",
       "    }\n",
       "\n",
       "    .dataframe thead th {\n",
       "        text-align: right;\n",
       "    }\n",
       "</style>\n",
       "<table border=\"1\" class=\"dataframe\">\n",
       "  <thead>\n",
       "    <tr style=\"text-align: right;\">\n",
       "      <th></th>\n",
       "      <th>price</th>\n",
       "      <th>area</th>\n",
       "      <th>bedrooms</th>\n",
       "      <th>bathrooms</th>\n",
       "      <th>stories</th>\n",
       "      <th>mainroad</th>\n",
       "      <th>guestroom</th>\n",
       "      <th>basement</th>\n",
       "      <th>hotwaterheating</th>\n",
       "      <th>airconditioning</th>\n",
       "      <th>parking</th>\n",
       "      <th>prefarea</th>\n",
       "      <th>furnishingstatus</th>\n",
       "    </tr>\n",
       "  </thead>\n",
       "  <tbody>\n",
       "    <tr>\n",
       "      <th>0</th>\n",
       "      <td>13300000</td>\n",
       "      <td>7420</td>\n",
       "      <td>4</td>\n",
       "      <td>2</td>\n",
       "      <td>3</td>\n",
       "      <td>yes</td>\n",
       "      <td>no</td>\n",
       "      <td>no</td>\n",
       "      <td>no</td>\n",
       "      <td>yes</td>\n",
       "      <td>2</td>\n",
       "      <td>yes</td>\n",
       "      <td>furnished</td>\n",
       "    </tr>\n",
       "    <tr>\n",
       "      <th>1</th>\n",
       "      <td>12250000</td>\n",
       "      <td>8960</td>\n",
       "      <td>4</td>\n",
       "      <td>4</td>\n",
       "      <td>4</td>\n",
       "      <td>yes</td>\n",
       "      <td>no</td>\n",
       "      <td>no</td>\n",
       "      <td>no</td>\n",
       "      <td>yes</td>\n",
       "      <td>3</td>\n",
       "      <td>no</td>\n",
       "      <td>furnished</td>\n",
       "    </tr>\n",
       "    <tr>\n",
       "      <th>2</th>\n",
       "      <td>12250000</td>\n",
       "      <td>9960</td>\n",
       "      <td>3</td>\n",
       "      <td>2</td>\n",
       "      <td>2</td>\n",
       "      <td>yes</td>\n",
       "      <td>no</td>\n",
       "      <td>yes</td>\n",
       "      <td>no</td>\n",
       "      <td>no</td>\n",
       "      <td>2</td>\n",
       "      <td>yes</td>\n",
       "      <td>semi-furnished</td>\n",
       "    </tr>\n",
       "    <tr>\n",
       "      <th>3</th>\n",
       "      <td>12215000</td>\n",
       "      <td>7500</td>\n",
       "      <td>4</td>\n",
       "      <td>2</td>\n",
       "      <td>2</td>\n",
       "      <td>yes</td>\n",
       "      <td>no</td>\n",
       "      <td>yes</td>\n",
       "      <td>no</td>\n",
       "      <td>yes</td>\n",
       "      <td>3</td>\n",
       "      <td>yes</td>\n",
       "      <td>furnished</td>\n",
       "    </tr>\n",
       "    <tr>\n",
       "      <th>4</th>\n",
       "      <td>11410000</td>\n",
       "      <td>7420</td>\n",
       "      <td>4</td>\n",
       "      <td>1</td>\n",
       "      <td>2</td>\n",
       "      <td>yes</td>\n",
       "      <td>yes</td>\n",
       "      <td>yes</td>\n",
       "      <td>no</td>\n",
       "      <td>yes</td>\n",
       "      <td>2</td>\n",
       "      <td>no</td>\n",
       "      <td>furnished</td>\n",
       "    </tr>\n",
       "  </tbody>\n",
       "</table>\n",
       "</div>"
      ],
      "text/plain": [
       "      price  area  bedrooms  bathrooms  stories mainroad guestroom basement  \\\n",
       "0  13300000  7420         4          2        3      yes        no       no   \n",
       "1  12250000  8960         4          4        4      yes        no       no   \n",
       "2  12250000  9960         3          2        2      yes        no      yes   \n",
       "3  12215000  7500         4          2        2      yes        no      yes   \n",
       "4  11410000  7420         4          1        2      yes       yes      yes   \n",
       "\n",
       "  hotwaterheating airconditioning  parking prefarea furnishingstatus  \n",
       "0              no             yes        2      yes        furnished  \n",
       "1              no             yes        3       no        furnished  \n",
       "2              no              no        2      yes   semi-furnished  \n",
       "3              no             yes        3      yes        furnished  \n",
       "4              no             yes        2       no        furnished  "
      ]
     },
     "execution_count": 1,
     "metadata": {},
     "output_type": "execute_result"
    }
   ],
   "source": [
    "#Importing important libraries\n",
    "import numpy as np\n",
    "import pandas as pd\n",
    "import matplotlib.pyplot as plt\n",
    "%matplotlib inline\n",
    "import seaborn as sns\n",
    "\n",
    "import warnings\n",
    "warnings.filterwarnings(\"ignore\")\n",
    "\n",
    "# read Housing dataset\n",
    "housing = pd.read_csv(\"Housing.csv\")\n",
    "\n",
    "#print head\n",
    "housing.head()"
   ]
  },
  {
   "cell_type": "code",
   "execution_count": 2,
   "metadata": {
    "id": "9iDui0-EjbzW",
    "outputId": "3949861c-fe56-42ab-8cd7-898278cceb6b"
   },
   "outputs": [
    {
     "name": "stdout",
     "output_type": "stream",
     "text": [
      "<class 'pandas.core.frame.DataFrame'>\n",
      "RangeIndex: 545 entries, 0 to 544\n",
      "Data columns (total 13 columns):\n",
      " #   Column            Non-Null Count  Dtype \n",
      "---  ------            --------------  ----- \n",
      " 0   price             545 non-null    int64 \n",
      " 1   area              545 non-null    int64 \n",
      " 2   bedrooms          545 non-null    int64 \n",
      " 3   bathrooms         545 non-null    int64 \n",
      " 4   stories           545 non-null    int64 \n",
      " 5   mainroad          545 non-null    object\n",
      " 6   guestroom         545 non-null    object\n",
      " 7   basement          545 non-null    object\n",
      " 8   hotwaterheating   545 non-null    object\n",
      " 9   airconditioning   545 non-null    object\n",
      " 10  parking           545 non-null    int64 \n",
      " 11  prefarea          545 non-null    object\n",
      " 12  furnishingstatus  545 non-null    object\n",
      "dtypes: int64(6), object(7)\n",
      "memory usage: 55.5+ KB\n"
     ]
    }
   ],
   "source": [
    "# print non null counts and dtype\n",
    "housing.info()"
   ]
  },
  {
   "cell_type": "code",
   "execution_count": 3,
   "metadata": {
    "id": "HPdByedOjbzX"
   },
   "outputs": [],
   "source": [
    "# Converting object columns having yes and no value count with Yes and No values (Yes to 1 and No to 0)\n",
    "housing[\"mainroad\"] = housing[\"mainroad\"].map({\"yes\":1,\"no\":0})\n",
    "housing[\"guestroom\"] = housing[\"guestroom\"].map({\"yes\":1,\"no\":0})\n",
    "housing[\"basement\"] = housing[\"basement\"].map({\"yes\":1,\"no\":0})\n",
    "housing[\"hotwaterheating\"] = housing[\"hotwaterheating\"].map({\"yes\":1,\"no\":0})\n",
    "housing[\"airconditioning\"] = housing[\"airconditioning\"].map({\"yes\":1,\"no\":0})\n",
    "housing[\"prefarea\"] = housing[\"prefarea\"].map({\"yes\":1,\"no\":0})"
   ]
  },
  {
   "cell_type": "code",
   "execution_count": 4,
   "metadata": {
    "id": "9e4EHPnGjbzX"
   },
   "outputs": [],
   "source": [
    "#Converting furnishingstatus column to binary column using get_dummies\n",
    "status = pd.get_dummies(housing[\"furnishingstatus\"],drop_first=True)\n",
    "\n",
    "#concat housing and status \n",
    "housing = pd.concat([housing,status],axis=1)\n",
    "\n",
    "#drop furnishingstatus columns from housing\n",
    "housing.drop([\"furnishingstatus\"],axis=1,inplace=True)"
   ]
  },
  {
   "cell_type": "code",
   "execution_count": 5,
   "metadata": {
    "id": "fm6KLh9vjbzY",
    "outputId": "2acc6916-0f04-47b7-d8fa-f6be1e191991"
   },
   "outputs": [
    {
     "data": {
      "text/html": [
       "<div>\n",
       "<style scoped>\n",
       "    .dataframe tbody tr th:only-of-type {\n",
       "        vertical-align: middle;\n",
       "    }\n",
       "\n",
       "    .dataframe tbody tr th {\n",
       "        vertical-align: top;\n",
       "    }\n",
       "\n",
       "    .dataframe thead th {\n",
       "        text-align: right;\n",
       "    }\n",
       "</style>\n",
       "<table border=\"1\" class=\"dataframe\">\n",
       "  <thead>\n",
       "    <tr style=\"text-align: right;\">\n",
       "      <th></th>\n",
       "      <th>price</th>\n",
       "      <th>area</th>\n",
       "      <th>bedrooms</th>\n",
       "      <th>bathrooms</th>\n",
       "      <th>stories</th>\n",
       "      <th>mainroad</th>\n",
       "      <th>guestroom</th>\n",
       "      <th>basement</th>\n",
       "      <th>hotwaterheating</th>\n",
       "      <th>airconditioning</th>\n",
       "      <th>parking</th>\n",
       "      <th>prefarea</th>\n",
       "      <th>semi-furnished</th>\n",
       "      <th>unfurnished</th>\n",
       "    </tr>\n",
       "  </thead>\n",
       "  <tbody>\n",
       "    <tr>\n",
       "      <th>0</th>\n",
       "      <td>13300000</td>\n",
       "      <td>7420</td>\n",
       "      <td>4</td>\n",
       "      <td>2</td>\n",
       "      <td>3</td>\n",
       "      <td>1</td>\n",
       "      <td>0</td>\n",
       "      <td>0</td>\n",
       "      <td>0</td>\n",
       "      <td>1</td>\n",
       "      <td>2</td>\n",
       "      <td>1</td>\n",
       "      <td>0</td>\n",
       "      <td>0</td>\n",
       "    </tr>\n",
       "    <tr>\n",
       "      <th>1</th>\n",
       "      <td>12250000</td>\n",
       "      <td>8960</td>\n",
       "      <td>4</td>\n",
       "      <td>4</td>\n",
       "      <td>4</td>\n",
       "      <td>1</td>\n",
       "      <td>0</td>\n",
       "      <td>0</td>\n",
       "      <td>0</td>\n",
       "      <td>1</td>\n",
       "      <td>3</td>\n",
       "      <td>0</td>\n",
       "      <td>0</td>\n",
       "      <td>0</td>\n",
       "    </tr>\n",
       "    <tr>\n",
       "      <th>2</th>\n",
       "      <td>12250000</td>\n",
       "      <td>9960</td>\n",
       "      <td>3</td>\n",
       "      <td>2</td>\n",
       "      <td>2</td>\n",
       "      <td>1</td>\n",
       "      <td>0</td>\n",
       "      <td>1</td>\n",
       "      <td>0</td>\n",
       "      <td>0</td>\n",
       "      <td>2</td>\n",
       "      <td>1</td>\n",
       "      <td>1</td>\n",
       "      <td>0</td>\n",
       "    </tr>\n",
       "    <tr>\n",
       "      <th>3</th>\n",
       "      <td>12215000</td>\n",
       "      <td>7500</td>\n",
       "      <td>4</td>\n",
       "      <td>2</td>\n",
       "      <td>2</td>\n",
       "      <td>1</td>\n",
       "      <td>0</td>\n",
       "      <td>1</td>\n",
       "      <td>0</td>\n",
       "      <td>1</td>\n",
       "      <td>3</td>\n",
       "      <td>1</td>\n",
       "      <td>0</td>\n",
       "      <td>0</td>\n",
       "    </tr>\n",
       "    <tr>\n",
       "      <th>4</th>\n",
       "      <td>11410000</td>\n",
       "      <td>7420</td>\n",
       "      <td>4</td>\n",
       "      <td>1</td>\n",
       "      <td>2</td>\n",
       "      <td>1</td>\n",
       "      <td>1</td>\n",
       "      <td>1</td>\n",
       "      <td>0</td>\n",
       "      <td>1</td>\n",
       "      <td>2</td>\n",
       "      <td>0</td>\n",
       "      <td>0</td>\n",
       "      <td>0</td>\n",
       "    </tr>\n",
       "  </tbody>\n",
       "</table>\n",
       "</div>"
      ],
      "text/plain": [
       "      price  area  bedrooms  bathrooms  stories  mainroad  guestroom  \\\n",
       "0  13300000  7420         4          2        3         1          0   \n",
       "1  12250000  8960         4          4        4         1          0   \n",
       "2  12250000  9960         3          2        2         1          0   \n",
       "3  12215000  7500         4          2        2         1          0   \n",
       "4  11410000  7420         4          1        2         1          1   \n",
       "\n",
       "   basement  hotwaterheating  airconditioning  parking  prefarea  \\\n",
       "0         0                0                1        2         1   \n",
       "1         0                0                1        3         0   \n",
       "2         1                0                0        2         1   \n",
       "3         1                0                1        3         1   \n",
       "4         1                0                1        2         0   \n",
       "\n",
       "   semi-furnished  unfurnished  \n",
       "0               0            0  \n",
       "1               0            0  \n",
       "2               1            0  \n",
       "3               0            0  \n",
       "4               0            0  "
      ]
     },
     "execution_count": 5,
     "metadata": {},
     "output_type": "execute_result"
    }
   ],
   "source": [
    "# print head\n",
    "housing.head()"
   ]
  },
  {
   "cell_type": "markdown",
   "metadata": {
    "id": "LPUdwuAWjbzZ"
   },
   "source": [
    "#### **`Scaling (Normalization)`**\n",
    "\n",
    "![image.png](https://miro.medium.com/max/1400/1*bbZowuePbbu93KjYbSZRNw.jpeg)\n",
    "\n",
    "where:\n",
    "\n",
    "- μ is the mean of the population.\n",
    "- σ is the standard deviation of the population."
   ]
  },
  {
   "cell_type": "code",
   "execution_count": 6,
   "metadata": {
    "id": "xqaV4S-9jbzZ",
    "outputId": "4fbcff1b-e114-4519-be89-163c5cddc2ad"
   },
   "outputs": [
    {
     "data": {
      "text/html": [
       "<div>\n",
       "<style scoped>\n",
       "    .dataframe tbody tr th:only-of-type {\n",
       "        vertical-align: middle;\n",
       "    }\n",
       "\n",
       "    .dataframe tbody tr th {\n",
       "        vertical-align: top;\n",
       "    }\n",
       "\n",
       "    .dataframe thead th {\n",
       "        text-align: right;\n",
       "    }\n",
       "</style>\n",
       "<table border=\"1\" class=\"dataframe\">\n",
       "  <thead>\n",
       "    <tr style=\"text-align: right;\">\n",
       "      <th></th>\n",
       "      <th>price</th>\n",
       "      <th>area</th>\n",
       "      <th>bedrooms</th>\n",
       "      <th>bathrooms</th>\n",
       "      <th>stories</th>\n",
       "      <th>mainroad</th>\n",
       "      <th>guestroom</th>\n",
       "      <th>basement</th>\n",
       "      <th>hotwaterheating</th>\n",
       "      <th>airconditioning</th>\n",
       "      <th>parking</th>\n",
       "      <th>prefarea</th>\n",
       "      <th>semi-furnished</th>\n",
       "      <th>unfurnished</th>\n",
       "    </tr>\n",
       "  </thead>\n",
       "  <tbody>\n",
       "    <tr>\n",
       "      <th>0</th>\n",
       "      <td>4.562174</td>\n",
       "      <td>1.045766</td>\n",
       "      <td>1.402131</td>\n",
       "      <td>1.420507</td>\n",
       "      <td>1.376952</td>\n",
       "      <td>0.405251</td>\n",
       "      <td>-0.464888</td>\n",
       "      <td>-0.733865</td>\n",
       "      <td>-0.219063</td>\n",
       "      <td>1.471267</td>\n",
       "      <td>1.516299</td>\n",
       "      <td>1.803284</td>\n",
       "      <td>-0.844113</td>\n",
       "      <td>-0.69579</td>\n",
       "    </tr>\n",
       "    <tr>\n",
       "      <th>1</th>\n",
       "      <td>4.000809</td>\n",
       "      <td>1.755397</td>\n",
       "      <td>1.402131</td>\n",
       "      <td>5.400847</td>\n",
       "      <td>2.529700</td>\n",
       "      <td>0.405251</td>\n",
       "      <td>-0.464888</td>\n",
       "      <td>-0.733865</td>\n",
       "      <td>-0.219063</td>\n",
       "      <td>1.471267</td>\n",
       "      <td>2.676950</td>\n",
       "      <td>-0.553526</td>\n",
       "      <td>-0.844113</td>\n",
       "      <td>-0.69579</td>\n",
       "    </tr>\n",
       "    <tr>\n",
       "      <th>2</th>\n",
       "      <td>4.000809</td>\n",
       "      <td>2.216196</td>\n",
       "      <td>0.047235</td>\n",
       "      <td>1.420507</td>\n",
       "      <td>0.224204</td>\n",
       "      <td>0.405251</td>\n",
       "      <td>-0.464888</td>\n",
       "      <td>1.360148</td>\n",
       "      <td>-0.219063</td>\n",
       "      <td>-0.678439</td>\n",
       "      <td>1.516299</td>\n",
       "      <td>1.803284</td>\n",
       "      <td>1.182502</td>\n",
       "      <td>-0.69579</td>\n",
       "    </tr>\n",
       "    <tr>\n",
       "      <th>3</th>\n",
       "      <td>3.982096</td>\n",
       "      <td>1.082630</td>\n",
       "      <td>1.402131</td>\n",
       "      <td>1.420507</td>\n",
       "      <td>0.224204</td>\n",
       "      <td>0.405251</td>\n",
       "      <td>-0.464888</td>\n",
       "      <td>1.360148</td>\n",
       "      <td>-0.219063</td>\n",
       "      <td>1.471267</td>\n",
       "      <td>2.676950</td>\n",
       "      <td>1.803284</td>\n",
       "      <td>-0.844113</td>\n",
       "      <td>-0.69579</td>\n",
       "    </tr>\n",
       "    <tr>\n",
       "      <th>4</th>\n",
       "      <td>3.551716</td>\n",
       "      <td>1.045766</td>\n",
       "      <td>1.402131</td>\n",
       "      <td>-0.569663</td>\n",
       "      <td>0.224204</td>\n",
       "      <td>0.405251</td>\n",
       "      <td>2.147110</td>\n",
       "      <td>1.360148</td>\n",
       "      <td>-0.219063</td>\n",
       "      <td>1.471267</td>\n",
       "      <td>1.516299</td>\n",
       "      <td>-0.553526</td>\n",
       "      <td>-0.844113</td>\n",
       "      <td>-0.69579</td>\n",
       "    </tr>\n",
       "  </tbody>\n",
       "</table>\n",
       "</div>"
      ],
      "text/plain": [
       "      price      area  bedrooms  bathrooms   stories  mainroad  guestroom  \\\n",
       "0  4.562174  1.045766  1.402131   1.420507  1.376952  0.405251  -0.464888   \n",
       "1  4.000809  1.755397  1.402131   5.400847  2.529700  0.405251  -0.464888   \n",
       "2  4.000809  2.216196  0.047235   1.420507  0.224204  0.405251  -0.464888   \n",
       "3  3.982096  1.082630  1.402131   1.420507  0.224204  0.405251  -0.464888   \n",
       "4  3.551716  1.045766  1.402131  -0.569663  0.224204  0.405251   2.147110   \n",
       "\n",
       "   basement  hotwaterheating  airconditioning   parking  prefarea  \\\n",
       "0 -0.733865        -0.219063         1.471267  1.516299  1.803284   \n",
       "1 -0.733865        -0.219063         1.471267  2.676950 -0.553526   \n",
       "2  1.360148        -0.219063        -0.678439  1.516299  1.803284   \n",
       "3  1.360148        -0.219063         1.471267  2.676950  1.803284   \n",
       "4  1.360148        -0.219063         1.471267  1.516299 -0.553526   \n",
       "\n",
       "   semi-furnished  unfurnished  \n",
       "0       -0.844113     -0.69579  \n",
       "1       -0.844113     -0.69579  \n",
       "2        1.182502     -0.69579  \n",
       "3       -0.844113     -0.69579  \n",
       "4       -0.844113     -0.69579  "
      ]
     },
     "execution_count": 6,
     "metadata": {},
     "output_type": "execute_result"
    }
   ],
   "source": [
    "# Normalising Housing dataset using above formula\n",
    "housing = (housing - housing.mean())/housing.std()\n",
    "\n",
    "#print head \n",
    "housing.head()"
   ]
  },
  {
   "cell_type": "markdown",
   "metadata": {
    "id": "XA_b5gVHjbza"
   },
   "source": [
    "#### **`1. Gradient Descent in Simple Linear Regression`**\n",
    "\n",
    "Let us first make Simple linear regression. Fot this we will just take area as our feature and price as our predictor\n"
   ]
  },
  {
   "cell_type": "code",
   "execution_count": 7,
   "metadata": {
    "id": "zGLVe21vjbza"
   },
   "outputs": [],
   "source": [
    "# Assign feature variable X\n",
    "X = housing[\"area\"]\n",
    "\n",
    "# Assign response variable to y\n",
    "y = housing[\"price\"]"
   ]
  },
  {
   "cell_type": "code",
   "execution_count": 8,
   "metadata": {
    "id": "z7Vbc0dnjbzb",
    "outputId": "bd2d52b3-af08-4e6a-b074-d4f3e62eb158"
   },
   "outputs": [
    {
     "data": {
      "image/png": "[encoded data removed]",
      "text/plain": [
       "<Figure size 500x500 with 6 Axes>"
      ]
     },
     "metadata": {},
     "output_type": "display_data"
    }
   ],
   "source": [
    "# Visualise the relationship between the features and the response using pairplots\n",
    "sns.pairplot(housing[[\"area\",\"price\"]])\n",
    "plt.show()"
   ]
  },
  {
   "cell_type": "markdown",
   "metadata": {
    "id": "m45mqgfWjbzb"
   },
   "source": [
    "#### **`Steps to implement gradient Descent`**\n",
    "\n",
    "1. **We all know to define a linear relationship between these two variables as follows:**\n",
    "\n",
    "\n",
    "This is the equation for a line that you studied in high school. m is the slope of the line and c is the y intercept. Today we will use this equation to train our model with a given dataset and predict the value of Y for any given value of X. Our challenge today is to determine the value of m and c, such that the line corresponding to those values is the best fitting line or gives the minimum error.\n",
    "\n",
    "\n",
    "2. **For linear regression we use a cost function known as the mean squared error or MSE.**"
   ]
  },
  {
   "cell_type": "markdown",
   "metadata": {
    "id": "8f6KfUtGjbzc"
   },
   "source": [
    "\n",
    "The loss/cost is the error in our predicted value of m and c. Our goal is to minimize this error to obtain the most accurate value of m and c.\n",
    "So we square the error and find the mean. hence the name Mean Squared Error. Now that we have defined the loss function, lets get into the interesting part — minimizing it and finding m and c.\n",
    "\n",
    "3. **Gradient Descent**\n",
    "\n",
    "Now that we have defined the loss function, lets get into the interesting part — minimizing it and finding m and c.\n",
    "\n",
    "Gradient descent is an iterative optimization algorithm to find the minimum of a function. Here that function is our Loss Function.\n",
    "\n",
    "    3.1 Initially let m = 0 and c = 0. Let L be our learning rate. This controls how much the value of m changes with each step. L could be a small value like 0.0001 for good accuracy.\n",
    "\n"
   ]
  },
  {
   "cell_type": "markdown",
   "metadata": {
    "id": "pdYthiS3jbzc"
   },
   "source": [
    "    3.2. Now we will apply partial derivative with respect to m and c and will equate it to zero to find the least value of m and c for which our cost function get the lowest value as possible.**"
   ]
  },
  {
   "cell_type": "markdown",
   "metadata": {
    "id": "WMIIgYaujbzc"
   },
   "source": [
    "\n",
    "\n",
    "    3.3  Now we update the current value of m and c using the following equation:\n",
    "\n",
    "    3.4 We repeat this process until our loss function is a very small value or ideally 0 (which means 0 error or 100% accuracy). The value of m and c that we are left with now will be the optimum values."
   ]
  },
  {
   "cell_type": "markdown",
   "metadata": {
    "id": "g0Smhiwsjbzd"
   },
   "source": [
    "Now to apply gradient descent from scratch in python we need our X and y variables as numpy arrays, Let's convert them."
   ]
  },
  {
   "cell_type": "code",
   "execution_count": 9,
   "metadata": {
    "id": "WMpOduANjbzd"
   },
   "outputs": [],
   "source": [
    "# Convert X and y into numpy arrays\n",
    "X = np.array(X)\n",
    "\n",
    "y = np.array(y)"
   ]
  },
  {
   "cell_type": "code",
   "execution_count": 10,
   "metadata": {
    "id": "jK36XHFvjbzd"
   },
   "outputs": [],
   "source": [
    "# Initialize m=0\n",
    "m = 0\n",
    "\n",
    "# Initialize c=0\n",
    "c = 0\n",
    "\n",
    "# The learning Rate (here using 0.01)\n",
    "L = 0.01\n",
    "\n",
    "# The number of iterations to perform gradient descent\n",
    "epochs = 1000\n",
    "\n",
    "# Number of elements in y\n",
    "n = float(len(y))\n",
    "\n",
    "# Create an empty DataFrame gd_df with columns 'm_current', 'c_current', and 'cost'\n",
    "gd_df = pd.DataFrame(columns=[\"m_current\", \"c_current\", \"cost\"])"
   ]
  },
  {
   "cell_type": "markdown",
   "metadata": {
    "id": "rP2Yg8Qxjbzd"
   },
   "source": [
    "Performing Gradient Descent "
   ]
  },
  {
   "cell_type": "code",
   "execution_count": 11,
   "metadata": {
    "id": "69Ap6zwsjbzd"
   },
   "outputs": [],
   "source": [
    "# Iterate over the range of epochs\n",
    "for i in range(epochs):\n",
    "    # The current predicted value of Y (which is m*x + c)\n",
    "    Y_pred = m * X + c\n",
    "    \n",
    "    # Calculate cost according to formula\n",
    "    cost = sum([(data - y_pred) ** 2 for data, y_pred in zip(y, Y_pred)]) / (2 * n)\n",
    "    \n",
    "    # Derivative w.r.t m\n",
    "    D_m = (-1/n) * sum(X * (y - Y_pred))\n",
    "    \n",
    "    # Derivative w.r.t c\n",
    "    D_c = (-1/n) * sum(y - Y_pred)\n",
    "    \n",
    "    # Update m\n",
    "    m = m - L * D_m\n",
    "    \n",
    "    # Update c\n",
    "    c = c - L * D_c\n",
    "    \n",
    "    # Store values in gd_df\n",
    "    gd_df.loc[i] = [m, c, cost]"
   ]
  },
  {
   "cell_type": "code",
   "execution_count": 12,
   "metadata": {
    "id": "0ubu1X9Ljbze",
    "outputId": "02627f90-ac8e-4bdf-b039-c9b6cf408c47"
   },
   "outputs": [
    {
     "data": {
      "text/html": [
       "<div>\n",
       "<style scoped>\n",
       "    .dataframe tbody tr th:only-of-type {\n",
       "        vertical-align: middle;\n",
       "    }\n",
       "\n",
       "    .dataframe tbody tr th {\n",
       "        vertical-align: top;\n",
       "    }\n",
       "\n",
       "    .dataframe thead th {\n",
       "        text-align: right;\n",
       "    }\n",
       "</style>\n",
       "<table border=\"1\" class=\"dataframe\">\n",
       "  <thead>\n",
       "    <tr style=\"text-align: right;\">\n",
       "      <th></th>\n",
       "      <th>m_current</th>\n",
       "      <th>c_current</th>\n",
       "      <th>cost</th>\n",
       "    </tr>\n",
       "  </thead>\n",
       "  <tbody>\n",
       "    <tr>\n",
       "      <th>0</th>\n",
       "      <td>0.005350</td>\n",
       "      <td>2.558606e-18</td>\n",
       "      <td>0.499083</td>\n",
       "    </tr>\n",
       "    <tr>\n",
       "      <th>1</th>\n",
       "      <td>0.010647</td>\n",
       "      <td>9.794408e-18</td>\n",
       "      <td>0.496234</td>\n",
       "    </tr>\n",
       "    <tr>\n",
       "      <th>2</th>\n",
       "      <td>0.015891</td>\n",
       "      <td>1.364046e-17</td>\n",
       "      <td>0.493443</td>\n",
       "    </tr>\n",
       "    <tr>\n",
       "      <th>3</th>\n",
       "      <td>0.021082</td>\n",
       "      <td>1.350602e-17</td>\n",
       "      <td>0.490707</td>\n",
       "    </tr>\n",
       "    <tr>\n",
       "      <th>4</th>\n",
       "      <td>0.026222</td>\n",
       "      <td>1.789394e-17</td>\n",
       "      <td>0.488025</td>\n",
       "    </tr>\n",
       "    <tr>\n",
       "      <th>...</th>\n",
       "      <td>...</td>\n",
       "      <td>...</td>\n",
       "      <td>...</td>\n",
       "    </tr>\n",
       "    <tr>\n",
       "      <th>995</th>\n",
       "      <td>0.535973</td>\n",
       "      <td>3.042459e-16</td>\n",
       "      <td>0.355700</td>\n",
       "    </tr>\n",
       "    <tr>\n",
       "      <th>996</th>\n",
       "      <td>0.535973</td>\n",
       "      <td>3.029992e-16</td>\n",
       "      <td>0.355700</td>\n",
       "    </tr>\n",
       "    <tr>\n",
       "      <th>997</th>\n",
       "      <td>0.535973</td>\n",
       "      <td>3.009295e-16</td>\n",
       "      <td>0.355700</td>\n",
       "    </tr>\n",
       "    <tr>\n",
       "      <th>998</th>\n",
       "      <td>0.535974</td>\n",
       "      <td>3.002776e-16</td>\n",
       "      <td>0.355700</td>\n",
       "    </tr>\n",
       "    <tr>\n",
       "      <th>999</th>\n",
       "      <td>0.535974</td>\n",
       "      <td>2.991328e-16</td>\n",
       "      <td>0.355700</td>\n",
       "    </tr>\n",
       "  </tbody>\n",
       "</table>\n",
       "<p>1000 rows × 3 columns</p>\n",
       "</div>"
      ],
      "text/plain": [
       "     m_current     c_current      cost\n",
       "0     0.005350  2.558606e-18  0.499083\n",
       "1     0.010647  9.794408e-18  0.496234\n",
       "2     0.015891  1.364046e-17  0.493443\n",
       "3     0.021082  1.350602e-17  0.490707\n",
       "4     0.026222  1.789394e-17  0.488025\n",
       "..         ...           ...       ...\n",
       "995   0.535973  3.042459e-16  0.355700\n",
       "996   0.535973  3.029992e-16  0.355700\n",
       "997   0.535973  3.009295e-16  0.355700\n",
       "998   0.535974  3.002776e-16  0.355700\n",
       "999   0.535974  2.991328e-16  0.355700\n",
       "\n",
       "[1000 rows x 3 columns]"
      ]
     },
     "execution_count": 12,
     "metadata": {},
     "output_type": "execute_result"
    }
   ],
   "source": [
    "# print gd_df\n",
    "gd_df"
   ]
  },
  {
   "cell_type": "code",
   "execution_count": 13,
   "metadata": {
    "id": "Z3slA3xVjbze",
    "outputId": "7e6e6bef-5f9b-454e-a1b3-6cabae17a362"
   },
   "outputs": [
    {
     "data": {
      "image/png": "[encoded data removed]",
      "text/plain": [
       "<Figure size 640x480 with 1 Axes>"
      ]
     },
     "metadata": {},
     "output_type": "display_data"
    }
   ],
   "source": [
    "# Making predictions\n",
    "Y_pred = m*X + c\n",
    "\n",
    "# Plotting parity plot as shown\n",
    "plt.scatter (X,y)\n",
    "plt.plot([min(X),max(X)],[min(Y_pred), max(Y_pred)],color=\"red\")\n",
    "plt.show()"
   ]
  },
  {
   "cell_type": "code",
   "execution_count": 14,
   "metadata": {
    "id": "MUNcGgVNjbze",
    "outputId": "07c43199-6eeb-4a71-a71a-dfe6f2315b01"
   },
   "outputs": [
    {
     "data": {
      "image/png": "[encoded data removed]",
      "text/plain": [
       "<Figure size 640x480 with 1 Axes>"
      ]
     },
     "metadata": {},
     "output_type": "display_data"
    }
   ],
   "source": [
    "# plotting cost against num_iterations\n",
    "plt.plot(gd_df.index,gd_df[\"cost\"])\n",
    "plt.show()"
   ]
  },
  {
   "cell_type": "markdown",
   "metadata": {
    "id": "jjnunNV4jbze"
   },
   "source": [
    "Above is a plot of all of the values for the cost function over the 1000 iterations that you should see. I think that 100 iterations or 100 epochs is a nice round number and a good place to stop, because in graph you can see that error becomes constant after 100th iteration. You could keep going if you wanted.\n",
    "\n"
   ]
  },
  {
   "cell_type": "code",
   "execution_count": 15,
   "metadata": {
    "id": "H5EuA471jbze",
    "outputId": "adee8030-b743-4cb5-f29a-67171f4b1000"
   },
   "outputs": [
    {
     "name": "stdout",
     "output_type": "stream",
     "text": [
      "0.5359737732392316 2.991327878568937e-16\n"
     ]
    }
   ],
   "source": [
    "# print final m and c value\n",
    "print(m,c)"
   ]
  },
  {
   "cell_type": "markdown",
   "metadata": {
    "id": "z_fyMpO2jbzf"
   },
   "source": [
    "Hence optimum slope/weight would be 0.53 and intercept/bias would be 2.99. This value would reduce the error and gives the best fit line for simple linear regression problem."
   ]
  },
  {
   "cell_type": "markdown",
   "metadata": {
    "id": "392RV1G0jbzf"
   },
   "source": [
    "### Multiple Regression: Applying Gradient Descent for Multiple (>1) Features\n",
    "\n",
    "Now you know how to optimize simple linear regression. Lets try it for multiple linear regression.\n",
    "\n",
    "If we have multiple independent variables, the formula for linear regression will look like:\n",
    "\n",
    "\n",
    "Here, ‘h’ is called the hypothesis. This is the predicted output variable. Theta0 is the bias term and all the other theta values are coefficients. They are initiated randomly in the beginning, then optimized with the algorithm so that this formula can predict the dependent variable closely.\n",
    "\n",
    "We will first try with only 2 input variable i.e area and bedrooms"
   ]
  },
  {
   "cell_type": "code",
   "execution_count": 17,
   "metadata": {
    "id": "gOjAOUSCjbzf"
   },
   "outputs": [],
   "source": [
    "# Assigning feature variable X (with area and bedroom)\n",
    "X = housing[[\"area\",\"bedrooms\"]]\n",
    "\n",
    "# Assigning response variable y (price)\n",
    "y = housing[\"price\"]"
   ]
  },
  {
   "cell_type": "markdown",
   "metadata": {
    "id": "imXo1EeTjbzf"
   },
   "source": [
    "1. Add a column of ones for the bias term. I chose 1 because if you multiply one with any value, that value does not change.\n",
    "\n",
    "The intercept column is needed for convenient matrix representation of cost function\n"
   ]
  },
  {
   "cell_type": "code",
   "execution_count": 18,
   "metadata": {
    "id": "dy-qb_rRjbzf",
    "outputId": "d0cf8cc4-4b84-4317-bb7d-8462fc0b500c"
   },
   "outputs": [
    {
     "name": "stdout",
     "output_type": "stream",
     "text": [
      "   intercept      area  bedrooms\n",
      "0          1  1.045766  1.402131\n",
      "1          1  1.755397  1.402131\n",
      "2          1  2.216196  0.047235\n",
      "3          1  1.082630  1.402131\n",
      "4          1  1.045766  1.402131\n"
     ]
    }
   ],
   "source": [
    "# Add a column of ones as intercept\n",
    "X['intercept'] = 1\n",
    "\n",
    "# Reorder columns in sequence: 'intercept', 'area', and 'bedrooms'\n",
    "X = X.reindex([\"intercept\", \"area\", \"bedrooms\"], axis=1)\n",
    "\n",
    "# Print the head of X\n",
    "print(X.head())"
   ]
  },
  {
   "cell_type": "code",
   "execution_count": 19,
   "metadata": {
    "id": "pNGeQtDrjbzf"
   },
   "outputs": [],
   "source": [
    "# Convert X and y to numpy arrays\n",
    "X = np.array(X)\n",
    "\n",
    "y = np.array(y)"
   ]
  },
  {
   "cell_type": "markdown",
   "metadata": {
    "id": "tCmboXvgjbzf"
   },
   "source": [
    "4. Initiate the theta values. I am initiating them as zeros. But any other number should be alright."
   ]
  },
  {
   "cell_type": "code",
   "execution_count": 20,
   "metadata": {
    "id": "_rWt2BFLjbzg"
   },
   "outputs": [],
   "source": [
    "# initiate theta values with array of zeroes equal to number of columns present in X\n",
    "theta = np.array([0]*X.shape[1])"
   ]
  },
  {
   "cell_type": "markdown",
   "metadata": {
    "id": "JVAmzpeWjbzg"
   },
   "source": [
    "2. Cost function in  Multiple linear regression\n"
   ]
  },
  {
   "cell_type": "code",
   "execution_count": 22,
   "metadata": {
    "id": "EAR55pthjbzg"
   },
   "outputs": [],
   "source": [
    "# Initialise m as no.of samples in X\n",
    "m = len(X)"
   ]
  },
  {
   "cell_type": "markdown",
   "metadata": {
    "id": "j1Z286_Tjbzg"
   },
   "source": [
    "Note: \n",
    "We can make use matmul function https://numpy.org/doc/stable/reference/generated/numpy.matmul.html for multiplying all theta values with X to implement above cost function formula"
   ]
  },
  {
   "cell_type": "code",
   "execution_count": null,
   "metadata": {
    "id": "tWldUFCmjbzg"
   },
   "outputs": [],
   "source": [
    "# def theta_cost(X,y, theta):\n",
    "    \n",
    "#     cost=np.sum(np.square(np.matmul(X, theta) - y)) / (2 * m)\n",
    "#     return cost"
   ]
  },
  {
   "cell_type": "markdown",
   "metadata": {
    "id": "uIe77fQ7jbzg"
   },
   "source": [
    "Now our next part is to update the theta values. We take the partial differential of the cost function with respect to each theta value and deduct that value from the existing theta value,\n",
    "\n",
    "Here, alpha is the learning rate and it is a constant. I am not showing the same formula for all the theta values. But It is the same formula for all the theta values. \n",
    "\n",
    "This is how we are updating bias and intercept accordingly in order to minimize cost function. This is called gradient descent."
   ]
  },
  {
   "cell_type": "code",
   "execution_count": 23,
   "metadata": {
    "id": "WRPB4C_Pjbzg"
   },
   "outputs": [],
   "source": [
    "# Create an empty dataframe with columns theta and cost\n",
    "gdm_df2 = pd.DataFrame(columns = [\"theta\",\"cost\"])"
   ]
  },
  {
   "cell_type": "markdown",
   "metadata": {
    "id": "ODODvqLqnP1H"
   },
   "source": [
    "Now since you are aware of all formulas and method to implement gradient descent. Lets apply it here.\n",
    "\n",
    "## **`Gradient Descent on Linear Regression`**\n"
   ]
  },
  {
   "cell_type": "code",
   "execution_count": 24,
   "metadata": {
    "id": "W8tdDwxxjbzh",
    "outputId": "260849b1-1120-4c7d-ee3c-3776437179da"
   },
   "outputs": [
    {
     "name": "stdout",
     "output_type": "stream",
     "text": [
      "                                                 theta      cost\n",
      "0    [2.3711919278232707e-18, 0.005350138644096793,...  0.494906\n",
      "1    [3.617901085750969e-18, 0.010641328951860771, ...  0.490824\n",
      "2    [5.785382366854027e-18, 0.015874226967184046, ...  0.486834\n",
      "3    [8.075090035989212e-18, 0.021049481374934606, ...  0.482935\n",
      "4    [1.0368871918058801e-17, 0.026167733584010238,...  0.479124\n",
      "..                                                 ...       ...\n",
      "995  [3.3328691488600403e-16, 0.4916558741575689, 0...  0.314176\n",
      "996  [3.3359248085608434e-16, 0.49165609672441263, ...  0.314176\n",
      "997  [3.337635977993293e-16, 0.4916563172711537, 0....  0.314176\n",
      "998  [3.3429324548080186e-16, 0.4916565358164564, 0...  0.314176\n",
      "999  [3.3447658506285006e-16, 0.49165675237880896, ...  0.314176\n",
      "\n",
      "[1000 rows x 2 columns]\n"
     ]
    }
   ],
   "source": [
    "# Define alpha/learning rate (here 0.01)\n",
    "alpha = 0.01\n",
    "\n",
    "# Initialize iterations to 1000\n",
    "iterations = 1000\n",
    "\n",
    "# Assuming you have your data loaded into X and y\n",
    "\n",
    "# Initialize theta with zeros or appropriate initial values\n",
    "theta = np.zeros(X.shape[1])\n",
    "\n",
    "# Create an empty DataFrame gdm_df2 with columns 'theta' and 'cost'\n",
    "gdm_df2 = pd.DataFrame(columns=[\"theta\", \"cost\"])\n",
    "\n",
    "# Iterate over number of iterations\n",
    "for i in range(iterations):\n",
    "    # Calculate the derivative of each theta value/coefficients\n",
    "    gradient = (1/len(y)) * np.matmul(X.T, np.matmul(X, theta) - y)\n",
    "    \n",
    "    # Update the theta values according to the formula after differentiation\n",
    "    theta = theta - alpha * gradient\n",
    "    \n",
    "    # Calculate the hypothesis by multiplying X with updated theta values\n",
    "    h = np.matmul(X, theta)\n",
    "    \n",
    "    # Calculate the cost function\n",
    "    cost = np.sum(np.square(h - y)) / (2 * len(y))\n",
    "    \n",
    "    # Append rows in gdm_df2 with updated theta and cost value\n",
    "    gdm_df2.loc[i] = [theta, cost]\n",
    "\n",
    "# Print gdm_df2\n",
    "print(gdm_df2)"
   ]
  },
  {
   "cell_type": "code",
   "execution_count": 25,
   "metadata": {
    "id": "jndWlEFejbzh",
    "outputId": "399e35be-0d85-402d-cf9a-01f74d97564d"
   },
   "outputs": [
    {
     "data": {
      "image/png": "[encoded data removed]",
      "text/plain": [
       "<Figure size 640x480 with 1 Axes>"
      ]
     },
     "metadata": {},
     "output_type": "display_data"
    }
   ],
   "source": [
    "# plotting cost against num_iterations\n",
    "plt.plot(gd_df.index,gd_df[\"cost\"])\n",
    "plt.show()"
   ]
  },
  {
   "cell_type": "markdown",
   "metadata": {
    "id": "eUDANlizjbzh"
   },
   "source": [
    "Above is a plot of all of the values for the cost function over the 1000 iterations that you should see. I think that 100 iterations or 100 epochs is a nice round number and a good place to stop in case of multiple regression problem aswell, because in graph it seen that error becomes constant after 100th iteration. We can keep going if we want.\n",
    "\n",
    "Now we have just tried out gradient descent on just 1 to 2 input variables. We can also try on multiple linear regression with more than 2 variables as well."
   ]
  }
 ],
 "metadata": {
  "colab": {
   "collapsed_sections": [],
   "provenance": []
  },
  "kernelspec": {
   "display_name": "Python 3 (ipykernel)",
   "language": "python",
   "name": "python3"
  },
  "language_info": {
   "codemirror_mode": {
    "name": "ipython",
    "version": 3
   },
   "file_extension": ".py",
   "mimetype": "text/x-python",
   "name": "python",
   "nbconvert_exporter": "python",
   "pygments_lexer": "ipython3",
   "version": "3.9.13"
  },
  "latex_envs": {
   "LaTeX_envs_menu_present": true,
   "autoclose": false,
   "autocomplete": true,
   "bibliofile": "biblio.bib",
   "cite_by": "apalike",
   "current_citInitial": 1,
   "eqLabelWithNumbers": true,
   "eqNumInitial": 1,
   "hotkeys": {
    "equation": "Ctrl-E",
    "itemize": "Ctrl-I"
   },
   "labels_anchors": false,
   "latex_user_defs": false,
   "report_style_numbering": false,
   "user_envs_cfg": false
  }
 },
 "nbformat": 4,
 "nbformat_minor": 1
}

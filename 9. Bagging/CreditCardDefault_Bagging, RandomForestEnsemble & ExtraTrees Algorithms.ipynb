{
 "cells": [
  {
   "cell_type": "raw",
   "id": "68baccd2",
   "metadata": {},
   "source": [
    "Decision trees are a simple and powerful predictive modeling technique, but they suffer from high-variance\n",
    "\n",
    "This means that trees can get very different results given different training data.\n",
    "\n",
    "A technique to make decision trees more robust and to achieve better performance is called bootstrap aggregation or bagging for short. "
   ]
  },
  {
   "cell_type": "raw",
   "id": "6db3ed2f",
   "metadata": {},
   "source": [
    "In this, 3 different types of ensemble methods are used.\n",
    "\n",
    "1. Bagging Classifier: an ensemble meta-estimator\n",
    "\n",
    "2. RandomForest Classifier\n",
    "\n",
    "3. ExtraTree Classifier"
   ]
  },
  {
   "cell_type": "markdown",
   "id": "ab105bbb",
   "metadata": {},
   "source": [
    "# PROBLEM STATEMENT: Credit Default Prediction\n",
    "\n",
    "Build a model to predict whether a given customer defaults or not. Credit default is one of the most important problems in the banking and risk analytics industry There are various attributes which can be used to predict default, such as demographic data (age,income,employmentstatus, etc.), (credit) behavioural data (past loans,payment,number of times a credit payment has been delayed by the customer etc.)."
   ]
  },
  {
   "cell_type": "raw",
   "id": "e57957da",
   "metadata": {},
   "source": [
    "There are 25 variables:\n",
    "• ID: ID of each client\n",
    "• LIMIT_BAL Amount of given credit in NT dollars (includes individual and family/supplementary credit)\n",
    "• SEX: Gender (1=male, 2=female)\n",
    "• EDUCATION: (1=graduate school, 2=university, 3=high school, 4=others, 5=unknown, 6=unknown)\n",
    "• MARRIAGE: Marital status (1=married, 2=single, 3=others)\n",
    "• AGE: Age in years\n",
    "• PAY_0: Repayment status in September, 2005 (-1=pay duly, 1=payment delay for one month, 2=payment delay for two months,........, 8=payment delay for eight months, 9=payment delay for nine months and above) \n",
    "• PAY 2: Repayment status in August, 2005 (scale same as above)\n",
    "• PAY 3: Repayment status in July, 2005 (scale same as above)\n",
    "• PAY 4: Repayment status in June, 2005 (scale same as above)\n",
    "• PAY 5: Repayment status in May, 2005 (scale same as above) \n",
    "• PAY 6: Repayment status in April, 2005 (scale same as above)\n",
    "• BILL AMT1: Amount of bill statement in September, 2005 (NT dollar)\n",
    "• BILL AMT2: Amount of bill statement in August, 2005 (NT dollar)\n",
    "• BILL AMT3: Amount of bill statement in July, 2005 (NT dollar)\n",
    "• BILL AMT4: Amount of bill statement in June, 2005 (NT dollar)\n",
    "• BILL AMT5: Amount of bill statement in May, 2005 (NT dollar)\n",
    "• BILL AMT6: Amount of bill statement in April, 2005 (NT dollar)\n",
    "• PAY AMT1 Amount of previous payment in September, 2005 (NT dollar)\n",
    "• PAY AMT2: Amount of previous payment in August, 2005 (NT dollar)\n",
    "• PAY_AMT3: Amount of previous payment in July, 2005 (NT dollar)\n",
    "• PAY AMT4: Amount of previous payment in June, 2005 (NT dollar)\n",
    "• PAY AMT5: Amount of previous payment in May, 2005 (NT dollar)\n",
    "• PAY AMT6: Amount of previous payment in April, 2005 (NT dollar)\n",
    "• default.payment.next.month: Default payment (1=yes, 0=no)"
   ]
  },
  {
   "cell_type": "markdown",
   "id": "1c3fafad",
   "metadata": {},
   "source": [
    "# 1. Data Understanding and Cleaning"
   ]
  },
  {
   "cell_type": "code",
   "execution_count": 1,
   "id": "08d9a75e",
   "metadata": {},
   "outputs": [],
   "source": [
    "# Importing the required libraries\n",
    "import numpy as np\n",
    "import pandas as pd\n",
    "import matplotlib.pyplot as plt\n",
    "import seaborn as sns\n",
    "%matplotlib inline\n",
    "import warnings\n",
    "warnings.filterwarnings(\"ignore\")"
   ]
  },
  {
   "cell_type": "code",
   "execution_count": 2,
   "id": "40b1fe66",
   "metadata": {},
   "outputs": [
    {
     "data": {
      "text/html": [
       "<div>\n",
       "<style scoped>\n",
       "    .dataframe tbody tr th:only-of-type {\n",
       "        vertical-align: middle;\n",
       "    }\n",
       "\n",
       "    .dataframe tbody tr th {\n",
       "        vertical-align: top;\n",
       "    }\n",
       "\n",
       "    .dataframe thead th {\n",
       "        text-align: right;\n",
       "    }\n",
       "</style>\n",
       "<table border=\"1\" class=\"dataframe\">\n",
       "  <thead>\n",
       "    <tr style=\"text-align: right;\">\n",
       "      <th></th>\n",
       "      <th>ID</th>\n",
       "      <th>LIMIT_BAL</th>\n",
       "      <th>SEX</th>\n",
       "      <th>EDUCATION</th>\n",
       "      <th>MARRIAGE</th>\n",
       "      <th>AGE</th>\n",
       "      <th>PAY_0</th>\n",
       "      <th>PAY_2</th>\n",
       "      <th>PAY_3</th>\n",
       "      <th>PAY_4</th>\n",
       "      <th>...</th>\n",
       "      <th>BILL_AMT4</th>\n",
       "      <th>BILL_AMT5</th>\n",
       "      <th>BILL_AMT6</th>\n",
       "      <th>PAY_AMT1</th>\n",
       "      <th>PAY_AMT2</th>\n",
       "      <th>PAY_AMT3</th>\n",
       "      <th>PAY_AMT4</th>\n",
       "      <th>PAY_AMT5</th>\n",
       "      <th>PAY_AMT6</th>\n",
       "      <th>defaulted</th>\n",
       "    </tr>\n",
       "  </thead>\n",
       "  <tbody>\n",
       "    <tr>\n",
       "      <th>0</th>\n",
       "      <td>1</td>\n",
       "      <td>20000</td>\n",
       "      <td>2</td>\n",
       "      <td>2</td>\n",
       "      <td>1</td>\n",
       "      <td>24</td>\n",
       "      <td>2</td>\n",
       "      <td>2</td>\n",
       "      <td>-1</td>\n",
       "      <td>-1</td>\n",
       "      <td>...</td>\n",
       "      <td>0</td>\n",
       "      <td>0</td>\n",
       "      <td>0</td>\n",
       "      <td>0</td>\n",
       "      <td>689</td>\n",
       "      <td>0</td>\n",
       "      <td>0</td>\n",
       "      <td>0</td>\n",
       "      <td>0</td>\n",
       "      <td>1</td>\n",
       "    </tr>\n",
       "    <tr>\n",
       "      <th>1</th>\n",
       "      <td>2</td>\n",
       "      <td>120000</td>\n",
       "      <td>2</td>\n",
       "      <td>2</td>\n",
       "      <td>2</td>\n",
       "      <td>26</td>\n",
       "      <td>-1</td>\n",
       "      <td>2</td>\n",
       "      <td>0</td>\n",
       "      <td>0</td>\n",
       "      <td>...</td>\n",
       "      <td>3272</td>\n",
       "      <td>3455</td>\n",
       "      <td>3261</td>\n",
       "      <td>0</td>\n",
       "      <td>1000</td>\n",
       "      <td>1000</td>\n",
       "      <td>1000</td>\n",
       "      <td>0</td>\n",
       "      <td>2000</td>\n",
       "      <td>1</td>\n",
       "    </tr>\n",
       "    <tr>\n",
       "      <th>2</th>\n",
       "      <td>3</td>\n",
       "      <td>90000</td>\n",
       "      <td>2</td>\n",
       "      <td>2</td>\n",
       "      <td>2</td>\n",
       "      <td>34</td>\n",
       "      <td>0</td>\n",
       "      <td>0</td>\n",
       "      <td>0</td>\n",
       "      <td>0</td>\n",
       "      <td>...</td>\n",
       "      <td>14331</td>\n",
       "      <td>14948</td>\n",
       "      <td>15549</td>\n",
       "      <td>1518</td>\n",
       "      <td>1500</td>\n",
       "      <td>1000</td>\n",
       "      <td>1000</td>\n",
       "      <td>1000</td>\n",
       "      <td>5000</td>\n",
       "      <td>0</td>\n",
       "    </tr>\n",
       "    <tr>\n",
       "      <th>3</th>\n",
       "      <td>4</td>\n",
       "      <td>50000</td>\n",
       "      <td>2</td>\n",
       "      <td>2</td>\n",
       "      <td>1</td>\n",
       "      <td>37</td>\n",
       "      <td>0</td>\n",
       "      <td>0</td>\n",
       "      <td>0</td>\n",
       "      <td>0</td>\n",
       "      <td>...</td>\n",
       "      <td>28314</td>\n",
       "      <td>28959</td>\n",
       "      <td>29547</td>\n",
       "      <td>2000</td>\n",
       "      <td>2019</td>\n",
       "      <td>1200</td>\n",
       "      <td>1100</td>\n",
       "      <td>1069</td>\n",
       "      <td>1000</td>\n",
       "      <td>0</td>\n",
       "    </tr>\n",
       "    <tr>\n",
       "      <th>4</th>\n",
       "      <td>5</td>\n",
       "      <td>50000</td>\n",
       "      <td>1</td>\n",
       "      <td>2</td>\n",
       "      <td>1</td>\n",
       "      <td>57</td>\n",
       "      <td>-1</td>\n",
       "      <td>0</td>\n",
       "      <td>-1</td>\n",
       "      <td>0</td>\n",
       "      <td>...</td>\n",
       "      <td>20940</td>\n",
       "      <td>19146</td>\n",
       "      <td>19131</td>\n",
       "      <td>2000</td>\n",
       "      <td>36681</td>\n",
       "      <td>10000</td>\n",
       "      <td>9000</td>\n",
       "      <td>689</td>\n",
       "      <td>679</td>\n",
       "      <td>0</td>\n",
       "    </tr>\n",
       "  </tbody>\n",
       "</table>\n",
       "<p>5 rows × 25 columns</p>\n",
       "</div>"
      ],
      "text/plain": [
       "   ID  LIMIT_BAL  SEX  EDUCATION  MARRIAGE  AGE  PAY_0  PAY_2  PAY_3  PAY_4  \\\n",
       "0   1      20000    2          2         1   24      2      2     -1     -1   \n",
       "1   2     120000    2          2         2   26     -1      2      0      0   \n",
       "2   3      90000    2          2         2   34      0      0      0      0   \n",
       "3   4      50000    2          2         1   37      0      0      0      0   \n",
       "4   5      50000    1          2         1   57     -1      0     -1      0   \n",
       "\n",
       "   ...  BILL_AMT4  BILL_AMT5  BILL_AMT6  PAY_AMT1  PAY_AMT2  PAY_AMT3  \\\n",
       "0  ...          0          0          0         0       689         0   \n",
       "1  ...       3272       3455       3261         0      1000      1000   \n",
       "2  ...      14331      14948      15549      1518      1500      1000   \n",
       "3  ...      28314      28959      29547      2000      2019      1200   \n",
       "4  ...      20940      19146      19131      2000     36681     10000   \n",
       "\n",
       "   PAY_AMT4  PAY_AMT5  PAY_AMT6  defaulted  \n",
       "0         0         0         0          1  \n",
       "1      1000         0      2000          1  \n",
       "2      1000      1000      5000          0  \n",
       "3      1100      1069      1000          0  \n",
       "4      9000       689       679          0  \n",
       "\n",
       "[5 rows x 25 columns]"
      ]
     },
     "execution_count": 2,
     "metadata": {},
     "output_type": "execute_result"
    }
   ],
   "source": [
    "# Reading the csv file:\n",
    "df = pd.read_csv(\"credit_card_default.csv\")\n",
    "df.head()"
   ]
  },
  {
   "cell_type": "code",
   "execution_count": 3,
   "id": "8c605765",
   "metadata": {},
   "outputs": [
    {
     "name": "stdout",
     "output_type": "stream",
     "text": [
      "<class 'pandas.core.frame.DataFrame'>\n",
      "RangeIndex: 30000 entries, 0 to 29999\n",
      "Data columns (total 25 columns):\n",
      " #   Column     Non-Null Count  Dtype\n",
      "---  ------     --------------  -----\n",
      " 0   ID         30000 non-null  int64\n",
      " 1   LIMIT_BAL  30000 non-null  int64\n",
      " 2   SEX        30000 non-null  int64\n",
      " 3   EDUCATION  30000 non-null  int64\n",
      " 4   MARRIAGE   30000 non-null  int64\n",
      " 5   AGE        30000 non-null  int64\n",
      " 6   PAY_0      30000 non-null  int64\n",
      " 7   PAY_2      30000 non-null  int64\n",
      " 8   PAY_3      30000 non-null  int64\n",
      " 9   PAY_4      30000 non-null  int64\n",
      " 10  PAY_5      30000 non-null  int64\n",
      " 11  PAY_6      30000 non-null  int64\n",
      " 12  BILL_AMT1  30000 non-null  int64\n",
      " 13  BILL_AMT2  30000 non-null  int64\n",
      " 14  BILL_AMT3  30000 non-null  int64\n",
      " 15  BILL_AMT4  30000 non-null  int64\n",
      " 16  BILL_AMT5  30000 non-null  int64\n",
      " 17  BILL_AMT6  30000 non-null  int64\n",
      " 18  PAY_AMT1   30000 non-null  int64\n",
      " 19  PAY_AMT2   30000 non-null  int64\n",
      " 20  PAY_AMT3   30000 non-null  int64\n",
      " 21  PAY_AMT4   30000 non-null  int64\n",
      " 22  PAY_AMT5   30000 non-null  int64\n",
      " 23  PAY_AMT6   30000 non-null  int64\n",
      " 24  defaulted  30000 non-null  int64\n",
      "dtypes: int64(25)\n",
      "memory usage: 5.7 MB\n"
     ]
    }
   ],
   "source": [
    "# Understanding the type of columns:\n",
    "df.info()"
   ]
  },
  {
   "cell_type": "markdown",
   "id": "fee044db",
   "metadata": {},
   "source": [
    "As shown in the above output there are no major data issues, so model building can be done."
   ]
  },
  {
   "cell_type": "markdown",
   "id": "bed5c33f",
   "metadata": {},
   "source": [
    "# 2. Data Preparation and Model Building"
   ]
  },
  {
   "cell_type": "code",
   "execution_count": 4,
   "id": "126ce53a",
   "metadata": {},
   "outputs": [],
   "source": [
    "# Importing test_train_split from sklearn library\n",
    "from sklearn.model_selection import train_test_split"
   ]
  },
  {
   "cell_type": "code",
   "execution_count": 5,
   "id": "68a61d5d",
   "metadata": {},
   "outputs": [],
   "source": [
    "# Putting feature variable to x:\n",
    "x = df.iloc[:,:-1]\n",
    "y = df.iloc[:,-1]\n",
    "\n",
    "# Splitting the data into training and testing set:\n",
    "xtrain,xtest,ytrain,ytest = train_test_split(x,y,test_size=0.3,random_state=1)"
   ]
  },
  {
   "cell_type": "markdown",
   "id": "100d688d",
   "metadata": {},
   "source": [
    "# 3. Simple Decision Tree Model:"
   ]
  },
  {
   "cell_type": "code",
   "execution_count": 6,
   "id": "24b538f3",
   "metadata": {},
   "outputs": [],
   "source": [
    "# importing Standard Scaler, DecisionTreeClassifier and make_pipeline\n",
    "from sklearn.preprocessing import StandardScaler\n",
    "from sklearn.tree import DecisionTreeClassifier\n",
    "from sklearn.pipeline import make_pipeline"
   ]
  },
  {
   "cell_type": "code",
   "execution_count": 7,
   "id": "26a698c0",
   "metadata": {},
   "outputs": [
    {
     "data": {
      "text/plain": [
       "Pipeline(steps=[('standardscaler', StandardScaler()),\n",
       "                ('decisiontreeclassifier',\n",
       "                 DecisionTreeClassifier(random_state=1))])"
      ]
     },
     "execution_count": 7,
     "metadata": {},
     "output_type": "execute_result"
    }
   ],
   "source": [
    "# Pipeline Estimator to standardize x and using DecisionTreeClassifier with random_state=1 as model\n",
    "pipeline = make_pipeline(StandardScaler(),DecisionTreeClassifier(random_state=1))\n",
    "\n",
    "# fitting model on training data:\n",
    "pipeline.fit(xtrain,ytrain)"
   ]
  },
  {
   "cell_type": "code",
   "execution_count": 8,
   "id": "9e46f6a6",
   "metadata": {},
   "outputs": [
    {
     "name": "stdout",
     "output_type": "stream",
     "text": [
      "Model test Score: 0.723,  Model trainig Score: 1.000, \n"
     ]
    }
   ],
   "source": [
    "# Model Score on test and training data:\n",
    "print(\"Model test Score: %.3f, \" %pipeline.score(xtest,ytest),\n",
    "     \"Model trainig Score: %.3f, \" %pipeline.score(xtrain,ytrain))"
   ]
  },
  {
   "cell_type": "raw",
   "id": "2d142842",
   "metadata": {},
   "source": [
    "The model tends to overfit the data as the testing score is 0.723 and the training score is 1."
   ]
  },
  {
   "cell_type": "markdown",
   "id": "0a8a995e",
   "metadata": {},
   "source": [
    "# 4. Applying Bagging:"
   ]
  },
  {
   "cell_type": "raw",
   "id": "b1dd36ae",
   "metadata": {},
   "source": [
    "1. Bagging Classifier: an ensemble meta-estimator\n",
    "Bagging classifier can be called as an ensemble meta-estimator which is created by fitting multiple versions of base estimator, trained with modified training data set created using bagging sampling technique (data sampled using replacement) or otherwise The bagging sampling technique can result in the training set consisting of duplicate dataset or unique data set. This sampling technique is also called as bootstrap aggregation. The final predictor (also called as bagging classifier) combines the predictions made by each estimator/classifier by voting (classification) or by averaging (regression).\n",
    "\n",
    "Bagging classifier helps in reducing the variance of individual estimators by introducing randomisation into the training stage of each of the estimators and making an ensemble out of all the estimators"
   ]
  },
  {
   "cell_type": "raw",
   "id": "2dc127f6",
   "metadata": {},
   "source": [
    "Bagging Classifier is getting fitted using default hyperparameters and base estimator as pipeline nuild using DecisionTreeClassifier."
   ]
  },
  {
   "cell_type": "code",
   "execution_count": 9,
   "id": "d855ffd9",
   "metadata": {},
   "outputs": [
    {
     "name": "stdout",
     "output_type": "stream",
     "text": [
      "Model test Score: 0.805,  Model trainig Score: 0.980, \n"
     ]
    }
   ],
   "source": [
    "# import BaggingClassifier: \n",
    "from sklearn.ensemble import BaggingClassifier\n",
    "\n",
    "#Instantiate the bagging classifier with base estimator as pipeline and random_state=1 \n",
    "bgclassifier = BaggingClassifier(base_estimator=pipeline,random_state=1)\n",
    "\n",
    "# fitting above model-on training data \n",
    "bgclassifier.fit(xtrain, ytrain)\n",
    "\n",
    "# Model Score on test and training data:\n",
    "print(\"Model test Score: %.3f, \" %bgclassifier.score(xtest,ytest),\n",
    "     \"Model trainig Score: %.3f, \" %bgclassifier.score(xtrain,ytrain))"
   ]
  },
  {
   "cell_type": "raw",
   "id": "cdbbb594",
   "metadata": {},
   "source": [
    "Note that the model tends to overfit the data as the test score is 0.805 and training score is 0.980. However, the model gave better generalization performance than the model fit with Descision Tree alone."
   ]
  },
  {
   "cell_type": "markdown",
   "id": "1a109847",
   "metadata": {},
   "source": [
    "# Tunning BaggingClassifier"
   ]
  },
  {
   "cell_type": "code",
   "execution_count": 10,
   "id": "b1728ed9",
   "metadata": {},
   "outputs": [
    {
     "data": {
      "text/plain": [
       "GridSearchCV(estimator=BaggingClassifier(base_estimator=DecisionTreeClassifier(),\n",
       "                                         random_state=1),\n",
       "             param_grid={'base_estimator__max_depth': [1, 5, 10, 15, 20],\n",
       "                         'max_features': [1, 5, 10, 15, 20],\n",
       "                         'max_samples': [0.05, 0.1, 0.2, 0.5]},\n",
       "             scoring='accuracy')"
      ]
     },
     "execution_count": 10,
     "metadata": {},
     "output_type": "execute_result"
    }
   ],
   "source": [
    "# importing GridSearchCV:\n",
    "from sklearn.model_selection import GridSearchCV \n",
    "from sklearn.ensemble import BaggingClassifier\n",
    "\n",
    "# A dictionary with base estimator__max_depth from 1 to 20 with step size as 5 \n",
    "# A max_samples with [0.05, 0.1, 0.2, 0.5] and max features form 1 to 20 with step size as 5\n",
    "param_grid = {\n",
    "    \"base_estimator__max_depth\": [1, 5, 10, 15, 20], \n",
    "    \"max_samples\": [0.05, 0.1, 0.2, 0.5],\n",
    "    \"max_features\": [1, 5, 10, 15, 20]\n",
    "}\n",
    "\n",
    "# Instantiate gridsearch with BaggingClassifier with base estimator DecisionTreeClassifier and random state=1 \n",
    "gs = GridSearchCV(\n",
    "    BaggingClassifier(base_estimator=DecisionTreeClassifier(), random_state=1), \n",
    "    param_grid, scoring=\"accuracy\"\n",
    ")\n",
    "\n",
    "# fit grid search on training data\n",
    "gs.fit(xtrain, ytrain)"
   ]
  },
  {
   "cell_type": "code",
   "execution_count": 11,
   "id": "a311dc04",
   "metadata": {},
   "outputs": [
    {
     "name": "stdout",
     "output_type": "stream",
     "text": [
      "Optical hyperparameter combination:  {'base_estimator__max_depth': 5, 'max_features': 20, 'max_samples': 0.5}\n",
      "Mean cross-validated training accuracy score:  0.8195238095238094\n"
     ]
    }
   ],
   "source": [
    "# printing best paramters selected by GridSearchCV\n",
    "print(\"Optical hyperparameter combination: \",gs.best_params_)\n",
    "\n",
    "# printing mean accuracy score on final tuned BaggingClassifier:\n",
    "print(\"Mean cross-validated training accuracy score: \",gs.best_score_)"
   ]
  },
  {
   "cell_type": "raw",
   "id": "f64752ad",
   "metadata": {},
   "source": [
    "Checking BaggingClassifier against optimized parameters"
   ]
  },
  {
   "cell_type": "code",
   "execution_count": 12,
   "id": "05d1c3d5",
   "metadata": {},
   "outputs": [
    {
     "name": "stdout",
     "output_type": "stream",
     "text": [
      "Model test Score: 0.818, Model training Score: 0.827,\n"
     ]
    }
   ],
   "source": [
    "# Instantiate the bagging classifier with optimized parameters by grid search and random_state=1 \n",
    "bgclassifier = BaggingClassifier(base_estimator=DecisionTreeClassifier(max_depth=5), max_features=20, max_samples=0.5, random_state=1)\n",
    "\n",
    "# fitting the above model on training data \n",
    "bgclassifier.fit(xtrain, ytrain)\n",
    "\n",
    "# Model scores on test and training data\n",
    "print('Model test Score: %.3f,' % bgclassifier.score(xtest, ytest),\n",
    "      'Model training Score: %.3f,' % bgclassifier.score(xtrain, ytrain))"
   ]
  },
  {
   "cell_type": "raw",
   "id": "76e4b02c",
   "metadata": {},
   "source": [
    "The problem of overfitting has been succesfully eliminated using bagging and hyperparameter tuning."
   ]
  },
  {
   "cell_type": "markdown",
   "id": "7a302950",
   "metadata": {},
   "source": [
    "# 5. RandomForestClassifier"
   ]
  },
  {
   "cell_type": "raw",
   "id": "14fa701c",
   "metadata": {},
   "source": [
    "Random forest, like its name implies, consists of a large number of individual decision trees that operate as an ensemble. Each individual tree in the random forest spits out a class prediction and the class with the most votes becomes our model's prediction.\n",
    "\n",
    "RandomForest is an extension of bagging that also randomly selects subsets of features used in each data sample."
   ]
  },
  {
   "cell_type": "code",
   "execution_count": 13,
   "id": "7d358959",
   "metadata": {},
   "outputs": [
    {
     "data": {
      "text/plain": [
       "RandomForestClassifier(random_state=1)"
      ]
     },
     "execution_count": 13,
     "metadata": {},
     "output_type": "execute_result"
    }
   ],
   "source": [
    "# Importing RandomForestClassifier from sklearn library\n",
    "from sklearn.ensemble import RandomForestClassifier\n",
    "\n",
    "# Running the RandomForestClassifier with default parameters, but random_state=1:\n",
    "rfc = RandomForestClassifier(random_state=1)\n",
    "\n",
    "# fit model on training data:\n",
    "rfc.fit(xtrain,ytrain)"
   ]
  },
  {
   "cell_type": "code",
   "execution_count": 14,
   "id": "fcb6778a",
   "metadata": {},
   "outputs": [],
   "source": [
    "# Making predictions:\n",
    "ypred = rfc.predict(xtest)"
   ]
  },
  {
   "cell_type": "code",
   "execution_count": 15,
   "id": "cfb9b158",
   "metadata": {},
   "outputs": [
    {
     "name": "stdout",
     "output_type": "stream",
     "text": [
      "[[6631  369]\n",
      " [1297  703]]\n",
      "              precision    recall  f1-score   support\n",
      "\n",
      "           0       0.84      0.95      0.89      7000\n",
      "           1       0.66      0.35      0.46      2000\n",
      "\n",
      "    accuracy                           0.81      9000\n",
      "   macro avg       0.75      0.65      0.67      9000\n",
      "weighted avg       0.80      0.81      0.79      9000\n",
      "\n",
      "0.8148888888888889\n"
     ]
    }
   ],
   "source": [
    "# Importing classification report and confusion matrix from sklearn metrics\n",
    "from sklearn.metrics import classification_report, confusion_matrix, accuracy_score\n",
    "print(confusion_matrix(ytest,ypred))\n",
    "print(classification_report(ytest,ypred))\n",
    "print(accuracy_score(ytest,ypred))"
   ]
  },
  {
   "cell_type": "raw",
   "id": "58f490f0",
   "metadata": {},
   "source": [
    "To improve the accuracy score, tuning is important."
   ]
  },
  {
   "cell_type": "markdown",
   "id": "3259d08e",
   "metadata": {},
   "source": [
    "# Hyperparameter Tuning RandomForestClassifier"
   ]
  },
  {
   "cell_type": "raw",
   "id": "db6947ef",
   "metadata": {},
   "source": [
    "The following hyperparameters are present in a random forest classifier. Note that most of these hypereparameters are actually of the decision trees that are in the forest.\n",
    "\n",
    "n_estimators: integer, optional (default=10): The number of trees in the forest.\n",
    "\n",
    "criterion: string, optional (default=\"gini\") The function to measure the quality of a split. Supported criteria are \"gini\" for the Gini impurity and \"entropy\" for the information gain. \n",
    "Note: this parameter is tree-specific.\n",
    "\n",
    "max_features: int, float, string or None, optional (default=\"auto\") The number of features to consider when looking for the best split\n",
    "\n",
    "• If int, then consider max features features at each split.\n",
    "\n",
    "•If float, then max features is a percentage and int(max features n_features) features are considered at each split.\n",
    "\n",
    "• If \"auto\" then max features=sqrt(n_features).\n",
    "\n",
    "• If \"sqrt\" then max features=sqrt(n_features) (same as \"auto\").\n",
    "\n",
    "• If \"log2\" then max features-log2(n_features).\n",
    "\n",
    "• If None, then max features-n_features.\n",
    "\n",
    "• Note: the search for a split does not stop until at least one valid partition of the node samples is found, even if it requires to effectively inspect more than max features features.\n",
    "\n",
    "max_depth: integer or None, optional (default=None) The maximum depth of the tree. If None, then nodes are expanded until all leaves are pure or until all leaves contain less than min samples split samples.\n",
    "\n",
    "min_samples_split: int, float, optional (default=2) The minimum number of samples required to split an internal node. "
   ]
  },
  {
   "cell_type": "raw",
   "id": "413d516b",
   "metadata": {},
   "source": [
    "Tuning max_depth: Finding the optimum for max_Depth and uderstanding how the value of max_depth impacts the overall accuracy of the model."
   ]
  },
  {
   "cell_type": "code",
   "execution_count": 16,
   "id": "8b6e56e1",
   "metadata": {},
   "outputs": [
    {
     "data": {
      "text/plain": [
       "GridSearchCV(cv=5, estimator=RandomForestClassifier(random_state=1),\n",
       "             param_grid={'max_depth': range(2, 20, 5)}, return_train_score=True,\n",
       "             scoring='accuracy')"
      ]
     },
     "execution_count": 16,
     "metadata": {},
     "output_type": "execute_result"
    }
   ],
   "source": [
    "# import KFold\n",
    "from sklearn.model_selection import KFold\n",
    "\n",
    "# specify number od folds for kfold CV which is 5:\n",
    "n_folds=5\n",
    "\n",
    "# max_depth parameter with range (2,20,5):\n",
    "parameters = {\"max_depth\":range(2,20,5)}\n",
    "\n",
    "# instantiate the model RandomForestClassifier with random_state=1\n",
    "rf = RandomForestClassifier(random_state=1)\n",
    "\n",
    "# Instantiate GridSearchCV with rf, parameter, cv and scoring as accuracy and return train_test_score\n",
    "rf = GridSearchCV(rf,parameters,cv=n_folds,scoring=\"accuracy\",return_train_score=True)\n",
    "\n",
    "# fit tree on training data:\n",
    "rf.fit(xtrain,ytrain)"
   ]
  },
  {
   "cell_type": "code",
   "execution_count": 17,
   "id": "d2c09996",
   "metadata": {},
   "outputs": [
    {
     "data": {
      "text/html": [
       "<div>\n",
       "<style scoped>\n",
       "    .dataframe tbody tr th:only-of-type {\n",
       "        vertical-align: middle;\n",
       "    }\n",
       "\n",
       "    .dataframe tbody tr th {\n",
       "        vertical-align: top;\n",
       "    }\n",
       "\n",
       "    .dataframe thead th {\n",
       "        text-align: right;\n",
       "    }\n",
       "</style>\n",
       "<table border=\"1\" class=\"dataframe\">\n",
       "  <thead>\n",
       "    <tr style=\"text-align: right;\">\n",
       "      <th></th>\n",
       "      <th>mean_fit_time</th>\n",
       "      <th>std_fit_time</th>\n",
       "      <th>mean_score_time</th>\n",
       "      <th>std_score_time</th>\n",
       "      <th>param_max_depth</th>\n",
       "      <th>params</th>\n",
       "      <th>split0_test_score</th>\n",
       "      <th>split1_test_score</th>\n",
       "      <th>split2_test_score</th>\n",
       "      <th>split3_test_score</th>\n",
       "      <th>...</th>\n",
       "      <th>mean_test_score</th>\n",
       "      <th>std_test_score</th>\n",
       "      <th>rank_test_score</th>\n",
       "      <th>split0_train_score</th>\n",
       "      <th>split1_train_score</th>\n",
       "      <th>split2_train_score</th>\n",
       "      <th>split3_train_score</th>\n",
       "      <th>split4_train_score</th>\n",
       "      <th>mean_train_score</th>\n",
       "      <th>std_train_score</th>\n",
       "    </tr>\n",
       "  </thead>\n",
       "  <tbody>\n",
       "    <tr>\n",
       "      <th>0</th>\n",
       "      <td>0.796506</td>\n",
       "      <td>0.051940</td>\n",
       "      <td>0.033113</td>\n",
       "      <td>0.004415</td>\n",
       "      <td>2</td>\n",
       "      <td>{'max_depth': 2}</td>\n",
       "      <td>0.804286</td>\n",
       "      <td>0.791190</td>\n",
       "      <td>0.804286</td>\n",
       "      <td>0.809048</td>\n",
       "      <td>...</td>\n",
       "      <td>0.803048</td>\n",
       "      <td>0.006182</td>\n",
       "      <td>4</td>\n",
       "      <td>0.802440</td>\n",
       "      <td>0.807321</td>\n",
       "      <td>0.802024</td>\n",
       "      <td>0.802560</td>\n",
       "      <td>0.801012</td>\n",
       "      <td>0.803071</td>\n",
       "      <td>0.002194</td>\n",
       "    </tr>\n",
       "    <tr>\n",
       "      <th>1</th>\n",
       "      <td>2.055969</td>\n",
       "      <td>0.113339</td>\n",
       "      <td>0.049156</td>\n",
       "      <td>0.006852</td>\n",
       "      <td>7</td>\n",
       "      <td>{'max_depth': 7}</td>\n",
       "      <td>0.823333</td>\n",
       "      <td>0.810952</td>\n",
       "      <td>0.823333</td>\n",
       "      <td>0.819286</td>\n",
       "      <td>...</td>\n",
       "      <td>0.820952</td>\n",
       "      <td>0.005688</td>\n",
       "      <td>1</td>\n",
       "      <td>0.837381</td>\n",
       "      <td>0.838869</td>\n",
       "      <td>0.837560</td>\n",
       "      <td>0.839464</td>\n",
       "      <td>0.835000</td>\n",
       "      <td>0.837655</td>\n",
       "      <td>0.001541</td>\n",
       "    </tr>\n",
       "    <tr>\n",
       "      <th>2</th>\n",
       "      <td>3.185468</td>\n",
       "      <td>0.242685</td>\n",
       "      <td>0.076876</td>\n",
       "      <td>0.007889</td>\n",
       "      <td>12</td>\n",
       "      <td>{'max_depth': 12}</td>\n",
       "      <td>0.820952</td>\n",
       "      <td>0.812619</td>\n",
       "      <td>0.822857</td>\n",
       "      <td>0.819286</td>\n",
       "      <td>...</td>\n",
       "      <td>0.820810</td>\n",
       "      <td>0.005103</td>\n",
       "      <td>2</td>\n",
       "      <td>0.886548</td>\n",
       "      <td>0.891369</td>\n",
       "      <td>0.886071</td>\n",
       "      <td>0.884940</td>\n",
       "      <td>0.886369</td>\n",
       "      <td>0.887060</td>\n",
       "      <td>0.002226</td>\n",
       "    </tr>\n",
       "    <tr>\n",
       "      <th>3</th>\n",
       "      <td>4.011464</td>\n",
       "      <td>0.247274</td>\n",
       "      <td>0.106208</td>\n",
       "      <td>0.010349</td>\n",
       "      <td>17</td>\n",
       "      <td>{'max_depth': 17}</td>\n",
       "      <td>0.826190</td>\n",
       "      <td>0.809762</td>\n",
       "      <td>0.815714</td>\n",
       "      <td>0.819286</td>\n",
       "      <td>...</td>\n",
       "      <td>0.819095</td>\n",
       "      <td>0.005973</td>\n",
       "      <td>3</td>\n",
       "      <td>0.929286</td>\n",
       "      <td>0.929464</td>\n",
       "      <td>0.928869</td>\n",
       "      <td>0.927798</td>\n",
       "      <td>0.928036</td>\n",
       "      <td>0.928690</td>\n",
       "      <td>0.000665</td>\n",
       "    </tr>\n",
       "  </tbody>\n",
       "</table>\n",
       "<p>4 rows × 21 columns</p>\n",
       "</div>"
      ],
      "text/plain": [
       "   mean_fit_time  std_fit_time  mean_score_time  std_score_time  \\\n",
       "0       0.796506      0.051940         0.033113        0.004415   \n",
       "1       2.055969      0.113339         0.049156        0.006852   \n",
       "2       3.185468      0.242685         0.076876        0.007889   \n",
       "3       4.011464      0.247274         0.106208        0.010349   \n",
       "\n",
       "  param_max_depth             params  split0_test_score  split1_test_score  \\\n",
       "0               2   {'max_depth': 2}           0.804286           0.791190   \n",
       "1               7   {'max_depth': 7}           0.823333           0.810952   \n",
       "2              12  {'max_depth': 12}           0.820952           0.812619   \n",
       "3              17  {'max_depth': 17}           0.826190           0.809762   \n",
       "\n",
       "   split2_test_score  split3_test_score  ...  mean_test_score  std_test_score  \\\n",
       "0           0.804286           0.809048  ...         0.803048        0.006182   \n",
       "1           0.823333           0.819286  ...         0.820952        0.005688   \n",
       "2           0.822857           0.819286  ...         0.820810        0.005103   \n",
       "3           0.815714           0.819286  ...         0.819095        0.005973   \n",
       "\n",
       "   rank_test_score  split0_train_score  split1_train_score  \\\n",
       "0                4            0.802440            0.807321   \n",
       "1                1            0.837381            0.838869   \n",
       "2                2            0.886548            0.891369   \n",
       "3                3            0.929286            0.929464   \n",
       "\n",
       "   split2_train_score  split3_train_score  split4_train_score  \\\n",
       "0            0.802024            0.802560            0.801012   \n",
       "1            0.837560            0.839464            0.835000   \n",
       "2            0.886071            0.884940            0.886369   \n",
       "3            0.928869            0.927798            0.928036   \n",
       "\n",
       "   mean_train_score  std_train_score  \n",
       "0          0.803071         0.002194  \n",
       "1          0.837655         0.001541  \n",
       "2          0.887060         0.002226  \n",
       "3          0.928690         0.000665  \n",
       "\n",
       "[4 rows x 21 columns]"
      ]
     },
     "execution_count": 17,
     "metadata": {},
     "output_type": "execute_result"
    }
   ],
   "source": [
    "# Scores of GridSearchCV:\n",
    "scores = rf.cv_results_\n",
    "pd.DataFrame(scores).head()"
   ]
  },
  {
   "cell_type": "code",
   "execution_count": 18,
   "id": "74872c8b",
   "metadata": {},
   "outputs": [
    {
     "data": {
      "image/png": "[encoded data removed]",
      "text/plain": [
       "<Figure size 640x480 with 1 Axes>"
      ]
     },
     "metadata": {},
     "output_type": "display_data"
    }
   ],
   "source": [
    "# plotting accuracies with max_depth:\n",
    "plt.figure()\n",
    "plt.plot(scores[\"param_max_depth\"],\n",
    "         scores[\"mean_train_score\"],\n",
    "         label=\"training accuracy\")\n",
    "plt.plot(scores[\"param_max_depth\"],\n",
    "         scores[\"mean_test_score\"],\n",
    "         label=\"test accuracy\")\n",
    "plt.xlabel(\"max_depth\")\n",
    "plt.ylabel(\"Accuracy\")\n",
    "plt.legend()\n",
    "plt.show()"
   ]
  },
  {
   "cell_type": "raw",
   "id": "77d04fa6",
   "metadata": {},
   "source": [
    "As seen in the graph increase in the value of max_depth, both train and test scores increase till a point, but after that test score starts to decrease. The ensemble tries to overfit as we increase the max_depth.\n",
    "\n",
    "Thus, controlling the depth of the constituent trees will help reduce overfitting in the forest.\n",
    "\n",
    "Next finding the optimum values for n_estimators and understanding how the value of n_estimators impacts the overall accuracy. \n",
    "\n",
    "Low value of max_depth will be appropriate, so that the trees do not overfit."
   ]
  },
  {
   "cell_type": "raw",
   "id": "ee568e0d",
   "metadata": {},
   "source": [
    "Tuning n_estimaors:"
   ]
  },
  {
   "cell_type": "code",
   "execution_count": 19,
   "id": "9f96dc30",
   "metadata": {},
   "outputs": [
    {
     "data": {
      "text/plain": [
       "GridSearchCV(cv=5,\n",
       "             estimator=RandomForestClassifier(max_depth=6, random_state=1),\n",
       "             param_grid={'n_estimators': range(100, 1500, 400)},\n",
       "             return_train_score=True, scoring='accuracy')"
      ]
     },
     "execution_count": 19,
     "metadata": {},
     "output_type": "execute_result"
    }
   ],
   "source": [
    "# parameters to build the model on (here n estimators with range(100, 1500, 400)) \n",
    "parameters = {'n_estimators': range(100, 1500, 400)}\n",
    "\n",
    "# Instantiating the model (note we are specifying a max depth as 4) and random_state as 1 \n",
    "rf = RandomForestClassifier(max_depth=6, random_state=1)\n",
    "\n",
    "#Instantiating GridSearchCWwith rf, parameter, cv and scoring as accuracy and return_train_score as True \n",
    "rf = GridSearchCV(rf,parameters,cv=n_folds,scoring=\"accuracy\",return_train_score=True)\n",
    "\n",
    "# Fitting tree on training data\n",
    "rf.fit(xtrain,ytrain)"
   ]
  },
  {
   "cell_type": "code",
   "execution_count": 20,
   "id": "436b26c5",
   "metadata": {},
   "outputs": [
    {
     "data": {
      "text/html": [
       "<div>\n",
       "<style scoped>\n",
       "    .dataframe tbody tr th:only-of-type {\n",
       "        vertical-align: middle;\n",
       "    }\n",
       "\n",
       "    .dataframe tbody tr th {\n",
       "        vertical-align: top;\n",
       "    }\n",
       "\n",
       "    .dataframe thead th {\n",
       "        text-align: right;\n",
       "    }\n",
       "</style>\n",
       "<table border=\"1\" class=\"dataframe\">\n",
       "  <thead>\n",
       "    <tr style=\"text-align: right;\">\n",
       "      <th></th>\n",
       "      <th>mean_fit_time</th>\n",
       "      <th>std_fit_time</th>\n",
       "      <th>mean_score_time</th>\n",
       "      <th>std_score_time</th>\n",
       "      <th>param_n_estimators</th>\n",
       "      <th>params</th>\n",
       "      <th>split0_test_score</th>\n",
       "      <th>split1_test_score</th>\n",
       "      <th>split2_test_score</th>\n",
       "      <th>split3_test_score</th>\n",
       "      <th>...</th>\n",
       "      <th>mean_test_score</th>\n",
       "      <th>std_test_score</th>\n",
       "      <th>rank_test_score</th>\n",
       "      <th>split0_train_score</th>\n",
       "      <th>split1_train_score</th>\n",
       "      <th>split2_train_score</th>\n",
       "      <th>split3_train_score</th>\n",
       "      <th>split4_train_score</th>\n",
       "      <th>mean_train_score</th>\n",
       "      <th>std_train_score</th>\n",
       "    </tr>\n",
       "  </thead>\n",
       "  <tbody>\n",
       "    <tr>\n",
       "      <th>0</th>\n",
       "      <td>1.808162</td>\n",
       "      <td>0.043639</td>\n",
       "      <td>0.051625</td>\n",
       "      <td>0.010966</td>\n",
       "      <td>100</td>\n",
       "      <td>{'n_estimators': 100}</td>\n",
       "      <td>0.820000</td>\n",
       "      <td>0.808810</td>\n",
       "      <td>0.821667</td>\n",
       "      <td>0.817857</td>\n",
       "      <td>...</td>\n",
       "      <td>0.819000</td>\n",
       "      <td>0.005866</td>\n",
       "      <td>1</td>\n",
       "      <td>0.828393</td>\n",
       "      <td>0.831905</td>\n",
       "      <td>0.830298</td>\n",
       "      <td>0.829643</td>\n",
       "      <td>0.829405</td>\n",
       "      <td>0.829929</td>\n",
       "      <td>0.001162</td>\n",
       "    </tr>\n",
       "    <tr>\n",
       "      <th>1</th>\n",
       "      <td>9.265852</td>\n",
       "      <td>0.310345</td>\n",
       "      <td>0.216899</td>\n",
       "      <td>0.021747</td>\n",
       "      <td>500</td>\n",
       "      <td>{'n_estimators': 500}</td>\n",
       "      <td>0.822143</td>\n",
       "      <td>0.808810</td>\n",
       "      <td>0.815952</td>\n",
       "      <td>0.818095</td>\n",
       "      <td>...</td>\n",
       "      <td>0.817810</td>\n",
       "      <td>0.005333</td>\n",
       "      <td>4</td>\n",
       "      <td>0.828750</td>\n",
       "      <td>0.830536</td>\n",
       "      <td>0.828036</td>\n",
       "      <td>0.829821</td>\n",
       "      <td>0.826488</td>\n",
       "      <td>0.828726</td>\n",
       "      <td>0.001411</td>\n",
       "    </tr>\n",
       "    <tr>\n",
       "      <th>2</th>\n",
       "      <td>16.372592</td>\n",
       "      <td>0.277364</td>\n",
       "      <td>0.376662</td>\n",
       "      <td>0.024466</td>\n",
       "      <td>900</td>\n",
       "      <td>{'n_estimators': 900}</td>\n",
       "      <td>0.822619</td>\n",
       "      <td>0.809048</td>\n",
       "      <td>0.816667</td>\n",
       "      <td>0.818810</td>\n",
       "      <td>...</td>\n",
       "      <td>0.818286</td>\n",
       "      <td>0.005348</td>\n",
       "      <td>2</td>\n",
       "      <td>0.828631</td>\n",
       "      <td>0.831964</td>\n",
       "      <td>0.828333</td>\n",
       "      <td>0.831190</td>\n",
       "      <td>0.826488</td>\n",
       "      <td>0.829321</td>\n",
       "      <td>0.001998</td>\n",
       "    </tr>\n",
       "    <tr>\n",
       "      <th>3</th>\n",
       "      <td>23.071417</td>\n",
       "      <td>0.370947</td>\n",
       "      <td>0.541169</td>\n",
       "      <td>0.051710</td>\n",
       "      <td>1300</td>\n",
       "      <td>{'n_estimators': 1300}</td>\n",
       "      <td>0.821905</td>\n",
       "      <td>0.809048</td>\n",
       "      <td>0.816429</td>\n",
       "      <td>0.819524</td>\n",
       "      <td>...</td>\n",
       "      <td>0.818238</td>\n",
       "      <td>0.005280</td>\n",
       "      <td>3</td>\n",
       "      <td>0.829702</td>\n",
       "      <td>0.831786</td>\n",
       "      <td>0.827560</td>\n",
       "      <td>0.831310</td>\n",
       "      <td>0.826667</td>\n",
       "      <td>0.829405</td>\n",
       "      <td>0.002014</td>\n",
       "    </tr>\n",
       "  </tbody>\n",
       "</table>\n",
       "<p>4 rows × 21 columns</p>\n",
       "</div>"
      ],
      "text/plain": [
       "   mean_fit_time  std_fit_time  mean_score_time  std_score_time  \\\n",
       "0       1.808162      0.043639         0.051625        0.010966   \n",
       "1       9.265852      0.310345         0.216899        0.021747   \n",
       "2      16.372592      0.277364         0.376662        0.024466   \n",
       "3      23.071417      0.370947         0.541169        0.051710   \n",
       "\n",
       "  param_n_estimators                  params  split0_test_score  \\\n",
       "0                100   {'n_estimators': 100}           0.820000   \n",
       "1                500   {'n_estimators': 500}           0.822143   \n",
       "2                900   {'n_estimators': 900}           0.822619   \n",
       "3               1300  {'n_estimators': 1300}           0.821905   \n",
       "\n",
       "   split1_test_score  split2_test_score  split3_test_score  ...  \\\n",
       "0           0.808810           0.821667           0.817857  ...   \n",
       "1           0.808810           0.815952           0.818095  ...   \n",
       "2           0.809048           0.816667           0.818810  ...   \n",
       "3           0.809048           0.816429           0.819524  ...   \n",
       "\n",
       "   mean_test_score  std_test_score  rank_test_score  split0_train_score  \\\n",
       "0         0.819000        0.005866                1            0.828393   \n",
       "1         0.817810        0.005333                4            0.828750   \n",
       "2         0.818286        0.005348                2            0.828631   \n",
       "3         0.818238        0.005280                3            0.829702   \n",
       "\n",
       "   split1_train_score  split2_train_score  split3_train_score  \\\n",
       "0            0.831905            0.830298            0.829643   \n",
       "1            0.830536            0.828036            0.829821   \n",
       "2            0.831964            0.828333            0.831190   \n",
       "3            0.831786            0.827560            0.831310   \n",
       "\n",
       "   split4_train_score  mean_train_score  std_train_score  \n",
       "0            0.829405          0.829929         0.001162  \n",
       "1            0.826488          0.828726         0.001411  \n",
       "2            0.826488          0.829321         0.001998  \n",
       "3            0.826667          0.829405         0.002014  \n",
       "\n",
       "[4 rows x 21 columns]"
      ]
     },
     "execution_count": 20,
     "metadata": {},
     "output_type": "execute_result"
    }
   ],
   "source": [
    "# scores of GridSearchCV\n",
    "scores = rf.cv_results_\n",
    "pd.DataFrame(scores).head()"
   ]
  },
  {
   "cell_type": "code",
   "execution_count": 21,
   "id": "42236e16",
   "metadata": {},
   "outputs": [
    {
     "data": {
      "image/png": "[encoded data removed]",
      "text/plain": [
       "<Figure size 640x480 with 1 Axes>"
      ]
     },
     "metadata": {},
     "output_type": "display_data"
    }
   ],
   "source": [
    "# plotting accuracies with n_estimators:\n",
    "plt.figure()\n",
    "plt.plot(scores[\"param_n_estimators\"],\n",
    "         scores[\"mean_train_score\"],\n",
    "         label=\"training accuracy\")\n",
    "plt.plot(scores[\"param_n_estimators\"],\n",
    "         scores[\"mean_test_score\"],\n",
    "         label=\"test accuracy\")\n",
    "plt.xlabel(\"n_estimators\")\n",
    "plt.ylabel(\"Accuracy\")\n",
    "plt.legend()\n",
    "plt.show()"
   ]
  },
  {
   "cell_type": "raw",
   "id": "349b52c9",
   "metadata": {},
   "source": [
    "Tuning max_features: Checking which is the maximum number of features consdered for splitting at the node."
   ]
  },
  {
   "cell_type": "code",
   "execution_count": 22,
   "id": "e6cfe351",
   "metadata": {},
   "outputs": [
    {
     "data": {
      "text/plain": [
       "GridSearchCV(cv=5,\n",
       "             estimator=RandomForestClassifier(max_depth=6, random_state=1),\n",
       "             param_grid={'max_features': [4, 8, 14, 20, 24]},\n",
       "             return_train_score=True, scoring='accuracy')"
      ]
     },
     "execution_count": 22,
     "metadata": {},
     "output_type": "execute_result"
    }
   ],
   "source": [
    "# parameters to build the model on max_features with [4, 8, 14, 20, 24]\n",
    "parameters = {'max_features': [4, 8, 14, 20, 24]}\n",
    "\n",
    "# Instantiating the model (note we are specifying max_depth as 6) and random_state as 1\n",
    "rf = RandomForestClassifier(max_depth=6, random_state=1)\n",
    "\n",
    "# Instantiating GridSearchCV with rf, parameters, cv, scoring as accuracy, and return_train_score as True\n",
    "rf = GridSearchCV(rf, parameters, cv=n_folds, scoring=\"accuracy\", return_train_score=True)\n",
    "\n",
    "# Fitting the grid search on training data\n",
    "rf.fit(xtrain, ytrain)"
   ]
  },
  {
   "cell_type": "code",
   "execution_count": 23,
   "id": "c61cc9ec",
   "metadata": {},
   "outputs": [
    {
     "data": {
      "text/html": [
       "<div>\n",
       "<style scoped>\n",
       "    .dataframe tbody tr th:only-of-type {\n",
       "        vertical-align: middle;\n",
       "    }\n",
       "\n",
       "    .dataframe tbody tr th {\n",
       "        vertical-align: top;\n",
       "    }\n",
       "\n",
       "    .dataframe thead th {\n",
       "        text-align: right;\n",
       "    }\n",
       "</style>\n",
       "<table border=\"1\" class=\"dataframe\">\n",
       "  <thead>\n",
       "    <tr style=\"text-align: right;\">\n",
       "      <th></th>\n",
       "      <th>mean_fit_time</th>\n",
       "      <th>std_fit_time</th>\n",
       "      <th>mean_score_time</th>\n",
       "      <th>std_score_time</th>\n",
       "      <th>param_max_features</th>\n",
       "      <th>params</th>\n",
       "      <th>split0_test_score</th>\n",
       "      <th>split1_test_score</th>\n",
       "      <th>split2_test_score</th>\n",
       "      <th>split3_test_score</th>\n",
       "      <th>...</th>\n",
       "      <th>mean_test_score</th>\n",
       "      <th>std_test_score</th>\n",
       "      <th>rank_test_score</th>\n",
       "      <th>split0_train_score</th>\n",
       "      <th>split1_train_score</th>\n",
       "      <th>split2_train_score</th>\n",
       "      <th>split3_train_score</th>\n",
       "      <th>split4_train_score</th>\n",
       "      <th>mean_train_score</th>\n",
       "      <th>std_train_score</th>\n",
       "    </tr>\n",
       "  </thead>\n",
       "  <tbody>\n",
       "    <tr>\n",
       "      <th>0</th>\n",
       "      <td>1.819424</td>\n",
       "      <td>0.100937</td>\n",
       "      <td>0.048927</td>\n",
       "      <td>0.011323</td>\n",
       "      <td>4</td>\n",
       "      <td>{'max_features': 4}</td>\n",
       "      <td>0.820000</td>\n",
       "      <td>0.808810</td>\n",
       "      <td>0.821667</td>\n",
       "      <td>0.817857</td>\n",
       "      <td>...</td>\n",
       "      <td>0.819000</td>\n",
       "      <td>0.005866</td>\n",
       "      <td>5</td>\n",
       "      <td>0.828393</td>\n",
       "      <td>0.831905</td>\n",
       "      <td>0.830298</td>\n",
       "      <td>0.829643</td>\n",
       "      <td>0.829405</td>\n",
       "      <td>0.829929</td>\n",
       "      <td>0.001162</td>\n",
       "    </tr>\n",
       "    <tr>\n",
       "      <th>1</th>\n",
       "      <td>3.229767</td>\n",
       "      <td>0.161011</td>\n",
       "      <td>0.048969</td>\n",
       "      <td>0.002934</td>\n",
       "      <td>8</td>\n",
       "      <td>{'max_features': 8}</td>\n",
       "      <td>0.822381</td>\n",
       "      <td>0.813333</td>\n",
       "      <td>0.823810</td>\n",
       "      <td>0.819762</td>\n",
       "      <td>...</td>\n",
       "      <td>0.822143</td>\n",
       "      <td>0.005871</td>\n",
       "      <td>3</td>\n",
       "      <td>0.830655</td>\n",
       "      <td>0.832679</td>\n",
       "      <td>0.831012</td>\n",
       "      <td>0.832798</td>\n",
       "      <td>0.830238</td>\n",
       "      <td>0.831476</td>\n",
       "      <td>0.001060</td>\n",
       "    </tr>\n",
       "    <tr>\n",
       "      <th>2</th>\n",
       "      <td>5.325886</td>\n",
       "      <td>0.209652</td>\n",
       "      <td>0.043737</td>\n",
       "      <td>0.006250</td>\n",
       "      <td>14</td>\n",
       "      <td>{'max_features': 14}</td>\n",
       "      <td>0.823810</td>\n",
       "      <td>0.814524</td>\n",
       "      <td>0.823095</td>\n",
       "      <td>0.819286</td>\n",
       "      <td>...</td>\n",
       "      <td>0.822333</td>\n",
       "      <td>0.005428</td>\n",
       "      <td>2</td>\n",
       "      <td>0.831786</td>\n",
       "      <td>0.834167</td>\n",
       "      <td>0.832083</td>\n",
       "      <td>0.835417</td>\n",
       "      <td>0.830714</td>\n",
       "      <td>0.832833</td>\n",
       "      <td>0.001709</td>\n",
       "    </tr>\n",
       "    <tr>\n",
       "      <th>3</th>\n",
       "      <td>7.465835</td>\n",
       "      <td>0.258326</td>\n",
       "      <td>0.037488</td>\n",
       "      <td>0.007650</td>\n",
       "      <td>20</td>\n",
       "      <td>{'max_features': 20}</td>\n",
       "      <td>0.823333</td>\n",
       "      <td>0.814762</td>\n",
       "      <td>0.824762</td>\n",
       "      <td>0.818571</td>\n",
       "      <td>...</td>\n",
       "      <td>0.822571</td>\n",
       "      <td>0.005671</td>\n",
       "      <td>1</td>\n",
       "      <td>0.832738</td>\n",
       "      <td>0.834643</td>\n",
       "      <td>0.832798</td>\n",
       "      <td>0.836607</td>\n",
       "      <td>0.831786</td>\n",
       "      <td>0.833714</td>\n",
       "      <td>0.001717</td>\n",
       "    </tr>\n",
       "    <tr>\n",
       "      <th>4</th>\n",
       "      <td>8.878488</td>\n",
       "      <td>0.237185</td>\n",
       "      <td>0.040609</td>\n",
       "      <td>0.007661</td>\n",
       "      <td>24</td>\n",
       "      <td>{'max_features': 24}</td>\n",
       "      <td>0.822381</td>\n",
       "      <td>0.815000</td>\n",
       "      <td>0.823095</td>\n",
       "      <td>0.820238</td>\n",
       "      <td>...</td>\n",
       "      <td>0.822095</td>\n",
       "      <td>0.004768</td>\n",
       "      <td>4</td>\n",
       "      <td>0.833869</td>\n",
       "      <td>0.835179</td>\n",
       "      <td>0.833274</td>\n",
       "      <td>0.837321</td>\n",
       "      <td>0.832083</td>\n",
       "      <td>0.834345</td>\n",
       "      <td>0.001791</td>\n",
       "    </tr>\n",
       "  </tbody>\n",
       "</table>\n",
       "<p>5 rows × 21 columns</p>\n",
       "</div>"
      ],
      "text/plain": [
       "   mean_fit_time  std_fit_time  mean_score_time  std_score_time  \\\n",
       "0       1.819424      0.100937         0.048927        0.011323   \n",
       "1       3.229767      0.161011         0.048969        0.002934   \n",
       "2       5.325886      0.209652         0.043737        0.006250   \n",
       "3       7.465835      0.258326         0.037488        0.007650   \n",
       "4       8.878488      0.237185         0.040609        0.007661   \n",
       "\n",
       "  param_max_features                params  split0_test_score  \\\n",
       "0                  4   {'max_features': 4}           0.820000   \n",
       "1                  8   {'max_features': 8}           0.822381   \n",
       "2                 14  {'max_features': 14}           0.823810   \n",
       "3                 20  {'max_features': 20}           0.823333   \n",
       "4                 24  {'max_features': 24}           0.822381   \n",
       "\n",
       "   split1_test_score  split2_test_score  split3_test_score  ...  \\\n",
       "0           0.808810           0.821667           0.817857  ...   \n",
       "1           0.813333           0.823810           0.819762  ...   \n",
       "2           0.814524           0.823095           0.819286  ...   \n",
       "3           0.814762           0.824762           0.818571  ...   \n",
       "4           0.815000           0.823095           0.820238  ...   \n",
       "\n",
       "   mean_test_score  std_test_score  rank_test_score  split0_train_score  \\\n",
       "0         0.819000        0.005866                5            0.828393   \n",
       "1         0.822143        0.005871                3            0.830655   \n",
       "2         0.822333        0.005428                2            0.831786   \n",
       "3         0.822571        0.005671                1            0.832738   \n",
       "4         0.822095        0.004768                4            0.833869   \n",
       "\n",
       "   split1_train_score  split2_train_score  split3_train_score  \\\n",
       "0            0.831905            0.830298            0.829643   \n",
       "1            0.832679            0.831012            0.832798   \n",
       "2            0.834167            0.832083            0.835417   \n",
       "3            0.834643            0.832798            0.836607   \n",
       "4            0.835179            0.833274            0.837321   \n",
       "\n",
       "   split4_train_score  mean_train_score  std_train_score  \n",
       "0            0.829405          0.829929         0.001162  \n",
       "1            0.830238          0.831476         0.001060  \n",
       "2            0.830714          0.832833         0.001709  \n",
       "3            0.831786          0.833714         0.001717  \n",
       "4            0.832083          0.834345         0.001791  \n",
       "\n",
       "[5 rows x 21 columns]"
      ]
     },
     "execution_count": 23,
     "metadata": {},
     "output_type": "execute_result"
    }
   ],
   "source": [
    "# scores of GridSearchCV\n",
    "scores = rf.cv_results_\n",
    "pd.DataFrame(scores).head()"
   ]
  },
  {
   "cell_type": "code",
   "execution_count": 24,
   "id": "1b986947",
   "metadata": {},
   "outputs": [
    {
     "data": {
      "image/png": "[encoded data removed]",
      "text/plain": [
       "<Figure size 640x480 with 1 Axes>"
      ]
     },
     "metadata": {},
     "output_type": "display_data"
    }
   ],
   "source": [
    "# plotting accuracies with max_features:\n",
    "plt.figure()\n",
    "plt.plot(scores[\"param_max_features\"],\n",
    "         scores[\"mean_train_score\"],\n",
    "         label=\"training accuracy\")\n",
    "plt.plot(scores[\"param_max_features\"],\n",
    "         scores[\"mean_test_score\"],\n",
    "         label=\"test accuracy\")\n",
    "plt.xlabel(\"max_features\")\n",
    "plt.ylabel(\"Accuracy\")\n",
    "plt.legend()\n",
    "plt.show()"
   ]
  },
  {
   "cell_type": "raw",
   "id": "2c4f2ff2",
   "metadata": {},
   "source": [
    "The Training and Testing score both seems to increase as we increase max_features except at the last. So there's just slight overfitting"
   ]
  },
  {
   "cell_type": "raw",
   "id": "986d5d71",
   "metadata": {},
   "source": [
    "Tuning min_samples_leaf: \n",
    "The hyperparameter min_samples_leaf is the minimum number of samples required to be at a leaf node:\n",
    "\n",
    "• If int, then consider min samples leaf as the minimum number.\n",
    "\n",
    "• If float, then min samples_leaf is a percentage and ceil(min_samples_leaf*n_samples) are the minimum number of samples for each node"
   ]
  },
  {
   "cell_type": "code",
   "execution_count": 25,
   "id": "0e69b931",
   "metadata": {},
   "outputs": [
    {
     "data": {
      "text/plain": [
       "GridSearchCV(cv=5, estimator=RandomForestClassifier(random_state=1),\n",
       "             param_grid={'min_samples_leaf': range(100, 400, 50)},\n",
       "             return_train_score=True, scoring='accuracy')"
      ]
     },
     "execution_count": 25,
     "metadata": {},
     "output_type": "execute_result"
    }
   ],
   "source": [
    "# parameters to build the model on min_samples_leaf of range (100,400,50)\n",
    "parameters = {'min_samples_leaf': range(100,400,50)}\n",
    "\n",
    "# Instantiating the model (not specifying any max_depth) and random_state as 1\n",
    "rf = RandomForestClassifier(random_state=1)\n",
    "\n",
    "# Instantiating GridSearchCV with rf, parameters, cv, scoring as accuracy, and return_train_score as True\n",
    "rf = GridSearchCV(rf, parameters, cv=n_folds, scoring=\"accuracy\", return_train_score=True)\n",
    "\n",
    "# Fitting the grid search on training data\n",
    "rf.fit(xtrain, ytrain)"
   ]
  },
  {
   "cell_type": "code",
   "execution_count": 26,
   "id": "e598b8c9",
   "metadata": {},
   "outputs": [
    {
     "data": {
      "text/html": [
       "<div>\n",
       "<style scoped>\n",
       "    .dataframe tbody tr th:only-of-type {\n",
       "        vertical-align: middle;\n",
       "    }\n",
       "\n",
       "    .dataframe tbody tr th {\n",
       "        vertical-align: top;\n",
       "    }\n",
       "\n",
       "    .dataframe thead th {\n",
       "        text-align: right;\n",
       "    }\n",
       "</style>\n",
       "<table border=\"1\" class=\"dataframe\">\n",
       "  <thead>\n",
       "    <tr style=\"text-align: right;\">\n",
       "      <th></th>\n",
       "      <th>mean_fit_time</th>\n",
       "      <th>std_fit_time</th>\n",
       "      <th>mean_score_time</th>\n",
       "      <th>std_score_time</th>\n",
       "      <th>param_min_samples_leaf</th>\n",
       "      <th>params</th>\n",
       "      <th>split0_test_score</th>\n",
       "      <th>split1_test_score</th>\n",
       "      <th>split2_test_score</th>\n",
       "      <th>split3_test_score</th>\n",
       "      <th>...</th>\n",
       "      <th>mean_test_score</th>\n",
       "      <th>std_test_score</th>\n",
       "      <th>rank_test_score</th>\n",
       "      <th>split0_train_score</th>\n",
       "      <th>split1_train_score</th>\n",
       "      <th>split2_train_score</th>\n",
       "      <th>split3_train_score</th>\n",
       "      <th>split4_train_score</th>\n",
       "      <th>mean_train_score</th>\n",
       "      <th>std_train_score</th>\n",
       "    </tr>\n",
       "  </thead>\n",
       "  <tbody>\n",
       "    <tr>\n",
       "      <th>0</th>\n",
       "      <td>2.437391</td>\n",
       "      <td>0.034993</td>\n",
       "      <td>0.059229</td>\n",
       "      <td>0.006191</td>\n",
       "      <td>100</td>\n",
       "      <td>{'min_samples_leaf': 100}</td>\n",
       "      <td>0.819048</td>\n",
       "      <td>0.805476</td>\n",
       "      <td>0.821190</td>\n",
       "      <td>0.818571</td>\n",
       "      <td>...</td>\n",
       "      <td>0.818238</td>\n",
       "      <td>0.007035</td>\n",
       "      <td>1</td>\n",
       "      <td>0.819940</td>\n",
       "      <td>0.823810</td>\n",
       "      <td>0.822976</td>\n",
       "      <td>0.823333</td>\n",
       "      <td>0.820060</td>\n",
       "      <td>0.822024</td>\n",
       "      <td>0.001674</td>\n",
       "    </tr>\n",
       "    <tr>\n",
       "      <th>1</th>\n",
       "      <td>2.223548</td>\n",
       "      <td>0.117513</td>\n",
       "      <td>0.053111</td>\n",
       "      <td>0.007653</td>\n",
       "      <td>150</td>\n",
       "      <td>{'min_samples_leaf': 150}</td>\n",
       "      <td>0.817857</td>\n",
       "      <td>0.803571</td>\n",
       "      <td>0.815952</td>\n",
       "      <td>0.819048</td>\n",
       "      <td>...</td>\n",
       "      <td>0.816571</td>\n",
       "      <td>0.007407</td>\n",
       "      <td>2</td>\n",
       "      <td>0.815655</td>\n",
       "      <td>0.816369</td>\n",
       "      <td>0.817619</td>\n",
       "      <td>0.820000</td>\n",
       "      <td>0.816548</td>\n",
       "      <td>0.817238</td>\n",
       "      <td>0.001517</td>\n",
       "    </tr>\n",
       "    <tr>\n",
       "      <th>2</th>\n",
       "      <td>2.087311</td>\n",
       "      <td>0.113313</td>\n",
       "      <td>0.055528</td>\n",
       "      <td>0.008592</td>\n",
       "      <td>200</td>\n",
       "      <td>{'min_samples_leaf': 200}</td>\n",
       "      <td>0.814048</td>\n",
       "      <td>0.802381</td>\n",
       "      <td>0.813333</td>\n",
       "      <td>0.814048</td>\n",
       "      <td>...</td>\n",
       "      <td>0.812571</td>\n",
       "      <td>0.005490</td>\n",
       "      <td>3</td>\n",
       "      <td>0.813452</td>\n",
       "      <td>0.816071</td>\n",
       "      <td>0.812976</td>\n",
       "      <td>0.811845</td>\n",
       "      <td>0.811488</td>\n",
       "      <td>0.813167</td>\n",
       "      <td>0.001620</td>\n",
       "    </tr>\n",
       "    <tr>\n",
       "      <th>3</th>\n",
       "      <td>1.927922</td>\n",
       "      <td>0.101375</td>\n",
       "      <td>0.048019</td>\n",
       "      <td>0.002318</td>\n",
       "      <td>250</td>\n",
       "      <td>{'min_samples_leaf': 250}</td>\n",
       "      <td>0.813333</td>\n",
       "      <td>0.800714</td>\n",
       "      <td>0.811667</td>\n",
       "      <td>0.814762</td>\n",
       "      <td>...</td>\n",
       "      <td>0.811905</td>\n",
       "      <td>0.006108</td>\n",
       "      <td>4</td>\n",
       "      <td>0.813333</td>\n",
       "      <td>0.815595</td>\n",
       "      <td>0.811429</td>\n",
       "      <td>0.812321</td>\n",
       "      <td>0.811310</td>\n",
       "      <td>0.812798</td>\n",
       "      <td>0.001577</td>\n",
       "    </tr>\n",
       "    <tr>\n",
       "      <th>4</th>\n",
       "      <td>1.796765</td>\n",
       "      <td>0.036449</td>\n",
       "      <td>0.048713</td>\n",
       "      <td>0.003710</td>\n",
       "      <td>300</td>\n",
       "      <td>{'min_samples_leaf': 300}</td>\n",
       "      <td>0.812619</td>\n",
       "      <td>0.799286</td>\n",
       "      <td>0.809048</td>\n",
       "      <td>0.814762</td>\n",
       "      <td>...</td>\n",
       "      <td>0.810857</td>\n",
       "      <td>0.006558</td>\n",
       "      <td>5</td>\n",
       "      <td>0.811607</td>\n",
       "      <td>0.813988</td>\n",
       "      <td>0.809940</td>\n",
       "      <td>0.811667</td>\n",
       "      <td>0.810000</td>\n",
       "      <td>0.811440</td>\n",
       "      <td>0.001476</td>\n",
       "    </tr>\n",
       "  </tbody>\n",
       "</table>\n",
       "<p>5 rows × 21 columns</p>\n",
       "</div>"
      ],
      "text/plain": [
       "   mean_fit_time  std_fit_time  mean_score_time  std_score_time  \\\n",
       "0       2.437391      0.034993         0.059229        0.006191   \n",
       "1       2.223548      0.117513         0.053111        0.007653   \n",
       "2       2.087311      0.113313         0.055528        0.008592   \n",
       "3       1.927922      0.101375         0.048019        0.002318   \n",
       "4       1.796765      0.036449         0.048713        0.003710   \n",
       "\n",
       "  param_min_samples_leaf                     params  split0_test_score  \\\n",
       "0                    100  {'min_samples_leaf': 100}           0.819048   \n",
       "1                    150  {'min_samples_leaf': 150}           0.817857   \n",
       "2                    200  {'min_samples_leaf': 200}           0.814048   \n",
       "3                    250  {'min_samples_leaf': 250}           0.813333   \n",
       "4                    300  {'min_samples_leaf': 300}           0.812619   \n",
       "\n",
       "   split1_test_score  split2_test_score  split3_test_score  ...  \\\n",
       "0           0.805476           0.821190           0.818571  ...   \n",
       "1           0.803571           0.815952           0.819048  ...   \n",
       "2           0.802381           0.813333           0.814048  ...   \n",
       "3           0.800714           0.811667           0.814762  ...   \n",
       "4           0.799286           0.809048           0.814762  ...   \n",
       "\n",
       "   mean_test_score  std_test_score  rank_test_score  split0_train_score  \\\n",
       "0         0.818238        0.007035                1            0.819940   \n",
       "1         0.816571        0.007407                2            0.815655   \n",
       "2         0.812571        0.005490                3            0.813452   \n",
       "3         0.811905        0.006108                4            0.813333   \n",
       "4         0.810857        0.006558                5            0.811607   \n",
       "\n",
       "   split1_train_score  split2_train_score  split3_train_score  \\\n",
       "0            0.823810            0.822976            0.823333   \n",
       "1            0.816369            0.817619            0.820000   \n",
       "2            0.816071            0.812976            0.811845   \n",
       "3            0.815595            0.811429            0.812321   \n",
       "4            0.813988            0.809940            0.811667   \n",
       "\n",
       "   split4_train_score  mean_train_score  std_train_score  \n",
       "0            0.820060          0.822024         0.001674  \n",
       "1            0.816548          0.817238         0.001517  \n",
       "2            0.811488          0.813167         0.001620  \n",
       "3            0.811310          0.812798         0.001577  \n",
       "4            0.810000          0.811440         0.001476  \n",
       "\n",
       "[5 rows x 21 columns]"
      ]
     },
     "execution_count": 26,
     "metadata": {},
     "output_type": "execute_result"
    }
   ],
   "source": [
    "# scores of GridSearchCV\n",
    "scores = rf.cv_results_\n",
    "pd.DataFrame(scores).head()"
   ]
  },
  {
   "cell_type": "code",
   "execution_count": 28,
   "id": "92f4899c",
   "metadata": {},
   "outputs": [
    {
     "data": {
      "image/png": "[encoded data removed]",
      "text/plain": [
       "<Figure size 640x480 with 1 Axes>"
      ]
     },
     "metadata": {},
     "output_type": "display_data"
    }
   ],
   "source": [
    "# plotting accuracies with min_samples_leaf:\n",
    "plt.figure()\n",
    "plt.plot(scores[\"param_min_samples_leaf\"],\n",
    "         scores[\"mean_train_score\"],\n",
    "         label=\"training accuracy\")\n",
    "plt.plot(scores[\"param_min_samples_leaf\"],\n",
    "         scores[\"mean_test_score\"],\n",
    "         label=\"test accuracy\")\n",
    "plt.xlabel(\"min_samples_leaf\")\n",
    "plt.ylabel(\"Accuracy\")\n",
    "plt.legend()\n",
    "plt.show()"
   ]
  },
  {
   "cell_type": "raw",
   "id": "51d83598",
   "metadata": {},
   "source": [
    "Model starts to overfit as the value of min_samples_leaf decreases."
   ]
  },
  {
   "cell_type": "raw",
   "id": "771ba092",
   "metadata": {},
   "source": [
    "Tuning min_samples_split:"
   ]
  },
  {
   "cell_type": "code",
   "execution_count": 29,
   "id": "6f7dc09f",
   "metadata": {},
   "outputs": [
    {
     "data": {
      "text/plain": [
       "GridSearchCV(cv=5, estimator=RandomForestClassifier(random_state=1),\n",
       "             param_grid={'min_samples_split': range(200, 500, 50)},\n",
       "             return_train_score=True, scoring='accuracy')"
      ]
     },
     "execution_count": 29,
     "metadata": {},
     "output_type": "execute_result"
    }
   ],
   "source": [
    "# parameters to build the model on min_samples_split of range (200,500,50)\n",
    "parameters = {'min_samples_split': range(200,500,50)}\n",
    "\n",
    "# Instantiating the model (not specifying any max_depth) and random_state as 1\n",
    "rf = RandomForestClassifier(random_state=1)\n",
    "\n",
    "# Instantiating GridSearchCV with rf, parameters, cv, scoring as accuracy, and return_train_score as True\n",
    "rf = GridSearchCV(rf, parameters, cv=n_folds, scoring=\"accuracy\", return_train_score=True)\n",
    "\n",
    "# Fitting the grid search on training data\n",
    "rf.fit(xtrain, ytrain)"
   ]
  },
  {
   "cell_type": "code",
   "execution_count": 30,
   "id": "cebaf29c",
   "metadata": {},
   "outputs": [
    {
     "data": {
      "text/html": [
       "<div>\n",
       "<style scoped>\n",
       "    .dataframe tbody tr th:only-of-type {\n",
       "        vertical-align: middle;\n",
       "    }\n",
       "\n",
       "    .dataframe tbody tr th {\n",
       "        vertical-align: top;\n",
       "    }\n",
       "\n",
       "    .dataframe thead th {\n",
       "        text-align: right;\n",
       "    }\n",
       "</style>\n",
       "<table border=\"1\" class=\"dataframe\">\n",
       "  <thead>\n",
       "    <tr style=\"text-align: right;\">\n",
       "      <th></th>\n",
       "      <th>mean_fit_time</th>\n",
       "      <th>std_fit_time</th>\n",
       "      <th>mean_score_time</th>\n",
       "      <th>std_score_time</th>\n",
       "      <th>param_min_samples_split</th>\n",
       "      <th>params</th>\n",
       "      <th>split0_test_score</th>\n",
       "      <th>split1_test_score</th>\n",
       "      <th>split2_test_score</th>\n",
       "      <th>split3_test_score</th>\n",
       "      <th>...</th>\n",
       "      <th>mean_test_score</th>\n",
       "      <th>std_test_score</th>\n",
       "      <th>rank_test_score</th>\n",
       "      <th>split0_train_score</th>\n",
       "      <th>split1_train_score</th>\n",
       "      <th>split2_train_score</th>\n",
       "      <th>split3_train_score</th>\n",
       "      <th>split4_train_score</th>\n",
       "      <th>mean_train_score</th>\n",
       "      <th>std_train_score</th>\n",
       "    </tr>\n",
       "  </thead>\n",
       "  <tbody>\n",
       "    <tr>\n",
       "      <th>0</th>\n",
       "      <td>3.357631</td>\n",
       "      <td>0.209157</td>\n",
       "      <td>0.072886</td>\n",
       "      <td>0.014131</td>\n",
       "      <td>200</td>\n",
       "      <td>{'min_samples_split': 200}</td>\n",
       "      <td>0.822381</td>\n",
       "      <td>0.813333</td>\n",
       "      <td>0.823333</td>\n",
       "      <td>0.817857</td>\n",
       "      <td>...</td>\n",
       "      <td>0.821810</td>\n",
       "      <td>0.006275</td>\n",
       "      <td>2</td>\n",
       "      <td>0.827381</td>\n",
       "      <td>0.828571</td>\n",
       "      <td>0.826786</td>\n",
       "      <td>0.828988</td>\n",
       "      <td>0.825357</td>\n",
       "      <td>0.827417</td>\n",
       "      <td>0.001300</td>\n",
       "    </tr>\n",
       "    <tr>\n",
       "      <th>1</th>\n",
       "      <td>3.333345</td>\n",
       "      <td>0.207151</td>\n",
       "      <td>0.064192</td>\n",
       "      <td>0.001209</td>\n",
       "      <td>250</td>\n",
       "      <td>{'min_samples_split': 250}</td>\n",
       "      <td>0.823095</td>\n",
       "      <td>0.812143</td>\n",
       "      <td>0.821905</td>\n",
       "      <td>0.820238</td>\n",
       "      <td>...</td>\n",
       "      <td>0.821952</td>\n",
       "      <td>0.006469</td>\n",
       "      <td>1</td>\n",
       "      <td>0.825774</td>\n",
       "      <td>0.827738</td>\n",
       "      <td>0.825119</td>\n",
       "      <td>0.827143</td>\n",
       "      <td>0.823631</td>\n",
       "      <td>0.825881</td>\n",
       "      <td>0.001463</td>\n",
       "    </tr>\n",
       "    <tr>\n",
       "      <th>2</th>\n",
       "      <td>3.154933</td>\n",
       "      <td>0.116253</td>\n",
       "      <td>0.059378</td>\n",
       "      <td>0.006243</td>\n",
       "      <td>300</td>\n",
       "      <td>{'min_samples_split': 300}</td>\n",
       "      <td>0.823095</td>\n",
       "      <td>0.812857</td>\n",
       "      <td>0.822619</td>\n",
       "      <td>0.818571</td>\n",
       "      <td>...</td>\n",
       "      <td>0.821714</td>\n",
       "      <td>0.006090</td>\n",
       "      <td>4</td>\n",
       "      <td>0.824762</td>\n",
       "      <td>0.827202</td>\n",
       "      <td>0.824226</td>\n",
       "      <td>0.825060</td>\n",
       "      <td>0.822798</td>\n",
       "      <td>0.824810</td>\n",
       "      <td>0.001427</td>\n",
       "    </tr>\n",
       "    <tr>\n",
       "      <th>3</th>\n",
       "      <td>2.956114</td>\n",
       "      <td>0.155690</td>\n",
       "      <td>0.053543</td>\n",
       "      <td>0.007033</td>\n",
       "      <td>350</td>\n",
       "      <td>{'min_samples_split': 350}</td>\n",
       "      <td>0.822619</td>\n",
       "      <td>0.811905</td>\n",
       "      <td>0.822143</td>\n",
       "      <td>0.820238</td>\n",
       "      <td>...</td>\n",
       "      <td>0.821810</td>\n",
       "      <td>0.006452</td>\n",
       "      <td>2</td>\n",
       "      <td>0.824464</td>\n",
       "      <td>0.825238</td>\n",
       "      <td>0.823452</td>\n",
       "      <td>0.824464</td>\n",
       "      <td>0.821786</td>\n",
       "      <td>0.823881</td>\n",
       "      <td>0.001191</td>\n",
       "    </tr>\n",
       "    <tr>\n",
       "      <th>4</th>\n",
       "      <td>3.056741</td>\n",
       "      <td>0.538652</td>\n",
       "      <td>0.060020</td>\n",
       "      <td>0.006688</td>\n",
       "      <td>400</td>\n",
       "      <td>{'min_samples_split': 400}</td>\n",
       "      <td>0.821905</td>\n",
       "      <td>0.810714</td>\n",
       "      <td>0.820714</td>\n",
       "      <td>0.820000</td>\n",
       "      <td>...</td>\n",
       "      <td>0.820952</td>\n",
       "      <td>0.006579</td>\n",
       "      <td>6</td>\n",
       "      <td>0.823452</td>\n",
       "      <td>0.824702</td>\n",
       "      <td>0.823512</td>\n",
       "      <td>0.823393</td>\n",
       "      <td>0.821131</td>\n",
       "      <td>0.823238</td>\n",
       "      <td>0.001160</td>\n",
       "    </tr>\n",
       "  </tbody>\n",
       "</table>\n",
       "<p>5 rows × 21 columns</p>\n",
       "</div>"
      ],
      "text/plain": [
       "   mean_fit_time  std_fit_time  mean_score_time  std_score_time  \\\n",
       "0       3.357631      0.209157         0.072886        0.014131   \n",
       "1       3.333345      0.207151         0.064192        0.001209   \n",
       "2       3.154933      0.116253         0.059378        0.006243   \n",
       "3       2.956114      0.155690         0.053543        0.007033   \n",
       "4       3.056741      0.538652         0.060020        0.006688   \n",
       "\n",
       "  param_min_samples_split                      params  split0_test_score  \\\n",
       "0                     200  {'min_samples_split': 200}           0.822381   \n",
       "1                     250  {'min_samples_split': 250}           0.823095   \n",
       "2                     300  {'min_samples_split': 300}           0.823095   \n",
       "3                     350  {'min_samples_split': 350}           0.822619   \n",
       "4                     400  {'min_samples_split': 400}           0.821905   \n",
       "\n",
       "   split1_test_score  split2_test_score  split3_test_score  ...  \\\n",
       "0           0.813333           0.823333           0.817857  ...   \n",
       "1           0.812143           0.821905           0.820238  ...   \n",
       "2           0.812857           0.822619           0.818571  ...   \n",
       "3           0.811905           0.822143           0.820238  ...   \n",
       "4           0.810714           0.820714           0.820000  ...   \n",
       "\n",
       "   mean_test_score  std_test_score  rank_test_score  split0_train_score  \\\n",
       "0         0.821810        0.006275                2            0.827381   \n",
       "1         0.821952        0.006469                1            0.825774   \n",
       "2         0.821714        0.006090                4            0.824762   \n",
       "3         0.821810        0.006452                2            0.824464   \n",
       "4         0.820952        0.006579                6            0.823452   \n",
       "\n",
       "   split1_train_score  split2_train_score  split3_train_score  \\\n",
       "0            0.828571            0.826786            0.828988   \n",
       "1            0.827738            0.825119            0.827143   \n",
       "2            0.827202            0.824226            0.825060   \n",
       "3            0.825238            0.823452            0.824464   \n",
       "4            0.824702            0.823512            0.823393   \n",
       "\n",
       "   split4_train_score  mean_train_score  std_train_score  \n",
       "0            0.825357          0.827417         0.001300  \n",
       "1            0.823631          0.825881         0.001463  \n",
       "2            0.822798          0.824810         0.001427  \n",
       "3            0.821786          0.823881         0.001191  \n",
       "4            0.821131          0.823238         0.001160  \n",
       "\n",
       "[5 rows x 21 columns]"
      ]
     },
     "execution_count": 30,
     "metadata": {},
     "output_type": "execute_result"
    }
   ],
   "source": [
    "# scores of GridSearchCV\n",
    "scores = rf.cv_results_\n",
    "pd.DataFrame(scores).head()"
   ]
  },
  {
   "cell_type": "code",
   "execution_count": 31,
   "id": "e8503696",
   "metadata": {},
   "outputs": [
    {
     "data": {
      "image/png": "[encoded data removed]",
      "text/plain": [
       "<Figure size 640x480 with 1 Axes>"
      ]
     },
     "metadata": {},
     "output_type": "display_data"
    }
   ],
   "source": [
    "# plotting accuracies with min_samples_split:\n",
    "plt.figure()\n",
    "plt.plot(scores[\"param_min_samples_split\"],\n",
    "         scores[\"mean_train_score\"],\n",
    "         label=\"training accuracy\")\n",
    "plt.plot(scores[\"param_min_samples_split\"],\n",
    "         scores[\"mean_test_score\"],\n",
    "         label=\"test accuracy\")\n",
    "plt.xlabel(\"min_samples_split\")\n",
    "plt.ylabel(\"Accuracy\")\n",
    "plt.legend()\n",
    "plt.show()"
   ]
  },
  {
   "cell_type": "raw",
   "id": "3a9140c4",
   "metadata": {},
   "source": [
    "Random Search to find Optimal Hyperparameters:\n",
    "Finding the optimal hyperparameters using RandomizedSearchCV with following parameter values:\n",
    "\"max_depth\":[4,8,10], \"max_features\":[5,10], \n",
    "\"min_samples_leaf\":range(100,400,200),\n",
    "\"min_samples_split\":range(200,500,200),\n",
    "\"n_estimators\":[100,200,300]"
   ]
  },
  {
   "cell_type": "raw",
   "id": "77ab0b13",
   "metadata": {},
   "source": [
    "Avoiding GridSearchCV because using it might crash the system, whereas RandomizedSearchCV is faster than GridSearchCV."
   ]
  },
  {
   "cell_type": "code",
   "execution_count": 33,
   "id": "8c3b0a35",
   "metadata": {},
   "outputs": [],
   "source": [
    "# import RandomizedSearchCV\n",
    "from sklearn.model_selection import RandomizedSearchCV\n",
    "\n",
    "# Creating the parameter grid based on the results of random search\n",
    "param_grid = {\n",
    "    \"max_depth\": [4, 8, 10],\n",
    "    \"max_features\": [5, 10],\n",
    "    \"min_samples_leaf\": [100, 300],\n",
    "    \"min_samples_split\": [200, 400],\n",
    "    \"n_estimators\": [100, 200, 300]\n",
    "}\n",
    "\n",
    "# Creating a base model (i.e. RF) with random_state=1\n",
    "rf = RandomForestClassifier(random_state=1)\n",
    "\n",
    "# Instantiating the RandomizedSearchCV model with estimator, param_distributions, and random_state=1\n",
    "rs = RandomizedSearchCV(rf, param_distributions=param_grid, random_state=1)"
   ]
  },
  {
   "cell_type": "code",
   "execution_count": 34,
   "id": "83af312f",
   "metadata": {},
   "outputs": [
    {
     "data": {
      "text/plain": [
       "RandomizedSearchCV(estimator=RandomForestClassifier(random_state=1),\n",
       "                   param_distributions={'max_depth': [4, 8, 10],\n",
       "                                        'max_features': [5, 10],\n",
       "                                        'min_samples_leaf': [100, 300],\n",
       "                                        'min_samples_split': [200, 400],\n",
       "                                        'n_estimators': [100, 200, 300]},\n",
       "                   random_state=1)"
      ]
     },
     "execution_count": 34,
     "metadata": {},
     "output_type": "execute_result"
    }
   ],
   "source": [
    "# Fitting the Grid Search to the data:\n",
    "rs.fit(xtrain,ytrain)"
   ]
  },
  {
   "cell_type": "code",
   "execution_count": 35,
   "id": "e1c8956e",
   "metadata": {},
   "outputs": [
    {
     "name": "stdout",
     "output_type": "stream",
     "text": [
      "The accuracy is of 0.8214285714285715 using {'n_estimators': 100, 'min_samples_split': 400, 'min_samples_leaf': 100, 'max_features': 10, 'max_depth': 8}\n"
     ]
    }
   ],
   "source": [
    "# printing the optimal accuracy score and hyperparameters\n",
    "print(\"The accuracy is of\",rs.best_score_,\"using\",rs.best_params_)"
   ]
  },
  {
   "cell_type": "code",
   "execution_count": 37,
   "id": "ef5f2a82",
   "metadata": {},
   "outputs": [],
   "source": [
    "# Instantiate RF model with best hyperparamters along with random_state as 1:\n",
    "rfc = RandomForestClassifier(n_estimators=100, min_samples_split=400, min_samples_leaf=100, max_features=10, max_depth=8)"
   ]
  },
  {
   "cell_type": "code",
   "execution_count": 38,
   "id": "3a03fa15",
   "metadata": {},
   "outputs": [
    {
     "data": {
      "text/plain": [
       "RandomForestClassifier(max_depth=8, max_features=10, min_samples_leaf=100,\n",
       "                       min_samples_split=400)"
      ]
     },
     "execution_count": 38,
     "metadata": {},
     "output_type": "execute_result"
    }
   ],
   "source": [
    "# Fitting on training data:\n",
    "rfc.fit(xtrain,ytrain)"
   ]
  },
  {
   "cell_type": "code",
   "execution_count": 39,
   "id": "1c7f6adc",
   "metadata": {},
   "outputs": [],
   "source": [
    "# Prediction\n",
    "ypred = rfc.predict(xtest)"
   ]
  },
  {
   "cell_type": "code",
   "execution_count": 40,
   "id": "c2fc8f3a",
   "metadata": {},
   "outputs": [
    {
     "name": "stdout",
     "output_type": "stream",
     "text": [
      "[[6664  336]\n",
      " [1301  699]]\n",
      "              precision    recall  f1-score   support\n",
      "\n",
      "           0       0.84      0.95      0.89      7000\n",
      "           1       0.68      0.35      0.46      2000\n",
      "\n",
      "    accuracy                           0.82      9000\n",
      "   macro avg       0.76      0.65      0.68      9000\n",
      "weighted avg       0.80      0.82      0.80      9000\n",
      "\n",
      "0.8181111111111111\n"
     ]
    }
   ],
   "source": [
    "# Evaluation using metrics:\n",
    "print(confusion_matrix(ytest,ypred))\n",
    "print(classification_report(ytest,ypred))\n",
    "print(accuracy_score(ytest,ypred))"
   ]
  },
  {
   "cell_type": "raw",
   "id": "c7f0316f",
   "metadata": {},
   "source": [
    "After hyperparameter tuning RandomForest accuracy is improved."
   ]
  },
  {
   "cell_type": "markdown",
   "id": "621facb8",
   "metadata": {},
   "source": [
    "# 6. ExtraTrees Algorithm"
   ]
  },
  {
   "cell_type": "raw",
   "id": "1cc76404",
   "metadata": {},
   "source": [
    "Extra Trees and Random Forest are two very similar ensemble methods The two ensembles have a lot in common. Both of them are composed of a large number of decision trees.\n",
    "\n",
    "Unlike bagging and random forest that develop each decision tree from a bootstrap sample of the training dataset, the Extra Trees algorithm fits each decision tree on the whole training dataset.\n",
    "\n",
    "Like random forest, the Extra Trees algorithm will randomly sample the features at each split point of a decision tree. Unlike random forest, which uses a greedy algorithm to select an optimal split point, the Extra Trees algorithm selects a split point at random."
   ]
  },
  {
   "cell_type": "code",
   "execution_count": 41,
   "id": "04608328",
   "metadata": {},
   "outputs": [
    {
     "data": {
      "text/plain": [
       "ExtraTreesClassifier(random_state=1)"
      ]
     },
     "execution_count": 41,
     "metadata": {},
     "output_type": "execute_result"
    }
   ],
   "source": [
    "# Importing ExtraTreeClassifier:\n",
    "from sklearn.ensemble import ExtraTreesClassifier\n",
    "\n",
    "# Instantiate ExtraTreesClassifier with default parameters except random_state=1:\n",
    "et = ExtraTreesClassifier(random_state=1)\n",
    "\n",
    "# fitting model on training data:\n",
    "et.fit(xtrain,ytrain)"
   ]
  },
  {
   "cell_type": "code",
   "execution_count": 42,
   "id": "98a95414",
   "metadata": {},
   "outputs": [],
   "source": [
    "# Predictions:\n",
    "ypred = et.predict(xtest)"
   ]
  },
  {
   "cell_type": "code",
   "execution_count": 43,
   "id": "1bf0496c",
   "metadata": {},
   "outputs": [
    {
     "name": "stdout",
     "output_type": "stream",
     "text": [
      "[[6599  401]\n",
      " [1283  717]]\n",
      "              precision    recall  f1-score   support\n",
      "\n",
      "           0       0.84      0.94      0.89      7000\n",
      "           1       0.64      0.36      0.46      2000\n",
      "\n",
      "    accuracy                           0.81      9000\n",
      "   macro avg       0.74      0.65      0.67      9000\n",
      "weighted avg       0.79      0.81      0.79      9000\n",
      "\n",
      "0.8128888888888889\n"
     ]
    }
   ],
   "source": [
    "# Evaluation using metrics:\n",
    "print(confusion_matrix(ytest,ypred))\n",
    "print(classification_report(ytest,ypred))\n",
    "print(accuracy_score(ytest,ypred))"
   ]
  },
  {
   "cell_type": "raw",
   "id": "9e8ade91",
   "metadata": {},
   "source": [
    "Accuracy is 81.29%. It can be improved using hyperparameter tuning."
   ]
  },
  {
   "cell_type": "code",
   "execution_count": 44,
   "id": "0d6472de",
   "metadata": {},
   "outputs": [
    {
     "name": "stdout",
     "output_type": "stream",
     "text": [
      "The accuracy is of 0.8156190476190476 using {'n_estimators': 100, 'min_samples_split': 400, 'min_samples_leaf': 100, 'max_features': 10, 'max_depth': 8}\n"
     ]
    }
   ],
   "source": [
    "# Creating the parameter grid similar to RandomForest\n",
    "param_grid = {\n",
    "    \"max_depth\": [4, 8, 10],\n",
    "    \"max_features\": [5, 10],\n",
    "    \"min_samples_leaf\": [100, 300],\n",
    "    \"min_samples_split\": [200, 400],\n",
    "    \"n_estimators\": [100, 200, 300]\n",
    "}\n",
    "\n",
    "# Instantiating the RandomizedSearchCV model with et, param_distributions, and random_state=1\n",
    "rs = RandomizedSearchCV(et, param_distributions=param_grid, random_state=1)\n",
    "\n",
    "# fitting the random search on training data:\n",
    "rs.fit(xtrain,ytrain)\n",
    "\n",
    "# printing the optimal accuracy score and hyperparameters\n",
    "print(\"The accuracy is of\",rs.best_score_,\"using\",rs.best_params_)"
   ]
  },
  {
   "cell_type": "raw",
   "id": "f887bb1e",
   "metadata": {},
   "source": [
    "Using best parameters into extra trees and tuning it."
   ]
  },
  {
   "cell_type": "code",
   "execution_count": 45,
   "id": "1947408f",
   "metadata": {},
   "outputs": [
    {
     "data": {
      "text/plain": [
       "ExtraTreesClassifier(max_depth=8, max_features=10, min_samples_leaf=100,\n",
       "                     min_samples_split=400)"
      ]
     },
     "execution_count": 45,
     "metadata": {},
     "output_type": "execute_result"
    }
   ],
   "source": [
    "# Instantiate ExtraTreesClassifier with default parameters:\n",
    "et = ExtraTreesClassifier(n_estimators=100, min_samples_split=400, min_samples_leaf=100, max_features=10, max_depth=8)\n",
    "\n",
    "# Fitting model on training data:\n",
    "et.fit(xtrain,ytrain)"
   ]
  },
  {
   "cell_type": "code",
   "execution_count": 46,
   "id": "dbd9c3ad",
   "metadata": {},
   "outputs": [],
   "source": [
    "# Prediction\n",
    "ypred = et.predict(xtest)"
   ]
  },
  {
   "cell_type": "code",
   "execution_count": 47,
   "id": "748c8d58",
   "metadata": {},
   "outputs": [
    {
     "name": "stdout",
     "output_type": "stream",
     "text": [
      "[[6739  261]\n",
      " [1445  555]]\n",
      "              precision    recall  f1-score   support\n",
      "\n",
      "           0       0.82      0.96      0.89      7000\n",
      "           1       0.68      0.28      0.39      2000\n",
      "\n",
      "    accuracy                           0.81      9000\n",
      "   macro avg       0.75      0.62      0.64      9000\n",
      "weighted avg       0.79      0.81      0.78      9000\n",
      "\n",
      "0.8104444444444444\n"
     ]
    }
   ],
   "source": [
    "# Evaluation using metrics:\n",
    "print(confusion_matrix(ytest,ypred))\n",
    "print(classification_report(ytest,ypred))\n",
    "print(accuracy_score(ytest,ypred))"
   ]
  },
  {
   "cell_type": "raw",
   "id": "fa2b5000",
   "metadata": {},
   "source": [
    "Note:- random_state = 1  is used in order to avoid chnage in  the solution of the repeated code execution."
   ]
  },
  {
   "cell_type": "raw",
   "id": "9ef60f3b",
   "metadata": {},
   "source": [
    "After doing hyperparameter tuning too there is not much improvement seen in the accuracy score.\n",
    "But when comparing the accuracy of all the 3 different methods (Bagging, RandomForest, ExtraTrees) for the Credit Default Prediction, Bagging Ensemble Algorithm gave the highest accuracy."
   ]
  },
  {
   "cell_type": "code",
   "execution_count": null,
   "id": "bbd7284f",
   "metadata": {},
   "outputs": [],
   "source": []
  },
  {
   "cell_type": "code",
   "execution_count": null,
   "id": "fe1d2e66",
   "metadata": {},
   "outputs": [],
   "source": []
  }
 ],
 "metadata": {
  "kernelspec": {
   "display_name": "Python 3 (ipykernel)",
   "language": "python",
   "name": "python3"
  },
  "language_info": {
   "codemirror_mode": {
    "name": "ipython",
    "version": 3
   },
   "file_extension": ".py",
   "mimetype": "text/x-python",
   "name": "python",
   "nbconvert_exporter": "python",
   "pygments_lexer": "ipython3",
   "version": "3.9.13"
  }
 },
 "nbformat": 4,
 "nbformat_minor": 5
}

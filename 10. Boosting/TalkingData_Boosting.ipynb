{
 "cells": [
  {
   "cell_type": "markdown",
   "metadata": {
    "_cell_guid": "79c7e3d0-c299-4dcb-8224-4455121ee9b0",
    "_uuid": "d629ff2d2480ee46fbb7e2d37f6b5fab8052498a",
    "collapsed": true,
    "id": "u93kzhf1D3UX"
   },
   "source": [
    "\n",
    "# <center><u>**`Ensemble ML Algorithms - Boosting`**</u></center>\n",
    "\n",
    "\n",
    "\n",
    "\n",
    "## **`TalkingData: Fraudulent Click Prediction`**\n",
    "\n",
    "\n",
    "\n",
    "\n"
   ]
  },
  {
   "cell_type": "markdown",
   "metadata": {
    "id": "DThpWOx6D3UZ"
   },
   "source": [
    "The problem statement is from 'digital fraud' sector.\n",
    "\n",
    "The analysis is divided into the following sections:\n",
    "- `Understanding the business problem`\n",
    "- `Understanding and exploring the data`\n",
    "- `Feature engineering: Creating new features`\n",
    "- `Model building and evaluation: AdaBoost`\n",
    "- `Modelling building and evaluation: Gradient Boosting`\n",
    "- `Modelling building and evaluation: XGBoost`\n",
    "- `Modelling building and evaluation: LightGBM`\n",
    "- `Modelling building and evaluation: CatBoost`\n"
   ]
  },
  {
   "cell_type": "markdown",
   "metadata": {
    "id": "AZvCLMIhD3Ua"
   },
   "source": [
    "## **`Understanding the Business Problem`**\n",
    "\n",
    "TalkingData is a Chinese big data company, and one of their areas of expertise is mobile advertisements.\n",
    "\n",
    "In mobile advertisements, **click fraud** is a major source of losses. Click fraud is the practice of repeatedly clicking on an advertisement hosted on a website with the intention of generating revenue for the host website or draining revenue from the advertiser.\n",
    "\n",
    "In this case, TalkingData happens to be serving the advertisers (their clients). TalkingData cover a whopping **approx. 70% of the active mobile devices in China**, of which 90% are potentially fraudulent (i.e. the user is actually not going to download the app after clicking).\n",
    "\n",
    "You can imagine the amount of money they can help clients save if they are able to predict whether a given click is fraudulent (or equivalently, whether a given click will result in a download). \n",
    "\n",
    "Their current approach to solve this problem is that they've generated a blacklist of IP addresses - those IPs which produce lots of clicks, but never install any apps. Now, they want to try some advanced techniques to predict the probability of a click being genuine/fraud.\n",
    "\n",
    "In this problem, the features associated with clicks, such as IP address, operating system, device type, time of click etc. to predict the probability of a click being fraud will be used.\n"
   ]
  },
  {
   "cell_type": "markdown",
   "metadata": {
    "id": "mOroROEND3Ub"
   },
   "source": [
    "## **`Understanding and Exploring the Data`**\n",
    "\n",
    "The data contains observations of about 240 million clicks, and whether a given click resulted in a download or not (1/0). \n",
    "\n",
    "On Kaggle, the data is split into train.csv and train_sample.csv (100,000 observations).\n",
    "\n",
    "The detailed data dictionary is mentioned here:\n",
    "- ```ip```: ip address of click.\n",
    "- ```app```: app id for marketing.\n",
    "- ```device```: device type id of user mobile phone (e.g., iphone 6 plus, iphone 7, huawei mate 7, etc.)\n",
    "- ```os```: os version id of user mobile phone\n",
    "- ```channel```: channel id of mobile ad publisher\n",
    "- ```click_time```: timestamp of click (UTC)\n",
    "- ```is_attributed```: the target that is to be predicted, indicating the app was downloaded\n",
    "\n",
    "Let's try finding some useful trends in the data."
   ]
  },
  {
   "cell_type": "code",
   "execution_count": 1,
   "metadata": {
    "id": "ikrMVyDEPcLa",
    "outputId": "801d0a82-7bc0-4c4b-cfa5-d5148052c62b"
   },
   "outputs": [
    {
     "name": "stdout",
     "output_type": "stream",
     "text": [
      "Defaulting to user installation because normal site-packages is not writeable\n",
      "Requirement already satisfied: xgboost in c:\\users\\user-pc\\appdata\\roaming\\python\\python39\\site-packages (1.7.6)\n",
      "Requirement already satisfied: scipy in c:\\programdata\\anaconda3\\lib\\site-packages (from xgboost) (1.9.1)\n",
      "Requirement already satisfied: numpy in c:\\programdata\\anaconda3\\lib\\site-packages (from xgboost) (1.21.5)\n",
      "Note: you may need to restart the kernel to use updated packages.\n"
     ]
    }
   ],
   "source": [
    "pip install xgboost"
   ]
  },
  {
   "cell_type": "code",
   "execution_count": 2,
   "metadata": {
    "_cell_guid": "5ba86a36-b8be-44db-ad92-e3cddbb354d1",
    "_uuid": "cd4d66f4ecc6daa0ea4cab6359fc5203112f245c",
    "id": "wEs3rPsoD3Uc"
   },
   "outputs": [],
   "source": [
    "#importing important libraries\n",
    "\n",
    "import numpy as np \n",
    "import pandas as pd \n",
    "import sklearn\n",
    "import matplotlib.pyplot as plt\n",
    "import seaborn as sns\n",
    "\n",
    "from sklearn.model_selection import train_test_split\n",
    "from sklearn.model_selection import KFold\n",
    "from sklearn.model_selection import GridSearchCV\n",
    "from sklearn.model_selection import RandomizedSearchCV\n",
    "\n",
    "from sklearn.model_selection import cross_val_score\n",
    "from sklearn.preprocessing import LabelEncoder\n",
    "from sklearn.tree import DecisionTreeClassifier\n",
    "from sklearn.ensemble import AdaBoostClassifier\n",
    "from sklearn.ensemble import GradientBoostingClassifier\n",
    "from sklearn import metrics\n",
    "import xgboost as xgb\n",
    "from xgboost import XGBClassifier\n",
    "from xgboost import plot_importance\n",
    "import gc # for deleting unused variables\n",
    "%matplotlib inline\n",
    "\n",
    "import os\n",
    "import warnings\n",
    "warnings.filterwarnings('ignore')"
   ]
  },
  {
   "cell_type": "code",
   "execution_count": 3,
   "metadata": {},
   "outputs": [
    {
     "data": {
      "text/html": [
       "<div>\n",
       "<style scoped>\n",
       "    .dataframe tbody tr th:only-of-type {\n",
       "        vertical-align: middle;\n",
       "    }\n",
       "\n",
       "    .dataframe tbody tr th {\n",
       "        vertical-align: top;\n",
       "    }\n",
       "\n",
       "    .dataframe thead th {\n",
       "        text-align: right;\n",
       "    }\n",
       "</style>\n",
       "<table border=\"1\" class=\"dataframe\">\n",
       "  <thead>\n",
       "    <tr style=\"text-align: right;\">\n",
       "      <th></th>\n",
       "      <th>ip</th>\n",
       "      <th>app</th>\n",
       "      <th>device</th>\n",
       "      <th>os</th>\n",
       "      <th>channel</th>\n",
       "      <th>click_time</th>\n",
       "      <th>is_attributed</th>\n",
       "    </tr>\n",
       "  </thead>\n",
       "  <tbody>\n",
       "    <tr>\n",
       "      <th>0</th>\n",
       "      <td>87540</td>\n",
       "      <td>12</td>\n",
       "      <td>1</td>\n",
       "      <td>13</td>\n",
       "      <td>497</td>\n",
       "      <td>07-11-2017 09:30</td>\n",
       "      <td>0</td>\n",
       "    </tr>\n",
       "    <tr>\n",
       "      <th>1</th>\n",
       "      <td>105560</td>\n",
       "      <td>25</td>\n",
       "      <td>1</td>\n",
       "      <td>17</td>\n",
       "      <td>259</td>\n",
       "      <td>07-11-2017 13:40</td>\n",
       "      <td>0</td>\n",
       "    </tr>\n",
       "    <tr>\n",
       "      <th>2</th>\n",
       "      <td>101424</td>\n",
       "      <td>12</td>\n",
       "      <td>1</td>\n",
       "      <td>19</td>\n",
       "      <td>212</td>\n",
       "      <td>07-11-2017 18:05</td>\n",
       "      <td>0</td>\n",
       "    </tr>\n",
       "    <tr>\n",
       "      <th>3</th>\n",
       "      <td>94584</td>\n",
       "      <td>13</td>\n",
       "      <td>1</td>\n",
       "      <td>13</td>\n",
       "      <td>477</td>\n",
       "      <td>07-11-2017 04:58</td>\n",
       "      <td>0</td>\n",
       "    </tr>\n",
       "    <tr>\n",
       "      <th>4</th>\n",
       "      <td>68413</td>\n",
       "      <td>12</td>\n",
       "      <td>1</td>\n",
       "      <td>1</td>\n",
       "      <td>178</td>\n",
       "      <td>09-11-2017 09:00</td>\n",
       "      <td>0</td>\n",
       "    </tr>\n",
       "  </tbody>\n",
       "</table>\n",
       "</div>"
      ],
      "text/plain": [
       "       ip  app  device  os  channel        click_time  is_attributed\n",
       "0   87540   12       1  13      497  07-11-2017 09:30              0\n",
       "1  105560   25       1  17      259  07-11-2017 13:40              0\n",
       "2  101424   12       1  19      212  07-11-2017 18:05              0\n",
       "3   94584   13       1  13      477  07-11-2017 04:58              0\n",
       "4   68413   12       1   1      178  09-11-2017 09:00              0"
      ]
     },
     "execution_count": 3,
     "metadata": {},
     "output_type": "execute_result"
    }
   ],
   "source": [
    "# reading training data\n",
    "df = pd.read_csv(\"TalkingData_train.csv\")\n",
    "df.head()"
   ]
  },
  {
   "cell_type": "code",
   "execution_count": 4,
   "metadata": {
    "_cell_guid": "98d1b00a-8ee6-4959-9091-e8b56e4bcb15",
    "_uuid": "a9f5559317e6cc476c47b166bd95118c9f29dbbe",
    "colab": {
     "base_uri": "https://localhost:8080/"
    },
    "id": "__DK7dKCD3Ug",
    "outputId": "3e49a52a-7661-4d14-d0fb-bb0457510af2"
   },
   "outputs": [
    {
     "data": {
      "text/plain": [
       "100000"
      ]
     },
     "execution_count": 4,
     "metadata": {},
     "output_type": "execute_result"
    }
   ],
   "source": [
    "# Printing length of training data\n",
    "len(df)"
   ]
  },
  {
   "cell_type": "code",
   "execution_count": 5,
   "metadata": {
    "_cell_guid": "7743ffd9-a38c-4130-b7d4-373e324bd9ae",
    "_uuid": "663ed1e0137fce0f2a5b2ebd02c7bf6a35c506c7",
    "colab": {
     "base_uri": "https://localhost:8080/"
    },
    "id": "pqrdhOIyD3Uk",
    "outputId": "ef1fd632-ed3d-46c9-bd1a-c297383a4594",
    "scrolled": true
   },
   "outputs": [
    {
     "name": "stdout",
     "output_type": "stream",
     "text": [
      "Index               128\n",
      "ip               800000\n",
      "app              800000\n",
      "device           800000\n",
      "os               800000\n",
      "channel          800000\n",
      "click_time       800000\n",
      "is_attributed    800000\n",
      "dtype: int64\n"
     ]
    }
   ],
   "source": [
    "# Displays memory consumed by each column\n",
    "print(df.memory_usage())"
   ]
  },
  {
   "cell_type": "markdown",
   "metadata": {
    "id": "2oETlzPKD3Ul"
   },
   "source": [
    "To get space used by training data then use sum of memory consumed by each variable divided by 1024**2\n"
   ]
  },
  {
   "cell_type": "code",
   "execution_count": 6,
   "metadata": {
    "_cell_guid": "196408ab-7891-4f75-bf3a-c491525ab4ff",
    "_uuid": "4c4323fe3fdf0f12fd065c83b253385a5826413c",
    "colab": {
     "base_uri": "https://localhost:8080/"
    },
    "id": "BW05Lt3DD3Ul",
    "outputId": "b263617c-d776-48ad-d2fb-9aff7ddc73f1"
   },
   "outputs": [
    {
     "name": "stdout",
     "output_type": "stream",
     "text": [
      "Training dataset uses 5.3406982421875MB\n"
     ]
    }
   ],
   "source": [
    "# space used by training data\n",
    "print(\"Training dataset uses {0}MB\".format(df.memory_usage().sum()/1024**2))"
   ]
  },
  {
   "cell_type": "markdown",
   "metadata": {
    "_cell_guid": "047cdedb-b9a4-4185-9079-31d19e418dd5",
    "_uuid": "bdca59dbbab3ea6e7938ed6348bda8b022b54437",
    "id": "r_u94Wa8D3Un"
   },
   "source": [
    "### `Exploring the Data - Univariate Analysis`\n"
   ]
  },
  {
   "cell_type": "code",
   "execution_count": 7,
   "metadata": {
    "_cell_guid": "4539d9f9-fe8e-438b-9c6e-8d0f4d089e17",
    "_uuid": "0aff4ad2d4abb7a49cfeccbd0d65f96a5256eab8",
    "colab": {
     "base_uri": "https://localhost:8080/"
    },
    "id": "VFe2i-5fD3Un",
    "outputId": "9cbda44b-b7a6-488e-b32e-20aa79204885"
   },
   "outputs": [
    {
     "name": "stdout",
     "output_type": "stream",
     "text": [
      "<class 'pandas.core.frame.DataFrame'>\n",
      "RangeIndex: 100000 entries, 0 to 99999\n",
      "Data columns (total 7 columns):\n",
      " #   Column         Non-Null Count   Dtype \n",
      "---  ------         --------------   ----- \n",
      " 0   ip             100000 non-null  int64 \n",
      " 1   app            100000 non-null  int64 \n",
      " 2   device         100000 non-null  int64 \n",
      " 3   os             100000 non-null  int64 \n",
      " 4   channel        100000 non-null  int64 \n",
      " 5   click_time     100000 non-null  object\n",
      " 6   is_attributed  100000 non-null  int64 \n",
      "dtypes: int64(6), object(1)\n",
      "memory usage: 5.3+ MB\n"
     ]
    }
   ],
   "source": [
    "# look at non-null values, null values, number of entries etc.\n",
    "df.info()"
   ]
  },
  {
   "cell_type": "markdown",
   "metadata": {
    "id": "AiyvMM1rD3Uo"
   },
   "source": [
    "There is no missing values\n",
    "\n",
    "## `Basic exploratory analysis `\n",
    "\n",
    "\n",
    "\n",
    "\n",
    "1. Number of unique values in each column\n"
   ]
  },
  {
   "cell_type": "code",
   "execution_count": 8,
   "metadata": {
    "_cell_guid": "dd930aa6-557f-4b59-9a36-8f940324f594",
    "_uuid": "816535e82869da6601f9dd7227a201adda9843d1",
    "colab": {
     "base_uri": "https://localhost:8080/"
    },
    "id": "DD8nAsb-D3Uo",
    "outputId": "f23befe8-9c38-4b2e-8f3d-da573f40f25e",
    "scrolled": false
   },
   "outputs": [
    {
     "data": {
      "text/plain": [
       "{'ip': 34857,\n",
       " 'app': 161,\n",
       " 'device': 100,\n",
       " 'os': 130,\n",
       " 'channel': 161,\n",
       " 'click_time': 4309,\n",
       " 'is_attributed': 2}"
      ]
     },
     "execution_count": 8,
     "metadata": {},
     "output_type": "execute_result"
    }
   ],
   "source": [
    "# Define a function to fetch unique values in each column\n",
    "def fraction_unique(x):\n",
    "    # return unique values\n",
    "    return len(df[x].unique())\n",
    "\n",
    "# one line code to use above function and creating a dictionary\n",
    "number_unique_vals = {x: fraction_unique(x) for x in df.columns}\n",
    "\n",
    "#print dictionary of Unique values\n",
    "number_unique_vals"
   ]
  },
  {
   "cell_type": "markdown",
   "metadata": {
    "id": "ZNc24VdED3Uo"
   },
   "source": [
    "2. Checking data type of each columns"
   ]
  },
  {
   "cell_type": "code",
   "execution_count": 9,
   "metadata": {
    "_cell_guid": "408e795a-2d0d-4ae0-bf96-868721d9394d",
    "_uuid": "c6bd82f7f439f73bf543d2313c82e4d3e99519e4",
    "colab": {
     "base_uri": "https://localhost:8080/"
    },
    "id": "TIBrWcz8D3Up",
    "outputId": "86eaf9c0-b65e-4ed2-8c13-ec33401acf73"
   },
   "outputs": [
    {
     "data": {
      "text/plain": [
       "ip                int64\n",
       "app               int64\n",
       "device            int64\n",
       "os                int64\n",
       "channel           int64\n",
       "click_time       object\n",
       "is_attributed     int64\n",
       "dtype: object"
      ]
     },
     "execution_count": 9,
     "metadata": {},
     "output_type": "execute_result"
    }
   ],
   "source": [
    "# each column data type\n",
    "df.dtypes"
   ]
  },
  {
   "cell_type": "markdown",
   "metadata": {
    "id": "2T3DGwEID3Up"
   },
   "source": [
    "All columns apart from click time are originally int type, though note that all these are actually categorical "
   ]
  },
  {
   "cell_type": "markdown",
   "metadata": {
    "_cell_guid": "a329709b-2d48-4b32-8491-d0a3a57a9635",
    "_uuid": "16271bff54cffd07c656c21023b0a1cb62297960",
    "id": "oiX69GjLD3Uq"
   },
   "source": [
    "There are certain 'apps' which have quite high number of instances/rows (each row is a click). Plotting it below: "
   ]
  },
  {
   "cell_type": "code",
   "execution_count": 10,
   "metadata": {
    "_cell_guid": "3e9c25d8-31a7-4b43-b2ac-5ecc21921f26",
    "_uuid": "b99fbb4955c7f05d78495d958d16d673479aca64",
    "colab": {
     "base_uri": "https://localhost:8080/",
     "height": 351
    },
    "id": "CLmSle3kD3Uq",
    "outputId": "7a1ada8d-3755-4548-d893-19933fac4ce0",
    "scrolled": false
   },
   "outputs": [
    {
     "data": {
      "image/png": "[encoded data removed]",
      "text/plain": [
       "<Figure size 1500x600 with 1 Axes>"
      ]
     },
     "metadata": {},
     "output_type": "display_data"
    }
   ],
   "source": [
    "#distribution of 'app' \n",
    "plt.figure(figsize=(15, 6))\n",
    "sns.countplot(x=\"app\",data=df)\n",
    "plt.show()"
   ]
  },
  {
   "cell_type": "markdown",
   "metadata": {
    "id": "6Tb5ICFGD3Ur"
   },
   "source": [
    "some 'apps' have a disproportionately high number of clicks (>15k), and some are very rare (3-4)\n",
    "\n",
    "Plotting device distribution below:"
   ]
  },
  {
   "cell_type": "code",
   "execution_count": 11,
   "metadata": {
    "_cell_guid": "77e73dce-cf2f-43a9-b0a8-fe5956ff99a9",
    "_uuid": "d3815fab7e31db39452c9fca0b3ade757124da25",
    "colab": {
     "base_uri": "https://localhost:8080/",
     "height": 350
    },
    "id": "ljelEux4D3Ur",
    "outputId": "2877efec-903b-42e0-89b5-0dd591dfda81"
   },
   "outputs": [
    {
     "data": {
      "image/png": "[encoded data removed]",
      "text/plain": [
       "<Figure size 1500x600 with 1 Axes>"
      ]
     },
     "metadata": {},
     "output_type": "display_data"
    }
   ],
   "source": [
    "# distribution of 'device' \n",
    "plt.figure(figsize=(15, 6))\n",
    "sns.countplot(x=\"device\",data=df)\n",
    "plt.show()"
   ]
  },
  {
   "cell_type": "markdown",
   "metadata": {
    "id": "BhKCORYWD3Ur"
   },
   "source": [
    "The above result is expected because a few popular devices are used heavily\n",
    "\n",
    "Plotting channel below"
   ]
  },
  {
   "cell_type": "code",
   "execution_count": 12,
   "metadata": {
    "_cell_guid": "098c5d37-5302-45e8-9845-eb3dfa7be87b",
    "_uuid": "656c6cfa30d189febea9bb4c12b2f2519c0b0cef",
    "colab": {
     "base_uri": "https://localhost:8080/",
     "height": 353
    },
    "id": "e23wBoTRD3Us",
    "outputId": "02ef9d14-e66f-4206-8d76-d62f10dee608"
   },
   "outputs": [
    {
     "data": {
      "image/png": "[encoded data removed]",
      "text/plain": [
       "<Figure size 1500x600 with 1 Axes>"
      ]
     },
     "metadata": {},
     "output_type": "display_data"
    }
   ],
   "source": [
    "# distribution of 'channel' \n",
    "plt.figure(figsize=(15, 6))\n",
    "sns.countplot(x=\"channel\",data=df)\n",
    "plt.show()"
   ]
  },
  {
   "cell_type": "markdown",
   "metadata": {
    "id": "rdMi9jwED3Us"
   },
   "source": [
    "Various channels get clicks in comparable quantities\n",
    "\n",
    "Distribution of 'os' now "
   ]
  },
  {
   "cell_type": "code",
   "execution_count": 13,
   "metadata": {
    "_cell_guid": "c39356d4-3f97-41be-944f-ce88db264365",
    "_uuid": "8f33610186e195da39033b9a64cd2d11b244113a",
    "colab": {
     "base_uri": "https://localhost:8080/",
     "height": 354
    },
    "id": "HTxIlxxND3Us",
    "outputId": "84ae299d-e499-4b56-aedb-d8769b2dd8db",
    "scrolled": false
   },
   "outputs": [
    {
     "data": {
      "image/png": "[encoded data removed]",
      "text/plain": [
       "<Figure size 1500x600 with 1 Axes>"
      ]
     },
     "metadata": {},
     "output_type": "display_data"
    }
   ],
   "source": [
    "# distribution of 'os' \n",
    "plt.figure(figsize=(15, 6))\n",
    "sns.countplot(x=\"os\",data=df)\n",
    "plt.show()"
   ]
  },
  {
   "cell_type": "markdown",
   "metadata": {
    "id": "EhwMZakkD3Ut"
   },
   "source": [
    "there are a couple commos OSes (android and ios?), though some are rare and can indicate suspicion \n"
   ]
  },
  {
   "cell_type": "markdown",
   "metadata": {
    "_cell_guid": "a52d4651-f5ca-45e0-8b20-ec1f70d80edb",
    "_uuid": "6604d330cee83328b4e28790829c82b40fe83ef1",
    "id": "G6082JlGD3Ut"
   },
   "source": [
    "Distribution of the target  variable 'is_attributed'."
   ]
  },
  {
   "cell_type": "code",
   "execution_count": 14,
   "metadata": {
    "_cell_guid": "332d0c92-31f6-4109-91ba-5d1f38725ca8",
    "_uuid": "755b0ff3de0028805b6e33fe5b6fb70e5a1247d5",
    "colab": {
     "base_uri": "https://localhost:8080/"
    },
    "id": "--eILMxTD3Ut",
    "outputId": "251802a7-40b2-4edb-efde-93d7b3e6edf5",
    "scrolled": true
   },
   "outputs": [
    {
     "data": {
      "text/plain": [
       "0    99.773\n",
       "1     0.227\n",
       "Name: is_attributed, dtype: float64"
      ]
     },
     "execution_count": 14,
     "metadata": {},
     "output_type": "execute_result"
    }
   ],
   "source": [
    "# target variable distribution\n",
    "100*(df[\"is_attributed\"]).astype(\"object\").value_counts()/len(df)"
   ]
  },
  {
   "cell_type": "markdown",
   "metadata": {
    "_cell_guid": "030933bd-d06b-42c8-8d1e-882f70776a74",
    "_uuid": "b604a87e4ca95bbcbe40e3192f7b66774c03d84d",
    "id": "c9tYYBg1D3Ut"
   },
   "source": [
    "Only **about 0.2% of clicks are 'fraudulent'**, which is expected in a fraud detection problem. Such high class imbalance is probably going to be the toughest challenge of this problem."
   ]
  },
  {
   "cell_type": "markdown",
   "metadata": {
    "_cell_guid": "7285fbce-6dd1-4638-80c6-8f8d94d1593c",
    "_uuid": "bca20461412ff0d2ba2d87a515785e8a762fd343",
    "id": "6jEZyNtED3Uu"
   },
   "source": [
    "### **`Exploring the Data - Segmented Univariate Analysis`**\n",
    "\n",
    "How the target variable varies with the various predictors?"
   ]
  },
  {
   "cell_type": "code",
   "execution_count": 15,
   "metadata": {
    "_cell_guid": "73089123-995e-4142-8aa9-784bbcddccb2",
    "_uuid": "1a5d777dc7d2a003752eefd8af94c4433099bf44",
    "colab": {
     "base_uri": "https://localhost:8080/",
     "height": 454
    },
    "id": "JGkQoYTSD3Uu",
    "outputId": "a98516ec-c43c-4b4d-87bc-06db638284b2",
    "scrolled": true
   },
   "outputs": [
    {
     "data": {
      "text/html": [
       "<div>\n",
       "<style scoped>\n",
       "    .dataframe tbody tr th:only-of-type {\n",
       "        vertical-align: middle;\n",
       "    }\n",
       "\n",
       "    .dataframe tbody tr th {\n",
       "        vertical-align: top;\n",
       "    }\n",
       "\n",
       "    .dataframe thead th {\n",
       "        text-align: right;\n",
       "    }\n",
       "</style>\n",
       "<table border=\"1\" class=\"dataframe\">\n",
       "  <thead>\n",
       "    <tr style=\"text-align: right;\">\n",
       "      <th></th>\n",
       "      <th>mean</th>\n",
       "      <th>count</th>\n",
       "    </tr>\n",
       "    <tr>\n",
       "      <th>app</th>\n",
       "      <th></th>\n",
       "      <th></th>\n",
       "    </tr>\n",
       "  </thead>\n",
       "  <tbody>\n",
       "    <tr>\n",
       "      <th>1</th>\n",
       "      <td>0.000000</td>\n",
       "      <td>3135</td>\n",
       "    </tr>\n",
       "    <tr>\n",
       "      <th>2</th>\n",
       "      <td>0.000000</td>\n",
       "      <td>11737</td>\n",
       "    </tr>\n",
       "    <tr>\n",
       "      <th>3</th>\n",
       "      <td>0.000219</td>\n",
       "      <td>18279</td>\n",
       "    </tr>\n",
       "    <tr>\n",
       "      <th>4</th>\n",
       "      <td>0.000000</td>\n",
       "      <td>58</td>\n",
       "    </tr>\n",
       "    <tr>\n",
       "      <th>5</th>\n",
       "      <td>0.074468</td>\n",
       "      <td>188</td>\n",
       "    </tr>\n",
       "    <tr>\n",
       "      <th>...</th>\n",
       "      <td>...</td>\n",
       "      <td>...</td>\n",
       "    </tr>\n",
       "    <tr>\n",
       "      <th>486</th>\n",
       "      <td>0.000000</td>\n",
       "      <td>1</td>\n",
       "    </tr>\n",
       "    <tr>\n",
       "      <th>536</th>\n",
       "      <td>0.000000</td>\n",
       "      <td>1</td>\n",
       "    </tr>\n",
       "    <tr>\n",
       "      <th>538</th>\n",
       "      <td>0.000000</td>\n",
       "      <td>1</td>\n",
       "    </tr>\n",
       "    <tr>\n",
       "      <th>548</th>\n",
       "      <td>0.000000</td>\n",
       "      <td>1</td>\n",
       "    </tr>\n",
       "    <tr>\n",
       "      <th>551</th>\n",
       "      <td>0.000000</td>\n",
       "      <td>1</td>\n",
       "    </tr>\n",
       "  </tbody>\n",
       "</table>\n",
       "<p>161 rows × 2 columns</p>\n",
       "</div>"
      ],
      "text/plain": [
       "         mean  count\n",
       "app                 \n",
       "1    0.000000   3135\n",
       "2    0.000000  11737\n",
       "3    0.000219  18279\n",
       "4    0.000000     58\n",
       "5    0.074468    188\n",
       "..        ...    ...\n",
       "486  0.000000      1\n",
       "536  0.000000      1\n",
       "538  0.000000      1\n",
       "548  0.000000      1\n",
       "551  0.000000      1\n",
       "\n",
       "[161 rows x 2 columns]"
      ]
     },
     "execution_count": 15,
     "metadata": {},
     "output_type": "execute_result"
    }
   ],
   "source": [
    "# Get average of 'is_attributed', or 'download rate' grouped with app\n",
    "app_target = df.groupby(\"app\").is_attributed.agg([\"mean\",\"count\"])\n",
    "\n",
    "# print app_target\n",
    "app_target"
   ]
  },
  {
   "cell_type": "markdown",
   "metadata": {
    "id": "-9re9UfeD3Uu"
   },
   "source": [
    "This is clearly non-readable, so let's first get rid of all the apps that are very rare (say which comprise of less than 20% clicks) and plot the rest."
   ]
  },
  {
   "cell_type": "code",
   "execution_count": 16,
   "metadata": {
    "colab": {
     "base_uri": "https://localhost:8080/",
     "height": 205
    },
    "id": "tpClVS04D3Uu",
    "outputId": "12aad1d1-71ed-4579-b8d6-527f0a6414d2",
    "scrolled": true
   },
   "outputs": [
    {
     "data": {
      "text/html": [
       "<div>\n",
       "<style scoped>\n",
       "    .dataframe tbody tr th:only-of-type {\n",
       "        vertical-align: middle;\n",
       "    }\n",
       "\n",
       "    .dataframe tbody tr th {\n",
       "        vertical-align: top;\n",
       "    }\n",
       "\n",
       "    .dataframe thead th {\n",
       "        text-align: right;\n",
       "    }\n",
       "</style>\n",
       "<table border=\"1\" class=\"dataframe\">\n",
       "  <thead>\n",
       "    <tr style=\"text-align: right;\">\n",
       "      <th></th>\n",
       "      <th>app</th>\n",
       "      <th>count</th>\n",
       "      <th>ip</th>\n",
       "      <th>device</th>\n",
       "      <th>os</th>\n",
       "      <th>channel</th>\n",
       "      <th>click_time</th>\n",
       "      <th>is_attributed</th>\n",
       "    </tr>\n",
       "  </thead>\n",
       "  <tbody>\n",
       "    <tr>\n",
       "      <th>0</th>\n",
       "      <td>1</td>\n",
       "      <td>3135</td>\n",
       "      <td>17059</td>\n",
       "      <td>1</td>\n",
       "      <td>17</td>\n",
       "      <td>135</td>\n",
       "      <td>09-11-2017 01:17</td>\n",
       "      <td>0</td>\n",
       "    </tr>\n",
       "    <tr>\n",
       "      <th>1</th>\n",
       "      <td>1</td>\n",
       "      <td>3135</td>\n",
       "      <td>52432</td>\n",
       "      <td>1</td>\n",
       "      <td>13</td>\n",
       "      <td>115</td>\n",
       "      <td>07-11-2017 17:22</td>\n",
       "      <td>0</td>\n",
       "    </tr>\n",
       "    <tr>\n",
       "      <th>2</th>\n",
       "      <td>1</td>\n",
       "      <td>3135</td>\n",
       "      <td>89242</td>\n",
       "      <td>1</td>\n",
       "      <td>27</td>\n",
       "      <td>124</td>\n",
       "      <td>07-11-2017 09:37</td>\n",
       "      <td>0</td>\n",
       "    </tr>\n",
       "    <tr>\n",
       "      <th>3</th>\n",
       "      <td>1</td>\n",
       "      <td>3135</td>\n",
       "      <td>123994</td>\n",
       "      <td>1</td>\n",
       "      <td>19</td>\n",
       "      <td>101</td>\n",
       "      <td>09-11-2017 14:27</td>\n",
       "      <td>0</td>\n",
       "    </tr>\n",
       "    <tr>\n",
       "      <th>4</th>\n",
       "      <td>1</td>\n",
       "      <td>3135</td>\n",
       "      <td>34067</td>\n",
       "      <td>1</td>\n",
       "      <td>15</td>\n",
       "      <td>134</td>\n",
       "      <td>07-11-2017 15:06</td>\n",
       "      <td>0</td>\n",
       "    </tr>\n",
       "  </tbody>\n",
       "</table>\n",
       "</div>"
      ],
      "text/plain": [
       "   app  count      ip  device  os  channel        click_time  is_attributed\n",
       "0    1   3135   17059       1  17      135  09-11-2017 01:17              0\n",
       "1    1   3135   52432       1  13      115  07-11-2017 17:22              0\n",
       "2    1   3135   89242       1  27      124  07-11-2017 09:37              0\n",
       "3    1   3135  123994       1  19      101  09-11-2017 14:27              0\n",
       "4    1   3135   34067       1  15      134  07-11-2017 15:06              0"
      ]
     },
     "execution_count": 16,
     "metadata": {},
     "output_type": "execute_result"
    }
   ],
   "source": [
    "# Make a 'count' column based on app size and reset index on count\n",
    "frequent_apps = df.groupby(\"app\").size().reset_index(name=\"count\")\n",
    "\n",
    "# filter count greater than count above 80% quantile range\n",
    "frequent_apps = frequent_apps[frequent_apps[\"count\"]>frequent_apps[\"count\"].quantile(0.80)] \n",
    "\n",
    "#inner join frequent_apps with train_sample on 'app'\n",
    "frequent_apps = frequent_apps.merge(df,on=\"app\",how=\"inner\")\n",
    "\n",
    "#print head of frequent_apps\n",
    "frequent_apps.head()"
   ]
  },
  {
   "cell_type": "code",
   "execution_count": 17,
   "metadata": {
    "colab": {
     "base_uri": "https://localhost:8080/",
     "height": 606
    },
    "id": "_2xSWynTD3Uv",
    "outputId": "20d4734a-ae9e-48df-dd6b-8737105f90d3"
   },
   "outputs": [
    {
     "data": {
      "image/png": "[encoded data removed]",
      "text/plain": [
       "<Figure size 1000x1000 with 1 Axes>"
      ]
     },
     "metadata": {},
     "output_type": "display_data"
    }
   ],
   "source": [
    "#plot count distribution of 'app' hued with 'is_attributed'\n",
    "plt.figure(figsize=(10,10))\n",
    "sns.countplot(y=\"app\",hue=\"is_attributed\",data=frequent_apps)\n",
    "plt.show()"
   ]
  },
  {
   "cell_type": "markdown",
   "metadata": {
    "_cell_guid": "40f6f8d9-bd39-4876-bca8-5dcaa14eed04",
    "_uuid": "b76d4314871b8db705dc26b51f4ba07df2cd857b",
    "id": "x8O9K64TD3Uv"
   },
   "source": [
    "## **`Feature Engineering`**"
   ]
  },
  {
   "cell_type": "markdown",
   "metadata": {
    "id": "cMwV3jpuD3Uv"
   },
   "source": [
    "Deriving some new features from the existing ones. There are a number of features one can extract from ```click_time``` itself, and by grouping combinations of IP with other features."
   ]
  },
  {
   "cell_type": "markdown",
   "metadata": {
    "_cell_guid": "9963886f-8f33-4ff4-be76-0a28e8d6ba8b",
    "_uuid": "833037301451ca4d6939909f8cfd47314834b7b9",
    "id": "u8txepiAD3Uw"
   },
   "source": [
    "### Datetime Based Features\n"
   ]
  },
  {
   "cell_type": "code",
   "execution_count": 18,
   "metadata": {
    "_cell_guid": "fd611758-c8ec-4401-9875-1eb760ccddb7",
    "_uuid": "a38688f6b07581964699b4a8c41100844f21090c",
    "id": "4IdMw79vD3Uw"
   },
   "outputs": [],
   "source": [
    "# Creating a function which takes in a df, adds date/time based columns to it and returns the modified df\n",
    "def timeFeatures(df):\n",
    "    # Creating datetime variables using the click_time column\n",
    "    df['datetime'] = pd.to_datetime(df[\"click_time\"])  # Fixed typo in to_datetime\n",
    "    \n",
    "    # Creating day_of_week variables extracting the day of the week from the datetime column\n",
    "    df['day_of_week'] = df[\"datetime\"].dt.dayofweek\n",
    "    \n",
    "    # Creating day_of_year variables extracting the day of the year from the datetime column\n",
    "    df[\"day_of_year\"] = df[\"datetime\"].dt.dayofyear\n",
    "    \n",
    "    # Creating month variables extracting the month from the datetime column\n",
    "    df[\"month\"] = df[\"datetime\"].dt.month\n",
    "    \n",
    "    # Creating hour variables extracting the hour from the datetime column\n",
    "    df[\"hour\"] = df[\"datetime\"].dt.hour\n",
    "    \n",
    "    # Return df\n",
    "    return df"
   ]
  },
  {
   "cell_type": "code",
   "execution_count": 19,
   "metadata": {
    "_cell_guid": "237df241-844b-4003-b906-298432b8d868",
    "_uuid": "694177530d20a1e33801d6053a88d99f28cfd88c",
    "colab": {
     "base_uri": "https://localhost:8080/",
     "height": 205
    },
    "id": "k4H_zncvD3Uw",
    "outputId": "99cd1827-a138-46cc-8b76-f15de1cc49aa",
    "scrolled": true
   },
   "outputs": [
    {
     "name": "stdout",
     "output_type": "stream",
     "text": [
      "       ip  app  device  os  channel  is_attributed  day_of_week  day_of_year  \\\n",
      "0   87540   12       1  13      497              0            1          192   \n",
      "1  105560   25       1  17      259              0            1          192   \n",
      "2  101424   12       1  19      212              0            1          192   \n",
      "3   94584   13       1  13      477              0            1          192   \n",
      "4   68413   12       1   1      178              0            0          254   \n",
      "\n",
      "   month  hour  \n",
      "0      7     9  \n",
      "1      7    13  \n",
      "2      7    18  \n",
      "3      7     4  \n",
      "4      9     9  \n"
     ]
    }
   ],
   "source": [
    "# Creating new variables using the above function with df as train_sample\n",
    "df = timeFeatures(df)\n",
    "\n",
    "# Dropping the click_time and datetime variables from train_sample\n",
    "df.drop([\"click_time\", \"datetime\"], axis=1, inplace=True)\n",
    "\n",
    "# Print the DataFrame head\n",
    "print(df.head())"
   ]
  },
  {
   "cell_type": "code",
   "execution_count": 20,
   "metadata": {
    "_cell_guid": "4cfe36bc-b218-48ce-ac97-9b9da3758d2f",
    "_uuid": "0eead49461cc6e85bf733b2682c95b098c6b4762",
    "colab": {
     "base_uri": "https://localhost:8080/"
    },
    "id": "ii_XjPN6D3Uw",
    "outputId": "1b1f3623-5b8b-45b4-b265-626eef38ba49"
   },
   "outputs": [
    {
     "data": {
      "text/plain": [
       "ip               int64\n",
       "app              int64\n",
       "device           int64\n",
       "os               int64\n",
       "channel          int64\n",
       "is_attributed    int64\n",
       "day_of_week      int64\n",
       "day_of_year      int64\n",
       "month            int64\n",
       "hour             int64\n",
       "dtype: object"
      ]
     },
     "execution_count": 20,
     "metadata": {},
     "output_type": "execute_result"
    }
   ],
   "source": [
    "# datatypes  of all variables in train_sample\n",
    "df.dtypes"
   ]
  },
  {
   "cell_type": "markdown",
   "metadata": {
    "id": "X7T47X_5D3Ux"
   },
   "source": [
    "note that by default the new datetime variables are int64\n"
   ]
  },
  {
   "cell_type": "code",
   "execution_count": 21,
   "metadata": {
    "_cell_guid": "2c94cc5a-7f24-4321-8b64-75835eb769a1",
    "_uuid": "72fab86bd46e38c8707d48a88d4cfd9122768e5b",
    "colab": {
     "base_uri": "https://localhost:8080/"
    },
    "id": "pZlihUcqD3Ux",
    "outputId": "ef13ddd9-5c99-42da-c020-61643c873f99"
   },
   "outputs": [
    {
     "name": "stdout",
     "output_type": "stream",
     "text": [
      "Training dataset uses 7.6295166015625MB\n"
     ]
    }
   ],
   "source": [
    "# check memory/space used by training data\n",
    "print(\"Training dataset uses {0}MB\".format(df.memory_usage().sum()/1024**2))"
   ]
  },
  {
   "cell_type": "markdown",
   "metadata": {
    "id": "b0pfN189D3Ux"
   },
   "source": [
    "Lets convert the variables back to lower dtype again\n"
   ]
  },
  {
   "cell_type": "code",
   "execution_count": 23,
   "metadata": {
    "_cell_guid": "630048e3-b363-4eb7-8620-fc7c0aed8794",
    "_uuid": "f358d55b47fdd1f3458fc640a37b83f93abd01d9",
    "id": "pLGQLqTzD3Ux"
   },
   "outputs": [],
   "source": [
    "# get all int variables in a list\n",
    "int_vars = ['ip','app','device','os','channel','is_attributed','day_of_week','day_of_year','month','hour']\n",
    "\n",
    "# convert all above variables into uint16 type\n",
    "df[int_vars] = df[int_vars].astype('uint16')"
   ]
  },
  {
   "cell_type": "code",
   "execution_count": 25,
   "metadata": {
    "_cell_guid": "bfb0e108-be87-4f1f-8690-b6a0dd253d5f",
    "_uuid": "2ad5b5082c465d89a3749ef500121a0068fc7abe",
    "colab": {
     "base_uri": "https://localhost:8080/"
    },
    "id": "q91YeRMND3Ux",
    "outputId": "35d2c615-0588-4ab5-85ed-ca48317ff5aa",
    "scrolled": true
   },
   "outputs": [
    {
     "data": {
      "text/plain": [
       "ip               uint16\n",
       "app              uint16\n",
       "device           uint16\n",
       "os               uint16\n",
       "channel          uint16\n",
       "is_attributed    uint16\n",
       "day_of_week      uint16\n",
       "day_of_year      uint16\n",
       "month            uint16\n",
       "hour             uint16\n",
       "dtype: object"
      ]
     },
     "execution_count": 25,
     "metadata": {},
     "output_type": "execute_result"
    }
   ],
   "source": [
    "#print datatype of all variables in train_sample\n",
    "df.dtypes"
   ]
  },
  {
   "cell_type": "code",
   "execution_count": 26,
   "metadata": {
    "_cell_guid": "097f83a0-d7a0-486e-8315-33e4d351349e",
    "_uuid": "7d31b2a2d63b9a7637489768da96c6833079e19e",
    "colab": {
     "base_uri": "https://localhost:8080/"
    },
    "id": "tH3IujidD3Uy",
    "outputId": "14fd62db-22b5-4972-ec6b-25d3692e5359",
    "scrolled": true
   },
   "outputs": [
    {
     "name": "stdout",
     "output_type": "stream",
     "text": [
      "Training dataset uses 1.907470703125MB\n"
     ]
    }
   ],
   "source": [
    "# space used by training data\n",
    "print(\"Training dataset uses {0}MB\".format(df.memory_usage().sum()/1024**2))"
   ]
  },
  {
   "cell_type": "markdown",
   "metadata": {
    "id": "YhU-mXtLD3Uy"
   },
   "source": [
    "The primitive data types prefixed with \"u\" are unsigned versions with the same bit sizes. Effectively, this means they cannot store negative numbers, but on the other hand they can store positive numbers twice as large as their signed counterparts. \n",
    "\n",
    "This is why it saves memory usage."
   ]
  },
  {
   "cell_type": "markdown",
   "metadata": {
    "_cell_guid": "f1a41e27-1c82-42a1-b06f-2b2d384cecee",
    "_uuid": "1a82f07ac45c9a68893d104349971344ef7aa32b",
    "id": "nc9Y8lyKD3Uy"
   },
   "source": [
    "### **`IP Grouping Based Features`**"
   ]
  },
  {
   "cell_type": "markdown",
   "metadata": {
    "_cell_guid": "1cbfe97f-6915-4e84-b63b-35c3b3933f68",
    "_uuid": "0af86c9bec412b948482bcec80c7df233f1b7c39",
    "id": "rYPRHb3ID3Uy"
   },
   "source": [
    "Creating some important features by grouping IP addresses with features such as os, channel, hour, day etc. Also, count of each IP address will also be a feature.\n",
    "\n",
    "Note that though we are deriving new features by grouping IP addresses, using IP adress itself as a features is not a good idea. This is because (in the test data) if a new IP address is seen, the model will see a new 'category' and will not be able to make predictions (IP is a categorical variable, it has just been encoded with numbers).\n",
    "\n",
    "`number of clicks by count of IP address\n",
    "Explicitly asking pandas to re-encode the aggregated features as 'int16' to save memory`"
   ]
  },
  {
   "cell_type": "code",
   "execution_count": 27,
   "metadata": {
    "_cell_guid": "b0cd1ca3-e3ef-414b-b9cc-add42aebf813",
    "_uuid": "59690cdbb2b67074d81b9be15375e6ffb0b8f85e",
    "colab": {
     "base_uri": "https://localhost:8080/",
     "height": 205
    },
    "id": "PxvwoC5yD3Uy",
    "outputId": "1d8cc740-03cd-4914-c24a-ded639f5f633",
    "scrolled": false
   },
   "outputs": [
    {
     "data": {
      "text/html": [
       "<div>\n",
       "<style scoped>\n",
       "    .dataframe tbody tr th:only-of-type {\n",
       "        vertical-align: middle;\n",
       "    }\n",
       "\n",
       "    .dataframe tbody tr th {\n",
       "        vertical-align: top;\n",
       "    }\n",
       "\n",
       "    .dataframe thead th {\n",
       "        text-align: right;\n",
       "    }\n",
       "</style>\n",
       "<table border=\"1\" class=\"dataframe\">\n",
       "  <thead>\n",
       "    <tr style=\"text-align: right;\">\n",
       "      <th></th>\n",
       "      <th>ip</th>\n",
       "      <th>ip_count</th>\n",
       "    </tr>\n",
       "  </thead>\n",
       "  <tbody>\n",
       "    <tr>\n",
       "      <th>0</th>\n",
       "      <td>8</td>\n",
       "      <td>1</td>\n",
       "    </tr>\n",
       "    <tr>\n",
       "      <th>1</th>\n",
       "      <td>9</td>\n",
       "      <td>1</td>\n",
       "    </tr>\n",
       "    <tr>\n",
       "      <th>2</th>\n",
       "      <td>10</td>\n",
       "      <td>3</td>\n",
       "    </tr>\n",
       "    <tr>\n",
       "      <th>3</th>\n",
       "      <td>14</td>\n",
       "      <td>1</td>\n",
       "    </tr>\n",
       "    <tr>\n",
       "      <th>4</th>\n",
       "      <td>16</td>\n",
       "      <td>6</td>\n",
       "    </tr>\n",
       "  </tbody>\n",
       "</table>\n",
       "</div>"
      ],
      "text/plain": [
       "   ip  ip_count\n",
       "0   8         1\n",
       "1   9         1\n",
       "2  10         3\n",
       "3  14         1\n",
       "4  16         6"
      ]
     },
     "execution_count": 27,
     "metadata": {},
     "output_type": "execute_result"
    }
   ],
   "source": [
    "# Create a column 'ip_count' using number of clicks by count of IP address \n",
    "ip_count = df.groupby(\"ip\").size().reset_index(name=\"ip_count\").astype(\"int16\")\n",
    "\n",
    "#print head of ip_count \n",
    "ip_count.head()"
   ]
  },
  {
   "cell_type": "markdown",
   "metadata": {
    "id": "7BxrNr9DD3Uz"
   },
   "source": [
    "Merging this dataframe with the original training df. Similarly, we can create combinations of various features such as ip_day_hour (count of ip-day-hour combinations), ip_hour_channel, ip_hour_app, etc. \n",
    "\n",
    "The following function takes in a dataframe and creates these features."
   ]
  },
  {
   "cell_type": "code",
   "execution_count": 36,
   "metadata": {
    "id": "_Ui3nAEPD3Uz"
   },
   "outputs": [],
   "source": [
    "def grouped_features(df):\n",
    "    # ip_count\n",
    "    ip_count = df.groupby(\"ip\").size().reset_index(name=\"ip_count\").astype(\"uint16\")\n",
    "    df = df.merge(ip_count, on=\"ip\", how=\"left\")\n",
    "    \n",
    "    # ip_day_hour\n",
    "    ip_day_hour = df.groupby([\"ip\",\"day_of_week\",\"hour\"]).size().reset_index(name=\"ip_day_hour\").astype(\"uint16\")\n",
    "    df = df.merge(ip_day_hour, on=[\"ip\",\"day_of_week\",\"hour\"], how=\"left\")\n",
    "    \n",
    "    # ip_hour_channel\n",
    "    ip_hour_channel = df.groupby([\"ip\",\"hour\",\"channel\"]).size().reset_index(name=\"ip_hour_channel\").astype(\"uint16\")\n",
    "    df = df.merge(ip_hour_channel, on=[\"ip\",\"hour\",\"channel\"], how=\"left\")\n",
    "\n",
    "    # ip_hour_os\n",
    "    ip_hour_os = df.groupby([\"ip\",\"hour\",\"os\"]).size().reset_index(name=\"ip_hour_os\").astype(\"uint16\")\n",
    "    df = df.merge(ip_hour_os, on=[\"ip\",\"hour\",\"os\"], how=\"left\")\n",
    "\n",
    "    # ip_hour_app\n",
    "    ip_hour_app = df.groupby([\"ip\",\"hour\",\"app\"]).size().reset_index(name=\"ip_hour_app\").astype(\"uint16\")\n",
    "    df = df.merge(ip_hour_app, on=[\"ip\",\"hour\",\"app\"], how=\"left\")\n",
    "\n",
    "    # ip_hour_device\n",
    "    ip_hour_device = df.groupby([\"ip\",\"hour\",\"device\"]).size().reset_index(name=\"ip_hour_device\").astype(\"uint16\")\n",
    "    df = df.merge(ip_hour_device, on=[\"ip\",\"hour\",\"device\"], how=\"left\")\n",
    "\n",
    "    return df"
   ]
  },
  {
   "cell_type": "code",
   "execution_count": 38,
   "metadata": {
    "id": "K4zweDWED3Uz"
   },
   "outputs": [
    {
     "data": {
      "text/html": [
       "<div>\n",
       "<style scoped>\n",
       "    .dataframe tbody tr th:only-of-type {\n",
       "        vertical-align: middle;\n",
       "    }\n",
       "\n",
       "    .dataframe tbody tr th {\n",
       "        vertical-align: top;\n",
       "    }\n",
       "\n",
       "    .dataframe thead th {\n",
       "        text-align: right;\n",
       "    }\n",
       "</style>\n",
       "<table border=\"1\" class=\"dataframe\">\n",
       "  <thead>\n",
       "    <tr style=\"text-align: right;\">\n",
       "      <th></th>\n",
       "      <th>ip</th>\n",
       "      <th>app</th>\n",
       "      <th>device</th>\n",
       "      <th>os</th>\n",
       "      <th>channel</th>\n",
       "      <th>is_attributed</th>\n",
       "      <th>day_of_week</th>\n",
       "      <th>day_of_year</th>\n",
       "      <th>month</th>\n",
       "      <th>hour</th>\n",
       "      <th>...</th>\n",
       "      <th>ip_hour_channel_x</th>\n",
       "      <th>ip_hour_os_x</th>\n",
       "      <th>ip_hour_app_x</th>\n",
       "      <th>ip_hour_device_x</th>\n",
       "      <th>ip_count_y</th>\n",
       "      <th>ip_day_hour_y</th>\n",
       "      <th>ip_hour_channel_y</th>\n",
       "      <th>ip_hour_os_y</th>\n",
       "      <th>ip_hour_app_y</th>\n",
       "      <th>ip_hour_device_y</th>\n",
       "    </tr>\n",
       "  </thead>\n",
       "  <tbody>\n",
       "    <tr>\n",
       "      <th>0</th>\n",
       "      <td>22004</td>\n",
       "      <td>12</td>\n",
       "      <td>1</td>\n",
       "      <td>13</td>\n",
       "      <td>497</td>\n",
       "      <td>0</td>\n",
       "      <td>1</td>\n",
       "      <td>192</td>\n",
       "      <td>7</td>\n",
       "      <td>9</td>\n",
       "      <td>...</td>\n",
       "      <td>1</td>\n",
       "      <td>1</td>\n",
       "      <td>1</td>\n",
       "      <td>1</td>\n",
       "      <td>8</td>\n",
       "      <td>1</td>\n",
       "      <td>1</td>\n",
       "      <td>1</td>\n",
       "      <td>1</td>\n",
       "      <td>1</td>\n",
       "    </tr>\n",
       "    <tr>\n",
       "      <th>1</th>\n",
       "      <td>40024</td>\n",
       "      <td>25</td>\n",
       "      <td>1</td>\n",
       "      <td>17</td>\n",
       "      <td>259</td>\n",
       "      <td>0</td>\n",
       "      <td>1</td>\n",
       "      <td>192</td>\n",
       "      <td>7</td>\n",
       "      <td>13</td>\n",
       "      <td>...</td>\n",
       "      <td>1</td>\n",
       "      <td>1</td>\n",
       "      <td>1</td>\n",
       "      <td>8</td>\n",
       "      <td>149</td>\n",
       "      <td>4</td>\n",
       "      <td>1</td>\n",
       "      <td>1</td>\n",
       "      <td>1</td>\n",
       "      <td>8</td>\n",
       "    </tr>\n",
       "    <tr>\n",
       "      <th>2</th>\n",
       "      <td>35888</td>\n",
       "      <td>12</td>\n",
       "      <td>1</td>\n",
       "      <td>19</td>\n",
       "      <td>212</td>\n",
       "      <td>0</td>\n",
       "      <td>1</td>\n",
       "      <td>192</td>\n",
       "      <td>7</td>\n",
       "      <td>18</td>\n",
       "      <td>...</td>\n",
       "      <td>1</td>\n",
       "      <td>1</td>\n",
       "      <td>1</td>\n",
       "      <td>1</td>\n",
       "      <td>2</td>\n",
       "      <td>1</td>\n",
       "      <td>1</td>\n",
       "      <td>1</td>\n",
       "      <td>1</td>\n",
       "      <td>1</td>\n",
       "    </tr>\n",
       "    <tr>\n",
       "      <th>3</th>\n",
       "      <td>29048</td>\n",
       "      <td>13</td>\n",
       "      <td>1</td>\n",
       "      <td>13</td>\n",
       "      <td>477</td>\n",
       "      <td>0</td>\n",
       "      <td>1</td>\n",
       "      <td>192</td>\n",
       "      <td>7</td>\n",
       "      <td>4</td>\n",
       "      <td>...</td>\n",
       "      <td>1</td>\n",
       "      <td>1</td>\n",
       "      <td>1</td>\n",
       "      <td>1</td>\n",
       "      <td>3</td>\n",
       "      <td>1</td>\n",
       "      <td>1</td>\n",
       "      <td>1</td>\n",
       "      <td>1</td>\n",
       "      <td>1</td>\n",
       "    </tr>\n",
       "    <tr>\n",
       "      <th>4</th>\n",
       "      <td>2877</td>\n",
       "      <td>12</td>\n",
       "      <td>1</td>\n",
       "      <td>1</td>\n",
       "      <td>178</td>\n",
       "      <td>0</td>\n",
       "      <td>0</td>\n",
       "      <td>254</td>\n",
       "      <td>9</td>\n",
       "      <td>9</td>\n",
       "      <td>...</td>\n",
       "      <td>1</td>\n",
       "      <td>1</td>\n",
       "      <td>1</td>\n",
       "      <td>1</td>\n",
       "      <td>4</td>\n",
       "      <td>1</td>\n",
       "      <td>1</td>\n",
       "      <td>1</td>\n",
       "      <td>1</td>\n",
       "      <td>1</td>\n",
       "    </tr>\n",
       "  </tbody>\n",
       "</table>\n",
       "<p>5 rows × 22 columns</p>\n",
       "</div>"
      ],
      "text/plain": [
       "      ip  app  device  os  channel  is_attributed  day_of_week  day_of_year  \\\n",
       "0  22004   12       1  13      497              0            1          192   \n",
       "1  40024   25       1  17      259              0            1          192   \n",
       "2  35888   12       1  19      212              0            1          192   \n",
       "3  29048   13       1  13      477              0            1          192   \n",
       "4   2877   12       1   1      178              0            0          254   \n",
       "\n",
       "   month  hour  ...  ip_hour_channel_x  ip_hour_os_x  ip_hour_app_x  \\\n",
       "0      7     9  ...                  1             1              1   \n",
       "1      7    13  ...                  1             1              1   \n",
       "2      7    18  ...                  1             1              1   \n",
       "3      7     4  ...                  1             1              1   \n",
       "4      9     9  ...                  1             1              1   \n",
       "\n",
       "   ip_hour_device_x  ip_count_y  ip_day_hour_y  ip_hour_channel_y  \\\n",
       "0                 1           8              1                  1   \n",
       "1                 8         149              4                  1   \n",
       "2                 1           2              1                  1   \n",
       "3                 1           3              1                  1   \n",
       "4                 1           4              1                  1   \n",
       "\n",
       "   ip_hour_os_y  ip_hour_app_y  ip_hour_device_y  \n",
       "0             1              1                 1  \n",
       "1             1              1                 8  \n",
       "2             1              1                 1  \n",
       "3             1              1                 1  \n",
       "4             1              1                 1  \n",
       "\n",
       "[5 rows x 22 columns]"
      ]
     },
     "execution_count": 38,
     "metadata": {},
     "output_type": "execute_result"
    }
   ],
   "source": [
    "#Use above grouped_features() function with train_sample as parameter to create your new train_sample data \n",
    "df = grouped_features(df)\n"
   ]
  },
  {
   "cell_type": "code",
   "execution_count": 39,
   "metadata": {
    "_cell_guid": "dcb86f85-6418-40dd-8e4a-670f1df0b3fc",
    "_uuid": "3fffc4f935664d861cc0556f78f654c0c7121dac",
    "colab": {
     "base_uri": "https://localhost:8080/",
     "height": 225
    },
    "id": "kiGA5NwLD3U0",
    "outputId": "7c8cc5ca-d273-4feb-ed85-776a1c3e6ffb",
    "scrolled": true
   },
   "outputs": [
    {
     "data": {
      "text/html": [
       "<div>\n",
       "<style scoped>\n",
       "    .dataframe tbody tr th:only-of-type {\n",
       "        vertical-align: middle;\n",
       "    }\n",
       "\n",
       "    .dataframe tbody tr th {\n",
       "        vertical-align: top;\n",
       "    }\n",
       "\n",
       "    .dataframe thead th {\n",
       "        text-align: right;\n",
       "    }\n",
       "</style>\n",
       "<table border=\"1\" class=\"dataframe\">\n",
       "  <thead>\n",
       "    <tr style=\"text-align: right;\">\n",
       "      <th></th>\n",
       "      <th>ip</th>\n",
       "      <th>app</th>\n",
       "      <th>device</th>\n",
       "      <th>os</th>\n",
       "      <th>channel</th>\n",
       "      <th>is_attributed</th>\n",
       "      <th>day_of_week</th>\n",
       "      <th>day_of_year</th>\n",
       "      <th>month</th>\n",
       "      <th>hour</th>\n",
       "      <th>...</th>\n",
       "      <th>ip_hour_channel_x</th>\n",
       "      <th>ip_hour_os_x</th>\n",
       "      <th>ip_hour_app_x</th>\n",
       "      <th>ip_hour_device_x</th>\n",
       "      <th>ip_count_y</th>\n",
       "      <th>ip_day_hour_y</th>\n",
       "      <th>ip_hour_channel_y</th>\n",
       "      <th>ip_hour_os_y</th>\n",
       "      <th>ip_hour_app_y</th>\n",
       "      <th>ip_hour_device_y</th>\n",
       "    </tr>\n",
       "  </thead>\n",
       "  <tbody>\n",
       "    <tr>\n",
       "      <th>0</th>\n",
       "      <td>22004</td>\n",
       "      <td>12</td>\n",
       "      <td>1</td>\n",
       "      <td>13</td>\n",
       "      <td>497</td>\n",
       "      <td>0</td>\n",
       "      <td>1</td>\n",
       "      <td>192</td>\n",
       "      <td>7</td>\n",
       "      <td>9</td>\n",
       "      <td>...</td>\n",
       "      <td>1</td>\n",
       "      <td>1</td>\n",
       "      <td>1</td>\n",
       "      <td>1</td>\n",
       "      <td>8</td>\n",
       "      <td>1</td>\n",
       "      <td>1</td>\n",
       "      <td>1</td>\n",
       "      <td>1</td>\n",
       "      <td>1</td>\n",
       "    </tr>\n",
       "    <tr>\n",
       "      <th>1</th>\n",
       "      <td>40024</td>\n",
       "      <td>25</td>\n",
       "      <td>1</td>\n",
       "      <td>17</td>\n",
       "      <td>259</td>\n",
       "      <td>0</td>\n",
       "      <td>1</td>\n",
       "      <td>192</td>\n",
       "      <td>7</td>\n",
       "      <td>13</td>\n",
       "      <td>...</td>\n",
       "      <td>1</td>\n",
       "      <td>1</td>\n",
       "      <td>1</td>\n",
       "      <td>8</td>\n",
       "      <td>149</td>\n",
       "      <td>4</td>\n",
       "      <td>1</td>\n",
       "      <td>1</td>\n",
       "      <td>1</td>\n",
       "      <td>8</td>\n",
       "    </tr>\n",
       "    <tr>\n",
       "      <th>2</th>\n",
       "      <td>35888</td>\n",
       "      <td>12</td>\n",
       "      <td>1</td>\n",
       "      <td>19</td>\n",
       "      <td>212</td>\n",
       "      <td>0</td>\n",
       "      <td>1</td>\n",
       "      <td>192</td>\n",
       "      <td>7</td>\n",
       "      <td>18</td>\n",
       "      <td>...</td>\n",
       "      <td>1</td>\n",
       "      <td>1</td>\n",
       "      <td>1</td>\n",
       "      <td>1</td>\n",
       "      <td>2</td>\n",
       "      <td>1</td>\n",
       "      <td>1</td>\n",
       "      <td>1</td>\n",
       "      <td>1</td>\n",
       "      <td>1</td>\n",
       "    </tr>\n",
       "    <tr>\n",
       "      <th>3</th>\n",
       "      <td>29048</td>\n",
       "      <td>13</td>\n",
       "      <td>1</td>\n",
       "      <td>13</td>\n",
       "      <td>477</td>\n",
       "      <td>0</td>\n",
       "      <td>1</td>\n",
       "      <td>192</td>\n",
       "      <td>7</td>\n",
       "      <td>4</td>\n",
       "      <td>...</td>\n",
       "      <td>1</td>\n",
       "      <td>1</td>\n",
       "      <td>1</td>\n",
       "      <td>1</td>\n",
       "      <td>3</td>\n",
       "      <td>1</td>\n",
       "      <td>1</td>\n",
       "      <td>1</td>\n",
       "      <td>1</td>\n",
       "      <td>1</td>\n",
       "    </tr>\n",
       "    <tr>\n",
       "      <th>4</th>\n",
       "      <td>2877</td>\n",
       "      <td>12</td>\n",
       "      <td>1</td>\n",
       "      <td>1</td>\n",
       "      <td>178</td>\n",
       "      <td>0</td>\n",
       "      <td>0</td>\n",
       "      <td>254</td>\n",
       "      <td>9</td>\n",
       "      <td>9</td>\n",
       "      <td>...</td>\n",
       "      <td>1</td>\n",
       "      <td>1</td>\n",
       "      <td>1</td>\n",
       "      <td>1</td>\n",
       "      <td>4</td>\n",
       "      <td>1</td>\n",
       "      <td>1</td>\n",
       "      <td>1</td>\n",
       "      <td>1</td>\n",
       "      <td>1</td>\n",
       "    </tr>\n",
       "  </tbody>\n",
       "</table>\n",
       "<p>5 rows × 22 columns</p>\n",
       "</div>"
      ],
      "text/plain": [
       "      ip  app  device  os  channel  is_attributed  day_of_week  day_of_year  \\\n",
       "0  22004   12       1  13      497              0            1          192   \n",
       "1  40024   25       1  17      259              0            1          192   \n",
       "2  35888   12       1  19      212              0            1          192   \n",
       "3  29048   13       1  13      477              0            1          192   \n",
       "4   2877   12       1   1      178              0            0          254   \n",
       "\n",
       "   month  hour  ...  ip_hour_channel_x  ip_hour_os_x  ip_hour_app_x  \\\n",
       "0      7     9  ...                  1             1              1   \n",
       "1      7    13  ...                  1             1              1   \n",
       "2      7    18  ...                  1             1              1   \n",
       "3      7     4  ...                  1             1              1   \n",
       "4      9     9  ...                  1             1              1   \n",
       "\n",
       "   ip_hour_device_x  ip_count_y  ip_day_hour_y  ip_hour_channel_y  \\\n",
       "0                 1           8              1                  1   \n",
       "1                 8         149              4                  1   \n",
       "2                 1           2              1                  1   \n",
       "3                 1           3              1                  1   \n",
       "4                 1           4              1                  1   \n",
       "\n",
       "   ip_hour_os_y  ip_hour_app_y  ip_hour_device_y  \n",
       "0             1              1                 1  \n",
       "1             1              1                 8  \n",
       "2             1              1                 1  \n",
       "3             1              1                 1  \n",
       "4             1              1                 1  \n",
       "\n",
       "[5 rows x 22 columns]"
      ]
     },
     "execution_count": 39,
     "metadata": {},
     "output_type": "execute_result"
    }
   ],
   "source": [
    "#print head of train_sample\n",
    "df.head()"
   ]
  },
  {
   "cell_type": "code",
   "execution_count": 40,
   "metadata": {
    "_cell_guid": "e01b730e-a9a3-4899-a867-3d3da43d1670",
    "_uuid": "e819b6938609e7a2c96e3bea97d83afeea10457d",
    "colab": {
     "base_uri": "https://localhost:8080/"
    },
    "id": "aHQ_6EUbD3U0",
    "outputId": "f1634a67-cedc-4573-c822-08d5fc1ea411",
    "scrolled": true
   },
   "outputs": [
    {
     "name": "stdout",
     "output_type": "stream",
     "text": [
      "Training dataset uses 4.9591064453125MB\n"
     ]
    }
   ],
   "source": [
    "#check space usage of train_sample again\n",
    "print(\"Training dataset uses {0}MB\".format(df.memory_usage().sum()/1024**2))"
   ]
  },
  {
   "cell_type": "code",
   "execution_count": 41,
   "metadata": {
    "_cell_guid": "e1c25766-1a45-416e-bcd0-865aa8c83e0f",
    "_uuid": "70d49f6f951fc870e404dc11f5643b39a5fe2a36",
    "colab": {
     "base_uri": "https://localhost:8080/"
    },
    "id": "BkjGM0yuD3U2",
    "outputId": "9e3cf1f7-1f8e-441c-c542-a99183d0c43e",
    "scrolled": true
   },
   "outputs": [
    {
     "data": {
      "text/plain": [
       "28622"
      ]
     },
     "execution_count": 41,
     "metadata": {},
     "output_type": "execute_result"
    }
   ],
   "source": [
    "# garbage collect (unused) object using gc.collect()\n",
    "gc.collect()"
   ]
  },
  {
   "cell_type": "markdown",
   "metadata": {
    "id": "w6ffnEGQD3U3"
   },
   "source": [
    "## **`Modelling`**\n",
    "\n",
    "\n",
    "Building models to predict the variable ```is_attributed``` (downloaded). Try to perform on the several variants of boosting (adaboost, gradient boosting and XGBoost, LightGBM and Catboost), tune the hyperparameters in each model and choose the one which gives the best performance.\n"
   ]
  },
  {
   "cell_type": "code",
   "execution_count": 42,
   "metadata": {
    "_cell_guid": "2b85ad1e-932b-4570-99ad-df89d8e09eee",
    "_uuid": "fb851915b9cd57bb5fd85a0d08b317c695db015b",
    "colab": {
     "base_uri": "https://localhost:8080/"
    },
    "id": "SnK-PVG8D3U3",
    "outputId": "97a9fc11-09d0-4b47-f322-3845bac6fb40",
    "scrolled": false
   },
   "outputs": [
    {
     "name": "stdout",
     "output_type": "stream",
     "text": [
      "(70000, 21)\n",
      "(70000, 1)\n",
      "(30000, 21)\n",
      "(30000, 1)\n"
     ]
    }
   ],
   "source": [
    "# create X and y train\n",
    "x = df.drop(\"is_attributed\",axis=1)\n",
    "y = df[[\"is_attributed\"]]\n",
    "\n",
    "# split data into train and test/validation sets with test_size as 30% and random state as 101\n",
    "xtrain,xtest,ytrain,ytest = train_test_split(x,y,test_size=0.3,random_state=101)\n",
    "\n",
    "#print shape of X_train, y_train, X_test and y_test\n",
    "print(xtrain.shape)\n",
    "print(ytrain.shape)\n",
    "print(xtest.shape)\n",
    "print(ytest.shape)"
   ]
  },
  {
   "cell_type": "code",
   "execution_count": 43,
   "metadata": {
    "_cell_guid": "d0e93c90-38df-486b-b7e5-52c82b21d821",
    "_uuid": "116f681214fa50bf5710df325d37203a10d66df2",
    "colab": {
     "base_uri": "https://localhost:8080/"
    },
    "id": "t5n0S7z7D3U3",
    "outputId": "c7d26a93-b660-458c-af3a-c4e6c1ffd997",
    "scrolled": true
   },
   "outputs": [
    {
     "name": "stdout",
     "output_type": "stream",
     "text": [
      "is_attributed    0.002257\n",
      "dtype: float64\n",
      "is_attributed    0.0023\n",
      "dtype: float64\n"
     ]
    }
   ],
   "source": [
    "# check the average download rates in train \n",
    "print(ytrain.mean())\n",
    "\n",
    "# check the average download rates in test data, and check they should be comparable\n",
    "print(ytest.mean())"
   ]
  },
  {
   "cell_type": "markdown",
   "metadata": {
    "id": "ZIkG7IwtD3U4"
   },
   "source": [
    "### **`1.  AdaBoost`**\n",
    "\n",
    "Reference doc: https://scikit-learn.org/stable/modules/generated/sklearn.ensemble.AdaBoostClassifier.html\n",
    "\n",
    "AdaBoost algorithm, short for Adaptive Boosting, is a Boosting technique that is used as an Ensemble Method in Machine Learning. It is called Adaptive Boosting as the weights are re-assigned to each instance, with higher weights to incorrectly classified instances. Boosting is used to reduce bias as well as the variance for supervised learning. It works on the principle where learners are grown sequentially. Except for the first, each subsequent learner is grown from previously grown learners. In simple words, weak learners are converted into strong ones. Adaboost algorithm also works on the same principle as boosting, but there is a slight difference in working. "
   ]
  },
  {
   "cell_type": "code",
   "execution_count": 47,
   "metadata": {
    "id": "dCSn9O8AD3U4"
   },
   "outputs": [],
   "source": [
    "# Instantiate DecisionTreeClassifier with max_depth as 2 and random state as 1\n",
    "tree = DecisionTreeClassifier(max_depth=2, random_state=1)\n",
    "\n",
    "# adaboost with the tree as base estimator, max 600 decision trees of depth=2,\n",
    "# learning_rate/shrinkage=1.5 and algorithm as \"SAMME\" and random_state as 1\n",
    "adaboost_model_1 = AdaBoostClassifier(\n",
    "    base_estimator=tree,\n",
    "    n_estimators=600,\n",
    "    learning_rate=1.5,\n",
    "    algorithm=\"SAMME\",\n",
    "    random_state=1\n",
    ")"
   ]
  },
  {
   "cell_type": "code",
   "execution_count": 48,
   "metadata": {
    "colab": {
     "base_uri": "https://localhost:8080/"
    },
    "id": "oi2t_42lD3U4",
    "outputId": "e4f22f08-cda5-4830-c875-c9f6d9cffbe5"
   },
   "outputs": [
    {
     "data": {
      "text/plain": [
       "AdaBoostClassifier(algorithm='SAMME',\n",
       "                   base_estimator=DecisionTreeClassifier(max_depth=2,\n",
       "                                                         random_state=1),\n",
       "                   learning_rate=1.5, n_estimators=600, random_state=1)"
      ]
     },
     "execution_count": 48,
     "metadata": {},
     "output_type": "execute_result"
    }
   ],
   "source": [
    "# fit adaboost_model_1 with training dataset\n",
    "adaboost_model_1.fit(xtrain, ytrain)"
   ]
  },
  {
   "cell_type": "code",
   "execution_count": 49,
   "metadata": {
    "colab": {
     "base_uri": "https://localhost:8080/"
    },
    "id": "SxtEqrLMD3U5",
    "outputId": "57d0468a-fe64-4e6d-f2db-ef6ddaedd239",
    "scrolled": true
   },
   "outputs": [
    {
     "data": {
      "text/plain": [
       "array([[0.53910456, 0.46089544],\n",
       "       [0.53011282, 0.46988718],\n",
       "       [0.53226158, 0.46773842],\n",
       "       [0.54126487, 0.45873513],\n",
       "       [0.52411609, 0.47588391],\n",
       "       [0.53200964, 0.46799036],\n",
       "       [0.53248117, 0.46751883],\n",
       "       [0.5432718 , 0.4567282 ],\n",
       "       [0.52722154, 0.47277846],\n",
       "       [0.52023627, 0.47976373]])"
      ]
     },
     "execution_count": 49,
     "metadata": {},
     "output_type": "execute_result"
    }
   ],
   "source": [
    "# prediction probability on X_test\n",
    "predictions = adaboost_model_1.predict_proba(xtest)\n",
    "\n",
    "#print top 10 prediction result\n",
    "predictions[:10]"
   ]
  },
  {
   "cell_type": "markdown",
   "metadata": {
    "id": "af07mdE7D3U5"
   },
   "source": [
    "In above result the second column represents the probability of a click resulting in a download\n"
   ]
  },
  {
   "cell_type": "code",
   "execution_count": 50,
   "metadata": {
    "colab": {
     "base_uri": "https://localhost:8080/"
    },
    "id": "2A8LQ5HGD3U5",
    "outputId": "a37d0bba-20f5-4d22-af8b-1c55e599cd94"
   },
   "outputs": [
    {
     "data": {
      "text/plain": [
       "0.9364499701971538"
      ]
     },
     "execution_count": 50,
     "metadata": {},
     "output_type": "execute_result"
    }
   ],
   "source": [
    "# metrics: Get AUC score with parameters y_test and predicted probability result\n",
    "metrics.roc_auc_score(ytest,predictions[:,1])"
   ]
  },
  {
   "cell_type": "markdown",
   "metadata": {
    "id": "1ZD_mU_zD3U6"
   },
   "source": [
    "### **`AdaBoost - Hyperparameter Tuning`**\n",
    "\n",
    "Tunning the hyperparameters of the AdaBoost classifier. In this case, we have two types of hyperparameters - those of the component trees (max_depth etc.) and those of the ensemble (n_estimators, learning_rate etc.). \n",
    "\n",
    "\n",
    "We can tune both using the following technique - the keys of the form ```base_estimator_parameter_name``` belong to the trees (base estimator), and the rest belong to the ensemble."
   ]
  },
  {
   "cell_type": "code",
   "execution_count": 52,
   "metadata": {
    "id": "EA716bp0D3U6"
   },
   "outputs": [],
   "source": [
    "# parameter grid with base_estimator__max_depth as [2,5] and n_estimators as [200, 400, 600]\n",
    "param_grid = {\"base_estimator__max_depth\":[2,5],\n",
    "              \"n_estimators\":[200,400,600]\n",
    "}"
   ]
  },
  {
   "cell_type": "code",
   "execution_count": 55,
   "metadata": {
    "id": "7sCbHLMdD3U6"
   },
   "outputs": [],
   "source": [
    "# DecisionTreeClassifier as base estimator with random_state=1\n",
    "tree = DecisionTreeClassifier(random_state=1)\n",
    "\n",
    "'''adaboost with the tree as base estimator and learning rate is arbitrarily set to 0.6, \n",
    "we'll discuss learning_rate below and algorithm as \"SAMME\"'''\n",
    "\n",
    "ABC = AdaBoostClassifier(\n",
    "    base_estimator=tree,\n",
    "    learning_rate=0.6,\n",
    "    algorithm=\"SAMME\")"
   ]
  },
  {
   "cell_type": "markdown",
   "metadata": {
    "id": "ymh6clcUD3U6"
   },
   "source": [
    "#### Run grid search CV\n"
   ]
  },
  {
   "cell_type": "code",
   "execution_count": 56,
   "metadata": {
    "id": "AqYdCANaD3U7"
   },
   "outputs": [],
   "source": [
    "# Keep cross validation fold as 3\n",
    "folds = 3\n",
    "\n",
    "# run grid search with ABC, folds, param_grid and scoring as roc_auc, return_train_score as True and verbose as 1\n",
    "grid_search_ABC = GridSearchCV(ABC,\n",
    "                              cv=folds,\n",
    "                              param_grid=param_grid,\n",
    "                              scoring=\"roc_auc\",\n",
    "                              return_train_score=True,\n",
    "                              verbose=1)"
   ]
  },
  {
   "cell_type": "code",
   "execution_count": 57,
   "metadata": {
    "colab": {
     "base_uri": "https://localhost:8080/"
    },
    "id": "noipaXniD3U7",
    "outputId": "3418e133-21d0-4749-ef42-652a495c930e"
   },
   "outputs": [
    {
     "name": "stdout",
     "output_type": "stream",
     "text": [
      "Fitting 3 folds for each of 6 candidates, totalling 18 fits\n"
     ]
    },
    {
     "data": {
      "text/plain": [
       "GridSearchCV(cv=3,\n",
       "             estimator=AdaBoostClassifier(algorithm='SAMME',\n",
       "                                          base_estimator=DecisionTreeClassifier(random_state=1),\n",
       "                                          learning_rate=0.6),\n",
       "             param_grid={'base_estimator__max_depth': [2, 5],\n",
       "                         'n_estimators': [200, 400, 600]},\n",
       "             return_train_score=True, scoring='roc_auc', verbose=1)"
      ]
     },
     "execution_count": 57,
     "metadata": {},
     "output_type": "execute_result"
    }
   ],
   "source": [
    "# fit grid_search_ABC on training data\n",
    "grid_search_ABC.fit(xtrain,ytrain)"
   ]
  },
  {
   "cell_type": "code",
   "execution_count": 59,
   "metadata": {
    "colab": {
     "base_uri": "https://localhost:8080/",
     "height": 360
    },
    "id": "tf1glbAeD3U7",
    "outputId": "0f73a5d0-31e4-4af1-f78b-64d577572539",
    "scrolled": true
   },
   "outputs": [
    {
     "name": "stdout",
     "output_type": "stream",
     "text": [
      "   mean_fit_time  std_fit_time  mean_score_time  std_score_time  \\\n",
      "0      13.300376      0.605181         0.672996        0.048866   \n",
      "1      23.516535      1.685403         1.112337        0.197431   \n",
      "2      32.537424      0.135833         1.416323        0.114305   \n",
      "3      23.041336      0.580061         0.525909        0.007357   \n",
      "4      46.779289      0.774719         1.166934        0.074984   \n",
      "5      70.688290      0.805150         1.681896        0.130907   \n",
      "\n",
      "  param_base_estimator__max_depth param_n_estimators  \\\n",
      "0                               2                200   \n",
      "1                               2                400   \n",
      "2                               2                600   \n",
      "3                               5                200   \n",
      "4                               5                400   \n",
      "5                               5                600   \n",
      "\n",
      "                                              params  split0_test_score  \\\n",
      "0  {'base_estimator__max_depth': 2, 'n_estimators...           0.982618   \n",
      "1  {'base_estimator__max_depth': 2, 'n_estimators...           0.980909   \n",
      "2  {'base_estimator__max_depth': 2, 'n_estimators...           0.978974   \n",
      "3  {'base_estimator__max_depth': 5, 'n_estimators...           0.952106   \n",
      "4  {'base_estimator__max_depth': 5, 'n_estimators...           0.961298   \n",
      "5  {'base_estimator__max_depth': 5, 'n_estimators...           0.950538   \n",
      "\n",
      "   split1_test_score  split2_test_score  mean_test_score  std_test_score  \\\n",
      "0           0.955890           0.955994         0.964834        0.012575   \n",
      "1           0.955287           0.957613         0.964603        0.011569   \n",
      "2           0.954294           0.956812         0.963360        0.011089   \n",
      "3           0.936986           0.926982         0.938691        0.010328   \n",
      "4           0.928894           0.926940         0.939044        0.015756   \n",
      "5           0.924641           0.931369         0.935516        0.010971   \n",
      "\n",
      "   rank_test_score  split0_train_score  split1_train_score  \\\n",
      "0                1            0.995939            0.997063   \n",
      "1                2            0.997566            0.998241   \n",
      "2                3            0.998062            0.998761   \n",
      "3                5            1.000000            1.000000   \n",
      "4                4            1.000000            1.000000   \n",
      "5                6            1.000000            1.000000   \n",
      "\n",
      "   split2_train_score  mean_train_score  std_train_score  \n",
      "0            0.997969          0.996990         0.000830  \n",
      "1            0.998746          0.998184         0.000483  \n",
      "2            0.999347          0.998723         0.000525  \n",
      "3            1.000000          1.000000         0.000000  \n",
      "4            1.000000          1.000000         0.000000  \n",
      "5            1.000000          1.000000         0.000000  \n"
     ]
    }
   ],
   "source": [
    "# cv results\n",
    "cv_results = pd.DataFrame(grid_search_ABC.cv_results_)\n",
    "\n",
    "# print cv_results\n",
    "print(cv_results)"
   ]
  },
  {
   "cell_type": "code",
   "execution_count": 60,
   "metadata": {
    "colab": {
     "base_uri": "https://localhost:8080/",
     "height": 407
    },
    "id": "42TG9kveD3U7",
    "outputId": "3e2b89d2-9bd9-434d-daed-6610f738bc9f"
   },
   "outputs": [
    {
     "data": {
      "image/png": "[encoded data removed]",
      "text/plain": [
       "<Figure size 1600x600 with 2 Axes>"
      ]
     },
     "metadata": {},
     "output_type": "display_data"
    }
   ],
   "source": [
    "# plotting AUC with hyperparameter combinations\n",
    "\n",
    "plt.figure(figsize=(16,6))\n",
    "for n, depth in enumerate(param_grid['base_estimator__max_depth']):\n",
    "    \n",
    "\n",
    "    # subplot 1/n\n",
    "    plt.subplot(1,3, n+1)\n",
    "    depth_df = cv_results[cv_results[\"param_base_estimator__max_depth\"]==depth]\n",
    "    \n",
    "    # plot depth_df[\"param_n_estimators\"] for depth_df[\"mean_test_score\"],depth_df[\"mean_train_score\"] \n",
    "    plt.plot(depth_df[\"param_n_estimators\"],depth_df[\"mean_test_score\"])\n",
    "    plt.plot(depth_df[\"param_n_estimators\"],depth_df[\"mean_train_score\"])\n",
    "    plt.xlabel(\"n_estimators\")\n",
    "    plt.ylabel(\"AUC\")\n",
    "    plt.title(\"max_depth={0}\".format(depth))\n",
    "    plt.ylim([0.60,1])\n",
    "    plt.legend([\"test score\",\"train score\"], loc=\"upper left\")\n",
    "    plt.xscale(\"log\")"
   ]
  },
  {
   "cell_type": "markdown",
   "metadata": {
    "id": "b0QPPEx8D3U8"
   },
   "source": [
    "The results above show that:\n",
    "- The ensemble with max_depth=5 is clearly overfitting (training auc is almost 1, while the test score is much lower)\n",
    "- At max_depth=2, the model performs slightly better (approx 95% AUC) with a higher test score \n",
    "\n",
    "Thus, going ahead with ```max_depth=2``` and ```n_estimators=400```.\n"
   ]
  },
  {
   "cell_type": "code",
   "execution_count": 67,
   "metadata": {
    "colab": {
     "base_uri": "https://localhost:8080/"
    },
    "id": "nhE0yFVqD3U8",
    "outputId": "f30acfee-09d1-4870-ed62-b6831aa015a4"
   },
   "outputs": [
    {
     "data": {
      "text/plain": [
       "AdaBoostClassifier(algorithm='SAMME',\n",
       "                   base_estimator=DecisionTreeClassifier(max_depth=2,\n",
       "                                                         random_state=1),\n",
       "                   learning_rate=0.6, n_estimators=400, random_state=1)"
      ]
     },
     "execution_count": 67,
     "metadata": {},
     "output_type": "execute_result"
    }
   ],
   "source": [
    "# DecisionTreeClassifier  as base estimator with max_depth as 2 and random_state as 1\n",
    "tree = DecisionTreeClassifier(max_depth=2,random_state=1)\n",
    "\n",
    "'''adaboost with the tree as base estimator\n",
    "# learning rate is arbitrarily set as 0.6, n_eastimator as 200 and rest same'''\n",
    "\n",
    "ABC = AdaBoostClassifier(\n",
    "    base_estimator=tree,\n",
    "    learning_rate=0.6,\n",
    "    n_estimators=400,\n",
    "    algorithm=\"SAMME\",random_state=1)\n",
    "\n",
    "# fitting ABCon training data\n",
    "ABC.fit(xtrain,ytrain)"
   ]
  },
  {
   "cell_type": "code",
   "execution_count": 68,
   "metadata": {
    "colab": {
     "base_uri": "https://localhost:8080/"
    },
    "id": "pxaRQB8eD3U8",
    "outputId": "68216ed2-b465-4c13-b801-0ca6c7227204"
   },
   "outputs": [
    {
     "data": {
      "text/plain": [
       "array([[0.58243531, 0.41756469],\n",
       "       [0.56734593, 0.43265407],\n",
       "       [0.60717659, 0.39282341],\n",
       "       [0.58558191, 0.41441809],\n",
       "       [0.55843465, 0.44156535],\n",
       "       [0.58705029, 0.41294971],\n",
       "       [0.58457809, 0.41542191],\n",
       "       [0.59140799, 0.40859201],\n",
       "       [0.57461928, 0.42538072],\n",
       "       [0.56554072, 0.43445928]])"
      ]
     },
     "execution_count": 68,
     "metadata": {},
     "output_type": "execute_result"
    }
   ],
   "source": [
    "# predict on test data\n",
    "predictions = ABC.predict_proba(xtest)\n",
    "\n",
    "# print top 10 prediction probabilities\n",
    "predictions[:10]"
   ]
  },
  {
   "cell_type": "code",
   "execution_count": 69,
   "metadata": {
    "colab": {
     "base_uri": "https://localhost:8080/"
    },
    "id": "PvTVp3a-D3U9",
    "outputId": "7adeed32-a564-4207-ad3e-4c8d9ef7ddf8"
   },
   "outputs": [
    {
     "data": {
      "text/plain": [
       "0.9313408762859892"
      ]
     },
     "execution_count": 69,
     "metadata": {},
     "output_type": "execute_result"
    }
   ],
   "source": [
    "# Calculate roc auc score \n",
    "metrics.roc_auc_score(ytest,predictions[:,1])"
   ]
  },
  {
   "cell_type": "markdown",
   "metadata": {
    "id": "2QlUGz4mD3U9"
   },
   "source": [
    "There was no significant change in the roc_auc curve. \n",
    "\n",
    "### **`2. Gradient Boosting Classifier`**\n",
    "\n",
    "\n",
    "\n",
    "Reference doc: https://scikit-learn.org/stable/modules/generated/sklearn.ensemble.GradientBoostingClassifier.html\n",
    "\n",
    "\n",
    "Boosting is a method of converting weak learners into strong learners. In boosting, each new tree is a fit on a modified version of the original data set. \n",
    "\n",
    "Let's now try the gradient boosting classifier. We'll experiment with two main hyperparameters now - ```learning_rate``` (shrinkage) and ```subsample```. \n",
    "\n",
    "By adjusting the learning rate to less than 1, we can regularize the model. A model with higher learning_rate learns fast, but is prone to overfitting; one with a lower learning rate learns slowly, but avoids overfitting.\n",
    "\n",
    "Also, there's a trade-off between ```learning_rate``` and ```n_estimators``` - the higher the learning rate, the lesser trees the model needs (and thus we usually tune only one of them).\n",
    "\n",
    "Also, by subsampling (setting ```subsample``` to less than 1), we can have the individual models built on random subsamples of size ```subsample```. That way, each tree will be trained on different subsets and reduce the model's variance."
   ]
  },
  {
   "cell_type": "markdown",
   "metadata": {
    "id": "orSq_jpEtmRg"
   },
   "source": [
    "## **`Gradient Boosting Intuition`**"
   ]
  },
  {
   "cell_type": "code",
   "execution_count": 70,
   "metadata": {
    "id": "i4RK3nuZD3U9"
   },
   "outputs": [],
   "source": [
    "# parameter grid with learning_rate as [0.2, 0.6, 0.9] and subsample as [0.3, 0.6, 0.9]\n",
    "param_grid = {\n",
    "    \"learning_rate\":[0.2,0.6,0.9],\n",
    "    \"subsample\":[0.3,0.6,0.9]\n",
    "}"
   ]
  },
  {
   "cell_type": "code",
   "execution_count": 73,
   "metadata": {
    "id": "zFpD3jmkD3U9"
   },
   "outputs": [],
   "source": [
    "# Gradient boost as base estimator with max_depth as 2 and n_estimators as 200 and random_state as 1\n",
    "GBC = GradientBoostingClassifier(max_depth=2,n_estimators=200,random_state=1)"
   ]
  },
  {
   "cell_type": "markdown",
   "metadata": {
    "id": "VGYdbjKLD3U-"
   },
   "source": [
    "##### Run grid search\n"
   ]
  },
  {
   "cell_type": "code",
   "execution_count": 75,
   "metadata": {
    "colab": {
     "base_uri": "https://localhost:8080/"
    },
    "id": "VtnUljW9D3U-",
    "outputId": "e39b38e2-988b-4ca0-c41a-c0e127f528f8",
    "scrolled": true
   },
   "outputs": [
    {
     "name": "stdout",
     "output_type": "stream",
     "text": [
      "Fitting 3 folds for each of 9 candidates, totalling 27 fits\n"
     ]
    },
    {
     "data": {
      "text/plain": [
       "GridSearchCV(cv=3,\n",
       "             estimator=GradientBoostingClassifier(max_depth=2, n_estimators=200,\n",
       "                                                  random_state=1),\n",
       "             param_grid={'learning_rate': [0.2, 0.6, 0.9],\n",
       "                         'subsample': [0.3, 0.6, 0.9]},\n",
       "             return_train_score=True, scoring='roc_auc', verbose=1)"
      ]
     },
     "execution_count": 75,
     "metadata": {},
     "output_type": "execute_result"
    }
   ],
   "source": [
    "# CV folds as 3\n",
    "folds = 3\n",
    "\n",
    "#Instantiate grid search with GBC, folds, param_grid and scoring as roc_auc, return_train_score as True and verbose as 1\n",
    "grid_search_GBC = GridSearchCV(GBC,\n",
    "                              cv=folds,\n",
    "                              param_grid=param_grid,\n",
    "                              scoring=\"roc_auc\",\n",
    "                              return_train_score=True,\n",
    "                              verbose=1)\n",
    "\n",
    "# grid_search_GBC fit on training data \n",
    "grid_search_GBC.fit(xtrain,ytrain)"
   ]
  },
  {
   "cell_type": "code",
   "execution_count": 76,
   "metadata": {
    "colab": {
     "base_uri": "https://localhost:8080/",
     "height": 485
    },
    "id": "Mm1tYS_iD3U-",
    "outputId": "085bd977-b4ed-429f-f440-d3625ec45112",
    "scrolled": true
   },
   "outputs": [
    {
     "data": {
      "text/html": [
       "<div>\n",
       "<style scoped>\n",
       "    .dataframe tbody tr th:only-of-type {\n",
       "        vertical-align: middle;\n",
       "    }\n",
       "\n",
       "    .dataframe tbody tr th {\n",
       "        vertical-align: top;\n",
       "    }\n",
       "\n",
       "    .dataframe thead th {\n",
       "        text-align: right;\n",
       "    }\n",
       "</style>\n",
       "<table border=\"1\" class=\"dataframe\">\n",
       "  <thead>\n",
       "    <tr style=\"text-align: right;\">\n",
       "      <th></th>\n",
       "      <th>mean_fit_time</th>\n",
       "      <th>std_fit_time</th>\n",
       "      <th>mean_score_time</th>\n",
       "      <th>std_score_time</th>\n",
       "      <th>param_learning_rate</th>\n",
       "      <th>param_subsample</th>\n",
       "      <th>params</th>\n",
       "      <th>split0_test_score</th>\n",
       "      <th>split1_test_score</th>\n",
       "      <th>split2_test_score</th>\n",
       "      <th>mean_test_score</th>\n",
       "      <th>std_test_score</th>\n",
       "      <th>rank_test_score</th>\n",
       "      <th>split0_train_score</th>\n",
       "      <th>split1_train_score</th>\n",
       "      <th>split2_train_score</th>\n",
       "      <th>mean_train_score</th>\n",
       "      <th>std_train_score</th>\n",
       "    </tr>\n",
       "  </thead>\n",
       "  <tbody>\n",
       "    <tr>\n",
       "      <th>0</th>\n",
       "      <td>5.139570</td>\n",
       "      <td>0.504803</td>\n",
       "      <td>0.052865</td>\n",
       "      <td>0.009903</td>\n",
       "      <td>0.2</td>\n",
       "      <td>0.3</td>\n",
       "      <td>{'learning_rate': 0.2, 'subsample': 0.3}</td>\n",
       "      <td>0.883115</td>\n",
       "      <td>0.919094</td>\n",
       "      <td>0.687078</td>\n",
       "      <td>0.829762</td>\n",
       "      <td>0.101957</td>\n",
       "      <td>2</td>\n",
       "      <td>0.902323</td>\n",
       "      <td>0.924267</td>\n",
       "      <td>0.621054</td>\n",
       "      <td>0.815881</td>\n",
       "      <td>0.138054</td>\n",
       "    </tr>\n",
       "    <tr>\n",
       "      <th>1</th>\n",
       "      <td>7.593229</td>\n",
       "      <td>0.462119</td>\n",
       "      <td>0.053483</td>\n",
       "      <td>0.018026</td>\n",
       "      <td>0.2</td>\n",
       "      <td>0.6</td>\n",
       "      <td>{'learning_rate': 0.2, 'subsample': 0.6}</td>\n",
       "      <td>0.815989</td>\n",
       "      <td>0.718158</td>\n",
       "      <td>0.802269</td>\n",
       "      <td>0.778805</td>\n",
       "      <td>0.043249</td>\n",
       "      <td>3</td>\n",
       "      <td>0.826201</td>\n",
       "      <td>0.719815</td>\n",
       "      <td>0.792908</td>\n",
       "      <td>0.779641</td>\n",
       "      <td>0.044434</td>\n",
       "    </tr>\n",
       "    <tr>\n",
       "      <th>2</th>\n",
       "      <td>9.412218</td>\n",
       "      <td>0.303095</td>\n",
       "      <td>0.034584</td>\n",
       "      <td>0.008978</td>\n",
       "      <td>0.2</td>\n",
       "      <td>0.9</td>\n",
       "      <td>{'learning_rate': 0.2, 'subsample': 0.9}</td>\n",
       "      <td>0.982359</td>\n",
       "      <td>0.904760</td>\n",
       "      <td>0.939435</td>\n",
       "      <td>0.942184</td>\n",
       "      <td>0.031739</td>\n",
       "      <td>1</td>\n",
       "      <td>0.962315</td>\n",
       "      <td>0.863953</td>\n",
       "      <td>0.940718</td>\n",
       "      <td>0.922329</td>\n",
       "      <td>0.042209</td>\n",
       "    </tr>\n",
       "    <tr>\n",
       "      <th>3</th>\n",
       "      <td>4.571127</td>\n",
       "      <td>0.247184</td>\n",
       "      <td>0.036435</td>\n",
       "      <td>0.007375</td>\n",
       "      <td>0.6</td>\n",
       "      <td>0.3</td>\n",
       "      <td>{'learning_rate': 0.6, 'subsample': 0.3}</td>\n",
       "      <td>0.579072</td>\n",
       "      <td>0.636647</td>\n",
       "      <td>0.906190</td>\n",
       "      <td>0.707303</td>\n",
       "      <td>0.142585</td>\n",
       "      <td>4</td>\n",
       "      <td>0.541489</td>\n",
       "      <td>0.643093</td>\n",
       "      <td>0.871293</td>\n",
       "      <td>0.685292</td>\n",
       "      <td>0.137909</td>\n",
       "    </tr>\n",
       "    <tr>\n",
       "      <th>4</th>\n",
       "      <td>7.139841</td>\n",
       "      <td>0.135575</td>\n",
       "      <td>0.043450</td>\n",
       "      <td>0.008908</td>\n",
       "      <td>0.6</td>\n",
       "      <td>0.6</td>\n",
       "      <td>{'learning_rate': 0.6, 'subsample': 0.6}</td>\n",
       "      <td>0.569097</td>\n",
       "      <td>0.731262</td>\n",
       "      <td>0.580022</td>\n",
       "      <td>0.626794</td>\n",
       "      <td>0.074005</td>\n",
       "      <td>6</td>\n",
       "      <td>0.542453</td>\n",
       "      <td>0.705398</td>\n",
       "      <td>0.609525</td>\n",
       "      <td>0.619125</td>\n",
       "      <td>0.066868</td>\n",
       "    </tr>\n",
       "  </tbody>\n",
       "</table>\n",
       "</div>"
      ],
      "text/plain": [
       "   mean_fit_time  std_fit_time  mean_score_time  std_score_time  \\\n",
       "0       5.139570      0.504803         0.052865        0.009903   \n",
       "1       7.593229      0.462119         0.053483        0.018026   \n",
       "2       9.412218      0.303095         0.034584        0.008978   \n",
       "3       4.571127      0.247184         0.036435        0.007375   \n",
       "4       7.139841      0.135575         0.043450        0.008908   \n",
       "\n",
       "  param_learning_rate param_subsample  \\\n",
       "0                 0.2             0.3   \n",
       "1                 0.2             0.6   \n",
       "2                 0.2             0.9   \n",
       "3                 0.6             0.3   \n",
       "4                 0.6             0.6   \n",
       "\n",
       "                                     params  split0_test_score  \\\n",
       "0  {'learning_rate': 0.2, 'subsample': 0.3}           0.883115   \n",
       "1  {'learning_rate': 0.2, 'subsample': 0.6}           0.815989   \n",
       "2  {'learning_rate': 0.2, 'subsample': 0.9}           0.982359   \n",
       "3  {'learning_rate': 0.6, 'subsample': 0.3}           0.579072   \n",
       "4  {'learning_rate': 0.6, 'subsample': 0.6}           0.569097   \n",
       "\n",
       "   split1_test_score  split2_test_score  mean_test_score  std_test_score  \\\n",
       "0           0.919094           0.687078         0.829762        0.101957   \n",
       "1           0.718158           0.802269         0.778805        0.043249   \n",
       "2           0.904760           0.939435         0.942184        0.031739   \n",
       "3           0.636647           0.906190         0.707303        0.142585   \n",
       "4           0.731262           0.580022         0.626794        0.074005   \n",
       "\n",
       "   rank_test_score  split0_train_score  split1_train_score  \\\n",
       "0                2            0.902323            0.924267   \n",
       "1                3            0.826201            0.719815   \n",
       "2                1            0.962315            0.863953   \n",
       "3                4            0.541489            0.643093   \n",
       "4                6            0.542453            0.705398   \n",
       "\n",
       "   split2_train_score  mean_train_score  std_train_score  \n",
       "0            0.621054          0.815881         0.138054  \n",
       "1            0.792908          0.779641         0.044434  \n",
       "2            0.940718          0.922329         0.042209  \n",
       "3            0.871293          0.685292         0.137909  \n",
       "4            0.609525          0.619125         0.066868  "
      ]
     },
     "execution_count": 76,
     "metadata": {},
     "output_type": "execute_result"
    }
   ],
   "source": [
    "# cv results\n",
    "cv_results = pd.DataFrame(grid_search_GBC.cv_results_)\n",
    "\n",
    "# print head\n",
    "cv_results.head()"
   ]
  },
  {
   "cell_type": "code",
   "execution_count": 80,
   "metadata": {
    "colab": {
     "base_uri": "https://localhost:8080/",
     "height": 350
    },
    "id": "ZEM6khM6D3U-",
    "outputId": "1c7c1c7e-daf0-47ad-8b86-3dd7f8e622ea"
   },
   "outputs": [
    {
     "data": {
      "image/png": "[encoded data removed]",
      "text/plain": [
       "<Figure size 1600x600 with 3 Axes>"
      ]
     },
     "metadata": {},
     "output_type": "display_data"
    }
   ],
   "source": [
    "# plotting AUC with hyperparameter combinations, i.e., subsample\n",
    "plt.figure(figsize=(16, 6))\n",
    "\n",
    "for n, subsample in enumerate(param_grid['subsample']):\n",
    "    # subplot 1/n\n",
    "    plt.subplot(1, len(param_grid['subsample']), n+1)\n",
    "    df = cv_results[cv_results[\"param_subsample\"] == subsample]\n",
    "\n",
    "    # plot df[\"param_learning_rate\"] for df[\"mean_test_score\"], df[\"mean_train_score\"]\n",
    "    plt.plot(df[\"param_learning_rate\"], df[\"mean_test_score\"])\n",
    "    plt.plot(df[\"param_learning_rate\"], df[\"mean_train_score\"])\n",
    "    plt.xlabel(\"learning_rate\")\n",
    "    plt.ylabel(\"AUC\")\n",
    "    plt.title(\"subsample={0}\".format(subsample))\n",
    "    plt.ylim([0.60, 1])\n",
    "    plt.legend([\"test score\", \"train score\"], loc=\"upper left\")\n",
    "    plt.xscale(\"log\")\n",
    "\n",
    "plt.show()"
   ]
  },
  {
   "cell_type": "markdown",
   "metadata": {
    "id": "ZCLdKflSD3U_"
   },
   "source": [
    "It is clear from the plot above that the model with a lower subsample ratio performs better, while those with higher subsamples tend to overfit. \n",
    "\n",
    "Also, a lower learning rate results in less overfitting."
   ]
  },
  {
   "cell_type": "code",
   "execution_count": 83,
   "metadata": {
    "colab": {
     "base_uri": "https://localhost:8080/"
    },
    "id": "4fdnUAobRGSx",
    "outputId": "7d7299ae-cecc-4572-8cb8-7b4423beae71"
   },
   "outputs": [
    {
     "data": {
      "text/plain": [
       "array([[9.99824708e-01, 1.75292181e-04],\n",
       "       [9.99690904e-01, 3.09096040e-04],\n",
       "       [9.99511288e-01, 4.88711933e-04],\n",
       "       [9.99823970e-01, 1.76029942e-04],\n",
       "       [9.99299557e-01, 7.00442578e-04],\n",
       "       [9.99853051e-01, 1.46949069e-04],\n",
       "       [9.99572609e-01, 4.27391263e-04],\n",
       "       [9.99835995e-01, 1.64005364e-04],\n",
       "       [9.99811856e-01, 1.88144133e-04],\n",
       "       [9.98926818e-01, 1.07318177e-03]])"
      ]
     },
     "execution_count": 83,
     "metadata": {},
     "output_type": "execute_result"
    }
   ],
   "source": [
    "# fitting GBC training data\n",
    "GBC.fit(xtrain,ytrain)\n",
    "\n",
    "# predict probabilities on test data\n",
    "predictions = GBC.predict_proba(xtest)\n",
    "\n",
    "# print top 10 prediction probabilities\n",
    "predictions[:10]"
   ]
  },
  {
   "cell_type": "code",
   "execution_count": 84,
   "metadata": {
    "colab": {
     "base_uri": "https://localhost:8080/"
    },
    "id": "jdt8L_PrS54b",
    "outputId": "691bffa1-581d-4a0b-b8d4-0d7fa21e5101"
   },
   "outputs": [
    {
     "data": {
      "text/plain": [
       "0.931972522308556"
      ]
     },
     "execution_count": 84,
     "metadata": {},
     "output_type": "execute_result"
    }
   ],
   "source": [
    "# Calculate roc auc score \n",
    "metrics.roc_auc_score(ytest,predictions[:,1])"
   ]
  },
  {
   "cell_type": "markdown",
   "metadata": {
    "id": "D_UuYzsnD3U_"
   },
   "source": [
    "So Gradient boosting also gives us 93% of roc_auc coverage\n",
    "\n",
    "### **`3. XGBoost`**\n",
    "\n",
    "\n",
    "Reference doc:https://www.analyticsvidhya.com/blog/2018/09/an-end-to-end-guide-to-understand-the-math-behind-xgboost/\n",
    "\n",
    "XGBoost is a decision-tree-based ensemble Machine Learning algorithm that uses a gradient boosting framework. In prediction problems involving unstructured data (images, text, etc.) artificial neural networks tend to outperform all other algorithms or frameworks. However, when it comes to small-to-medium structured/tabular data, decision tree based algorithms are considered best-in-class right now. Please see the chart below for the evolution of tree-based algorithms over the years.\n",
    "\n",
    "Let's finally try XGBoost. The hyperparameters are the same, some important ones being ```subsample```, ```learning_rate```, ```max_depth``` etc.\n"
   ]
  },
  {
   "cell_type": "markdown",
   "metadata": {
    "id": "oD8NtJBStyO3"
   },
   "source": [
    "## **`XGBOOST Intuition`**"
   ]
  },
  {
   "cell_type": "code",
   "execution_count": 85,
   "metadata": {
    "_cell_guid": "2c974205-ceae-45d7-ac5c-06c49449e772",
    "_uuid": "25d4621636d95e27ee661f4d6a62532671f678b6",
    "colab": {
     "base_uri": "https://localhost:8080/"
    },
    "id": "ENbuiar_D3U_",
    "outputId": "2bf255c0-9d86-43bb-89c4-e276dc9fac3f"
   },
   "outputs": [
    {
     "data": {
      "text/plain": [
       "XGBClassifier(base_score=None, booster=None, callbacks=None,\n",
       "              colsample_bylevel=None, colsample_bynode=None,\n",
       "              colsample_bytree=None, early_stopping_rounds=None,\n",
       "              enable_categorical=False, eval_metric=None, feature_types=None,\n",
       "              gamma=None, gpu_id=None, grow_policy=None, importance_type=None,\n",
       "              interaction_constraints=None, learning_rate=None, max_bin=None,\n",
       "              max_cat_threshold=None, max_cat_to_onehot=None,\n",
       "              max_delta_step=None, max_depth=None, max_leaves=None,\n",
       "              min_child_weight=None, missing=nan, monotone_constraints=None,\n",
       "              n_estimators=100, n_jobs=None, num_parallel_tree=None,\n",
       "              predictor=None, random_state=1, ...)"
      ]
     },
     "execution_count": 85,
     "metadata": {},
     "output_type": "execute_result"
    }
   ],
   "source": [
    "# Instantiate XGBClassifier with default hyperparameters and random_state=1\n",
    "model = XGBClassifier(random_state=1)\n",
    "\n",
    "# fit model on training data\n",
    "model.fit(xtrain,ytrain)"
   ]
  },
  {
   "cell_type": "markdown",
   "metadata": {
    "id": "kOjxFItyD3VA"
   },
   "source": [
    "Make predictions for test data\n"
   ]
  },
  {
   "cell_type": "code",
   "execution_count": 86,
   "metadata": {
    "_cell_guid": "3d7ecd8f-856e-4405-9251-4128a31501b4",
    "_uuid": "92d6a9195af92f42514cbeec09585b083bc304cf",
    "colab": {
     "base_uri": "https://localhost:8080/"
    },
    "id": "jc4iDFrGD3VA",
    "outputId": "a206707d-3f82-4adc-b640-4000a6691cb8"
   },
   "outputs": [
    {
     "data": {
      "text/plain": [
       "array([[9.9999601e-01, 3.9944102e-06],\n",
       "       [9.9996400e-01, 3.5994544e-05],\n",
       "       [9.9999082e-01, 9.1689208e-06],\n",
       "       [9.9999237e-01, 7.6375445e-06],\n",
       "       [9.9997622e-01, 2.3777986e-05],\n",
       "       [9.9997914e-01, 2.0881609e-05],\n",
       "       [9.9977624e-01, 2.2376684e-04],\n",
       "       [9.9999833e-01, 1.6825434e-06],\n",
       "       [9.9996531e-01, 3.4660159e-05],\n",
       "       [9.9955845e-01, 4.4156198e-04]], dtype=float32)"
      ]
     },
     "execution_count": 86,
     "metadata": {},
     "output_type": "execute_result"
    }
   ],
   "source": [
    "# use predict_proba since we need probabilities to compute auc\n",
    "y_pred = model.predict_proba(xtest)\n",
    "\n",
    "#print top 10 y_pred result\n",
    "y_pred[:10]"
   ]
  },
  {
   "cell_type": "code",
   "execution_count": 89,
   "metadata": {
    "_cell_guid": "26c5a5e3-b0ab-4b38-b31e-02aa2f94b6d2",
    "_uuid": "6761becf4d2447a77b9df32f7bb36b9331a16234",
    "colab": {
     "base_uri": "https://localhost:8080/"
    },
    "id": "_9soR1CLD3VA",
    "outputId": "75fbf13b-8ece-4d9f-a78a-7468a6d03609",
    "scrolled": false
   },
   "outputs": [
    {
     "name": "stdout",
     "output_type": "stream",
     "text": [
      "AUC: 91.33%\n"
     ]
    }
   ],
   "source": [
    "# evaluate predictions using roc_auc score\n",
    "roc = metrics.roc_auc_score(ytest,y_pred[:,1])\n",
    "\n",
    "# print AUC\n",
    "print(\"AUC: %.2f%%\" % (roc * 100.0))"
   ]
  },
  {
   "cell_type": "markdown",
   "metadata": {
    "_cell_guid": "b1724bd9-058a-428a-8052-67fb1eaf4e71",
    "_uuid": "9966ae6ab65c76abfa72e8d9503959a21665072d",
    "id": "D0R5HGVmD3VB"
   },
   "source": [
    "The roc_auc in this case is about 0.91% with default hyperparameters. Let's try changing the hyperparameters - an exhaustive list of XGBoost hyperparameters is here: http://xgboost.readthedocs.io/en/latest/parameter.html"
   ]
  },
  {
   "cell_type": "markdown",
   "metadata": {
    "_cell_guid": "2b2f8b31-33e9-454e-9393-263e628c3719",
    "_uuid": "309df6cbd77f3c31140606f4e0b620db53b87f35",
    "id": "uW5ayn7oD3VB"
   },
   "source": [
    "Let's now try tuning the hyperparameters using k-fold CV. We'll then use grid search CV to find the optimal values of hyperparameters."
   ]
  },
  {
   "cell_type": "code",
   "execution_count": 92,
   "metadata": {
    "_cell_guid": "06427904-5c5e-4e36-bef9-1cf74e1be8c6",
    "_uuid": "7189e86b264593e6946cac56b267f38640257c49",
    "id": "cELevyotD3VB"
   },
   "outputs": [],
   "source": [
    "# hyperparameter tuning with XGBoost\n",
    "\n",
    "# creating a KFold object( 3 )\n",
    "folds = 3\n",
    "\n",
    "# specify range of hyperparameters with learning_rate as [0.2, 0.6] ans subsample as [0.3, 0.6, 0.9]\n",
    "param_grid = {\"learning_rate\":[0.2,0.6],\"subsample\":[0.3,0.6,0.9]}\n",
    "\n",
    "# specify model with max_depth as 2 and n_estimators as 200 and random_state as 1\n",
    "xgb_model = XGBClassifier(max_depth=2,n_estimators=200,random_state=1)\n",
    "\n",
    "# set up GridSearchCV() with xgb_model, param_grid, folds, return_train_score and verbose as 1\n",
    "model_cv = GridSearchCV(estimator = xgb_model,\n",
    "                       param_grid=param_grid,\n",
    "                       scoring=\"roc_auc\",\n",
    "                       cv=folds,\n",
    "                       verbose=1,\n",
    "                       return_train_score=True)"
   ]
  },
  {
   "cell_type": "code",
   "execution_count": 93,
   "metadata": {
    "_cell_guid": "bfbc46d5-708a-477c-bd72-7722bf09e6ba",
    "_uuid": "dd828f9d6467b353a835f4163fcda0e6d662c24b",
    "colab": {
     "base_uri": "https://localhost:8080/"
    },
    "id": "IIvxhmnKD3VB",
    "outputId": "5744f069-30bd-4d87-9372-d51453d1c8b1",
    "scrolled": false
   },
   "outputs": [
    {
     "name": "stdout",
     "output_type": "stream",
     "text": [
      "Fitting 3 folds for each of 6 candidates, totalling 18 fits\n"
     ]
    },
    {
     "data": {
      "text/plain": [
       "GridSearchCV(cv=3,\n",
       "             estimator=XGBClassifier(base_score=None, booster=None,\n",
       "                                     callbacks=None, colsample_bylevel=None,\n",
       "                                     colsample_bynode=None,\n",
       "                                     colsample_bytree=None,\n",
       "                                     early_stopping_rounds=None,\n",
       "                                     enable_categorical=False, eval_metric=None,\n",
       "                                     feature_types=None, gamma=None,\n",
       "                                     gpu_id=None, grow_policy=None,\n",
       "                                     importance_type=None,\n",
       "                                     interaction_constraints=None,\n",
       "                                     learning_rate=None,...\n",
       "                                     max_cat_threshold=None,\n",
       "                                     max_cat_to_onehot=None,\n",
       "                                     max_delta_step=None, max_depth=2,\n",
       "                                     max_leaves=None, min_child_weight=None,\n",
       "                                     missing=nan, monotone_constraints=None,\n",
       "                                     n_estimators=200, n_jobs=None,\n",
       "                                     num_parallel_tree=None, predictor=None,\n",
       "                                     random_state=1, ...),\n",
       "             param_grid={'learning_rate': [0.2, 0.6],\n",
       "                         'subsample': [0.3, 0.6, 0.9]},\n",
       "             return_train_score=True, scoring='roc_auc', verbose=1)"
      ]
     },
     "execution_count": 93,
     "metadata": {},
     "output_type": "execute_result"
    }
   ],
   "source": [
    "# fit the model_cv on training data\n",
    "model_cv.fit(xtrain,ytrain)"
   ]
  },
  {
   "cell_type": "code",
   "execution_count": 94,
   "metadata": {
    "_cell_guid": "f858e220-b38f-41e2-b083-06d8f5eb742b",
    "_uuid": "afd9d9144b8f8817cdc03b1a1f568f920650a48b",
    "colab": {
     "base_uri": "https://localhost:8080/",
     "height": 567
    },
    "id": "JdN7so49D3VC",
    "outputId": "a3600638-e509-4832-f4d5-32c6c03f5709",
    "scrolled": true
   },
   "outputs": [
    {
     "name": "stdout",
     "output_type": "stream",
     "text": [
      "   mean_fit_time  std_fit_time  mean_score_time  std_score_time  \\\n",
      "0       2.280553      0.028041         0.031551    4.371502e-04   \n",
      "1       3.027376      0.256102         0.031242    4.495664e-07   \n",
      "2       2.355827      0.043736         0.038551    1.033334e-02   \n",
      "3       2.657927      0.229643         0.040595    1.295336e-02   \n",
      "4       3.135865      0.225093         0.038395    4.512250e-04   \n",
      "5       3.199750      0.233470         0.036099    8.601460e-04   \n",
      "\n",
      "  param_learning_rate param_subsample  \\\n",
      "0                 0.2             0.3   \n",
      "1                 0.2             0.6   \n",
      "2                 0.2             0.9   \n",
      "3                 0.6             0.3   \n",
      "4                 0.6             0.6   \n",
      "5                 0.6             0.9   \n",
      "\n",
      "                                     params  split0_test_score  \\\n",
      "0  {'learning_rate': 0.2, 'subsample': 0.3}           0.986984   \n",
      "1  {'learning_rate': 0.2, 'subsample': 0.6}           0.976366   \n",
      "2  {'learning_rate': 0.2, 'subsample': 0.9}           0.981826   \n",
      "3  {'learning_rate': 0.6, 'subsample': 0.3}           0.954042   \n",
      "4  {'learning_rate': 0.6, 'subsample': 0.6}           0.964637   \n",
      "5  {'learning_rate': 0.6, 'subsample': 0.9}           0.968599   \n",
      "\n",
      "   split1_test_score  split2_test_score  mean_test_score  std_test_score  \\\n",
      "0           0.955636           0.952868         0.965163        0.015471   \n",
      "1           0.959356           0.951160         0.962294        0.010498   \n",
      "2           0.964798           0.945300         0.963974        0.014923   \n",
      "3           0.931958           0.933192         0.939731        0.010132   \n",
      "4           0.949701           0.936092         0.950143        0.011658   \n",
      "5           0.956888           0.941569         0.955686        0.011068   \n",
      "\n",
      "   rank_test_score  split0_train_score  split1_train_score  \\\n",
      "0                1            0.986758            0.992738   \n",
      "1                3            0.993470            0.995509   \n",
      "2                2            0.994500            0.994104   \n",
      "3                6            0.995363            0.997887   \n",
      "4                5            0.998835            0.998808   \n",
      "5                4            0.999563            0.999807   \n",
      "\n",
      "   split2_train_score  mean_train_score  std_train_score  \n",
      "0            0.992813          0.990770         0.002837  \n",
      "1            0.996658          0.995212         0.001318  \n",
      "2            0.996608          0.995071         0.001099  \n",
      "3            0.998604          0.997285         0.001390  \n",
      "4            0.999721          0.999121         0.000424  \n",
      "5            0.999871          0.999747         0.000132  \n"
     ]
    }
   ],
   "source": [
    "# Get cv results as datafame\n",
    "cv_results = pd.DataFrame(model_cv.cv_results_)\n",
    "\n",
    "# print cv_results\n",
    "print(cv_results)"
   ]
  },
  {
   "cell_type": "markdown",
   "metadata": {
    "id": "DhdqhKH7D3VC"
   },
   "source": [
    "Convert parameters to int for plotting on x-axis\n"
   ]
  },
  {
   "cell_type": "code",
   "execution_count": 95,
   "metadata": {
    "_cell_guid": "fdb04f9e-4ada-4413-a8ae-a8bbb2cf2fac",
    "_uuid": "6e4a1bf2aea84e1361fd3234c228991273fa3ac5",
    "colab": {
     "base_uri": "https://localhost:8080/",
     "height": 350
    },
    "id": "e5o4sgkTD3VD",
    "outputId": "0c1b9d09-210f-42e6-c483-65f8971f98f0",
    "scrolled": false
   },
   "outputs": [
    {
     "data": {
      "image/png": "[encoded data removed]",
      "text/plain": [
       "<Figure size 1600x600 with 3 Axes>"
      ]
     },
     "metadata": {},
     "output_type": "display_data"
    }
   ],
   "source": [
    "# # plotting\n",
    "plt.figure(figsize=(16,6))\n",
    "\n",
    "param_grid = {\"learning_rate\":[0.2,0.6],\n",
    "             \"subsample\":[0.3,0.6,0.9]}\n",
    "\n",
    "for n, subsample in enumerate(param_grid['subsample']):\n",
    "\n",
    "    # subplot 1/n\n",
    "    plt.subplot(1,len(param_grid['subsample']), n+1)\n",
    "    df = cv_results[cv_results[\"param_subsample\"]==subsample]\n",
    "    \n",
    "    # plot df[\"param_learning_rate\"] for df[\"mean_test_score\"], df[\"mean_train_score\"]\n",
    "    plt.plot(df[\"param_learning_rate\"], df[\"mean_test_score\"])\n",
    "    plt.plot(df[\"param_learning_rate\"], df[\"mean_train_score\"])\n",
    "    plt.xlabel(\"learning_rate\")\n",
    "    plt.ylabel(\"AUC\")\n",
    "    plt.title(\"subsample={0}\".format(subsample))\n",
    "    plt.ylim([0.60, 1])\n",
    "    plt.legend([\"test score\", \"train score\"], loc=\"upper left\")\n",
    "    plt.xscale(\"log\")\n",
    "\n",
    "plt.show() "
   ]
  },
  {
   "cell_type": "markdown",
   "metadata": {
    "_cell_guid": "21bd521a-86d8-4e42-8e98-c2bfb83f5248",
    "_uuid": "853a028f77dfabc43dc167b4cd92ca9418818106",
    "id": "k-x6BYIqD3VD"
   },
   "source": [
    "The results show that a subsample size of 0.9 and learning_rate of about 0.2 seems optimal. \n",
    "Also, XGBoost has resulted in the highest ROC AUC obtained (across various hyperparameters). "
   ]
  },
  {
   "cell_type": "code",
   "execution_count": 98,
   "metadata": {
    "_cell_guid": "f64f6dd4-1594-434d-b006-2607929c7848",
    "_uuid": "f6d26a03087caa6804c67bec109399f32a86e4fb",
    "colab": {
     "base_uri": "https://localhost:8080/"
    },
    "id": "gj0OA89XD3VE",
    "outputId": "56fe2e6f-3ef8-42ba-8720-d456abaf3c38"
   },
   "outputs": [
    {
     "name": "stdout",
     "output_type": "stream",
     "text": [
      "[00:22:45] WARNING: C:\\buildkite-agent\\builds\\buildkite-windows-cpu-autoscaling-group-i-0fdc6d574b9c0d168-1\\xgboost\\xgboost-ci-windows\\src\\learner.cc:767: \n",
      "Parameters: { \"params\" } are not used.\n",
      "\n"
     ]
    },
    {
     "data": {
      "text/plain": [
       "XGBClassifier(base_score=None, booster=None, callbacks=None,\n",
       "              colsample_bylevel=None, colsample_bynode=None,\n",
       "              colsample_bytree=None, early_stopping_rounds=None,\n",
       "              enable_categorical=False, eval_metric=None, feature_types=None,\n",
       "              gamma=None, gpu_id=None, grow_policy=None, importance_type=None,\n",
       "              interaction_constraints=None, learning_rate=None, max_bin=None,\n",
       "              max_cat_threshold=None, max_cat_to_onehot=None,\n",
       "              max_delta_step=None, max_depth=None, max_leaves=None,\n",
       "              min_child_weight=None, missing=nan, monotone_constraints=None,\n",
       "              n_estimators=100, n_jobs=None, num_parallel_tree=None,\n",
       "              params={'learning_rate': 0.2, 'max_depth': 2, 'n_estimators': 200,\n",
       "                      'objective': 'binary:logistic', 'random_state': 1,\n",
       "                      'subsample': 0.9},\n",
       "              predictor=None, ...)"
      ]
     },
     "execution_count": 98,
     "metadata": {},
     "output_type": "execute_result"
    }
   ],
   "source": [
    "# 4 chosen hyperparameters and use 'objective':'binary:logistic' which outputs probability rather than label, which we need for auc\n",
    "params = {\"learning_rate\":0.2,\n",
    "         \"max_depth\":2,\n",
    "         \"n_estimators\":200,\n",
    "         \"subsample\":0.9,\n",
    "         \"objective\":\"binary:logistic\",\n",
    "         \"random_state\":1}\n",
    "\n",
    "#Instantiate XGBClassifier with params\n",
    "XGB = XGBClassifier(params=params)\n",
    "\n",
    "# fit model on training data\n",
    "XGB.fit(xtrain,ytrain)"
   ]
  },
  {
   "cell_type": "code",
   "execution_count": 99,
   "metadata": {
    "_cell_guid": "4a8c73d2-d546-4741-9f81-99359a268e7d",
    "_uuid": "2bdcff9ae7faeeeac19bce56367f6f559fe9835e",
    "colab": {
     "base_uri": "https://localhost:8080/"
    },
    "id": "R80-UXyED3VE",
    "outputId": "656dbfca-6bcd-45f0-c64c-c7e66812a434",
    "scrolled": false
   },
   "outputs": [
    {
     "data": {
      "text/plain": [
       "array([[9.9999601e-01, 3.9944102e-06],\n",
       "       [9.9996400e-01, 3.5994544e-05],\n",
       "       [9.9999082e-01, 9.1689208e-06],\n",
       "       [9.9999237e-01, 7.6375445e-06],\n",
       "       [9.9997622e-01, 2.3777986e-05],\n",
       "       [9.9997914e-01, 2.0881609e-05],\n",
       "       [9.9977624e-01, 2.2376684e-04],\n",
       "       [9.9999833e-01, 1.6825434e-06],\n",
       "       [9.9996531e-01, 3.4660159e-05],\n",
       "       [9.9955845e-01, 4.4156198e-04]], dtype=float32)"
      ]
     },
     "execution_count": 99,
     "metadata": {},
     "output_type": "execute_result"
    }
   ],
   "source": [
    "# get prediction probability\n",
    "y_pred = model.predict_proba(xtest)\n",
    "\n",
    "#print to 10 prediction result\n",
    "y_pred[:10]"
   ]
  },
  {
   "cell_type": "markdown",
   "metadata": {
    "_cell_guid": "02d2e492-87ef-4eb8-b028-09089fbaae18",
    "_uuid": "072559ae029cf30f092bd89c571ac7e981e1a0bf",
    "id": "k9dONIr8D3VE"
   },
   "source": [
    "The first column in y_pred is the P(0), i.e. P(not fraud), and the second column is P(1/fraud)."
   ]
  },
  {
   "cell_type": "code",
   "execution_count": 100,
   "metadata": {
    "_cell_guid": "fbf9a886-13ce-44f2-8489-7f903236f938",
    "_uuid": "fa63f1fa85a985837b2c77af4208b98522c86632",
    "colab": {
     "base_uri": "https://localhost:8080/"
    },
    "id": "G78YhoVzD3VF",
    "outputId": "e782f6bb-294a-49fe-da7f-ca07ff49df73",
    "scrolled": false
   },
   "outputs": [
    {
     "data": {
      "text/plain": [
       "0.9133175385512282"
      ]
     },
     "execution_count": 100,
     "metadata": {},
     "output_type": "execute_result"
    }
   ],
   "source": [
    "# print roc_auc score\n",
    "auc = sklearn.metrics.roc_auc_score(ytest,y_pred[:,1])\n",
    "auc"
   ]
  },
  {
   "cell_type": "markdown",
   "metadata": {
    "id": "V4H3vgzPD3VF"
   },
   "source": [
    "Even after hyerparameter tuning we got same roc_auc score. Finally, let's also look at the feature importances."
   ]
  },
  {
   "cell_type": "code",
   "execution_count": 101,
   "metadata": {
    "colab": {
     "base_uri": "https://localhost:8080/"
    },
    "id": "7IlzyzlQD3VF",
    "outputId": "e0716eed-0cbe-4bbd-afa8-e2dc71ecae4f",
    "scrolled": true
   },
   "outputs": [
    {
     "data": {
      "text/plain": [
       "{'ip': 0.047461666,\n",
       " 'app': 0.15999207,\n",
       " 'device': 0.20826675,\n",
       " 'os': 0.07708658,\n",
       " 'channel': 0.14787896,\n",
       " 'day_of_week': 0.047563616,\n",
       " 'day_of_year': 0.05169304,\n",
       " 'month': 0.0,\n",
       " 'hour': 0.04659958,\n",
       " 'ip_count_x': 0.07044621,\n",
       " 'ip_day_hour_x': 0.043013226,\n",
       " 'ip_hour_channel_x': 0.0,\n",
       " 'ip_hour_os_x': 0.02566671,\n",
       " 'ip_hour_app_x': 0.023731941,\n",
       " 'ip_hour_device_x': 0.050599612,\n",
       " 'ip_count_y': 0.0,\n",
       " 'ip_day_hour_y': 0.0,\n",
       " 'ip_hour_channel_y': 0.0,\n",
       " 'ip_hour_os_y': 0.0,\n",
       " 'ip_hour_app_y': 0.0,\n",
       " 'ip_hour_device_y': 0.0}"
      ]
     },
     "execution_count": 101,
     "metadata": {},
     "output_type": "execute_result"
    }
   ],
   "source": [
    "# print feature importance for each column in  a dictionary form\n",
    "importance = dict(zip(xtrain.columns,model.feature_importances_))\n",
    "importance"
   ]
  },
  {
   "cell_type": "code",
   "execution_count": 102,
   "metadata": {
    "colab": {
     "base_uri": "https://localhost:8080/",
     "height": 265
    },
    "id": "qSJTQbzdD3VF",
    "outputId": "a730103e-3fe4-4668-d891-d38595c8a2f8"
   },
   "outputs": [
    {
     "data": {
      "image/png": "[encoded data removed]",
      "text/plain": [
       "<Figure size 640x480 with 1 Axes>"
      ]
     },
     "metadata": {},
     "output_type": "display_data"
    }
   ],
   "source": [
    "# plot feature importance for every column\n",
    "plt.bar(range(len(model.feature_importances_)),model.feature_importances_)\n",
    "plt.show()"
   ]
  },
  {
   "cell_type": "markdown",
   "metadata": {
    "id": "a8RhPIPsD3VG"
   },
   "source": [
    "## **`4.  LightGBM`**\n",
    "\n",
    "Reference doc: https://lightgbm.readthedocs.io/en/latest/Python-Intro.html\n",
    "\n",
    "Light GBM is a fast, distributed, high-performance gradient boosting framework based on decision tree algorithm, used for ranking, classification and many other machine learning tasks.\n",
    "\n",
    "Since it is based on decision tree algorithms, it splits the tree leaf wise with the best fit whereas other boosting algorithms split the tree depth wise or level wise rather than leaf-wise. So when growing on the same leaf in Light GBM, the leaf-wise algorithm can reduce more loss than the level-wise algorithm and hence results in much better accuracy which can rarely be achieved by any of the existing boosting algorithms. Also, it is surprisingly very fast, hence the word ‘Light’.\n",
    "\n",
    "**Advantages of Light GBM**\n",
    "\n",
    "1. Faster training speed and higher efficiency: Light GBM use histogram based algorithm i.e it buckets continuous feature values into discrete bins which fasten the training procedure.\n",
    "2. Lower memory usage: Replaces continuous values to discrete bins which result in lower memory usage.\n",
    "3. Better accuracy than any other boosting algorithm: It produces much more complex trees by following leaf wise split approach rather than a level-wise approach which is the main factor in achieving higher accuracy. However, it can sometimes lead to overfitting which can be avoided by setting the max_depth parameter.\n",
    "4. Compatibility with Large Datasets: It is capable of performing equally good with large datasets with a significant reduction in training time as compared to XGBOOST.\n",
    "5. Parallel learning supported.\n",
    "\n",
    "I guess you must have got excited about the advantages of Light GBM. So lets get started with it"
   ]
  },
  {
   "cell_type": "code",
   "execution_count": 105,
   "metadata": {},
   "outputs": [
    {
     "name": "stdout",
     "output_type": "stream",
     "text": [
      "Defaulting to user installation because normal site-packages is not writeable\n",
      "Collecting lightgbm\n",
      "  Downloading lightgbm-4.0.0-py3-none-win_amd64.whl (1.3 MB)\n",
      "     ---------------------------------------- 1.3/1.3 MB 4.6 MB/s eta 0:00:00\n",
      "Requirement already satisfied: scipy in c:\\programdata\\anaconda3\\lib\\site-packages (from lightgbm) (1.9.1)\n",
      "Requirement already satisfied: numpy in c:\\programdata\\anaconda3\\lib\\site-packages (from lightgbm) (1.21.5)\n",
      "Installing collected packages: lightgbm\n",
      "Successfully installed lightgbm-4.0.0\n",
      "Note: you may need to restart the kernel to use updated packages.\n"
     ]
    }
   ],
   "source": [
    "pip install lightgbm"
   ]
  },
  {
   "cell_type": "code",
   "execution_count": 106,
   "metadata": {
    "colab": {
     "base_uri": "https://localhost:8080/"
    },
    "id": "5StvwjP5D3VG",
    "outputId": "af87309e-9f17-4329-af4d-7e02e60582b5"
   },
   "outputs": [
    {
     "name": "stdout",
     "output_type": "stream",
     "text": [
      "[LightGBM] [Info] Number of positive: 158, number of negative: 69842\n",
      "[LightGBM] [Warning] Auto-choosing row-wise multi-threading, the overhead of testing was 0.005698 seconds.\n",
      "You can set `force_row_wise=true` to remove the overhead.\n",
      "And if memory is not enough, you can set `force_col_wise=true`.\n",
      "[LightGBM] [Info] Total Bins 1097\n",
      "[LightGBM] [Info] Number of data points in the train set: 70000, number of used features: 21\n",
      "[LightGBM] [Info] [binary:BoostFromScore]: pavg=0.002257 -> initscore=-6.091396\n",
      "[LightGBM] [Info] Start training from score -6.091396\n"
     ]
    },
    {
     "data": {
      "text/plain": [
       "LGBMClassifier(random_state=1)"
      ]
     },
     "execution_count": 106,
     "metadata": {},
     "output_type": "execute_result"
    }
   ],
   "source": [
    "# Import LGBMClassifier from lightgbm\n",
    "from lightgbm import LGBMClassifier\n",
    "\n",
    "# Instantiate LGBMClassifier with default hyperparameters and random_state=1\n",
    "lgb = LGBMClassifier(random_state=1)\n",
    "\n",
    "# Fit the model on training data\n",
    "lgb.fit(xtrain, ytrain)"
   ]
  },
  {
   "cell_type": "code",
   "execution_count": 107,
   "metadata": {
    "colab": {
     "base_uri": "https://localhost:8080/"
    },
    "id": "7U6GwUphD3VG",
    "outputId": "ebbba334-8d99-4223-ce6c-8e788d6cf3e6"
   },
   "outputs": [
    {
     "data": {
      "text/plain": [
       "array([[1.00000000e+00, 1.45593827e-71],\n",
       "       [9.99999507e-01, 4.92675213e-07],\n",
       "       [1.00000000e+00, 0.00000000e+00],\n",
       "       [9.99996567e-01, 3.43287578e-06],\n",
       "       [9.99998019e-01, 1.98069924e-06],\n",
       "       [9.99999857e-01, 1.42861563e-07],\n",
       "       [1.00000000e+00, 3.43370552e-19],\n",
       "       [9.99996800e-01, 3.20026384e-06],\n",
       "       [9.99999630e-01, 3.70334130e-07],\n",
       "       [9.99965567e-01, 3.44330575e-05]])"
      ]
     },
     "execution_count": 107,
     "metadata": {},
     "output_type": "execute_result"
    }
   ],
   "source": [
    "# use predict_proba since we need probabilities to compute auc\n",
    "y_pred = lgb.predict_proba(xtest)\n",
    "\n",
    "#print top 10 y_pred result\n",
    "y_pred[:10]"
   ]
  },
  {
   "cell_type": "code",
   "execution_count": 110,
   "metadata": {
    "colab": {
     "base_uri": "https://localhost:8080/"
    },
    "id": "fTMKpaisD3VG",
    "outputId": "2bc3d527-0215-492a-d3a9-a851d26f2ec9"
   },
   "outputs": [
    {
     "name": "stdout",
     "output_type": "stream",
     "text": [
      "AUC: 69.04%\n"
     ]
    }
   ],
   "source": [
    "# evaluate predictions using roc_auc score\n",
    "roc = metrics.roc_auc_score(ytest,y_pred[:,1])\n",
    "print(\"AUC: %.2f%%\" % (roc * 100.0))"
   ]
  },
  {
   "cell_type": "markdown",
   "metadata": {
    "id": "A83xQgyOD3VH"
   },
   "source": [
    "Now lets tune above model. The exhaustive list of hyperparameters in LightGBM are https://lightgbm.readthedocs.io/en/latest/Parameters-Tuning.html\n",
    "\n",
    "But lets run the LightGBM with previous selected hyperparamters i.e.\n",
    "\n",
    "`'learning_rate': 0.2,\n",
    "          'max_depth': 2, \n",
    "          'n_estimators':200,\n",
    "          'subsample':0.6,\n",
    "         'objective':'binary:logistic'\n",
    "         'random_state':1}`\n",
    "         \n",
    "Lets see if it improves"
   ]
  },
  {
   "cell_type": "code",
   "execution_count": 112,
   "metadata": {
    "colab": {
     "base_uri": "https://localhost:8080/"
    },
    "id": "_W1CMCORD3VH",
    "outputId": "ad7c6521-9ffa-4da0-f30c-3398a7576f5f"
   },
   "outputs": [
    {
     "name": "stdout",
     "output_type": "stream",
     "text": [
      "[LightGBM] [Info] Number of positive: 158, number of negative: 69842\n",
      "[LightGBM] [Warning] Auto-choosing row-wise multi-threading, the overhead of testing was 0.005893 seconds.\n",
      "You can set `force_row_wise=true` to remove the overhead.\n",
      "And if memory is not enough, you can set `force_col_wise=true`.\n",
      "[LightGBM] [Info] Total Bins 1097\n",
      "[LightGBM] [Info] Number of data points in the train set: 70000, number of used features: 21\n",
      "[LightGBM] [Info] [binary:BoostFromScore]: pavg=0.002257 -> initscore=-6.091396\n",
      "[LightGBM] [Info] Start training from score -6.091396\n"
     ]
    },
    {
     "data": {
      "text/plain": [
       "LGBMClassifier(learning_rate=0.2, max_depth=2, n_estimators=200, random_state=1,\n",
       "               subsample=0.6)"
      ]
     },
     "execution_count": 112,
     "metadata": {},
     "output_type": "execute_result"
    }
   ],
   "source": [
    "# Define parameters as above\n",
    "# params = {'learning_rate': 0.2,\n",
    "#           'max_depth': 2, \n",
    "#           'n_estimators':200,\n",
    "#           'subsample':0.6,\n",
    "#          'objective':'binary:logistic',\n",
    "#          'random_state':1}\n",
    "\n",
    "# Instantiate XGBClassifier with params\n",
    "LGB = LGBMClassifier(learning_rate=0.2,max_depth=2,n_estimators=200,subsample=0.6,random_state=1)\n",
    "\n",
    "# fit model on training data\n",
    "LGB.fit(xtrain,ytrain)"
   ]
  },
  {
   "cell_type": "code",
   "execution_count": 114,
   "metadata": {
    "colab": {
     "base_uri": "https://localhost:8080/"
    },
    "id": "B6PQTjksD3VH",
    "outputId": "aa5c40f1-96f0-4c88-8415-211189dc1283"
   },
   "outputs": [
    {
     "name": "stdout",
     "output_type": "stream",
     "text": [
      "AUC: 69.04%\n"
     ]
    }
   ],
   "source": [
    "# Use predict_proba since we need probabilities to compute AUC\n",
    "y_pred_prob = lgb.predict_proba(xtest)\n",
    "\n",
    "# Evaluate predictions using roc_auc score\n",
    "roc = metrics.roc_auc_score(ytest, y_pred_prob[:, 1])\n",
    "print(\"AUC: %.2f%%\" % (roc * 100.0))"
   ]
  },
  {
   "cell_type": "markdown",
   "metadata": {
    "id": "XIQE73rfD3VH"
   },
   "source": [
    "Even after tuning we have got lower AUC score.\n",
    "\n",
    "\n",
    "## **`5. CatBoost`**\n",
    "\n",
    "CatBoost is a recently open-sourced machine learning algorithm from Yandex. It can easily integrate with deep learning frameworks like Google’s TensorFlow and Apple’s Core ML. It can work with diverse data types to help solve a wide range of problems that businesses face today. To top it up, it provides best-in-class accuracy.\n",
    "\n",
    "It is especially powerful in two ways:\n",
    "\n",
    "It yields state-of-the-art results without extensive data training typically required by other machine learning methods, and\n",
    "Provides powerful out-of-the-box support for the more descriptive data formats that accompany many business problems.\n",
    "“CatBoost” name comes from two words “Category” and “Boosting”.\n",
    "\n",
    "As discussed, the library works well with multiple Categories of data, such as audio, text, image including historical data."
   ]
  },
  {
   "cell_type": "markdown",
   "metadata": {
    "id": "Aa89FRoYuOPI"
   },
   "source": [
    "## **`CatBoost Training`**"
   ]
  },
  {
   "cell_type": "code",
   "execution_count": 115,
   "metadata": {},
   "outputs": [
    {
     "name": "stdout",
     "output_type": "stream",
     "text": [
      "Defaulting to user installation because normal site-packages is not writeable\n",
      "Requirement already satisfied: catboost in c:\\users\\user-pc\\appdata\\roaming\\python\\python39\\site-packages (1.2)\n",
      "Requirement already satisfied: numpy>=1.16.0 in c:\\programdata\\anaconda3\\lib\\site-packages (from catboost) (1.21.5)\n",
      "Requirement already satisfied: plotly in c:\\programdata\\anaconda3\\lib\\site-packages (from catboost) (5.9.0)\n",
      "Requirement already satisfied: matplotlib in c:\\programdata\\anaconda3\\lib\\site-packages (from catboost) (3.5.2)\n",
      "Requirement already satisfied: scipy in c:\\programdata\\anaconda3\\lib\\site-packages (from catboost) (1.9.1)\n",
      "Requirement already satisfied: graphviz in c:\\users\\user-pc\\appdata\\roaming\\python\\python39\\site-packages (from catboost) (0.20.1)\n",
      "Requirement already satisfied: pandas>=0.24 in c:\\programdata\\anaconda3\\lib\\site-packages (from catboost) (1.4.4)\n",
      "Requirement already satisfied: six in c:\\programdata\\anaconda3\\lib\\site-packages (from catboost) (1.16.0)\n",
      "Requirement already satisfied: python-dateutil>=2.8.1 in c:\\programdata\\anaconda3\\lib\\site-packages (from pandas>=0.24->catboost) (2.8.2)\n",
      "Requirement already satisfied: pytz>=2020.1 in c:\\programdata\\anaconda3\\lib\\site-packages (from pandas>=0.24->catboost) (2022.1)\n",
      "Requirement already satisfied: pyparsing>=2.2.1 in c:\\programdata\\anaconda3\\lib\\site-packages (from matplotlib->catboost) (3.0.9)\n",
      "Requirement already satisfied: fonttools>=4.22.0 in c:\\programdata\\anaconda3\\lib\\site-packages (from matplotlib->catboost) (4.25.0)\n",
      "Requirement already satisfied: pillow>=6.2.0 in c:\\programdata\\anaconda3\\lib\\site-packages (from matplotlib->catboost) (9.2.0)\n",
      "Requirement already satisfied: cycler>=0.10 in c:\\programdata\\anaconda3\\lib\\site-packages (from matplotlib->catboost) (0.11.0)\n",
      "Requirement already satisfied: packaging>=20.0 in c:\\programdata\\anaconda3\\lib\\site-packages (from matplotlib->catboost) (21.3)\n",
      "Requirement already satisfied: kiwisolver>=1.0.1 in c:\\programdata\\anaconda3\\lib\\site-packages (from matplotlib->catboost) (1.4.2)\n",
      "Requirement already satisfied: tenacity>=6.2.0 in c:\\programdata\\anaconda3\\lib\\site-packages (from plotly->catboost) (8.0.1)\n"
     ]
    }
   ],
   "source": [
    "!pip3 install catboost"
   ]
  },
  {
   "cell_type": "code",
   "execution_count": 122,
   "metadata": {
    "colab": {
     "base_uri": "https://localhost:8080/"
    },
    "id": "HSk1lnbkD3VI",
    "outputId": "308c5e77-2282-4e38-8920-87aba43c1d47"
   },
   "outputs": [
    {
     "name": "stdout",
     "output_type": "stream",
     "text": [
      "Learning rate set to 0.063211\n",
      "0:\tlearn: 0.5150162\ttotal: 19.7ms\tremaining: 19.6s\n",
      "1:\tlearn: 0.3865353\ttotal: 35.9ms\tremaining: 17.9s\n",
      "2:\tlearn: 0.2821273\ttotal: 54.3ms\tremaining: 18s\n",
      "3:\tlearn: 0.2134119\ttotal: 71.8ms\tremaining: 17.9s\n",
      "4:\tlearn: 0.1625690\ttotal: 89.2ms\tremaining: 17.7s\n",
      "5:\tlearn: 0.1268583\ttotal: 106ms\tremaining: 17.6s\n",
      "6:\tlearn: 0.0983825\ttotal: 123ms\tremaining: 17.4s\n",
      "7:\tlearn: 0.0796084\ttotal: 139ms\tremaining: 17.3s\n",
      "8:\tlearn: 0.0645658\ttotal: 156ms\tremaining: 17.1s\n",
      "9:\tlearn: 0.0539091\ttotal: 173ms\tremaining: 17.1s\n",
      "10:\tlearn: 0.0460097\ttotal: 191ms\tremaining: 17.1s\n",
      "11:\tlearn: 0.0383052\ttotal: 209ms\tremaining: 17.2s\n",
      "12:\tlearn: 0.0329417\ttotal: 232ms\tremaining: 17.6s\n",
      "13:\tlearn: 0.0290397\ttotal: 249ms\tremaining: 17.5s\n",
      "14:\tlearn: 0.0258014\ttotal: 266ms\tremaining: 17.5s\n",
      "15:\tlearn: 0.0224344\ttotal: 283ms\tremaining: 17.4s\n",
      "16:\tlearn: 0.0202907\ttotal: 300ms\tremaining: 17.4s\n",
      "17:\tlearn: 0.0181333\ttotal: 317ms\tremaining: 17.3s\n",
      "18:\tlearn: 0.0170092\ttotal: 334ms\tremaining: 17.2s\n",
      "19:\tlearn: 0.0157836\ttotal: 352ms\tremaining: 17.3s\n",
      "20:\tlearn: 0.0148380\ttotal: 369ms\tremaining: 17.2s\n",
      "21:\tlearn: 0.0140612\ttotal: 387ms\tremaining: 17.2s\n",
      "22:\tlearn: 0.0135922\ttotal: 407ms\tremaining: 17.3s\n",
      "23:\tlearn: 0.0130481\ttotal: 430ms\tremaining: 17.5s\n",
      "24:\tlearn: 0.0124854\ttotal: 451ms\tremaining: 17.6s\n",
      "25:\tlearn: 0.0120695\ttotal: 469ms\tremaining: 17.6s\n",
      "26:\tlearn: 0.0116454\ttotal: 486ms\tremaining: 17.5s\n",
      "27:\tlearn: 0.0114461\ttotal: 503ms\tremaining: 17.4s\n",
      "28:\tlearn: 0.0112206\ttotal: 521ms\tremaining: 17.5s\n",
      "29:\tlearn: 0.0109109\ttotal: 539ms\tremaining: 17.4s\n",
      "30:\tlearn: 0.0106728\ttotal: 555ms\tremaining: 17.4s\n",
      "31:\tlearn: 0.0105316\ttotal: 572ms\tremaining: 17.3s\n",
      "32:\tlearn: 0.0104044\ttotal: 590ms\tremaining: 17.3s\n",
      "33:\tlearn: 0.0102380\ttotal: 607ms\tremaining: 17.3s\n",
      "34:\tlearn: 0.0101304\ttotal: 625ms\tremaining: 17.2s\n",
      "35:\tlearn: 0.0099704\ttotal: 642ms\tremaining: 17.2s\n",
      "36:\tlearn: 0.0098570\ttotal: 665ms\tremaining: 17.3s\n",
      "37:\tlearn: 0.0096786\ttotal: 682ms\tremaining: 17.3s\n",
      "38:\tlearn: 0.0095823\ttotal: 700ms\tremaining: 17.3s\n",
      "39:\tlearn: 0.0094746\ttotal: 716ms\tremaining: 17.2s\n",
      "40:\tlearn: 0.0094057\ttotal: 732ms\tremaining: 17.1s\n",
      "41:\tlearn: 0.0092965\ttotal: 749ms\tremaining: 17.1s\n",
      "42:\tlearn: 0.0092368\ttotal: 767ms\tremaining: 17.1s\n",
      "43:\tlearn: 0.0091674\ttotal: 784ms\tremaining: 17s\n",
      "44:\tlearn: 0.0091012\ttotal: 800ms\tremaining: 17s\n",
      "45:\tlearn: 0.0090339\ttotal: 817ms\tremaining: 17s\n",
      "46:\tlearn: 0.0089585\ttotal: 834ms\tremaining: 16.9s\n",
      "47:\tlearn: 0.0088971\ttotal: 852ms\tremaining: 16.9s\n",
      "48:\tlearn: 0.0088704\ttotal: 874ms\tremaining: 17s\n",
      "49:\tlearn: 0.0087986\ttotal: 892ms\tremaining: 17s\n",
      "50:\tlearn: 0.0087515\ttotal: 910ms\tremaining: 16.9s\n",
      "51:\tlearn: 0.0087055\ttotal: 928ms\tremaining: 16.9s\n",
      "52:\tlearn: 0.0086596\ttotal: 947ms\tremaining: 16.9s\n",
      "53:\tlearn: 0.0085810\ttotal: 971ms\tremaining: 17s\n",
      "54:\tlearn: 0.0085093\ttotal: 994ms\tremaining: 17.1s\n",
      "55:\tlearn: 0.0084888\ttotal: 1.01s\tremaining: 17.1s\n",
      "56:\tlearn: 0.0084191\ttotal: 1.04s\tremaining: 17.2s\n",
      "57:\tlearn: 0.0083712\ttotal: 1.05s\tremaining: 17.1s\n",
      "58:\tlearn: 0.0083203\ttotal: 1.07s\tremaining: 17.1s\n",
      "59:\tlearn: 0.0082795\ttotal: 1.1s\tremaining: 17.2s\n",
      "60:\tlearn: 0.0082321\ttotal: 1.11s\tremaining: 17.2s\n",
      "61:\tlearn: 0.0081994\ttotal: 1.13s\tremaining: 17.1s\n",
      "62:\tlearn: 0.0081586\ttotal: 1.15s\tremaining: 17.1s\n",
      "63:\tlearn: 0.0080850\ttotal: 1.17s\tremaining: 17.1s\n",
      "64:\tlearn: 0.0080705\ttotal: 1.19s\tremaining: 17.1s\n",
      "65:\tlearn: 0.0080266\ttotal: 1.2s\tremaining: 17s\n",
      "66:\tlearn: 0.0079931\ttotal: 1.22s\tremaining: 17.1s\n",
      "67:\tlearn: 0.0078855\ttotal: 1.24s\tremaining: 17s\n",
      "68:\tlearn: 0.0078327\ttotal: 1.26s\tremaining: 17s\n",
      "69:\tlearn: 0.0078018\ttotal: 1.28s\tremaining: 17s\n",
      "70:\tlearn: 0.0076678\ttotal: 1.31s\tremaining: 17.1s\n",
      "71:\tlearn: 0.0075887\ttotal: 1.33s\tremaining: 17.1s\n",
      "72:\tlearn: 0.0075604\ttotal: 1.34s\tremaining: 17.1s\n",
      "73:\tlearn: 0.0075264\ttotal: 1.36s\tremaining: 17.1s\n",
      "74:\tlearn: 0.0075004\ttotal: 1.39s\tremaining: 17.1s\n",
      "75:\tlearn: 0.0073770\ttotal: 1.41s\tremaining: 17.1s\n",
      "76:\tlearn: 0.0073507\ttotal: 1.43s\tremaining: 17.1s\n",
      "77:\tlearn: 0.0073225\ttotal: 1.44s\tremaining: 17.1s\n",
      "78:\tlearn: 0.0073004\ttotal: 1.46s\tremaining: 17.1s\n",
      "79:\tlearn: 0.0072490\ttotal: 1.48s\tremaining: 17.1s\n",
      "80:\tlearn: 0.0072336\ttotal: 1.5s\tremaining: 17s\n",
      "81:\tlearn: 0.0071031\ttotal: 1.52s\tremaining: 17.1s\n",
      "82:\tlearn: 0.0070835\ttotal: 1.54s\tremaining: 17.1s\n",
      "83:\tlearn: 0.0070697\ttotal: 1.56s\tremaining: 17.1s\n",
      "84:\tlearn: 0.0070558\ttotal: 1.58s\tremaining: 17s\n",
      "85:\tlearn: 0.0070271\ttotal: 1.6s\tremaining: 17s\n",
      "86:\tlearn: 0.0069991\ttotal: 1.62s\tremaining: 17s\n",
      "87:\tlearn: 0.0069942\ttotal: 1.63s\tremaining: 16.9s\n",
      "88:\tlearn: 0.0068831\ttotal: 1.65s\tremaining: 16.9s\n",
      "89:\tlearn: 0.0067880\ttotal: 1.67s\tremaining: 16.9s\n",
      "90:\tlearn: 0.0066776\ttotal: 1.69s\tremaining: 16.9s\n",
      "91:\tlearn: 0.0066584\ttotal: 1.71s\tremaining: 16.8s\n",
      "92:\tlearn: 0.0066483\ttotal: 1.72s\tremaining: 16.8s\n",
      "93:\tlearn: 0.0066152\ttotal: 1.74s\tremaining: 16.8s\n",
      "94:\tlearn: 0.0065309\ttotal: 1.77s\tremaining: 16.8s\n",
      "95:\tlearn: 0.0065239\ttotal: 1.78s\tremaining: 16.8s\n",
      "96:\tlearn: 0.0065033\ttotal: 1.8s\tremaining: 16.8s\n",
      "97:\tlearn: 0.0064297\ttotal: 1.82s\tremaining: 16.7s\n",
      "98:\tlearn: 0.0063560\ttotal: 1.84s\tremaining: 16.7s\n",
      "99:\tlearn: 0.0062926\ttotal: 1.85s\tremaining: 16.7s\n",
      "100:\tlearn: 0.0062332\ttotal: 1.87s\tremaining: 16.7s\n",
      "101:\tlearn: 0.0062170\ttotal: 1.89s\tremaining: 16.6s\n",
      "102:\tlearn: 0.0061930\ttotal: 1.91s\tremaining: 16.6s\n",
      "103:\tlearn: 0.0061824\ttotal: 1.92s\tremaining: 16.6s\n",
      "104:\tlearn: 0.0061634\ttotal: 1.94s\tremaining: 16.5s\n",
      "105:\tlearn: 0.0061051\ttotal: 1.96s\tremaining: 16.6s\n",
      "106:\tlearn: 0.0060943\ttotal: 1.98s\tremaining: 16.6s\n",
      "107:\tlearn: 0.0060635\ttotal: 2s\tremaining: 16.5s\n",
      "108:\tlearn: 0.0060447\ttotal: 2.02s\tremaining: 16.5s\n",
      "109:\tlearn: 0.0059849\ttotal: 2.04s\tremaining: 16.5s\n",
      "110:\tlearn: 0.0059583\ttotal: 2.06s\tremaining: 16.5s\n",
      "111:\tlearn: 0.0059383\ttotal: 2.08s\tremaining: 16.5s\n",
      "112:\tlearn: 0.0059231\ttotal: 2.1s\tremaining: 16.5s\n",
      "113:\tlearn: 0.0059084\ttotal: 2.12s\tremaining: 16.5s\n",
      "114:\tlearn: 0.0058995\ttotal: 2.14s\tremaining: 16.5s\n",
      "115:\tlearn: 0.0058810\ttotal: 2.16s\tremaining: 16.4s\n",
      "116:\tlearn: 0.0058490\ttotal: 2.18s\tremaining: 16.4s\n",
      "117:\tlearn: 0.0058329\ttotal: 2.2s\tremaining: 16.5s\n",
      "118:\tlearn: 0.0058103\ttotal: 2.22s\tremaining: 16.4s\n",
      "119:\tlearn: 0.0057689\ttotal: 2.24s\tremaining: 16.4s\n",
      "120:\tlearn: 0.0057519\ttotal: 2.26s\tremaining: 16.4s\n",
      "121:\tlearn: 0.0057312\ttotal: 2.28s\tremaining: 16.4s\n",
      "122:\tlearn: 0.0057195\ttotal: 2.3s\tremaining: 16.4s\n",
      "123:\tlearn: 0.0057025\ttotal: 2.32s\tremaining: 16.4s\n",
      "124:\tlearn: 0.0056806\ttotal: 2.34s\tremaining: 16.4s\n",
      "125:\tlearn: 0.0056256\ttotal: 2.36s\tremaining: 16.3s\n",
      "126:\tlearn: 0.0056097\ttotal: 2.38s\tremaining: 16.3s\n",
      "127:\tlearn: 0.0055948\ttotal: 2.4s\tremaining: 16.3s\n",
      "128:\tlearn: 0.0055847\ttotal: 2.42s\tremaining: 16.3s\n",
      "129:\tlearn: 0.0055727\ttotal: 2.44s\tremaining: 16.3s\n",
      "130:\tlearn: 0.0055665\ttotal: 2.46s\tremaining: 16.3s\n",
      "131:\tlearn: 0.0055541\ttotal: 2.48s\tremaining: 16.3s\n",
      "132:\tlearn: 0.0055238\ttotal: 2.5s\tremaining: 16.3s\n",
      "133:\tlearn: 0.0054924\ttotal: 2.52s\tremaining: 16.3s\n",
      "134:\tlearn: 0.0054568\ttotal: 2.54s\tremaining: 16.3s\n",
      "135:\tlearn: 0.0054405\ttotal: 2.56s\tremaining: 16.2s\n",
      "136:\tlearn: 0.0054256\ttotal: 2.58s\tremaining: 16.2s\n",
      "137:\tlearn: 0.0053877\ttotal: 2.6s\tremaining: 16.2s\n",
      "138:\tlearn: 0.0053782\ttotal: 2.62s\tremaining: 16.2s\n",
      "139:\tlearn: 0.0053620\ttotal: 2.64s\tremaining: 16.2s\n",
      "140:\tlearn: 0.0053415\ttotal: 2.66s\tremaining: 16.2s\n",
      "141:\tlearn: 0.0053292\ttotal: 2.68s\tremaining: 16.2s\n",
      "142:\tlearn: 0.0052905\ttotal: 2.7s\tremaining: 16.2s\n",
      "143:\tlearn: 0.0052728\ttotal: 2.72s\tremaining: 16.2s\n",
      "144:\tlearn: 0.0052473\ttotal: 2.74s\tremaining: 16.1s\n",
      "145:\tlearn: 0.0052293\ttotal: 2.75s\tremaining: 16.1s\n",
      "146:\tlearn: 0.0052256\ttotal: 2.77s\tremaining: 16.1s\n",
      "147:\tlearn: 0.0051999\ttotal: 2.79s\tremaining: 16.1s\n",
      "148:\tlearn: 0.0051907\ttotal: 2.81s\tremaining: 16s\n",
      "149:\tlearn: 0.0051685\ttotal: 2.83s\tremaining: 16s\n",
      "150:\tlearn: 0.0051577\ttotal: 2.85s\tremaining: 16s\n",
      "151:\tlearn: 0.0051527\ttotal: 2.87s\tremaining: 16s\n",
      "152:\tlearn: 0.0051400\ttotal: 2.88s\tremaining: 16s\n",
      "153:\tlearn: 0.0051045\ttotal: 2.9s\tremaining: 15.9s\n",
      "154:\tlearn: 0.0050839\ttotal: 2.92s\tremaining: 15.9s\n",
      "155:\tlearn: 0.0050608\ttotal: 2.94s\tremaining: 15.9s\n",
      "156:\tlearn: 0.0050425\ttotal: 2.95s\tremaining: 15.9s\n",
      "157:\tlearn: 0.0050203\ttotal: 2.97s\tremaining: 15.8s\n",
      "158:\tlearn: 0.0049994\ttotal: 2.99s\tremaining: 15.8s\n",
      "159:\tlearn: 0.0049859\ttotal: 3.01s\tremaining: 15.8s\n",
      "160:\tlearn: 0.0049707\ttotal: 3.03s\tremaining: 15.8s\n",
      "161:\tlearn: 0.0049585\ttotal: 3.05s\tremaining: 15.8s\n",
      "162:\tlearn: 0.0049454\ttotal: 3.07s\tremaining: 15.8s\n",
      "163:\tlearn: 0.0049324\ttotal: 3.09s\tremaining: 15.8s\n",
      "164:\tlearn: 0.0049283\ttotal: 3.11s\tremaining: 15.7s\n",
      "165:\tlearn: 0.0049112\ttotal: 3.13s\tremaining: 15.7s\n",
      "166:\tlearn: 0.0049068\ttotal: 3.14s\tremaining: 15.7s\n",
      "167:\tlearn: 0.0048897\ttotal: 3.16s\tremaining: 15.6s\n",
      "168:\tlearn: 0.0048764\ttotal: 3.18s\tremaining: 15.6s\n",
      "169:\tlearn: 0.0048656\ttotal: 3.19s\tremaining: 15.6s\n",
      "170:\tlearn: 0.0048608\ttotal: 3.21s\tremaining: 15.6s\n",
      "171:\tlearn: 0.0048484\ttotal: 3.23s\tremaining: 15.5s\n"
     ]
    },
    {
     "name": "stdout",
     "output_type": "stream",
     "text": [
      "172:\tlearn: 0.0048364\ttotal: 3.25s\tremaining: 15.5s\n",
      "173:\tlearn: 0.0048261\ttotal: 3.27s\tremaining: 15.5s\n",
      "174:\tlearn: 0.0048235\ttotal: 3.29s\tremaining: 15.5s\n",
      "175:\tlearn: 0.0048173\ttotal: 3.31s\tremaining: 15.5s\n",
      "176:\tlearn: 0.0048077\ttotal: 3.33s\tremaining: 15.5s\n",
      "177:\tlearn: 0.0047925\ttotal: 3.35s\tremaining: 15.5s\n",
      "178:\tlearn: 0.0047812\ttotal: 3.37s\tremaining: 15.5s\n",
      "179:\tlearn: 0.0047756\ttotal: 3.39s\tremaining: 15.4s\n",
      "180:\tlearn: 0.0047692\ttotal: 3.41s\tremaining: 15.4s\n",
      "181:\tlearn: 0.0047411\ttotal: 3.43s\tremaining: 15.4s\n",
      "182:\tlearn: 0.0047305\ttotal: 3.45s\tremaining: 15.4s\n",
      "183:\tlearn: 0.0047199\ttotal: 3.47s\tremaining: 15.4s\n",
      "184:\tlearn: 0.0047154\ttotal: 3.49s\tremaining: 15.4s\n",
      "185:\tlearn: 0.0047069\ttotal: 3.51s\tremaining: 15.4s\n",
      "186:\tlearn: 0.0046933\ttotal: 3.53s\tremaining: 15.4s\n",
      "187:\tlearn: 0.0046916\ttotal: 3.55s\tremaining: 15.3s\n",
      "188:\tlearn: 0.0046796\ttotal: 3.57s\tremaining: 15.3s\n",
      "189:\tlearn: 0.0046764\ttotal: 3.59s\tremaining: 15.3s\n",
      "190:\tlearn: 0.0046674\ttotal: 3.61s\tremaining: 15.3s\n",
      "191:\tlearn: 0.0046626\ttotal: 3.63s\tremaining: 15.3s\n",
      "192:\tlearn: 0.0046578\ttotal: 3.65s\tremaining: 15.3s\n",
      "193:\tlearn: 0.0046358\ttotal: 3.67s\tremaining: 15.2s\n",
      "194:\tlearn: 0.0046314\ttotal: 3.69s\tremaining: 15.2s\n",
      "195:\tlearn: 0.0046223\ttotal: 3.71s\tremaining: 15.2s\n",
      "196:\tlearn: 0.0046106\ttotal: 3.73s\tremaining: 15.2s\n",
      "197:\tlearn: 0.0045994\ttotal: 3.75s\tremaining: 15.2s\n",
      "198:\tlearn: 0.0045859\ttotal: 3.77s\tremaining: 15.2s\n",
      "199:\tlearn: 0.0045782\ttotal: 3.79s\tremaining: 15.2s\n",
      "200:\tlearn: 0.0045571\ttotal: 3.81s\tremaining: 15.2s\n",
      "201:\tlearn: 0.0045396\ttotal: 3.84s\tremaining: 15.2s\n",
      "202:\tlearn: 0.0045271\ttotal: 3.85s\tremaining: 15.1s\n",
      "203:\tlearn: 0.0045186\ttotal: 3.87s\tremaining: 15.1s\n",
      "204:\tlearn: 0.0045147\ttotal: 3.9s\tremaining: 15.1s\n",
      "205:\tlearn: 0.0045012\ttotal: 3.94s\tremaining: 15.2s\n",
      "206:\tlearn: 0.0044962\ttotal: 3.97s\tremaining: 15.2s\n",
      "207:\tlearn: 0.0044911\ttotal: 4s\tremaining: 15.2s\n",
      "208:\tlearn: 0.0044857\ttotal: 4.02s\tremaining: 15.2s\n",
      "209:\tlearn: 0.0044738\ttotal: 4.04s\tremaining: 15.2s\n",
      "210:\tlearn: 0.0044663\ttotal: 4.07s\tremaining: 15.2s\n",
      "211:\tlearn: 0.0044577\ttotal: 4.09s\tremaining: 15.2s\n",
      "212:\tlearn: 0.0044545\ttotal: 4.11s\tremaining: 15.2s\n",
      "213:\tlearn: 0.0044510\ttotal: 4.14s\tremaining: 15.2s\n",
      "214:\tlearn: 0.0044484\ttotal: 4.16s\tremaining: 15.2s\n",
      "215:\tlearn: 0.0044409\ttotal: 4.19s\tremaining: 15.2s\n",
      "216:\tlearn: 0.0044380\ttotal: 4.21s\tremaining: 15.2s\n",
      "217:\tlearn: 0.0044339\ttotal: 4.24s\tremaining: 15.2s\n",
      "218:\tlearn: 0.0044315\ttotal: 4.26s\tremaining: 15.2s\n",
      "219:\tlearn: 0.0044294\ttotal: 4.28s\tremaining: 15.2s\n",
      "220:\tlearn: 0.0044262\ttotal: 4.31s\tremaining: 15.2s\n",
      "221:\tlearn: 0.0044056\ttotal: 4.34s\tremaining: 15.2s\n",
      "222:\tlearn: 0.0043811\ttotal: 4.37s\tremaining: 15.2s\n",
      "223:\tlearn: 0.0043730\ttotal: 4.4s\tremaining: 15.2s\n",
      "224:\tlearn: 0.0043691\ttotal: 4.42s\tremaining: 15.2s\n",
      "225:\tlearn: 0.0043588\ttotal: 4.44s\tremaining: 15.2s\n",
      "226:\tlearn: 0.0043502\ttotal: 4.46s\tremaining: 15.2s\n",
      "227:\tlearn: 0.0043372\ttotal: 4.49s\tremaining: 15.2s\n",
      "228:\tlearn: 0.0043309\ttotal: 4.51s\tremaining: 15.2s\n",
      "229:\tlearn: 0.0043268\ttotal: 4.55s\tremaining: 15.2s\n",
      "230:\tlearn: 0.0043181\ttotal: 4.59s\tremaining: 15.3s\n",
      "231:\tlearn: 0.0043060\ttotal: 4.62s\tremaining: 15.3s\n",
      "232:\tlearn: 0.0043030\ttotal: 4.65s\tremaining: 15.3s\n",
      "233:\tlearn: 0.0042973\ttotal: 4.69s\tremaining: 15.3s\n",
      "234:\tlearn: 0.0042947\ttotal: 4.71s\tremaining: 15.3s\n",
      "235:\tlearn: 0.0042865\ttotal: 4.74s\tremaining: 15.3s\n",
      "236:\tlearn: 0.0042694\ttotal: 4.76s\tremaining: 15.3s\n",
      "237:\tlearn: 0.0042605\ttotal: 4.78s\tremaining: 15.3s\n",
      "238:\tlearn: 0.0042572\ttotal: 4.81s\tremaining: 15.3s\n",
      "239:\tlearn: 0.0042463\ttotal: 4.83s\tremaining: 15.3s\n",
      "240:\tlearn: 0.0042405\ttotal: 4.86s\tremaining: 15.3s\n",
      "241:\tlearn: 0.0042351\ttotal: 4.88s\tremaining: 15.3s\n",
      "242:\tlearn: 0.0042321\ttotal: 4.9s\tremaining: 15.3s\n",
      "243:\tlearn: 0.0042250\ttotal: 4.92s\tremaining: 15.3s\n",
      "244:\tlearn: 0.0042224\ttotal: 4.95s\tremaining: 15.2s\n",
      "245:\tlearn: 0.0042155\ttotal: 4.98s\tremaining: 15.3s\n",
      "246:\tlearn: 0.0041999\ttotal: 5.01s\tremaining: 15.3s\n",
      "247:\tlearn: 0.0041900\ttotal: 5.05s\tremaining: 15.3s\n",
      "248:\tlearn: 0.0041873\ttotal: 5.09s\tremaining: 15.3s\n",
      "249:\tlearn: 0.0041845\ttotal: 5.12s\tremaining: 15.4s\n",
      "250:\tlearn: 0.0041760\ttotal: 5.15s\tremaining: 15.4s\n",
      "251:\tlearn: 0.0041684\ttotal: 5.18s\tremaining: 15.4s\n",
      "252:\tlearn: 0.0041624\ttotal: 5.2s\tremaining: 15.4s\n",
      "253:\tlearn: 0.0041478\ttotal: 5.22s\tremaining: 15.3s\n",
      "254:\tlearn: 0.0041349\ttotal: 5.25s\tremaining: 15.3s\n",
      "255:\tlearn: 0.0041190\ttotal: 5.27s\tremaining: 15.3s\n",
      "256:\tlearn: 0.0041103\ttotal: 5.3s\tremaining: 15.3s\n",
      "257:\tlearn: 0.0040990\ttotal: 5.33s\tremaining: 15.3s\n",
      "258:\tlearn: 0.0040947\ttotal: 5.35s\tremaining: 15.3s\n",
      "259:\tlearn: 0.0040914\ttotal: 5.37s\tremaining: 15.3s\n",
      "260:\tlearn: 0.0040817\ttotal: 5.39s\tremaining: 15.3s\n",
      "261:\tlearn: 0.0040765\ttotal: 5.42s\tremaining: 15.3s\n",
      "262:\tlearn: 0.0040692\ttotal: 5.44s\tremaining: 15.2s\n",
      "263:\tlearn: 0.0040618\ttotal: 5.46s\tremaining: 15.2s\n",
      "264:\tlearn: 0.0040391\ttotal: 5.48s\tremaining: 15.2s\n",
      "265:\tlearn: 0.0040261\ttotal: 5.51s\tremaining: 15.2s\n",
      "266:\tlearn: 0.0040238\ttotal: 5.54s\tremaining: 15.2s\n",
      "267:\tlearn: 0.0040098\ttotal: 5.56s\tremaining: 15.2s\n",
      "268:\tlearn: 0.0040031\ttotal: 5.58s\tremaining: 15.2s\n",
      "269:\tlearn: 0.0039939\ttotal: 5.61s\tremaining: 15.2s\n",
      "270:\tlearn: 0.0039911\ttotal: 5.63s\tremaining: 15.1s\n",
      "271:\tlearn: 0.0039862\ttotal: 5.65s\tremaining: 15.1s\n",
      "272:\tlearn: 0.0039779\ttotal: 5.68s\tremaining: 15.1s\n",
      "273:\tlearn: 0.0039744\ttotal: 5.7s\tremaining: 15.1s\n",
      "274:\tlearn: 0.0039700\ttotal: 5.73s\tremaining: 15.1s\n",
      "275:\tlearn: 0.0039647\ttotal: 5.77s\tremaining: 15.1s\n",
      "276:\tlearn: 0.0039520\ttotal: 5.8s\tremaining: 15.1s\n",
      "277:\tlearn: 0.0039318\ttotal: 5.83s\tremaining: 15.1s\n",
      "278:\tlearn: 0.0039265\ttotal: 5.86s\tremaining: 15.2s\n",
      "279:\tlearn: 0.0039200\ttotal: 5.89s\tremaining: 15.1s\n",
      "280:\tlearn: 0.0039167\ttotal: 5.92s\tremaining: 15.1s\n",
      "281:\tlearn: 0.0039131\ttotal: 5.95s\tremaining: 15.1s\n",
      "282:\tlearn: 0.0039013\ttotal: 5.97s\tremaining: 15.1s\n",
      "283:\tlearn: 0.0038984\ttotal: 6s\tremaining: 15.1s\n",
      "284:\tlearn: 0.0038914\ttotal: 6.03s\tremaining: 15.1s\n",
      "285:\tlearn: 0.0038855\ttotal: 6.05s\tremaining: 15.1s\n",
      "286:\tlearn: 0.0038751\ttotal: 6.08s\tremaining: 15.1s\n",
      "287:\tlearn: 0.0038620\ttotal: 6.1s\tremaining: 15.1s\n",
      "288:\tlearn: 0.0038547\ttotal: 6.13s\tremaining: 15.1s\n",
      "289:\tlearn: 0.0038388\ttotal: 6.16s\tremaining: 15.1s\n",
      "290:\tlearn: 0.0038330\ttotal: 6.19s\tremaining: 15.1s\n",
      "291:\tlearn: 0.0038157\ttotal: 6.22s\tremaining: 15.1s\n",
      "292:\tlearn: 0.0038140\ttotal: 6.24s\tremaining: 15.1s\n",
      "293:\tlearn: 0.0038087\ttotal: 6.26s\tremaining: 15s\n",
      "294:\tlearn: 0.0037970\ttotal: 6.29s\tremaining: 15s\n",
      "295:\tlearn: 0.0037906\ttotal: 6.31s\tremaining: 15s\n",
      "296:\tlearn: 0.0037754\ttotal: 6.33s\tremaining: 15s\n",
      "297:\tlearn: 0.0037708\ttotal: 6.36s\tremaining: 15s\n",
      "298:\tlearn: 0.0037631\ttotal: 6.38s\tremaining: 15s\n",
      "299:\tlearn: 0.0037566\ttotal: 6.42s\tremaining: 15s\n",
      "300:\tlearn: 0.0037491\ttotal: 6.45s\tremaining: 15s\n",
      "301:\tlearn: 0.0037440\ttotal: 6.48s\tremaining: 15s\n",
      "302:\tlearn: 0.0037400\ttotal: 6.51s\tremaining: 15s\n",
      "303:\tlearn: 0.0037295\ttotal: 6.54s\tremaining: 15s\n",
      "304:\tlearn: 0.0037260\ttotal: 6.57s\tremaining: 15s\n",
      "305:\tlearn: 0.0037128\ttotal: 6.6s\tremaining: 15s\n",
      "306:\tlearn: 0.0037106\ttotal: 6.63s\tremaining: 15s\n",
      "307:\tlearn: 0.0036945\ttotal: 6.65s\tremaining: 14.9s\n",
      "308:\tlearn: 0.0036862\ttotal: 6.68s\tremaining: 14.9s\n",
      "309:\tlearn: 0.0036755\ttotal: 6.71s\tremaining: 14.9s\n",
      "310:\tlearn: 0.0036640\ttotal: 6.74s\tremaining: 14.9s\n",
      "311:\tlearn: 0.0036617\ttotal: 6.76s\tremaining: 14.9s\n",
      "312:\tlearn: 0.0036591\ttotal: 6.79s\tremaining: 14.9s\n",
      "313:\tlearn: 0.0036560\ttotal: 6.82s\tremaining: 14.9s\n",
      "314:\tlearn: 0.0036503\ttotal: 6.86s\tremaining: 14.9s\n",
      "315:\tlearn: 0.0036414\ttotal: 6.89s\tremaining: 14.9s\n",
      "316:\tlearn: 0.0036290\ttotal: 6.91s\tremaining: 14.9s\n",
      "317:\tlearn: 0.0036202\ttotal: 6.94s\tremaining: 14.9s\n",
      "318:\tlearn: 0.0036069\ttotal: 6.97s\tremaining: 14.9s\n",
      "319:\tlearn: 0.0035992\ttotal: 7s\tremaining: 14.9s\n",
      "320:\tlearn: 0.0035820\ttotal: 7.03s\tremaining: 14.9s\n",
      "321:\tlearn: 0.0035746\ttotal: 7.05s\tremaining: 14.9s\n",
      "322:\tlearn: 0.0035702\ttotal: 7.08s\tremaining: 14.8s\n",
      "323:\tlearn: 0.0035657\ttotal: 7.11s\tremaining: 14.8s\n",
      "324:\tlearn: 0.0035538\ttotal: 7.13s\tremaining: 14.8s\n",
      "325:\tlearn: 0.0035434\ttotal: 7.16s\tremaining: 14.8s\n",
      "326:\tlearn: 0.0035408\ttotal: 7.18s\tremaining: 14.8s\n",
      "327:\tlearn: 0.0035384\ttotal: 7.21s\tremaining: 14.8s\n",
      "328:\tlearn: 0.0035218\ttotal: 7.24s\tremaining: 14.8s\n",
      "329:\tlearn: 0.0035178\ttotal: 7.27s\tremaining: 14.8s\n",
      "330:\tlearn: 0.0035073\ttotal: 7.3s\tremaining: 14.8s\n",
      "331:\tlearn: 0.0035016\ttotal: 7.33s\tremaining: 14.7s\n",
      "332:\tlearn: 0.0034946\ttotal: 7.35s\tremaining: 14.7s\n",
      "333:\tlearn: 0.0034831\ttotal: 7.38s\tremaining: 14.7s\n",
      "334:\tlearn: 0.0034786\ttotal: 7.41s\tremaining: 14.7s\n",
      "335:\tlearn: 0.0034777\ttotal: 7.43s\tremaining: 14.7s\n",
      "336:\tlearn: 0.0034662\ttotal: 7.45s\tremaining: 14.7s\n"
     ]
    },
    {
     "name": "stdout",
     "output_type": "stream",
     "text": [
      "337:\tlearn: 0.0034566\ttotal: 7.48s\tremaining: 14.7s\n",
      "338:\tlearn: 0.0034516\ttotal: 7.51s\tremaining: 14.7s\n",
      "339:\tlearn: 0.0034424\ttotal: 7.54s\tremaining: 14.6s\n",
      "340:\tlearn: 0.0034346\ttotal: 7.57s\tremaining: 14.6s\n",
      "341:\tlearn: 0.0034210\ttotal: 7.59s\tremaining: 14.6s\n",
      "342:\tlearn: 0.0034184\ttotal: 7.61s\tremaining: 14.6s\n",
      "343:\tlearn: 0.0034055\ttotal: 7.64s\tremaining: 14.6s\n",
      "344:\tlearn: 0.0034001\ttotal: 7.66s\tremaining: 14.6s\n",
      "345:\tlearn: 0.0033862\ttotal: 7.69s\tremaining: 14.5s\n",
      "346:\tlearn: 0.0033756\ttotal: 7.72s\tremaining: 14.5s\n",
      "347:\tlearn: 0.0033736\ttotal: 7.75s\tremaining: 14.5s\n",
      "348:\tlearn: 0.0033696\ttotal: 7.77s\tremaining: 14.5s\n",
      "349:\tlearn: 0.0033611\ttotal: 7.8s\tremaining: 14.5s\n",
      "350:\tlearn: 0.0033563\ttotal: 7.82s\tremaining: 14.5s\n",
      "351:\tlearn: 0.0033499\ttotal: 7.84s\tremaining: 14.4s\n",
      "352:\tlearn: 0.0033425\ttotal: 7.87s\tremaining: 14.4s\n",
      "353:\tlearn: 0.0033324\ttotal: 7.89s\tremaining: 14.4s\n",
      "354:\tlearn: 0.0033286\ttotal: 7.92s\tremaining: 14.4s\n",
      "355:\tlearn: 0.0033205\ttotal: 7.94s\tremaining: 14.4s\n",
      "356:\tlearn: 0.0033168\ttotal: 7.97s\tremaining: 14.3s\n",
      "357:\tlearn: 0.0033099\ttotal: 7.99s\tremaining: 14.3s\n",
      "358:\tlearn: 0.0033055\ttotal: 8.01s\tremaining: 14.3s\n",
      "359:\tlearn: 0.0033032\ttotal: 8.03s\tremaining: 14.3s\n",
      "360:\tlearn: 0.0032932\ttotal: 8.06s\tremaining: 14.3s\n",
      "361:\tlearn: 0.0032874\ttotal: 8.09s\tremaining: 14.3s\n",
      "362:\tlearn: 0.0032795\ttotal: 8.11s\tremaining: 14.2s\n",
      "363:\tlearn: 0.0032698\ttotal: 8.14s\tremaining: 14.2s\n",
      "364:\tlearn: 0.0032626\ttotal: 8.17s\tremaining: 14.2s\n",
      "365:\tlearn: 0.0032504\ttotal: 8.2s\tremaining: 14.2s\n",
      "366:\tlearn: 0.0032461\ttotal: 8.23s\tremaining: 14.2s\n",
      "367:\tlearn: 0.0032405\ttotal: 8.26s\tremaining: 14.2s\n",
      "368:\tlearn: 0.0032312\ttotal: 8.29s\tremaining: 14.2s\n",
      "369:\tlearn: 0.0032266\ttotal: 8.32s\tremaining: 14.2s\n",
      "370:\tlearn: 0.0032234\ttotal: 8.35s\tremaining: 14.2s\n",
      "371:\tlearn: 0.0032191\ttotal: 8.38s\tremaining: 14.2s\n",
      "372:\tlearn: 0.0032155\ttotal: 8.41s\tremaining: 14.1s\n",
      "373:\tlearn: 0.0032061\ttotal: 8.45s\tremaining: 14.1s\n",
      "374:\tlearn: 0.0032018\ttotal: 8.48s\tremaining: 14.1s\n",
      "375:\tlearn: 0.0031880\ttotal: 8.51s\tremaining: 14.1s\n",
      "376:\tlearn: 0.0031810\ttotal: 8.54s\tremaining: 14.1s\n",
      "377:\tlearn: 0.0031724\ttotal: 8.57s\tremaining: 14.1s\n",
      "378:\tlearn: 0.0031617\ttotal: 8.61s\tremaining: 14.1s\n",
      "379:\tlearn: 0.0031578\ttotal: 8.64s\tremaining: 14.1s\n",
      "380:\tlearn: 0.0031511\ttotal: 8.67s\tremaining: 14.1s\n",
      "381:\tlearn: 0.0031496\ttotal: 8.7s\tremaining: 14.1s\n",
      "382:\tlearn: 0.0031444\ttotal: 8.73s\tremaining: 14.1s\n",
      "383:\tlearn: 0.0031308\ttotal: 8.75s\tremaining: 14s\n",
      "384:\tlearn: 0.0031243\ttotal: 8.78s\tremaining: 14s\n",
      "385:\tlearn: 0.0031208\ttotal: 8.81s\tremaining: 14s\n",
      "386:\tlearn: 0.0031190\ttotal: 8.84s\tremaining: 14s\n",
      "387:\tlearn: 0.0031127\ttotal: 8.87s\tremaining: 14s\n",
      "388:\tlearn: 0.0031068\ttotal: 8.9s\tremaining: 14s\n",
      "389:\tlearn: 0.0030996\ttotal: 8.92s\tremaining: 14s\n",
      "390:\tlearn: 0.0030949\ttotal: 8.96s\tremaining: 13.9s\n",
      "391:\tlearn: 0.0030910\ttotal: 8.98s\tremaining: 13.9s\n",
      "392:\tlearn: 0.0030832\ttotal: 9.01s\tremaining: 13.9s\n",
      "393:\tlearn: 0.0030781\ttotal: 9.04s\tremaining: 13.9s\n",
      "394:\tlearn: 0.0030726\ttotal: 9.07s\tremaining: 13.9s\n",
      "395:\tlearn: 0.0030665\ttotal: 9.09s\tremaining: 13.9s\n",
      "396:\tlearn: 0.0030610\ttotal: 9.13s\tremaining: 13.9s\n",
      "397:\tlearn: 0.0030582\ttotal: 9.16s\tremaining: 13.9s\n",
      "398:\tlearn: 0.0030560\ttotal: 9.19s\tremaining: 13.8s\n",
      "399:\tlearn: 0.0030545\ttotal: 9.21s\tremaining: 13.8s\n",
      "400:\tlearn: 0.0030505\ttotal: 9.24s\tremaining: 13.8s\n",
      "401:\tlearn: 0.0030449\ttotal: 9.28s\tremaining: 13.8s\n",
      "402:\tlearn: 0.0030411\ttotal: 9.3s\tremaining: 13.8s\n",
      "403:\tlearn: 0.0030396\ttotal: 9.33s\tremaining: 13.8s\n",
      "404:\tlearn: 0.0030383\ttotal: 9.36s\tremaining: 13.7s\n",
      "405:\tlearn: 0.0030342\ttotal: 9.38s\tremaining: 13.7s\n",
      "406:\tlearn: 0.0030272\ttotal: 9.41s\tremaining: 13.7s\n",
      "407:\tlearn: 0.0030230\ttotal: 9.44s\tremaining: 13.7s\n",
      "408:\tlearn: 0.0030205\ttotal: 9.46s\tremaining: 13.7s\n",
      "409:\tlearn: 0.0030179\ttotal: 9.48s\tremaining: 13.7s\n",
      "410:\tlearn: 0.0030143\ttotal: 9.51s\tremaining: 13.6s\n",
      "411:\tlearn: 0.0030102\ttotal: 9.54s\tremaining: 13.6s\n",
      "412:\tlearn: 0.0030067\ttotal: 9.56s\tremaining: 13.6s\n",
      "413:\tlearn: 0.0030034\ttotal: 9.58s\tremaining: 13.6s\n",
      "414:\tlearn: 0.0029969\ttotal: 9.61s\tremaining: 13.5s\n",
      "415:\tlearn: 0.0029900\ttotal: 9.63s\tremaining: 13.5s\n",
      "416:\tlearn: 0.0029844\ttotal: 9.65s\tremaining: 13.5s\n",
      "417:\tlearn: 0.0029815\ttotal: 9.68s\tremaining: 13.5s\n",
      "418:\tlearn: 0.0029783\ttotal: 9.7s\tremaining: 13.5s\n",
      "419:\tlearn: 0.0029770\ttotal: 9.73s\tremaining: 13.4s\n",
      "420:\tlearn: 0.0029757\ttotal: 9.76s\tremaining: 13.4s\n",
      "421:\tlearn: 0.0029726\ttotal: 9.78s\tremaining: 13.4s\n",
      "422:\tlearn: 0.0029688\ttotal: 9.8s\tremaining: 13.4s\n",
      "423:\tlearn: 0.0029659\ttotal: 9.82s\tremaining: 13.3s\n",
      "424:\tlearn: 0.0029630\ttotal: 9.85s\tremaining: 13.3s\n",
      "425:\tlearn: 0.0029603\ttotal: 9.87s\tremaining: 13.3s\n",
      "426:\tlearn: 0.0029589\ttotal: 9.89s\tremaining: 13.3s\n",
      "427:\tlearn: 0.0029550\ttotal: 9.92s\tremaining: 13.3s\n",
      "428:\tlearn: 0.0029497\ttotal: 9.95s\tremaining: 13.2s\n",
      "429:\tlearn: 0.0029444\ttotal: 9.97s\tremaining: 13.2s\n",
      "430:\tlearn: 0.0029417\ttotal: 9.99s\tremaining: 13.2s\n",
      "431:\tlearn: 0.0029376\ttotal: 10s\tremaining: 13.2s\n",
      "432:\tlearn: 0.0029325\ttotal: 10s\tremaining: 13.2s\n",
      "433:\tlearn: 0.0029295\ttotal: 10.1s\tremaining: 13.1s\n",
      "434:\tlearn: 0.0029282\ttotal: 10.1s\tremaining: 13.1s\n",
      "435:\tlearn: 0.0029211\ttotal: 10.1s\tremaining: 13.1s\n",
      "436:\tlearn: 0.0029186\ttotal: 10.1s\tremaining: 13.1s\n",
      "437:\tlearn: 0.0029163\ttotal: 10.2s\tremaining: 13s\n",
      "438:\tlearn: 0.0029113\ttotal: 10.2s\tremaining: 13s\n",
      "439:\tlearn: 0.0029086\ttotal: 10.2s\tremaining: 13s\n",
      "440:\tlearn: 0.0029061\ttotal: 10.2s\tremaining: 13s\n",
      "441:\tlearn: 0.0028988\ttotal: 10.3s\tremaining: 13s\n",
      "442:\tlearn: 0.0028896\ttotal: 10.3s\tremaining: 12.9s\n",
      "443:\tlearn: 0.0028873\ttotal: 10.3s\tremaining: 12.9s\n",
      "444:\tlearn: 0.0028836\ttotal: 10.3s\tremaining: 12.9s\n",
      "445:\tlearn: 0.0028788\ttotal: 10.4s\tremaining: 12.9s\n",
      "446:\tlearn: 0.0028760\ttotal: 10.4s\tremaining: 12.9s\n",
      "447:\tlearn: 0.0028747\ttotal: 10.4s\tremaining: 12.8s\n",
      "448:\tlearn: 0.0028724\ttotal: 10.4s\tremaining: 12.8s\n",
      "449:\tlearn: 0.0028703\ttotal: 10.5s\tremaining: 12.8s\n",
      "450:\tlearn: 0.0028654\ttotal: 10.5s\tremaining: 12.8s\n",
      "451:\tlearn: 0.0028633\ttotal: 10.5s\tremaining: 12.7s\n",
      "452:\tlearn: 0.0028597\ttotal: 10.5s\tremaining: 12.7s\n",
      "453:\tlearn: 0.0028547\ttotal: 10.6s\tremaining: 12.7s\n",
      "454:\tlearn: 0.0028527\ttotal: 10.6s\tremaining: 12.7s\n",
      "455:\tlearn: 0.0028502\ttotal: 10.6s\tremaining: 12.7s\n",
      "456:\tlearn: 0.0028468\ttotal: 10.6s\tremaining: 12.6s\n",
      "457:\tlearn: 0.0028449\ttotal: 10.7s\tremaining: 12.6s\n",
      "458:\tlearn: 0.0028416\ttotal: 10.7s\tremaining: 12.6s\n",
      "459:\tlearn: 0.0028401\ttotal: 10.7s\tremaining: 12.5s\n",
      "460:\tlearn: 0.0028355\ttotal: 10.7s\tremaining: 12.5s\n",
      "461:\tlearn: 0.0028317\ttotal: 10.7s\tremaining: 12.5s\n",
      "462:\tlearn: 0.0028293\ttotal: 10.7s\tremaining: 12.5s\n",
      "463:\tlearn: 0.0028254\ttotal: 10.8s\tremaining: 12.4s\n",
      "464:\tlearn: 0.0028199\ttotal: 10.8s\tremaining: 12.4s\n",
      "465:\tlearn: 0.0028132\ttotal: 10.8s\tremaining: 12.4s\n",
      "466:\tlearn: 0.0028080\ttotal: 10.8s\tremaining: 12.4s\n",
      "467:\tlearn: 0.0028054\ttotal: 10.8s\tremaining: 12.3s\n",
      "468:\tlearn: 0.0028044\ttotal: 10.9s\tremaining: 12.3s\n",
      "469:\tlearn: 0.0027998\ttotal: 10.9s\tremaining: 12.3s\n",
      "470:\tlearn: 0.0027979\ttotal: 10.9s\tremaining: 12.2s\n",
      "471:\tlearn: 0.0027970\ttotal: 10.9s\tremaining: 12.2s\n",
      "472:\tlearn: 0.0027884\ttotal: 10.9s\tremaining: 12.2s\n",
      "473:\tlearn: 0.0027860\ttotal: 11s\tremaining: 12.2s\n",
      "474:\tlearn: 0.0027836\ttotal: 11s\tremaining: 12.1s\n",
      "475:\tlearn: 0.0027788\ttotal: 11s\tremaining: 12.1s\n",
      "476:\tlearn: 0.0027747\ttotal: 11s\tremaining: 12.1s\n",
      "477:\tlearn: 0.0027729\ttotal: 11s\tremaining: 12.1s\n",
      "478:\tlearn: 0.0027720\ttotal: 11.1s\tremaining: 12s\n",
      "479:\tlearn: 0.0027698\ttotal: 11.1s\tremaining: 12s\n",
      "480:\tlearn: 0.0027625\ttotal: 11.1s\tremaining: 12s\n",
      "481:\tlearn: 0.0027549\ttotal: 11.1s\tremaining: 11.9s\n",
      "482:\tlearn: 0.0027527\ttotal: 11.1s\tremaining: 11.9s\n",
      "483:\tlearn: 0.0027504\ttotal: 11.2s\tremaining: 11.9s\n",
      "484:\tlearn: 0.0027495\ttotal: 11.2s\tremaining: 11.9s\n",
      "485:\tlearn: 0.0027478\ttotal: 11.2s\tremaining: 11.8s\n",
      "486:\tlearn: 0.0027440\ttotal: 11.2s\tremaining: 11.8s\n",
      "487:\tlearn: 0.0027238\ttotal: 11.2s\tremaining: 11.8s\n",
      "488:\tlearn: 0.0027189\ttotal: 11.2s\tremaining: 11.7s\n",
      "489:\tlearn: 0.0027174\ttotal: 11.3s\tremaining: 11.7s\n",
      "490:\tlearn: 0.0027150\ttotal: 11.3s\tremaining: 11.7s\n",
      "491:\tlearn: 0.0027129\ttotal: 11.3s\tremaining: 11.7s\n",
      "492:\tlearn: 0.0027058\ttotal: 11.3s\tremaining: 11.6s\n",
      "493:\tlearn: 0.0027049\ttotal: 11.3s\tremaining: 11.6s\n",
      "494:\tlearn: 0.0027042\ttotal: 11.4s\tremaining: 11.6s\n",
      "495:\tlearn: 0.0027002\ttotal: 11.4s\tremaining: 11.6s\n",
      "496:\tlearn: 0.0026965\ttotal: 11.4s\tremaining: 11.5s\n",
      "497:\tlearn: 0.0026948\ttotal: 11.4s\tremaining: 11.5s\n",
      "498:\tlearn: 0.0026891\ttotal: 11.4s\tremaining: 11.5s\n"
     ]
    },
    {
     "name": "stdout",
     "output_type": "stream",
     "text": [
      "499:\tlearn: 0.0026850\ttotal: 11.4s\tremaining: 11.4s\n",
      "500:\tlearn: 0.0026744\ttotal: 11.5s\tremaining: 11.4s\n",
      "501:\tlearn: 0.0026736\ttotal: 11.5s\tremaining: 11.4s\n",
      "502:\tlearn: 0.0026692\ttotal: 11.5s\tremaining: 11.4s\n",
      "503:\tlearn: 0.0026640\ttotal: 11.5s\tremaining: 11.4s\n",
      "504:\tlearn: 0.0026606\ttotal: 11.6s\tremaining: 11.3s\n",
      "505:\tlearn: 0.0026586\ttotal: 11.6s\tremaining: 11.3s\n",
      "506:\tlearn: 0.0026492\ttotal: 11.6s\tremaining: 11.3s\n",
      "507:\tlearn: 0.0026471\ttotal: 11.6s\tremaining: 11.3s\n",
      "508:\tlearn: 0.0026397\ttotal: 11.6s\tremaining: 11.2s\n",
      "509:\tlearn: 0.0026362\ttotal: 11.7s\tremaining: 11.2s\n",
      "510:\tlearn: 0.0026354\ttotal: 11.7s\tremaining: 11.2s\n",
      "511:\tlearn: 0.0026333\ttotal: 11.7s\tremaining: 11.1s\n",
      "512:\tlearn: 0.0026314\ttotal: 11.7s\tremaining: 11.1s\n",
      "513:\tlearn: 0.0026309\ttotal: 11.7s\tremaining: 11.1s\n",
      "514:\tlearn: 0.0026294\ttotal: 11.8s\tremaining: 11.1s\n",
      "515:\tlearn: 0.0026268\ttotal: 11.8s\tremaining: 11.1s\n",
      "516:\tlearn: 0.0026230\ttotal: 11.8s\tremaining: 11s\n",
      "517:\tlearn: 0.0026132\ttotal: 11.8s\tremaining: 11s\n",
      "518:\tlearn: 0.0026085\ttotal: 11.8s\tremaining: 11s\n",
      "519:\tlearn: 0.0026051\ttotal: 11.9s\tremaining: 11s\n",
      "520:\tlearn: 0.0026043\ttotal: 11.9s\tremaining: 10.9s\n",
      "521:\tlearn: 0.0026023\ttotal: 11.9s\tremaining: 10.9s\n",
      "522:\tlearn: 0.0025989\ttotal: 11.9s\tremaining: 10.9s\n",
      "523:\tlearn: 0.0025973\ttotal: 12s\tremaining: 10.9s\n",
      "524:\tlearn: 0.0025956\ttotal: 12s\tremaining: 10.8s\n",
      "525:\tlearn: 0.0025859\ttotal: 12s\tremaining: 10.8s\n",
      "526:\tlearn: 0.0025783\ttotal: 12s\tremaining: 10.8s\n",
      "527:\tlearn: 0.0025733\ttotal: 12.1s\tremaining: 10.8s\n",
      "528:\tlearn: 0.0025665\ttotal: 12.1s\tremaining: 10.7s\n",
      "529:\tlearn: 0.0025647\ttotal: 12.1s\tremaining: 10.7s\n",
      "530:\tlearn: 0.0025634\ttotal: 12.1s\tremaining: 10.7s\n",
      "531:\tlearn: 0.0025590\ttotal: 12.2s\tremaining: 10.7s\n",
      "532:\tlearn: 0.0025569\ttotal: 12.2s\tremaining: 10.7s\n",
      "533:\tlearn: 0.0025551\ttotal: 12.2s\tremaining: 10.7s\n",
      "534:\tlearn: 0.0025491\ttotal: 12.2s\tremaining: 10.6s\n",
      "535:\tlearn: 0.0025459\ttotal: 12.3s\tremaining: 10.6s\n",
      "536:\tlearn: 0.0025443\ttotal: 12.3s\tremaining: 10.6s\n",
      "537:\tlearn: 0.0025426\ttotal: 12.3s\tremaining: 10.6s\n",
      "538:\tlearn: 0.0025339\ttotal: 12.3s\tremaining: 10.5s\n",
      "539:\tlearn: 0.0025308\ttotal: 12.3s\tremaining: 10.5s\n",
      "540:\tlearn: 0.0025302\ttotal: 12.4s\tremaining: 10.5s\n",
      "541:\tlearn: 0.0025266\ttotal: 12.4s\tremaining: 10.5s\n",
      "542:\tlearn: 0.0025253\ttotal: 12.4s\tremaining: 10.4s\n",
      "543:\tlearn: 0.0025230\ttotal: 12.4s\tremaining: 10.4s\n",
      "544:\tlearn: 0.0025217\ttotal: 12.5s\tremaining: 10.4s\n",
      "545:\tlearn: 0.0025197\ttotal: 12.5s\tremaining: 10.4s\n",
      "546:\tlearn: 0.0025133\ttotal: 12.5s\tremaining: 10.3s\n",
      "547:\tlearn: 0.0025121\ttotal: 12.5s\tremaining: 10.3s\n",
      "548:\tlearn: 0.0025101\ttotal: 12.5s\tremaining: 10.3s\n",
      "549:\tlearn: 0.0025044\ttotal: 12.6s\tremaining: 10.3s\n",
      "550:\tlearn: 0.0025026\ttotal: 12.6s\tremaining: 10.3s\n",
      "551:\tlearn: 0.0025008\ttotal: 12.6s\tremaining: 10.2s\n",
      "552:\tlearn: 0.0025001\ttotal: 12.6s\tremaining: 10.2s\n",
      "553:\tlearn: 0.0024977\ttotal: 12.7s\tremaining: 10.2s\n",
      "554:\tlearn: 0.0024951\ttotal: 12.7s\tremaining: 10.2s\n",
      "555:\tlearn: 0.0024906\ttotal: 12.7s\tremaining: 10.1s\n",
      "556:\tlearn: 0.0024825\ttotal: 12.7s\tremaining: 10.1s\n",
      "557:\tlearn: 0.0024762\ttotal: 12.7s\tremaining: 10.1s\n",
      "558:\tlearn: 0.0024732\ttotal: 12.8s\tremaining: 10.1s\n",
      "559:\tlearn: 0.0024725\ttotal: 12.8s\tremaining: 10s\n",
      "560:\tlearn: 0.0024662\ttotal: 12.8s\tremaining: 10s\n",
      "561:\tlearn: 0.0024647\ttotal: 12.8s\tremaining: 10s\n",
      "562:\tlearn: 0.0024622\ttotal: 12.8s\tremaining: 9.97s\n",
      "563:\tlearn: 0.0024590\ttotal: 12.9s\tremaining: 9.95s\n",
      "564:\tlearn: 0.0024547\ttotal: 12.9s\tremaining: 9.93s\n",
      "565:\tlearn: 0.0024526\ttotal: 12.9s\tremaining: 9.9s\n",
      "566:\tlearn: 0.0024511\ttotal: 12.9s\tremaining: 9.88s\n",
      "567:\tlearn: 0.0024482\ttotal: 13s\tremaining: 9.86s\n",
      "568:\tlearn: 0.0024438\ttotal: 13s\tremaining: 9.83s\n",
      "569:\tlearn: 0.0024423\ttotal: 13s\tremaining: 9.81s\n",
      "570:\tlearn: 0.0024324\ttotal: 13s\tremaining: 9.79s\n",
      "571:\tlearn: 0.0024272\ttotal: 13s\tremaining: 9.76s\n",
      "572:\tlearn: 0.0024248\ttotal: 13.1s\tremaining: 9.74s\n",
      "573:\tlearn: 0.0024233\ttotal: 13.1s\tremaining: 9.72s\n",
      "574:\tlearn: 0.0024221\ttotal: 13.1s\tremaining: 9.69s\n",
      "575:\tlearn: 0.0024215\ttotal: 13.1s\tremaining: 9.67s\n",
      "576:\tlearn: 0.0024138\ttotal: 13.2s\tremaining: 9.65s\n",
      "577:\tlearn: 0.0024127\ttotal: 13.2s\tremaining: 9.62s\n",
      "578:\tlearn: 0.0024121\ttotal: 13.2s\tremaining: 9.6s\n",
      "579:\tlearn: 0.0024066\ttotal: 13.2s\tremaining: 9.57s\n",
      "580:\tlearn: 0.0023865\ttotal: 13.2s\tremaining: 9.55s\n",
      "581:\tlearn: 0.0023845\ttotal: 13.3s\tremaining: 9.53s\n",
      "582:\tlearn: 0.0023821\ttotal: 13.3s\tremaining: 9.5s\n",
      "583:\tlearn: 0.0023732\ttotal: 13.3s\tremaining: 9.48s\n",
      "584:\tlearn: 0.0023705\ttotal: 13.3s\tremaining: 9.46s\n",
      "585:\tlearn: 0.0023696\ttotal: 13.3s\tremaining: 9.43s\n",
      "586:\tlearn: 0.0023681\ttotal: 13.4s\tremaining: 9.41s\n",
      "587:\tlearn: 0.0023657\ttotal: 13.4s\tremaining: 9.38s\n",
      "588:\tlearn: 0.0023646\ttotal: 13.4s\tremaining: 9.36s\n",
      "589:\tlearn: 0.0023639\ttotal: 13.4s\tremaining: 9.34s\n",
      "590:\tlearn: 0.0023626\ttotal: 13.5s\tremaining: 9.31s\n",
      "591:\tlearn: 0.0023620\ttotal: 13.5s\tremaining: 9.29s\n",
      "592:\tlearn: 0.0023611\ttotal: 13.5s\tremaining: 9.26s\n",
      "593:\tlearn: 0.0023569\ttotal: 13.5s\tremaining: 9.24s\n",
      "594:\tlearn: 0.0023388\ttotal: 13.5s\tremaining: 9.22s\n",
      "595:\tlearn: 0.0023341\ttotal: 13.6s\tremaining: 9.19s\n",
      "596:\tlearn: 0.0023261\ttotal: 13.6s\tremaining: 9.17s\n",
      "597:\tlearn: 0.0023177\ttotal: 13.6s\tremaining: 9.15s\n",
      "598:\tlearn: 0.0023176\ttotal: 13.6s\tremaining: 9.13s\n",
      "599:\tlearn: 0.0023166\ttotal: 13.7s\tremaining: 9.1s\n",
      "600:\tlearn: 0.0023158\ttotal: 13.7s\tremaining: 9.08s\n",
      "601:\tlearn: 0.0023144\ttotal: 13.7s\tremaining: 9.05s\n",
      "602:\tlearn: 0.0023123\ttotal: 13.7s\tremaining: 9.03s\n",
      "603:\tlearn: 0.0023117\ttotal: 13.7s\tremaining: 9.01s\n",
      "604:\tlearn: 0.0023108\ttotal: 13.8s\tremaining: 8.98s\n",
      "605:\tlearn: 0.0022943\ttotal: 13.8s\tremaining: 8.96s\n",
      "606:\tlearn: 0.0022919\ttotal: 13.8s\tremaining: 8.94s\n",
      "607:\tlearn: 0.0022898\ttotal: 13.8s\tremaining: 8.92s\n",
      "608:\tlearn: 0.0022853\ttotal: 13.9s\tremaining: 8.89s\n",
      "609:\tlearn: 0.0022834\ttotal: 13.9s\tremaining: 8.87s\n",
      "610:\tlearn: 0.0022816\ttotal: 13.9s\tremaining: 8.85s\n",
      "611:\tlearn: 0.0022755\ttotal: 13.9s\tremaining: 8.82s\n",
      "612:\tlearn: 0.0022740\ttotal: 13.9s\tremaining: 8.8s\n",
      "613:\tlearn: 0.0022722\ttotal: 14s\tremaining: 8.78s\n",
      "614:\tlearn: 0.0022664\ttotal: 14s\tremaining: 8.75s\n",
      "615:\tlearn: 0.0022617\ttotal: 14s\tremaining: 8.73s\n",
      "616:\tlearn: 0.0022597\ttotal: 14s\tremaining: 8.71s\n",
      "617:\tlearn: 0.0022448\ttotal: 14.1s\tremaining: 8.69s\n",
      "618:\tlearn: 0.0022429\ttotal: 14.1s\tremaining: 8.67s\n",
      "619:\tlearn: 0.0022406\ttotal: 14.1s\tremaining: 8.64s\n",
      "620:\tlearn: 0.0022377\ttotal: 14.1s\tremaining: 8.62s\n",
      "621:\tlearn: 0.0022257\ttotal: 14.1s\tremaining: 8.6s\n",
      "622:\tlearn: 0.0022246\ttotal: 14.2s\tremaining: 8.57s\n",
      "623:\tlearn: 0.0022197\ttotal: 14.2s\tremaining: 8.55s\n",
      "624:\tlearn: 0.0022171\ttotal: 14.2s\tremaining: 8.53s\n",
      "625:\tlearn: 0.0022064\ttotal: 14.2s\tremaining: 8.5s\n",
      "626:\tlearn: 0.0022056\ttotal: 14.3s\tremaining: 8.48s\n",
      "627:\tlearn: 0.0021989\ttotal: 14.3s\tremaining: 8.46s\n",
      "628:\tlearn: 0.0021977\ttotal: 14.3s\tremaining: 8.44s\n",
      "629:\tlearn: 0.0021955\ttotal: 14.3s\tremaining: 8.41s\n",
      "630:\tlearn: 0.0021821\ttotal: 14.3s\tremaining: 8.39s\n",
      "631:\tlearn: 0.0021809\ttotal: 14.4s\tremaining: 8.37s\n",
      "632:\tlearn: 0.0021806\ttotal: 14.4s\tremaining: 8.34s\n",
      "633:\tlearn: 0.0021794\ttotal: 14.4s\tremaining: 8.32s\n",
      "634:\tlearn: 0.0021784\ttotal: 14.4s\tremaining: 8.3s\n",
      "635:\tlearn: 0.0021741\ttotal: 14.5s\tremaining: 8.27s\n",
      "636:\tlearn: 0.0021681\ttotal: 14.5s\tremaining: 8.25s\n",
      "637:\tlearn: 0.0021636\ttotal: 14.5s\tremaining: 8.23s\n",
      "638:\tlearn: 0.0021546\ttotal: 14.5s\tremaining: 8.21s\n",
      "639:\tlearn: 0.0021538\ttotal: 14.5s\tremaining: 8.18s\n",
      "640:\tlearn: 0.0021528\ttotal: 14.6s\tremaining: 8.16s\n",
      "641:\tlearn: 0.0021406\ttotal: 14.6s\tremaining: 8.14s\n",
      "642:\tlearn: 0.0021376\ttotal: 14.6s\tremaining: 8.11s\n",
      "643:\tlearn: 0.0021323\ttotal: 14.6s\tremaining: 8.09s\n",
      "644:\tlearn: 0.0021309\ttotal: 14.7s\tremaining: 8.07s\n",
      "645:\tlearn: 0.0021294\ttotal: 14.7s\tremaining: 8.04s\n",
      "646:\tlearn: 0.0021241\ttotal: 14.7s\tremaining: 8.02s\n",
      "647:\tlearn: 0.0021184\ttotal: 14.7s\tremaining: 8s\n",
      "648:\tlearn: 0.0021163\ttotal: 14.7s\tremaining: 7.98s\n",
      "649:\tlearn: 0.0021084\ttotal: 14.8s\tremaining: 7.96s\n",
      "650:\tlearn: 0.0021079\ttotal: 14.8s\tremaining: 7.93s\n",
      "651:\tlearn: 0.0021073\ttotal: 14.8s\tremaining: 7.91s\n",
      "652:\tlearn: 0.0020953\ttotal: 14.8s\tremaining: 7.89s\n",
      "653:\tlearn: 0.0020944\ttotal: 14.9s\tremaining: 7.86s\n",
      "654:\tlearn: 0.0020875\ttotal: 14.9s\tremaining: 7.84s\n",
      "655:\tlearn: 0.0020858\ttotal: 14.9s\tremaining: 7.82s\n",
      "656:\tlearn: 0.0020849\ttotal: 14.9s\tremaining: 7.79s\n",
      "657:\tlearn: 0.0020787\ttotal: 15s\tremaining: 7.77s\n",
      "658:\tlearn: 0.0020743\ttotal: 15s\tremaining: 7.75s\n",
      "659:\tlearn: 0.0020728\ttotal: 15s\tremaining: 7.73s\n",
      "660:\tlearn: 0.0020724\ttotal: 15s\tremaining: 7.71s\n",
      "661:\tlearn: 0.0020720\ttotal: 15s\tremaining: 7.68s\n",
      "662:\tlearn: 0.0020716\ttotal: 15.1s\tremaining: 7.66s\n",
      "663:\tlearn: 0.0020710\ttotal: 15.1s\tremaining: 7.63s\n",
      "664:\tlearn: 0.0020706\ttotal: 15.1s\tremaining: 7.61s\n"
     ]
    },
    {
     "name": "stdout",
     "output_type": "stream",
     "text": [
      "665:\tlearn: 0.0020637\ttotal: 15.1s\tremaining: 7.59s\n",
      "666:\tlearn: 0.0020624\ttotal: 15.2s\tremaining: 7.57s\n",
      "667:\tlearn: 0.0020590\ttotal: 15.2s\tremaining: 7.54s\n",
      "668:\tlearn: 0.0020587\ttotal: 15.2s\tremaining: 7.52s\n",
      "669:\tlearn: 0.0020519\ttotal: 15.2s\tremaining: 7.5s\n",
      "670:\tlearn: 0.0020509\ttotal: 15.2s\tremaining: 7.47s\n",
      "671:\tlearn: 0.0020452\ttotal: 15.3s\tremaining: 7.45s\n",
      "672:\tlearn: 0.0020440\ttotal: 15.3s\tremaining: 7.43s\n",
      "673:\tlearn: 0.0020435\ttotal: 15.3s\tremaining: 7.4s\n",
      "674:\tlearn: 0.0020388\ttotal: 15.3s\tremaining: 7.38s\n",
      "675:\tlearn: 0.0020358\ttotal: 15.3s\tremaining: 7.36s\n",
      "676:\tlearn: 0.0020346\ttotal: 15.4s\tremaining: 7.33s\n",
      "677:\tlearn: 0.0020270\ttotal: 15.4s\tremaining: 7.31s\n",
      "678:\tlearn: 0.0020260\ttotal: 15.4s\tremaining: 7.29s\n",
      "679:\tlearn: 0.0020257\ttotal: 15.4s\tremaining: 7.26s\n",
      "680:\tlearn: 0.0020236\ttotal: 15.5s\tremaining: 7.24s\n",
      "681:\tlearn: 0.0020203\ttotal: 15.5s\tremaining: 7.22s\n",
      "682:\tlearn: 0.0020186\ttotal: 15.5s\tremaining: 7.19s\n",
      "683:\tlearn: 0.0020177\ttotal: 15.5s\tremaining: 7.17s\n",
      "684:\tlearn: 0.0020126\ttotal: 15.5s\tremaining: 7.15s\n",
      "685:\tlearn: 0.0020075\ttotal: 15.6s\tremaining: 7.13s\n",
      "686:\tlearn: 0.0020056\ttotal: 15.6s\tremaining: 7.1s\n",
      "687:\tlearn: 0.0020041\ttotal: 15.6s\tremaining: 7.08s\n",
      "688:\tlearn: 0.0020006\ttotal: 15.6s\tremaining: 7.06s\n",
      "689:\tlearn: 0.0019985\ttotal: 15.7s\tremaining: 7.03s\n",
      "690:\tlearn: 0.0019902\ttotal: 15.7s\tremaining: 7.01s\n",
      "691:\tlearn: 0.0019884\ttotal: 15.7s\tremaining: 6.99s\n",
      "692:\tlearn: 0.0019864\ttotal: 15.7s\tremaining: 6.96s\n",
      "693:\tlearn: 0.0019856\ttotal: 15.7s\tremaining: 6.94s\n",
      "694:\tlearn: 0.0019852\ttotal: 15.8s\tremaining: 6.92s\n",
      "695:\tlearn: 0.0019809\ttotal: 15.8s\tremaining: 6.89s\n",
      "696:\tlearn: 0.0019800\ttotal: 15.8s\tremaining: 6.87s\n",
      "697:\tlearn: 0.0019763\ttotal: 15.8s\tremaining: 6.85s\n",
      "698:\tlearn: 0.0019656\ttotal: 15.9s\tremaining: 6.83s\n",
      "699:\tlearn: 0.0019615\ttotal: 15.9s\tremaining: 6.8s\n",
      "700:\tlearn: 0.0019599\ttotal: 15.9s\tremaining: 6.78s\n",
      "701:\tlearn: 0.0019585\ttotal: 15.9s\tremaining: 6.76s\n",
      "702:\tlearn: 0.0019508\ttotal: 15.9s\tremaining: 6.74s\n",
      "703:\tlearn: 0.0019460\ttotal: 16s\tremaining: 6.71s\n",
      "704:\tlearn: 0.0019451\ttotal: 16s\tremaining: 6.69s\n",
      "705:\tlearn: 0.0019440\ttotal: 16s\tremaining: 6.67s\n",
      "706:\tlearn: 0.0019432\ttotal: 16s\tremaining: 6.64s\n",
      "707:\tlearn: 0.0019421\ttotal: 16.1s\tremaining: 6.62s\n",
      "708:\tlearn: 0.0019417\ttotal: 16.1s\tremaining: 6.6s\n",
      "709:\tlearn: 0.0019373\ttotal: 16.1s\tremaining: 6.58s\n",
      "710:\tlearn: 0.0019365\ttotal: 16.1s\tremaining: 6.55s\n",
      "711:\tlearn: 0.0019306\ttotal: 16.1s\tremaining: 6.53s\n",
      "712:\tlearn: 0.0019295\ttotal: 16.2s\tremaining: 6.51s\n",
      "713:\tlearn: 0.0019273\ttotal: 16.2s\tremaining: 6.48s\n",
      "714:\tlearn: 0.0019260\ttotal: 16.2s\tremaining: 6.46s\n",
      "715:\tlearn: 0.0019232\ttotal: 16.2s\tremaining: 6.44s\n",
      "716:\tlearn: 0.0019225\ttotal: 16.3s\tremaining: 6.42s\n",
      "717:\tlearn: 0.0019159\ttotal: 16.3s\tremaining: 6.39s\n",
      "718:\tlearn: 0.0019134\ttotal: 16.3s\tremaining: 6.37s\n",
      "719:\tlearn: 0.0019100\ttotal: 16.3s\tremaining: 6.35s\n",
      "720:\tlearn: 0.0019093\ttotal: 16.3s\tremaining: 6.32s\n",
      "721:\tlearn: 0.0019089\ttotal: 16.4s\tremaining: 6.3s\n",
      "722:\tlearn: 0.0019079\ttotal: 16.4s\tremaining: 6.28s\n",
      "723:\tlearn: 0.0019076\ttotal: 16.4s\tremaining: 6.25s\n",
      "724:\tlearn: 0.0019058\ttotal: 16.4s\tremaining: 6.23s\n",
      "725:\tlearn: 0.0018979\ttotal: 16.5s\tremaining: 6.21s\n",
      "726:\tlearn: 0.0018958\ttotal: 16.5s\tremaining: 6.19s\n",
      "727:\tlearn: 0.0018955\ttotal: 16.5s\tremaining: 6.17s\n",
      "728:\tlearn: 0.0018940\ttotal: 16.5s\tremaining: 6.14s\n",
      "729:\tlearn: 0.0018924\ttotal: 16.5s\tremaining: 6.12s\n",
      "730:\tlearn: 0.0018915\ttotal: 16.6s\tremaining: 6.1s\n",
      "731:\tlearn: 0.0018908\ttotal: 16.6s\tremaining: 6.07s\n",
      "732:\tlearn: 0.0018902\ttotal: 16.6s\tremaining: 6.05s\n",
      "733:\tlearn: 0.0018897\ttotal: 16.6s\tremaining: 6.03s\n",
      "734:\tlearn: 0.0018890\ttotal: 16.7s\tremaining: 6s\n",
      "735:\tlearn: 0.0018883\ttotal: 16.7s\tremaining: 5.98s\n",
      "736:\tlearn: 0.0018855\ttotal: 16.7s\tremaining: 5.96s\n",
      "737:\tlearn: 0.0018849\ttotal: 16.7s\tremaining: 5.93s\n",
      "738:\tlearn: 0.0018840\ttotal: 16.7s\tremaining: 5.91s\n",
      "739:\tlearn: 0.0018824\ttotal: 16.8s\tremaining: 5.89s\n",
      "740:\tlearn: 0.0018813\ttotal: 16.8s\tremaining: 5.87s\n",
      "741:\tlearn: 0.0018774\ttotal: 16.8s\tremaining: 5.84s\n",
      "742:\tlearn: 0.0018771\ttotal: 16.8s\tremaining: 5.82s\n",
      "743:\tlearn: 0.0018765\ttotal: 16.8s\tremaining: 5.8s\n",
      "744:\tlearn: 0.0018757\ttotal: 16.9s\tremaining: 5.77s\n",
      "745:\tlearn: 0.0018692\ttotal: 16.9s\tremaining: 5.75s\n",
      "746:\tlearn: 0.0018679\ttotal: 16.9s\tremaining: 5.73s\n",
      "747:\tlearn: 0.0018677\ttotal: 16.9s\tremaining: 5.71s\n",
      "748:\tlearn: 0.0018663\ttotal: 17s\tremaining: 5.68s\n",
      "749:\tlearn: 0.0018651\ttotal: 17s\tremaining: 5.66s\n",
      "750:\tlearn: 0.0018623\ttotal: 17s\tremaining: 5.64s\n",
      "751:\tlearn: 0.0018618\ttotal: 17s\tremaining: 5.62s\n",
      "752:\tlearn: 0.0018613\ttotal: 17s\tremaining: 5.59s\n",
      "753:\tlearn: 0.0018605\ttotal: 17.1s\tremaining: 5.57s\n",
      "754:\tlearn: 0.0018583\ttotal: 17.1s\tremaining: 5.55s\n",
      "755:\tlearn: 0.0018526\ttotal: 17.1s\tremaining: 5.52s\n",
      "756:\tlearn: 0.0018471\ttotal: 17.1s\tremaining: 5.5s\n",
      "757:\tlearn: 0.0018437\ttotal: 17.2s\tremaining: 5.48s\n",
      "758:\tlearn: 0.0018405\ttotal: 17.2s\tremaining: 5.46s\n",
      "759:\tlearn: 0.0018384\ttotal: 17.2s\tremaining: 5.43s\n",
      "760:\tlearn: 0.0018281\ttotal: 17.2s\tremaining: 5.41s\n",
      "761:\tlearn: 0.0018275\ttotal: 17.3s\tremaining: 5.39s\n",
      "762:\tlearn: 0.0018220\ttotal: 17.3s\tremaining: 5.37s\n",
      "763:\tlearn: 0.0018212\ttotal: 17.3s\tremaining: 5.34s\n",
      "764:\tlearn: 0.0018206\ttotal: 17.3s\tremaining: 5.32s\n",
      "765:\tlearn: 0.0018193\ttotal: 17.3s\tremaining: 5.3s\n",
      "766:\tlearn: 0.0018162\ttotal: 17.4s\tremaining: 5.27s\n",
      "767:\tlearn: 0.0018157\ttotal: 17.4s\tremaining: 5.25s\n",
      "768:\tlearn: 0.0018149\ttotal: 17.4s\tremaining: 5.23s\n",
      "769:\tlearn: 0.0018144\ttotal: 17.4s\tremaining: 5.2s\n",
      "770:\tlearn: 0.0018083\ttotal: 17.4s\tremaining: 5.18s\n",
      "771:\tlearn: 0.0018028\ttotal: 17.5s\tremaining: 5.16s\n",
      "772:\tlearn: 0.0017990\ttotal: 17.5s\tremaining: 5.14s\n",
      "773:\tlearn: 0.0017978\ttotal: 17.5s\tremaining: 5.11s\n",
      "774:\tlearn: 0.0017952\ttotal: 17.5s\tremaining: 5.09s\n",
      "775:\tlearn: 0.0017943\ttotal: 17.6s\tremaining: 5.07s\n",
      "776:\tlearn: 0.0017927\ttotal: 17.6s\tremaining: 5.05s\n",
      "777:\tlearn: 0.0017920\ttotal: 17.6s\tremaining: 5.02s\n",
      "778:\tlearn: 0.0017905\ttotal: 17.6s\tremaining: 5s\n",
      "779:\tlearn: 0.0017900\ttotal: 17.7s\tremaining: 4.98s\n",
      "780:\tlearn: 0.0017896\ttotal: 17.7s\tremaining: 4.96s\n",
      "781:\tlearn: 0.0017886\ttotal: 17.7s\tremaining: 4.93s\n",
      "782:\tlearn: 0.0017837\ttotal: 17.7s\tremaining: 4.91s\n",
      "783:\tlearn: 0.0017827\ttotal: 17.7s\tremaining: 4.88s\n",
      "784:\tlearn: 0.0017767\ttotal: 17.8s\tremaining: 4.86s\n",
      "785:\tlearn: 0.0017760\ttotal: 17.8s\tremaining: 4.84s\n",
      "786:\tlearn: 0.0017757\ttotal: 17.8s\tremaining: 4.82s\n",
      "787:\tlearn: 0.0017724\ttotal: 17.8s\tremaining: 4.79s\n",
      "788:\tlearn: 0.0017712\ttotal: 17.8s\tremaining: 4.77s\n",
      "789:\tlearn: 0.0017705\ttotal: 17.8s\tremaining: 4.74s\n",
      "790:\tlearn: 0.0017700\ttotal: 17.9s\tremaining: 4.72s\n",
      "791:\tlearn: 0.0017697\ttotal: 17.9s\tremaining: 4.7s\n",
      "792:\tlearn: 0.0017693\ttotal: 17.9s\tremaining: 4.67s\n",
      "793:\tlearn: 0.0017678\ttotal: 17.9s\tremaining: 4.65s\n",
      "794:\tlearn: 0.0017672\ttotal: 17.9s\tremaining: 4.62s\n",
      "795:\tlearn: 0.0017645\ttotal: 17.9s\tremaining: 4.6s\n",
      "796:\tlearn: 0.0017643\ttotal: 18s\tremaining: 4.58s\n",
      "797:\tlearn: 0.0017641\ttotal: 18s\tremaining: 4.55s\n",
      "798:\tlearn: 0.0017607\ttotal: 18s\tremaining: 4.53s\n",
      "799:\tlearn: 0.0017563\ttotal: 18s\tremaining: 4.51s\n",
      "800:\tlearn: 0.0017536\ttotal: 18.1s\tremaining: 4.48s\n",
      "801:\tlearn: 0.0017480\ttotal: 18.1s\tremaining: 4.46s\n",
      "802:\tlearn: 0.0017408\ttotal: 18.1s\tremaining: 4.44s\n",
      "803:\tlearn: 0.0017354\ttotal: 18.1s\tremaining: 4.42s\n",
      "804:\tlearn: 0.0017325\ttotal: 18.1s\tremaining: 4.39s\n",
      "805:\tlearn: 0.0017320\ttotal: 18.1s\tremaining: 4.37s\n",
      "806:\tlearn: 0.0017284\ttotal: 18.2s\tremaining: 4.34s\n",
      "807:\tlearn: 0.0017281\ttotal: 18.2s\tremaining: 4.32s\n",
      "808:\tlearn: 0.0017277\ttotal: 18.2s\tremaining: 4.3s\n",
      "809:\tlearn: 0.0017270\ttotal: 18.2s\tremaining: 4.27s\n",
      "810:\tlearn: 0.0017261\ttotal: 18.2s\tremaining: 4.25s\n",
      "811:\tlearn: 0.0017232\ttotal: 18.3s\tremaining: 4.23s\n",
      "812:\tlearn: 0.0017223\ttotal: 18.3s\tremaining: 4.2s\n",
      "813:\tlearn: 0.0017220\ttotal: 18.3s\tremaining: 4.18s\n",
      "814:\tlearn: 0.0017156\ttotal: 18.3s\tremaining: 4.16s\n",
      "815:\tlearn: 0.0017145\ttotal: 18.3s\tremaining: 4.13s\n",
      "816:\tlearn: 0.0017139\ttotal: 18.4s\tremaining: 4.11s\n",
      "817:\tlearn: 0.0017100\ttotal: 18.4s\tremaining: 4.09s\n",
      "818:\tlearn: 0.0017077\ttotal: 18.4s\tremaining: 4.06s\n",
      "819:\tlearn: 0.0017071\ttotal: 18.4s\tremaining: 4.04s\n",
      "820:\tlearn: 0.0017058\ttotal: 18.4s\tremaining: 4.02s\n",
      "821:\tlearn: 0.0017033\ttotal: 18.4s\tremaining: 3.99s\n",
      "822:\tlearn: 0.0017018\ttotal: 18.5s\tremaining: 3.97s\n",
      "823:\tlearn: 0.0017008\ttotal: 18.5s\tremaining: 3.95s\n",
      "824:\tlearn: 0.0016900\ttotal: 18.5s\tremaining: 3.92s\n",
      "825:\tlearn: 0.0016897\ttotal: 18.5s\tremaining: 3.9s\n",
      "826:\tlearn: 0.0016872\ttotal: 18.5s\tremaining: 3.88s\n",
      "827:\tlearn: 0.0016866\ttotal: 18.5s\tremaining: 3.85s\n",
      "828:\tlearn: 0.0016861\ttotal: 18.6s\tremaining: 3.83s\n",
      "829:\tlearn: 0.0016855\ttotal: 18.6s\tremaining: 3.81s\n",
      "830:\tlearn: 0.0016836\ttotal: 18.6s\tremaining: 3.78s\n",
      "831:\tlearn: 0.0016813\ttotal: 18.6s\tremaining: 3.76s\n"
     ]
    },
    {
     "name": "stdout",
     "output_type": "stream",
     "text": [
      "832:\tlearn: 0.0016763\ttotal: 18.6s\tremaining: 3.73s\n",
      "833:\tlearn: 0.0016759\ttotal: 18.7s\tremaining: 3.71s\n",
      "834:\tlearn: 0.0016724\ttotal: 18.7s\tremaining: 3.69s\n",
      "835:\tlearn: 0.0016719\ttotal: 18.7s\tremaining: 3.67s\n",
      "836:\tlearn: 0.0016711\ttotal: 18.7s\tremaining: 3.64s\n",
      "837:\tlearn: 0.0016687\ttotal: 18.7s\tremaining: 3.62s\n",
      "838:\tlearn: 0.0016666\ttotal: 18.7s\tremaining: 3.6s\n",
      "839:\tlearn: 0.0016651\ttotal: 18.8s\tremaining: 3.57s\n",
      "840:\tlearn: 0.0016616\ttotal: 18.8s\tremaining: 3.55s\n",
      "841:\tlearn: 0.0016610\ttotal: 18.8s\tremaining: 3.53s\n",
      "842:\tlearn: 0.0016551\ttotal: 18.8s\tremaining: 3.5s\n",
      "843:\tlearn: 0.0016530\ttotal: 18.8s\tremaining: 3.48s\n",
      "844:\tlearn: 0.0016513\ttotal: 18.9s\tremaining: 3.46s\n",
      "845:\tlearn: 0.0016504\ttotal: 18.9s\tremaining: 3.44s\n",
      "846:\tlearn: 0.0016501\ttotal: 18.9s\tremaining: 3.41s\n",
      "847:\tlearn: 0.0016460\ttotal: 18.9s\tremaining: 3.39s\n",
      "848:\tlearn: 0.0016418\ttotal: 18.9s\tremaining: 3.37s\n",
      "849:\tlearn: 0.0016409\ttotal: 18.9s\tremaining: 3.34s\n",
      "850:\tlearn: 0.0016387\ttotal: 19s\tremaining: 3.32s\n",
      "851:\tlearn: 0.0016379\ttotal: 19s\tremaining: 3.3s\n",
      "852:\tlearn: 0.0016347\ttotal: 19s\tremaining: 3.27s\n",
      "853:\tlearn: 0.0016344\ttotal: 19s\tremaining: 3.25s\n",
      "854:\tlearn: 0.0016338\ttotal: 19s\tremaining: 3.23s\n",
      "855:\tlearn: 0.0016337\ttotal: 19s\tremaining: 3.2s\n",
      "856:\tlearn: 0.0016329\ttotal: 19.1s\tremaining: 3.18s\n",
      "857:\tlearn: 0.0016318\ttotal: 19.1s\tremaining: 3.16s\n",
      "858:\tlearn: 0.0016300\ttotal: 19.1s\tremaining: 3.14s\n",
      "859:\tlearn: 0.0016295\ttotal: 19.1s\tremaining: 3.11s\n",
      "860:\tlearn: 0.0016288\ttotal: 19.1s\tremaining: 3.09s\n",
      "861:\tlearn: 0.0016275\ttotal: 19.2s\tremaining: 3.07s\n",
      "862:\tlearn: 0.0016246\ttotal: 19.2s\tremaining: 3.04s\n",
      "863:\tlearn: 0.0016197\ttotal: 19.2s\tremaining: 3.02s\n",
      "864:\tlearn: 0.0016173\ttotal: 19.2s\tremaining: 3s\n",
      "865:\tlearn: 0.0016156\ttotal: 19.2s\tremaining: 2.98s\n",
      "866:\tlearn: 0.0016072\ttotal: 19.3s\tremaining: 2.95s\n",
      "867:\tlearn: 0.0016062\ttotal: 19.3s\tremaining: 2.93s\n",
      "868:\tlearn: 0.0016026\ttotal: 19.3s\tremaining: 2.91s\n",
      "869:\tlearn: 0.0016011\ttotal: 19.3s\tremaining: 2.89s\n",
      "870:\tlearn: 0.0016004\ttotal: 19.3s\tremaining: 2.87s\n",
      "871:\tlearn: 0.0015998\ttotal: 19.4s\tremaining: 2.84s\n",
      "872:\tlearn: 0.0015992\ttotal: 19.4s\tremaining: 2.82s\n",
      "873:\tlearn: 0.0015987\ttotal: 19.4s\tremaining: 2.8s\n",
      "874:\tlearn: 0.0015954\ttotal: 19.4s\tremaining: 2.77s\n",
      "875:\tlearn: 0.0015925\ttotal: 19.4s\tremaining: 2.75s\n",
      "876:\tlearn: 0.0015912\ttotal: 19.5s\tremaining: 2.73s\n",
      "877:\tlearn: 0.0015869\ttotal: 19.5s\tremaining: 2.71s\n",
      "878:\tlearn: 0.0015828\ttotal: 19.5s\tremaining: 2.69s\n",
      "879:\tlearn: 0.0015823\ttotal: 19.5s\tremaining: 2.66s\n",
      "880:\tlearn: 0.0015776\ttotal: 19.6s\tremaining: 2.64s\n",
      "881:\tlearn: 0.0015769\ttotal: 19.6s\tremaining: 2.62s\n",
      "882:\tlearn: 0.0015767\ttotal: 19.6s\tremaining: 2.6s\n",
      "883:\tlearn: 0.0015748\ttotal: 19.6s\tremaining: 2.58s\n",
      "884:\tlearn: 0.0015688\ttotal: 19.7s\tremaining: 2.55s\n",
      "885:\tlearn: 0.0015671\ttotal: 19.7s\tremaining: 2.53s\n",
      "886:\tlearn: 0.0015644\ttotal: 19.7s\tremaining: 2.51s\n",
      "887:\tlearn: 0.0015602\ttotal: 19.7s\tremaining: 2.49s\n",
      "888:\tlearn: 0.0015565\ttotal: 19.8s\tremaining: 2.47s\n",
      "889:\tlearn: 0.0015558\ttotal: 19.8s\tremaining: 2.45s\n",
      "890:\tlearn: 0.0015554\ttotal: 19.8s\tremaining: 2.42s\n",
      "891:\tlearn: 0.0015550\ttotal: 19.8s\tremaining: 2.4s\n",
      "892:\tlearn: 0.0015548\ttotal: 19.9s\tremaining: 2.38s\n",
      "893:\tlearn: 0.0015537\ttotal: 19.9s\tremaining: 2.36s\n",
      "894:\tlearn: 0.0015533\ttotal: 19.9s\tremaining: 2.34s\n",
      "895:\tlearn: 0.0015528\ttotal: 19.9s\tremaining: 2.31s\n",
      "896:\tlearn: 0.0015521\ttotal: 20s\tremaining: 2.29s\n",
      "897:\tlearn: 0.0015515\ttotal: 20s\tremaining: 2.27s\n",
      "898:\tlearn: 0.0015493\ttotal: 20s\tremaining: 2.25s\n",
      "899:\tlearn: 0.0015458\ttotal: 20s\tremaining: 2.23s\n",
      "900:\tlearn: 0.0015397\ttotal: 20.1s\tremaining: 2.2s\n",
      "901:\tlearn: 0.0015371\ttotal: 20.1s\tremaining: 2.18s\n",
      "902:\tlearn: 0.0015367\ttotal: 20.1s\tremaining: 2.16s\n",
      "903:\tlearn: 0.0015324\ttotal: 20.1s\tremaining: 2.14s\n",
      "904:\tlearn: 0.0015307\ttotal: 20.2s\tremaining: 2.12s\n",
      "905:\tlearn: 0.0015282\ttotal: 20.2s\tremaining: 2.1s\n",
      "906:\tlearn: 0.0015261\ttotal: 20.2s\tremaining: 2.07s\n",
      "907:\tlearn: 0.0015251\ttotal: 20.2s\tremaining: 2.05s\n",
      "908:\tlearn: 0.0015245\ttotal: 20.3s\tremaining: 2.03s\n",
      "909:\tlearn: 0.0015239\ttotal: 20.3s\tremaining: 2.01s\n",
      "910:\tlearn: 0.0015226\ttotal: 20.3s\tremaining: 1.98s\n",
      "911:\tlearn: 0.0015221\ttotal: 20.3s\tremaining: 1.96s\n",
      "912:\tlearn: 0.0015216\ttotal: 20.4s\tremaining: 1.94s\n",
      "913:\tlearn: 0.0015211\ttotal: 20.4s\tremaining: 1.92s\n",
      "914:\tlearn: 0.0015199\ttotal: 20.4s\tremaining: 1.9s\n",
      "915:\tlearn: 0.0015195\ttotal: 20.4s\tremaining: 1.87s\n",
      "916:\tlearn: 0.0015190\ttotal: 20.5s\tremaining: 1.85s\n",
      "917:\tlearn: 0.0015170\ttotal: 20.5s\tremaining: 1.83s\n",
      "918:\tlearn: 0.0015140\ttotal: 20.5s\tremaining: 1.81s\n",
      "919:\tlearn: 0.0015095\ttotal: 20.5s\tremaining: 1.78s\n",
      "920:\tlearn: 0.0015090\ttotal: 20.6s\tremaining: 1.76s\n",
      "921:\tlearn: 0.0015061\ttotal: 20.6s\tremaining: 1.74s\n",
      "922:\tlearn: 0.0015050\ttotal: 20.6s\tremaining: 1.72s\n",
      "923:\tlearn: 0.0015041\ttotal: 20.6s\tremaining: 1.7s\n",
      "924:\tlearn: 0.0015021\ttotal: 20.7s\tremaining: 1.67s\n",
      "925:\tlearn: 0.0015016\ttotal: 20.7s\tremaining: 1.65s\n",
      "926:\tlearn: 0.0015001\ttotal: 20.7s\tremaining: 1.63s\n",
      "927:\tlearn: 0.0014951\ttotal: 20.7s\tremaining: 1.61s\n",
      "928:\tlearn: 0.0014922\ttotal: 20.8s\tremaining: 1.58s\n",
      "929:\tlearn: 0.0014911\ttotal: 20.8s\tremaining: 1.56s\n",
      "930:\tlearn: 0.0014888\ttotal: 20.8s\tremaining: 1.54s\n",
      "931:\tlearn: 0.0014857\ttotal: 20.8s\tremaining: 1.52s\n",
      "932:\tlearn: 0.0014849\ttotal: 20.8s\tremaining: 1.5s\n",
      "933:\tlearn: 0.0014820\ttotal: 20.9s\tremaining: 1.48s\n",
      "934:\tlearn: 0.0014816\ttotal: 20.9s\tremaining: 1.45s\n",
      "935:\tlearn: 0.0014794\ttotal: 20.9s\tremaining: 1.43s\n",
      "936:\tlearn: 0.0014750\ttotal: 20.9s\tremaining: 1.41s\n",
      "937:\tlearn: 0.0014728\ttotal: 21s\tremaining: 1.39s\n",
      "938:\tlearn: 0.0014719\ttotal: 21s\tremaining: 1.36s\n",
      "939:\tlearn: 0.0014696\ttotal: 21s\tremaining: 1.34s\n",
      "940:\tlearn: 0.0014656\ttotal: 21s\tremaining: 1.32s\n",
      "941:\tlearn: 0.0014655\ttotal: 21.1s\tremaining: 1.3s\n",
      "942:\tlearn: 0.0014651\ttotal: 21.1s\tremaining: 1.27s\n",
      "943:\tlearn: 0.0014630\ttotal: 21.1s\tremaining: 1.25s\n",
      "944:\tlearn: 0.0014622\ttotal: 21.1s\tremaining: 1.23s\n",
      "945:\tlearn: 0.0014612\ttotal: 21.2s\tremaining: 1.21s\n",
      "946:\tlearn: 0.0014596\ttotal: 21.2s\tremaining: 1.19s\n",
      "947:\tlearn: 0.0014593\ttotal: 21.2s\tremaining: 1.16s\n",
      "948:\tlearn: 0.0014591\ttotal: 21.2s\tremaining: 1.14s\n",
      "949:\tlearn: 0.0014587\ttotal: 21.2s\tremaining: 1.12s\n",
      "950:\tlearn: 0.0014573\ttotal: 21.3s\tremaining: 1.09s\n",
      "951:\tlearn: 0.0014568\ttotal: 21.3s\tremaining: 1.07s\n",
      "952:\tlearn: 0.0014567\ttotal: 21.3s\tremaining: 1.05s\n",
      "953:\tlearn: 0.0014548\ttotal: 21.3s\tremaining: 1.03s\n",
      "954:\tlearn: 0.0014538\ttotal: 21.4s\tremaining: 1.01s\n",
      "955:\tlearn: 0.0014505\ttotal: 21.4s\tremaining: 984ms\n",
      "956:\tlearn: 0.0014469\ttotal: 21.4s\tremaining: 962ms\n",
      "957:\tlearn: 0.0014455\ttotal: 21.4s\tremaining: 940ms\n",
      "958:\tlearn: 0.0014449\ttotal: 21.5s\tremaining: 917ms\n",
      "959:\tlearn: 0.0014410\ttotal: 21.5s\tremaining: 895ms\n",
      "960:\tlearn: 0.0014402\ttotal: 21.5s\tremaining: 873ms\n",
      "961:\tlearn: 0.0014398\ttotal: 21.5s\tremaining: 851ms\n",
      "962:\tlearn: 0.0014395\ttotal: 21.6s\tremaining: 829ms\n",
      "963:\tlearn: 0.0014389\ttotal: 21.6s\tremaining: 807ms\n",
      "964:\tlearn: 0.0014372\ttotal: 21.6s\tremaining: 785ms\n",
      "965:\tlearn: 0.0014336\ttotal: 21.7s\tremaining: 763ms\n",
      "966:\tlearn: 0.0014332\ttotal: 21.7s\tremaining: 741ms\n",
      "967:\tlearn: 0.0014307\ttotal: 21.7s\tremaining: 718ms\n",
      "968:\tlearn: 0.0014303\ttotal: 21.8s\tremaining: 696ms\n",
      "969:\tlearn: 0.0014301\ttotal: 21.8s\tremaining: 674ms\n",
      "970:\tlearn: 0.0014292\ttotal: 21.8s\tremaining: 651ms\n",
      "971:\tlearn: 0.0014290\ttotal: 21.8s\tremaining: 629ms\n",
      "972:\tlearn: 0.0014287\ttotal: 21.9s\tremaining: 607ms\n",
      "973:\tlearn: 0.0014252\ttotal: 21.9s\tremaining: 585ms\n",
      "974:\tlearn: 0.0014250\ttotal: 21.9s\tremaining: 562ms\n",
      "975:\tlearn: 0.0014248\ttotal: 22s\tremaining: 540ms\n",
      "976:\tlearn: 0.0014247\ttotal: 22s\tremaining: 518ms\n",
      "977:\tlearn: 0.0014244\ttotal: 22s\tremaining: 495ms\n",
      "978:\tlearn: 0.0014237\ttotal: 22.1s\tremaining: 473ms\n",
      "979:\tlearn: 0.0014232\ttotal: 22.1s\tremaining: 451ms\n",
      "980:\tlearn: 0.0014215\ttotal: 22.1s\tremaining: 428ms\n",
      "981:\tlearn: 0.0014202\ttotal: 22.1s\tremaining: 406ms\n",
      "982:\tlearn: 0.0014183\ttotal: 22.2s\tremaining: 383ms\n",
      "983:\tlearn: 0.0014107\ttotal: 22.2s\tremaining: 361ms\n",
      "984:\tlearn: 0.0014104\ttotal: 22.2s\tremaining: 338ms\n",
      "985:\tlearn: 0.0014082\ttotal: 22.2s\tremaining: 316ms\n",
      "986:\tlearn: 0.0014059\ttotal: 22.3s\tremaining: 293ms\n",
      "987:\tlearn: 0.0014055\ttotal: 22.3s\tremaining: 271ms\n",
      "988:\tlearn: 0.0014026\ttotal: 22.3s\tremaining: 248ms\n",
      "989:\tlearn: 0.0014024\ttotal: 22.4s\tremaining: 226ms\n",
      "990:\tlearn: 0.0014021\ttotal: 22.4s\tremaining: 203ms\n",
      "991:\tlearn: 0.0013982\ttotal: 22.4s\tremaining: 181ms\n",
      "992:\tlearn: 0.0013958\ttotal: 22.5s\tremaining: 158ms\n",
      "993:\tlearn: 0.0013955\ttotal: 22.5s\tremaining: 136ms\n",
      "994:\tlearn: 0.0013932\ttotal: 22.5s\tremaining: 113ms\n",
      "995:\tlearn: 0.0013909\ttotal: 22.6s\tremaining: 90.6ms\n"
     ]
    },
    {
     "name": "stdout",
     "output_type": "stream",
     "text": [
      "996:\tlearn: 0.0013907\ttotal: 22.6s\tremaining: 67.9ms\n",
      "997:\tlearn: 0.0013904\ttotal: 22.6s\tremaining: 45.3ms\n",
      "998:\tlearn: 0.0013889\ttotal: 22.6s\tremaining: 22.7ms\n",
      "999:\tlearn: 0.0013885\ttotal: 22.7s\tremaining: 0us\n"
     ]
    },
    {
     "data": {
      "text/plain": [
       "<catboost.core.CatBoostClassifier at 0x14bf3e1c7c0>"
      ]
     },
     "execution_count": 122,
     "metadata": {},
     "output_type": "execute_result"
    }
   ],
   "source": [
    "# import CatBoostClassifier\n",
    "from catboost import CatBoostClassifier\n",
    "\n",
    "# Instantiate CatBoostClassifier with default hyperparameters and random_state=1\n",
    "Cat = CatBoostClassifier(random_state=1)\n",
    "\n",
    "# fit model on training data\n",
    "Cat.fit(xtrain,ytrain)"
   ]
  },
  {
   "cell_type": "markdown",
   "metadata": {
    "id": "TpVMMbBbD3VI"
   },
   "source": [
    "Now lets tune above model. The exhaustive list of hyperparameters in LightGBM are https://lightgbm.readthedocs.io/en/latest/Parameters-Tuning.html\n",
    "\n",
    "But lets run the CatBoost with previous selected hyperparamters i.e\n",
    "\n",
    "`learning_rate=0.2,\n",
    "max_depth=2,\n",
    "n_estimators=200,\n",
    "subsample=0.6,\n",
    "random_state=1`\n",
    "\n",
    "and lets see if it improves"
   ]
  },
  {
   "cell_type": "code",
   "execution_count": 123,
   "metadata": {
    "colab": {
     "base_uri": "https://localhost:8080/"
    },
    "id": "oQDFvB9yD3VI",
    "outputId": "9a0e2f8c-1588-438d-80df-a80e31e53bf2"
   },
   "outputs": [
    {
     "name": "stdout",
     "output_type": "stream",
     "text": [
      "0:\tlearn: 0.2542265\ttotal: 18.2ms\tremaining: 3.61s\n",
      "1:\tlearn: 0.1070362\ttotal: 34.6ms\tremaining: 3.42s\n",
      "2:\tlearn: 0.0546728\ttotal: 47.4ms\tremaining: 3.11s\n",
      "3:\tlearn: 0.0338518\ttotal: 58.4ms\tremaining: 2.86s\n",
      "4:\tlearn: 0.0236856\ttotal: 70.6ms\tremaining: 2.75s\n",
      "5:\tlearn: 0.0190754\ttotal: 84.6ms\tremaining: 2.74s\n",
      "6:\tlearn: 0.0168926\ttotal: 96.1ms\tremaining: 2.65s\n",
      "7:\tlearn: 0.0146929\ttotal: 108ms\tremaining: 2.58s\n",
      "8:\tlearn: 0.0135191\ttotal: 121ms\tremaining: 2.57s\n",
      "9:\tlearn: 0.0128192\ttotal: 134ms\tremaining: 2.55s\n",
      "10:\tlearn: 0.0126155\ttotal: 147ms\tremaining: 2.52s\n",
      "11:\tlearn: 0.0124217\ttotal: 158ms\tremaining: 2.47s\n",
      "12:\tlearn: 0.0119904\ttotal: 169ms\tremaining: 2.43s\n",
      "13:\tlearn: 0.0118855\ttotal: 183ms\tremaining: 2.44s\n",
      "14:\tlearn: 0.0118515\ttotal: 195ms\tremaining: 2.41s\n",
      "15:\tlearn: 0.0116326\ttotal: 208ms\tremaining: 2.39s\n",
      "16:\tlearn: 0.0114855\ttotal: 222ms\tremaining: 2.39s\n",
      "17:\tlearn: 0.0113649\ttotal: 240ms\tremaining: 2.42s\n",
      "18:\tlearn: 0.0111793\ttotal: 254ms\tremaining: 2.42s\n",
      "19:\tlearn: 0.0111591\ttotal: 267ms\tremaining: 2.41s\n",
      "20:\tlearn: 0.0110442\ttotal: 283ms\tremaining: 2.41s\n",
      "21:\tlearn: 0.0109607\ttotal: 299ms\tremaining: 2.42s\n",
      "22:\tlearn: 0.0108995\ttotal: 316ms\tremaining: 2.43s\n",
      "23:\tlearn: 0.0107221\ttotal: 331ms\tremaining: 2.43s\n",
      "24:\tlearn: 0.0105666\ttotal: 343ms\tremaining: 2.4s\n",
      "25:\tlearn: 0.0104515\ttotal: 352ms\tremaining: 2.36s\n",
      "26:\tlearn: 0.0104091\ttotal: 366ms\tremaining: 2.35s\n",
      "27:\tlearn: 0.0102990\ttotal: 381ms\tremaining: 2.34s\n",
      "28:\tlearn: 0.0102762\ttotal: 397ms\tremaining: 2.34s\n",
      "29:\tlearn: 0.0101487\ttotal: 413ms\tremaining: 2.34s\n",
      "30:\tlearn: 0.0101342\ttotal: 428ms\tremaining: 2.33s\n",
      "31:\tlearn: 0.0101009\ttotal: 446ms\tremaining: 2.34s\n",
      "32:\tlearn: 0.0100744\ttotal: 461ms\tremaining: 2.33s\n",
      "33:\tlearn: 0.0100142\ttotal: 474ms\tremaining: 2.31s\n",
      "34:\tlearn: 0.0099789\ttotal: 486ms\tremaining: 2.29s\n",
      "35:\tlearn: 0.0096528\ttotal: 500ms\tremaining: 2.28s\n",
      "36:\tlearn: 0.0095696\ttotal: 514ms\tremaining: 2.27s\n",
      "37:\tlearn: 0.0095549\ttotal: 530ms\tremaining: 2.26s\n",
      "38:\tlearn: 0.0094800\ttotal: 543ms\tremaining: 2.24s\n",
      "39:\tlearn: 0.0092397\ttotal: 553ms\tremaining: 2.21s\n",
      "40:\tlearn: 0.0092147\ttotal: 569ms\tremaining: 2.21s\n",
      "41:\tlearn: 0.0091631\ttotal: 582ms\tremaining: 2.19s\n",
      "42:\tlearn: 0.0091470\ttotal: 598ms\tremaining: 2.18s\n",
      "43:\tlearn: 0.0091366\ttotal: 613ms\tremaining: 2.17s\n",
      "44:\tlearn: 0.0090716\ttotal: 628ms\tremaining: 2.16s\n",
      "45:\tlearn: 0.0090435\ttotal: 641ms\tremaining: 2.15s\n",
      "46:\tlearn: 0.0089207\ttotal: 658ms\tremaining: 2.14s\n",
      "47:\tlearn: 0.0089127\ttotal: 675ms\tremaining: 2.14s\n",
      "48:\tlearn: 0.0088928\ttotal: 689ms\tremaining: 2.12s\n",
      "49:\tlearn: 0.0088796\ttotal: 701ms\tremaining: 2.1s\n",
      "50:\tlearn: 0.0088667\ttotal: 715ms\tremaining: 2.09s\n",
      "51:\tlearn: 0.0087022\ttotal: 728ms\tremaining: 2.07s\n",
      "52:\tlearn: 0.0086354\ttotal: 741ms\tremaining: 2.05s\n",
      "53:\tlearn: 0.0086264\ttotal: 753ms\tremaining: 2.04s\n",
      "54:\tlearn: 0.0085466\ttotal: 766ms\tremaining: 2.02s\n",
      "55:\tlearn: 0.0085366\ttotal: 780ms\tremaining: 2s\n",
      "56:\tlearn: 0.0085108\ttotal: 795ms\tremaining: 1.99s\n",
      "57:\tlearn: 0.0084575\ttotal: 810ms\tremaining: 1.98s\n",
      "58:\tlearn: 0.0084384\ttotal: 825ms\tremaining: 1.97s\n",
      "59:\tlearn: 0.0084039\ttotal: 838ms\tremaining: 1.95s\n",
      "60:\tlearn: 0.0083934\ttotal: 855ms\tremaining: 1.95s\n",
      "61:\tlearn: 0.0083524\ttotal: 874ms\tremaining: 1.95s\n",
      "62:\tlearn: 0.0083158\ttotal: 890ms\tremaining: 1.94s\n",
      "63:\tlearn: 0.0083058\ttotal: 908ms\tremaining: 1.93s\n",
      "64:\tlearn: 0.0082986\ttotal: 926ms\tremaining: 1.92s\n",
      "65:\tlearn: 0.0081090\ttotal: 944ms\tremaining: 1.92s\n",
      "66:\tlearn: 0.0081006\ttotal: 961ms\tremaining: 1.91s\n",
      "67:\tlearn: 0.0080920\ttotal: 980ms\tremaining: 1.9s\n",
      "68:\tlearn: 0.0079510\ttotal: 1s\tremaining: 1.9s\n",
      "69:\tlearn: 0.0079449\ttotal: 1.02s\tremaining: 1.89s\n",
      "70:\tlearn: 0.0079303\ttotal: 1.03s\tremaining: 1.87s\n",
      "71:\tlearn: 0.0079173\ttotal: 1.04s\tremaining: 1.85s\n",
      "72:\tlearn: 0.0079123\ttotal: 1.06s\tremaining: 1.84s\n",
      "73:\tlearn: 0.0078859\ttotal: 1.07s\tremaining: 1.83s\n",
      "74:\tlearn: 0.0078418\ttotal: 1.1s\tremaining: 1.83s\n",
      "75:\tlearn: 0.0078347\ttotal: 1.11s\tremaining: 1.81s\n",
      "76:\tlearn: 0.0078024\ttotal: 1.13s\tremaining: 1.8s\n",
      "77:\tlearn: 0.0077947\ttotal: 1.14s\tremaining: 1.79s\n",
      "78:\tlearn: 0.0077773\ttotal: 1.16s\tremaining: 1.77s\n",
      "79:\tlearn: 0.0077606\ttotal: 1.18s\tremaining: 1.77s\n",
      "80:\tlearn: 0.0077457\ttotal: 1.19s\tremaining: 1.75s\n",
      "81:\tlearn: 0.0077388\ttotal: 1.21s\tremaining: 1.74s\n",
      "82:\tlearn: 0.0077226\ttotal: 1.22s\tremaining: 1.73s\n",
      "83:\tlearn: 0.0077017\ttotal: 1.24s\tremaining: 1.72s\n",
      "84:\tlearn: 0.0076805\ttotal: 1.26s\tremaining: 1.7s\n",
      "85:\tlearn: 0.0076719\ttotal: 1.27s\tremaining: 1.69s\n",
      "86:\tlearn: 0.0076653\ttotal: 1.29s\tremaining: 1.68s\n",
      "87:\tlearn: 0.0076590\ttotal: 1.31s\tremaining: 1.67s\n",
      "88:\tlearn: 0.0076457\ttotal: 1.33s\tremaining: 1.66s\n",
      "89:\tlearn: 0.0076040\ttotal: 1.34s\tremaining: 1.64s\n",
      "90:\tlearn: 0.0075993\ttotal: 1.36s\tremaining: 1.63s\n",
      "91:\tlearn: 0.0075830\ttotal: 1.37s\tremaining: 1.61s\n",
      "92:\tlearn: 0.0075779\ttotal: 1.39s\tremaining: 1.6s\n",
      "93:\tlearn: 0.0074671\ttotal: 1.41s\tremaining: 1.58s\n",
      "94:\tlearn: 0.0074419\ttotal: 1.42s\tremaining: 1.57s\n",
      "95:\tlearn: 0.0073625\ttotal: 1.44s\tremaining: 1.55s\n",
      "96:\tlearn: 0.0073574\ttotal: 1.45s\tremaining: 1.54s\n",
      "97:\tlearn: 0.0073394\ttotal: 1.46s\tremaining: 1.52s\n",
      "98:\tlearn: 0.0073351\ttotal: 1.48s\tremaining: 1.51s\n",
      "99:\tlearn: 0.0073080\ttotal: 1.49s\tremaining: 1.49s\n",
      "100:\tlearn: 0.0072769\ttotal: 1.51s\tremaining: 1.48s\n",
      "101:\tlearn: 0.0072726\ttotal: 1.53s\tremaining: 1.47s\n",
      "102:\tlearn: 0.0072691\ttotal: 1.55s\tremaining: 1.46s\n",
      "103:\tlearn: 0.0072465\ttotal: 1.56s\tremaining: 1.44s\n",
      "104:\tlearn: 0.0072393\ttotal: 1.58s\tremaining: 1.43s\n",
      "105:\tlearn: 0.0072352\ttotal: 1.59s\tremaining: 1.41s\n",
      "106:\tlearn: 0.0072262\ttotal: 1.61s\tremaining: 1.4s\n",
      "107:\tlearn: 0.0072148\ttotal: 1.62s\tremaining: 1.38s\n",
      "108:\tlearn: 0.0072073\ttotal: 1.63s\tremaining: 1.36s\n",
      "109:\tlearn: 0.0071978\ttotal: 1.65s\tremaining: 1.35s\n",
      "110:\tlearn: 0.0071951\ttotal: 1.67s\tremaining: 1.34s\n",
      "111:\tlearn: 0.0071756\ttotal: 1.68s\tremaining: 1.32s\n",
      "112:\tlearn: 0.0071552\ttotal: 1.7s\tremaining: 1.31s\n",
      "113:\tlearn: 0.0071492\ttotal: 1.72s\tremaining: 1.3s\n",
      "114:\tlearn: 0.0071346\ttotal: 1.73s\tremaining: 1.28s\n",
      "115:\tlearn: 0.0070721\ttotal: 1.75s\tremaining: 1.27s\n",
      "116:\tlearn: 0.0070570\ttotal: 1.76s\tremaining: 1.25s\n",
      "117:\tlearn: 0.0070497\ttotal: 1.78s\tremaining: 1.24s\n",
      "118:\tlearn: 0.0070400\ttotal: 1.8s\tremaining: 1.22s\n",
      "119:\tlearn: 0.0070229\ttotal: 1.81s\tremaining: 1.21s\n",
      "120:\tlearn: 0.0070191\ttotal: 1.83s\tremaining: 1.2s\n",
      "121:\tlearn: 0.0070001\ttotal: 1.85s\tremaining: 1.18s\n",
      "122:\tlearn: 0.0069924\ttotal: 1.86s\tremaining: 1.17s\n",
      "123:\tlearn: 0.0069897\ttotal: 1.88s\tremaining: 1.15s\n",
      "124:\tlearn: 0.0069564\ttotal: 1.89s\tremaining: 1.14s\n",
      "125:\tlearn: 0.0069531\ttotal: 1.91s\tremaining: 1.12s\n",
      "126:\tlearn: 0.0067976\ttotal: 1.93s\tremaining: 1.11s\n",
      "127:\tlearn: 0.0067854\ttotal: 1.94s\tremaining: 1.09s\n",
      "128:\tlearn: 0.0067797\ttotal: 1.96s\tremaining: 1.08s\n",
      "129:\tlearn: 0.0067462\ttotal: 1.99s\tremaining: 1.07s\n",
      "130:\tlearn: 0.0067433\ttotal: 2.01s\tremaining: 1.06s\n",
      "131:\tlearn: 0.0067367\ttotal: 2.04s\tremaining: 1.05s\n",
      "132:\tlearn: 0.0067253\ttotal: 2.06s\tremaining: 1.04s\n",
      "133:\tlearn: 0.0067229\ttotal: 2.08s\tremaining: 1.02s\n",
      "134:\tlearn: 0.0067150\ttotal: 2.1s\tremaining: 1.01s\n",
      "135:\tlearn: 0.0066954\ttotal: 2.12s\tremaining: 997ms\n",
      "136:\tlearn: 0.0066890\ttotal: 2.13s\tremaining: 982ms\n",
      "137:\tlearn: 0.0066649\ttotal: 2.16s\tremaining: 972ms\n",
      "138:\tlearn: 0.0066578\ttotal: 2.19s\tremaining: 960ms\n",
      "139:\tlearn: 0.0066497\ttotal: 2.21s\tremaining: 947ms\n",
      "140:\tlearn: 0.0066066\ttotal: 2.23s\tremaining: 934ms\n",
      "141:\tlearn: 0.0066017\ttotal: 2.25s\tremaining: 919ms\n",
      "142:\tlearn: 0.0065983\ttotal: 2.27s\tremaining: 907ms\n",
      "143:\tlearn: 0.0065906\ttotal: 2.29s\tremaining: 892ms\n",
      "144:\tlearn: 0.0065889\ttotal: 2.31s\tremaining: 877ms\n",
      "145:\tlearn: 0.0065869\ttotal: 2.33s\tremaining: 862ms\n",
      "146:\tlearn: 0.0065670\ttotal: 2.35s\tremaining: 848ms\n",
      "147:\tlearn: 0.0065631\ttotal: 2.38s\tremaining: 835ms\n",
      "148:\tlearn: 0.0065596\ttotal: 2.4s\tremaining: 820ms\n",
      "149:\tlearn: 0.0065551\ttotal: 2.42s\tremaining: 806ms\n",
      "150:\tlearn: 0.0065504\ttotal: 2.43s\tremaining: 790ms\n",
      "151:\tlearn: 0.0065484\ttotal: 2.45s\tremaining: 775ms\n",
      "152:\tlearn: 0.0065466\ttotal: 2.48s\tremaining: 761ms\n",
      "153:\tlearn: 0.0065293\ttotal: 2.5s\tremaining: 746ms\n",
      "154:\tlearn: 0.0065246\ttotal: 2.52s\tremaining: 732ms\n",
      "155:\tlearn: 0.0065216\ttotal: 2.54s\tremaining: 716ms\n",
      "156:\tlearn: 0.0065153\ttotal: 2.56s\tremaining: 702ms\n",
      "157:\tlearn: 0.0064773\ttotal: 2.59s\tremaining: 688ms\n",
      "158:\tlearn: 0.0064747\ttotal: 2.62s\tremaining: 675ms\n",
      "159:\tlearn: 0.0064726\ttotal: 2.63s\tremaining: 659ms\n",
      "160:\tlearn: 0.0064599\ttotal: 2.65s\tremaining: 643ms\n",
      "161:\tlearn: 0.0064543\ttotal: 2.67s\tremaining: 627ms\n",
      "162:\tlearn: 0.0064463\ttotal: 2.69s\tremaining: 611ms\n",
      "163:\tlearn: 0.0064262\ttotal: 2.71s\tremaining: 596ms\n",
      "164:\tlearn: 0.0064152\ttotal: 2.73s\tremaining: 580ms\n",
      "165:\tlearn: 0.0064093\ttotal: 2.76s\tremaining: 565ms\n",
      "166:\tlearn: 0.0064030\ttotal: 2.79s\tremaining: 551ms\n"
     ]
    },
    {
     "name": "stdout",
     "output_type": "stream",
     "text": [
      "167:\tlearn: 0.0063958\ttotal: 2.81s\tremaining: 536ms\n",
      "168:\tlearn: 0.0063870\ttotal: 2.84s\tremaining: 521ms\n",
      "169:\tlearn: 0.0063820\ttotal: 2.87s\tremaining: 506ms\n",
      "170:\tlearn: 0.0063693\ttotal: 2.89s\tremaining: 490ms\n",
      "171:\tlearn: 0.0063598\ttotal: 2.91s\tremaining: 474ms\n",
      "172:\tlearn: 0.0063584\ttotal: 2.93s\tremaining: 457ms\n",
      "173:\tlearn: 0.0063376\ttotal: 2.95s\tremaining: 441ms\n",
      "174:\tlearn: 0.0063347\ttotal: 2.97s\tremaining: 425ms\n",
      "175:\tlearn: 0.0063316\ttotal: 2.99s\tremaining: 408ms\n",
      "176:\tlearn: 0.0063257\ttotal: 3.02s\tremaining: 392ms\n",
      "177:\tlearn: 0.0063240\ttotal: 3.04s\tremaining: 375ms\n",
      "178:\tlearn: 0.0063190\ttotal: 3.06s\tremaining: 359ms\n",
      "179:\tlearn: 0.0063170\ttotal: 3.08s\tremaining: 343ms\n",
      "180:\tlearn: 0.0063025\ttotal: 3.11s\tremaining: 326ms\n",
      "181:\tlearn: 0.0062958\ttotal: 3.13s\tremaining: 309ms\n",
      "182:\tlearn: 0.0062909\ttotal: 3.15s\tremaining: 293ms\n",
      "183:\tlearn: 0.0062670\ttotal: 3.17s\tremaining: 276ms\n",
      "184:\tlearn: 0.0062647\ttotal: 3.2s\tremaining: 260ms\n",
      "185:\tlearn: 0.0062391\ttotal: 3.22s\tremaining: 242ms\n",
      "186:\tlearn: 0.0062295\ttotal: 3.24s\tremaining: 225ms\n",
      "187:\tlearn: 0.0062114\ttotal: 3.26s\tremaining: 208ms\n",
      "188:\tlearn: 0.0061919\ttotal: 3.27s\tremaining: 191ms\n",
      "189:\tlearn: 0.0061806\ttotal: 3.29s\tremaining: 173ms\n",
      "190:\tlearn: 0.0061696\ttotal: 3.31s\tremaining: 156ms\n",
      "191:\tlearn: 0.0061638\ttotal: 3.33s\tremaining: 139ms\n",
      "192:\tlearn: 0.0061466\ttotal: 3.35s\tremaining: 122ms\n",
      "193:\tlearn: 0.0061404\ttotal: 3.37s\tremaining: 104ms\n",
      "194:\tlearn: 0.0061328\ttotal: 3.4s\tremaining: 87.1ms\n",
      "195:\tlearn: 0.0061314\ttotal: 3.42s\tremaining: 69.7ms\n",
      "196:\tlearn: 0.0061299\ttotal: 3.43s\tremaining: 52.3ms\n",
      "197:\tlearn: 0.0061281\ttotal: 3.45s\tremaining: 34.9ms\n",
      "198:\tlearn: 0.0061140\ttotal: 3.47s\tremaining: 17.5ms\n",
      "199:\tlearn: 0.0061115\ttotal: 3.5s\tremaining: 0us\n"
     ]
    },
    {
     "data": {
      "text/plain": [
       "<catboost.core.CatBoostClassifier at 0x14bf3e1cd90>"
      ]
     },
     "execution_count": 123,
     "metadata": {},
     "output_type": "execute_result"
    }
   ],
   "source": [
    "# Instantiate CatBoostClassifier with params\n",
    "Cat = CatBoostClassifier(learning_rate=0.2,max_depth=2,n_estimators=200,subsample=0.6,random_state=1)\n",
    "\n",
    "# fit model on training data\n",
    "Cat.fit(xtrain,ytrain)"
   ]
  },
  {
   "cell_type": "code",
   "execution_count": 124,
   "metadata": {
    "colab": {
     "base_uri": "https://localhost:8080/"
    },
    "id": "AS4dO6AkD3VI",
    "outputId": "e1075ad4-d254-436b-d01b-680a61ec4671"
   },
   "outputs": [
    {
     "name": "stdout",
     "output_type": "stream",
     "text": [
      "AUC: 93.48%\n"
     ]
    }
   ],
   "source": [
    "# Use predict_proba since we need probabilities to compute AUC\n",
    "y_pred_prob = Cat.predict_proba(xtest)\n",
    "\n",
    "# Evaluate predictions using roc_auc score\n",
    "roc = metrics.roc_auc_score(ytest, y_pred_prob[:, 1])\n",
    "print(\"AUC: %.2f%%\" % (roc * 100.0))"
   ]
  },
  {
   "cell_type": "markdown",
   "metadata": {
    "id": "7PevkKhdD3VJ"
   },
   "source": [
    "CatBoost gives slightly better result than all other models which we tried till now."
   ]
  }
 ],
 "metadata": {
  "colab": {
   "collapsed_sections": [],
   "provenance": []
  },
  "kernelspec": {
   "display_name": "Python 3 (ipykernel)",
   "language": "python",
   "name": "python3"
  },
  "language_info": {
   "codemirror_mode": {
    "name": "ipython",
    "version": 3
   },
   "file_extension": ".py",
   "mimetype": "text/x-python",
   "name": "python",
   "nbconvert_exporter": "python",
   "pygments_lexer": "ipython3",
   "version": "3.9.13"
  },
  "latex_envs": {
   "LaTeX_envs_menu_present": true,
   "autoclose": false,
   "autocomplete": true,
   "bibliofile": "biblio.bib",
   "cite_by": "apalike",
   "current_citInitial": 1,
   "eqLabelWithNumbers": true,
   "eqNumInitial": 1,
   "hotkeys": {
    "equation": "Ctrl-E",
    "itemize": "Ctrl-I"
   },
   "labels_anchors": false,
   "latex_user_defs": false,
   "report_style_numbering": false,
   "user_envs_cfg": false
  }
 },
 "nbformat": 4,
 "nbformat_minor": 1
}
